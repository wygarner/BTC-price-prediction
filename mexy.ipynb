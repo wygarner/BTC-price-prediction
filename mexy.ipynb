{
 "cells": [
  {
   "cell_type": "code",
   "execution_count": 1,
   "metadata": {
    "scrolled": true
   },
   "outputs": [
    {
     "data": {
      "application/javascript": [
       "\n",
       "            setTimeout(function() {\n",
       "                var nbb_cell_id = 1;\n",
       "                var nbb_unformatted_code = \"%load_ext nb_black\";\n",
       "                var nbb_formatted_code = \"%load_ext nb_black\";\n",
       "                var nbb_cells = Jupyter.notebook.get_cells();\n",
       "                for (var i = 0; i < nbb_cells.length; ++i) {\n",
       "                    if (nbb_cells[i].input_prompt_number == nbb_cell_id) {\n",
       "                        if (nbb_cells[i].get_text() == nbb_unformatted_code) {\n",
       "                             nbb_cells[i].set_text(nbb_formatted_code);\n",
       "                        }\n",
       "                        break;\n",
       "                    }\n",
       "                }\n",
       "            }, 500);\n",
       "            "
      ],
      "text/plain": [
       "<IPython.core.display.Javascript object>"
      ]
     },
     "metadata": {},
     "output_type": "display_data"
    }
   ],
   "source": [
    "%load_ext nb_black"
   ]
  },
  {
   "cell_type": "code",
   "execution_count": 2,
   "metadata": {},
   "outputs": [
    {
     "data": {
      "application/javascript": [
       "\n",
       "            setTimeout(function() {\n",
       "                var nbb_cell_id = 2;\n",
       "                var nbb_unformatted_code = \"import bitmex\";\n",
       "                var nbb_formatted_code = \"import bitmex\";\n",
       "                var nbb_cells = Jupyter.notebook.get_cells();\n",
       "                for (var i = 0; i < nbb_cells.length; ++i) {\n",
       "                    if (nbb_cells[i].input_prompt_number == nbb_cell_id) {\n",
       "                        if (nbb_cells[i].get_text() == nbb_unformatted_code) {\n",
       "                             nbb_cells[i].set_text(nbb_formatted_code);\n",
       "                        }\n",
       "                        break;\n",
       "                    }\n",
       "                }\n",
       "            }, 500);\n",
       "            "
      ],
      "text/plain": [
       "<IPython.core.display.Javascript object>"
      ]
     },
     "metadata": {},
     "output_type": "display_data"
    }
   ],
   "source": [
    "import bitmex"
   ]
  },
  {
   "cell_type": "code",
   "execution_count": 3,
   "metadata": {},
   "outputs": [
    {
     "data": {
      "application/javascript": [
       "\n",
       "            setTimeout(function() {\n",
       "                var nbb_cell_id = 3;\n",
       "                var nbb_unformatted_code = \"api_key = \\\"-iXO_17idCPYYQgGsRtB7HfI\\\"\\napi_secret = \\\"yod97ok0bHhrdumSb4XnF0KDAg1LH0QciHkVyHb3sF0z0Y8J\\\"\";\n",
       "                var nbb_formatted_code = \"api_key = \\\"-iXO_17idCPYYQgGsRtB7HfI\\\"\\napi_secret = \\\"yod97ok0bHhrdumSb4XnF0KDAg1LH0QciHkVyHb3sF0z0Y8J\\\"\";\n",
       "                var nbb_cells = Jupyter.notebook.get_cells();\n",
       "                for (var i = 0; i < nbb_cells.length; ++i) {\n",
       "                    if (nbb_cells[i].input_prompt_number == nbb_cell_id) {\n",
       "                        if (nbb_cells[i].get_text() == nbb_unformatted_code) {\n",
       "                             nbb_cells[i].set_text(nbb_formatted_code);\n",
       "                        }\n",
       "                        break;\n",
       "                    }\n",
       "                }\n",
       "            }, 500);\n",
       "            "
      ],
      "text/plain": [
       "<IPython.core.display.Javascript object>"
      ]
     },
     "metadata": {},
     "output_type": "display_data"
    }
   ],
   "source": [
    "api_key = \"-iXO_17idCPYYQgGsRtB7HfI\"\n",
    "api_secret = \"yod97ok0bHhrdumSb4XnF0KDAg1LH0QciHkVyHb3sF0z0Y8J\""
   ]
  },
  {
   "cell_type": "code",
   "execution_count": 4,
   "metadata": {},
   "outputs": [
    {
     "name": "stderr",
     "output_type": "stream",
     "text": [
      "/opt/miniconda3/lib/python3.7/site-packages/swagger_spec_validator/validator20.py:53: SwaggerValidationWarning: Found \"$ref: #/definitions/UserPreferences\" with siblings that will be overwritten. See https://stackoverflow.com/a/48114924 for more information. (path #/definitions/User/properties/preferences)\n",
      "  ref_dict['$ref'], '/'.join(path),\n"
     ]
    },
    {
     "data": {
      "application/javascript": [
       "\n",
       "            setTimeout(function() {\n",
       "                var nbb_cell_id = 4;\n",
       "                var nbb_unformatted_code = \"client = bitmex.bitmex(test=True, api_key=api_key, api_secret=api_secret)\";\n",
       "                var nbb_formatted_code = \"client = bitmex.bitmex(test=True, api_key=api_key, api_secret=api_secret)\";\n",
       "                var nbb_cells = Jupyter.notebook.get_cells();\n",
       "                for (var i = 0; i < nbb_cells.length; ++i) {\n",
       "                    if (nbb_cells[i].input_prompt_number == nbb_cell_id) {\n",
       "                        if (nbb_cells[i].get_text() == nbb_unformatted_code) {\n",
       "                             nbb_cells[i].set_text(nbb_formatted_code);\n",
       "                        }\n",
       "                        break;\n",
       "                    }\n",
       "                }\n",
       "            }, 500);\n",
       "            "
      ],
      "text/plain": [
       "<IPython.core.display.Javascript object>"
      ]
     },
     "metadata": {},
     "output_type": "display_data"
    }
   ],
   "source": [
    "client = bitmex.bitmex(test=True, api_key=api_key, api_secret=api_secret)"
   ]
  },
  {
   "cell_type": "code",
   "execution_count": 6,
   "metadata": {},
   "outputs": [
    {
     "data": {
      "text/plain": [
       "11511.75"
      ]
     },
     "execution_count": 6,
     "metadata": {},
     "output_type": "execute_result"
    },
    {
     "data": {
      "application/javascript": [
       "\n",
       "            setTimeout(function() {\n",
       "                var nbb_cell_id = 6;\n",
       "                var nbb_unformatted_code = \"result = client.Instrument.Instrument_get(\\n    symbol=\\\"XBTUSD\\\", reverse=True, count=1\\n).result()\\ncurrent_price = result[0][0][\\\"midPrice\\\"]\\ncurrent_price\";\n",
       "                var nbb_formatted_code = \"result = client.Instrument.Instrument_get(\\n    symbol=\\\"XBTUSD\\\", reverse=True, count=1\\n).result()\\ncurrent_price = result[0][0][\\\"midPrice\\\"]\\ncurrent_price\";\n",
       "                var nbb_cells = Jupyter.notebook.get_cells();\n",
       "                for (var i = 0; i < nbb_cells.length; ++i) {\n",
       "                    if (nbb_cells[i].input_prompt_number == nbb_cell_id) {\n",
       "                        if (nbb_cells[i].get_text() == nbb_unformatted_code) {\n",
       "                             nbb_cells[i].set_text(nbb_formatted_code);\n",
       "                        }\n",
       "                        break;\n",
       "                    }\n",
       "                }\n",
       "            }, 500);\n",
       "            "
      ],
      "text/plain": [
       "<IPython.core.display.Javascript object>"
      ]
     },
     "metadata": {},
     "output_type": "display_data"
    }
   ],
   "source": [
    "result = client.Instrument.Instrument_get(\n",
    "    symbol=\"XBTUSD\", reverse=True, count=1\n",
    ").result()\n",
    "current_price = result[0][0][\"midPrice\"]\n",
    "current_price"
   ]
  },
  {
   "cell_type": "code",
   "execution_count": 9,
   "metadata": {},
   "outputs": [
    {
     "data": {
      "text/plain": [
       "11541.0"
      ]
     },
     "execution_count": 9,
     "metadata": {},
     "output_type": "execute_result"
    },
    {
     "data": {
      "application/javascript": [
       "\n",
       "            setTimeout(function() {\n",
       "                var nbb_cell_id = 9;\n",
       "                var nbb_unformatted_code = \"round((current_price + (current_price * 0.0025)),0)\";\n",
       "                var nbb_formatted_code = \"round((current_price + (current_price * 0.0025)), 0)\";\n",
       "                var nbb_cells = Jupyter.notebook.get_cells();\n",
       "                for (var i = 0; i < nbb_cells.length; ++i) {\n",
       "                    if (nbb_cells[i].input_prompt_number == nbb_cell_id) {\n",
       "                        if (nbb_cells[i].get_text() == nbb_unformatted_code) {\n",
       "                             nbb_cells[i].set_text(nbb_formatted_code);\n",
       "                        }\n",
       "                        break;\n",
       "                    }\n",
       "                }\n",
       "            }, 500);\n",
       "            "
      ],
      "text/plain": [
       "<IPython.core.display.Javascript object>"
      ]
     },
     "metadata": {},
     "output_type": "display_data"
    }
   ],
   "source": [
    "round((current_price + (current_price * 0.0025)), 0)"
   ]
  },
  {
   "cell_type": "code",
   "execution_count": 32,
   "metadata": {},
   "outputs": [
    {
     "data": {
      "text/plain": [
       "['APIKey',\n",
       " 'Announcement',\n",
       " 'Chat',\n",
       " 'Execution',\n",
       " 'Funding',\n",
       " 'GlobalNotification',\n",
       " 'Instrument',\n",
       " 'Insurance',\n",
       " 'Leaderboard',\n",
       " 'Liquidation',\n",
       " 'Order',\n",
       " 'OrderBook',\n",
       " 'Position',\n",
       " 'Schema',\n",
       " 'Settlement',\n",
       " 'Stats',\n",
       " 'Trade',\n",
       " 'User',\n",
       " 'UserEvent']"
      ]
     },
     "execution_count": 32,
     "metadata": {},
     "output_type": "execute_result"
    },
    {
     "data": {
      "application/javascript": [
       "\n",
       "            setTimeout(function() {\n",
       "                var nbb_cell_id = 32;\n",
       "                var nbb_unformatted_code = \"dir(client)\";\n",
       "                var nbb_formatted_code = \"dir(client)\";\n",
       "                var nbb_cells = Jupyter.notebook.get_cells();\n",
       "                for (var i = 0; i < nbb_cells.length; ++i) {\n",
       "                    if (nbb_cells[i].input_prompt_number == nbb_cell_id) {\n",
       "                        if (nbb_cells[i].get_text() == nbb_unformatted_code) {\n",
       "                             nbb_cells[i].set_text(nbb_formatted_code);\n",
       "                        }\n",
       "                        break;\n",
       "                    }\n",
       "                }\n",
       "            }, 500);\n",
       "            "
      ],
      "text/plain": [
       "<IPython.core.display.Javascript object>"
      ]
     },
     "metadata": {},
     "output_type": "display_data"
    }
   ],
   "source": [
    "dir(client)"
   ]
  },
  {
   "cell_type": "code",
   "execution_count": 34,
   "metadata": {},
   "outputs": [
    {
     "data": {
      "text/plain": [
       "([{'account': 225277,\n",
       "   'symbol': 'XBTUSD',\n",
       "   'currency': 'XBt',\n",
       "   'underlying': 'XBT',\n",
       "   'quoteCurrency': 'USD',\n",
       "   'commission': 0.00075,\n",
       "   'initMarginReq': 0.1,\n",
       "   'maintMarginReq': 0.0035,\n",
       "   'riskLimit': 20000000000,\n",
       "   'leverage': 10.0,\n",
       "   'crossMargin': False,\n",
       "   'deleveragePercentile': 1.0,\n",
       "   'rebalancedPnl': 130,\n",
       "   'prevRealisedPnl': -130,\n",
       "   'prevUnrealisedPnl': 0,\n",
       "   'prevClosePrice': 11125.82,\n",
       "   'openingTimestamp': datetime.datetime(2020, 8, 4, 20, 0, tzinfo=tzutc()),\n",
       "   'openingQty': 0,\n",
       "   'openingCost': 0,\n",
       "   'openingComm': 130,\n",
       "   'openOrderBuyQty': 0,\n",
       "   'openOrderBuyCost': 0,\n",
       "   'openOrderBuyPremium': 0,\n",
       "   'openOrderSellQty': 0,\n",
       "   'openOrderSellCost': 0,\n",
       "   'openOrderSellPremium': 0,\n",
       "   'execBuyQty': 1,\n",
       "   'execBuyCost': 8733,\n",
       "   'execSellQty': 0,\n",
       "   'execSellCost': 0,\n",
       "   'execQty': 1,\n",
       "   'execCost': -8733,\n",
       "   'execComm': 6,\n",
       "   'currentTimestamp': datetime.datetime(2020, 8, 4, 20, 27, 25, 377000, tzinfo=tzutc()),\n",
       "   'currentQty': 1,\n",
       "   'currentCost': -8733,\n",
       "   'currentComm': 136,\n",
       "   'realisedCost': 0,\n",
       "   'unrealisedCost': -8733,\n",
       "   'grossOpenCost': 0,\n",
       "   'grossOpenPremium': 0,\n",
       "   'grossExecCost': 8733,\n",
       "   'isOpen': True,\n",
       "   'markPrice': 11280.07,\n",
       "   'markValue': -8865,\n",
       "   'riskValue': 8865,\n",
       "   'homeNotional': 8.865e-05,\n",
       "   'foreignNotional': -1.0,\n",
       "   'posState': '',\n",
       "   'posCost': -8733,\n",
       "   'posCost2': -8733,\n",
       "   'posCross': 0,\n",
       "   'posInit': 874,\n",
       "   'posComm': 8,\n",
       "   'posLoss': 0,\n",
       "   'posMargin': 882,\n",
       "   'posMaint': 53,\n",
       "   'posAllowance': 0,\n",
       "   'taxableMargin': 0,\n",
       "   'initMargin': 0,\n",
       "   'maintMargin': 750,\n",
       "   'sessionMargin': 0,\n",
       "   'targetExcessMargin': 0,\n",
       "   'varMargin': 0,\n",
       "   'realisedGrossPnl': 0,\n",
       "   'realisedTax': 0,\n",
       "   'realisedPnl': -136,\n",
       "   'unrealisedGrossPnl': -132,\n",
       "   'longBankrupt': 0,\n",
       "   'shortBankrupt': 0,\n",
       "   'taxBase': 0,\n",
       "   'indicativeTaxRate': 0.0,\n",
       "   'indicativeTax': 0,\n",
       "   'unrealisedTax': 0,\n",
       "   'unrealisedPnl': -132,\n",
       "   'unrealisedPnlPcnt': -0.0151,\n",
       "   'unrealisedRoePcnt': -0.1512,\n",
       "   'simpleQty': 0.0,\n",
       "   'simpleCost': 0.0,\n",
       "   'simpleValue': 0.0,\n",
       "   'simplePnl': 0.0,\n",
       "   'simplePnlPcnt': 0.0,\n",
       "   'avgCostPrice': 11451.0,\n",
       "   'avgEntryPrice': 11451.0,\n",
       "   'breakEvenPrice': 11459.0,\n",
       "   'marginCallPrice': 10458.5,\n",
       "   'liquidationPrice': 10458.5,\n",
       "   'bankruptPrice': 10409.5,\n",
       "   'timestamp': datetime.datetime(2020, 8, 4, 20, 27, 25, 377000, tzinfo=tzutc()),\n",
       "   'lastPrice': 11280.07,\n",
       "   'lastValue': -8865}],\n",
       " <bravado.requests_client.RequestsResponseAdapter at 0x7fc7cd27a4d0>)"
      ]
     },
     "execution_count": 34,
     "metadata": {},
     "output_type": "execute_result"
    },
    {
     "data": {
      "application/javascript": [
       "\n",
       "            setTimeout(function() {\n",
       "                var nbb_cell_id = 34;\n",
       "                var nbb_unformatted_code = \"client.Position.Position_get().result()\";\n",
       "                var nbb_formatted_code = \"client.Position.Position_get().result()\";\n",
       "                var nbb_cells = Jupyter.notebook.get_cells();\n",
       "                for (var i = 0; i < nbb_cells.length; ++i) {\n",
       "                    if (nbb_cells[i].input_prompt_number == nbb_cell_id) {\n",
       "                        if (nbb_cells[i].get_text() == nbb_unformatted_code) {\n",
       "                             nbb_cells[i].set_text(nbb_formatted_code);\n",
       "                        }\n",
       "                        break;\n",
       "                    }\n",
       "                }\n",
       "            }, 500);\n",
       "            "
      ],
      "text/plain": [
       "<IPython.core.display.Javascript object>"
      ]
     },
     "metadata": {},
     "output_type": "display_data"
    }
   ],
   "source": [
    "client.Position.Position_get().result()"
   ]
  },
  {
   "cell_type": "code",
   "execution_count": null,
   "metadata": {},
   "outputs": [],
   "source": []
  }
 ],
 "metadata": {
  "kernelspec": {
   "display_name": "Python 3",
   "language": "python",
   "name": "python3"
  },
  "language_info": {
   "codemirror_mode": {
    "name": "ipython",
    "version": 3
   },
   "file_extension": ".py",
   "mimetype": "text/x-python",
   "name": "python",
   "nbconvert_exporter": "python",
   "pygments_lexer": "ipython3",
   "version": "3.7.7"
  }
 },
 "nbformat": 4,
 "nbformat_minor": 4
}
