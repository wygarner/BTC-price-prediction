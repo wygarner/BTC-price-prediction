{
 "cells": [
  {
   "cell_type": "code",
   "execution_count": 1,
   "metadata": {},
   "outputs": [
    {
     "data": {
      "application/javascript": [
       "\n",
       "            setTimeout(function() {\n",
       "                var nbb_cell_id = 1;\n",
       "                var nbb_unformatted_code = \"%load_ext nb_black\";\n",
       "                var nbb_formatted_code = \"%load_ext nb_black\";\n",
       "                var nbb_cells = Jupyter.notebook.get_cells();\n",
       "                for (var i = 0; i < nbb_cells.length; ++i) {\n",
       "                    if (nbb_cells[i].input_prompt_number == nbb_cell_id) {\n",
       "                        if (nbb_cells[i].get_text() == nbb_unformatted_code) {\n",
       "                             nbb_cells[i].set_text(nbb_formatted_code);\n",
       "                        }\n",
       "                        break;\n",
       "                    }\n",
       "                }\n",
       "            }, 500);\n",
       "            "
      ],
      "text/plain": [
       "<IPython.core.display.Javascript object>"
      ]
     },
     "metadata": {},
     "output_type": "display_data"
    }
   ],
   "source": [
    "%load_ext nb_black"
   ]
  },
  {
   "cell_type": "code",
   "execution_count": 2,
   "metadata": {},
   "outputs": [
    {
     "data": {
      "application/javascript": [
       "\n",
       "            setTimeout(function() {\n",
       "                var nbb_cell_id = 2;\n",
       "                var nbb_unformatted_code = \"import pandas as pd\\nimport numpy as np\\n\\nimport datetime as dt\\n\\nimport plotly.express as px\\nimport plotly.graph_objects as go\\nimport seaborn as sns\\nimport matplotlib.pyplot as plt\\n\\nimport sqlite3\\n\\nfrom scipy.stats.mstats import winsorize\\n\\nfrom joblib import load\";\n",
       "                var nbb_formatted_code = \"import pandas as pd\\nimport numpy as np\\n\\nimport datetime as dt\\n\\nimport plotly.express as px\\nimport plotly.graph_objects as go\\nimport seaborn as sns\\nimport matplotlib.pyplot as plt\\n\\nimport sqlite3\\n\\nfrom scipy.stats.mstats import winsorize\\n\\nfrom joblib import load\";\n",
       "                var nbb_cells = Jupyter.notebook.get_cells();\n",
       "                for (var i = 0; i < nbb_cells.length; ++i) {\n",
       "                    if (nbb_cells[i].input_prompt_number == nbb_cell_id) {\n",
       "                        if (nbb_cells[i].get_text() == nbb_unformatted_code) {\n",
       "                             nbb_cells[i].set_text(nbb_formatted_code);\n",
       "                        }\n",
       "                        break;\n",
       "                    }\n",
       "                }\n",
       "            }, 500);\n",
       "            "
      ],
      "text/plain": [
       "<IPython.core.display.Javascript object>"
      ]
     },
     "metadata": {},
     "output_type": "display_data"
    }
   ],
   "source": [
    "import pandas as pd\n",
    "import numpy as np\n",
    "\n",
    "import datetime as dt\n",
    "\n",
    "import plotly.express as px\n",
    "import plotly.graph_objects as go\n",
    "import seaborn as sns\n",
    "import matplotlib.pyplot as plt\n",
    "\n",
    "import sqlite3\n",
    "\n",
    "from scipy.stats.mstats import winsorize\n",
    "\n",
    "from joblib import load"
   ]
  },
  {
   "cell_type": "code",
   "execution_count": 3,
   "metadata": {},
   "outputs": [
    {
     "data": {
      "application/javascript": [
       "\n",
       "            setTimeout(function() {\n",
       "                var nbb_cell_id = 3;\n",
       "                var nbb_unformatted_code = \"def ilinechart(df, x, y, groups=None, title=\\\"\\\"):\\n    fig = px.line(df, x=x, y=y, color=groups, title=title, template=\\\"none\\\").update(\\n        layout=dict(title=dict(x=0.5))\\n    )\\n\\n    fig.show()\";\n",
       "                var nbb_formatted_code = \"def ilinechart(df, x, y, groups=None, title=\\\"\\\"):\\n    fig = px.line(df, x=x, y=y, color=groups, title=title, template=\\\"none\\\").update(\\n        layout=dict(title=dict(x=0.5))\\n    )\\n\\n    fig.show()\";\n",
       "                var nbb_cells = Jupyter.notebook.get_cells();\n",
       "                for (var i = 0; i < nbb_cells.length; ++i) {\n",
       "                    if (nbb_cells[i].input_prompt_number == nbb_cell_id) {\n",
       "                        if (nbb_cells[i].get_text() == nbb_unformatted_code) {\n",
       "                             nbb_cells[i].set_text(nbb_formatted_code);\n",
       "                        }\n",
       "                        break;\n",
       "                    }\n",
       "                }\n",
       "            }, 500);\n",
       "            "
      ],
      "text/plain": [
       "<IPython.core.display.Javascript object>"
      ]
     },
     "metadata": {},
     "output_type": "display_data"
    }
   ],
   "source": [
    "def ilinechart(df, x, y, groups=None, title=\"\"):\n",
    "    fig = px.line(df, x=x, y=y, color=groups, title=title, template=\"none\").update(\n",
    "        layout=dict(title=dict(x=0.5))\n",
    "    )\n",
    "\n",
    "    fig.show()"
   ]
  },
  {
   "cell_type": "code",
   "execution_count": 4,
   "metadata": {},
   "outputs": [
    {
     "data": {
      "application/javascript": [
       "\n",
       "            setTimeout(function() {\n",
       "                var nbb_cell_id = 4;\n",
       "                var nbb_unformatted_code = \"# Connect to DB\\nconn = sqlite3.connect(\\\"btc.db\\\")\\nc = conn.cursor()\";\n",
       "                var nbb_formatted_code = \"# Connect to DB\\nconn = sqlite3.connect(\\\"btc.db\\\")\\nc = conn.cursor()\";\n",
       "                var nbb_cells = Jupyter.notebook.get_cells();\n",
       "                for (var i = 0; i < nbb_cells.length; ++i) {\n",
       "                    if (nbb_cells[i].input_prompt_number == nbb_cell_id) {\n",
       "                        if (nbb_cells[i].get_text() == nbb_unformatted_code) {\n",
       "                             nbb_cells[i].set_text(nbb_formatted_code);\n",
       "                        }\n",
       "                        break;\n",
       "                    }\n",
       "                }\n",
       "            }, 500);\n",
       "            "
      ],
      "text/plain": [
       "<IPython.core.display.Javascript object>"
      ]
     },
     "metadata": {},
     "output_type": "display_data"
    }
   ],
   "source": [
    "# Connect to DB\n",
    "conn = sqlite3.connect(\"btc.db\")\n",
    "c = conn.cursor()"
   ]
  },
  {
   "cell_type": "code",
   "execution_count": 5,
   "metadata": {},
   "outputs": [
    {
     "data": {
      "application/javascript": [
       "\n",
       "            setTimeout(function() {\n",
       "                var nbb_cell_id = 5;\n",
       "                var nbb_unformatted_code = \"data = pd.read_sql_query(\\\"SELECT * FROM book_imbalances_lag_10\\\", conn)\";\n",
       "                var nbb_formatted_code = \"data = pd.read_sql_query(\\\"SELECT * FROM book_imbalances_lag_10\\\", conn)\";\n",
       "                var nbb_cells = Jupyter.notebook.get_cells();\n",
       "                for (var i = 0; i < nbb_cells.length; ++i) {\n",
       "                    if (nbb_cells[i].input_prompt_number == nbb_cell_id) {\n",
       "                        if (nbb_cells[i].get_text() == nbb_unformatted_code) {\n",
       "                             nbb_cells[i].set_text(nbb_formatted_code);\n",
       "                        }\n",
       "                        break;\n",
       "                    }\n",
       "                }\n",
       "            }, 500);\n",
       "            "
      ],
      "text/plain": [
       "<IPython.core.display.Javascript object>"
      ]
     },
     "metadata": {},
     "output_type": "display_data"
    }
   ],
   "source": [
    "data = pd.read_sql_query(\"SELECT * FROM book_imbalances_lag_10\", conn)"
   ]
  },
  {
   "cell_type": "code",
   "execution_count": 6,
   "metadata": {},
   "outputs": [
    {
     "data": {
      "text/html": [
       "<div>\n",
       "<style scoped>\n",
       "    .dataframe tbody tr th:only-of-type {\n",
       "        vertical-align: middle;\n",
       "    }\n",
       "\n",
       "    .dataframe tbody tr th {\n",
       "        vertical-align: top;\n",
       "    }\n",
       "\n",
       "    .dataframe thead th {\n",
       "        text-align: right;\n",
       "    }\n",
       "</style>\n",
       "<table border=\"1\" class=\"dataframe\">\n",
       "  <thead>\n",
       "    <tr style=\"text-align: right;\">\n",
       "      <th></th>\n",
       "      <th>time</th>\n",
       "      <th>lag period</th>\n",
       "      <th>midprice</th>\n",
       "      <th>oir</th>\n",
       "      <th>voi</th>\n",
       "      <th>tfi</th>\n",
       "    </tr>\n",
       "    <tr>\n",
       "      <th>time</th>\n",
       "      <th></th>\n",
       "      <th></th>\n",
       "      <th></th>\n",
       "      <th></th>\n",
       "      <th></th>\n",
       "      <th></th>\n",
       "    </tr>\n",
       "  </thead>\n",
       "  <tbody>\n",
       "    <tr>\n",
       "      <th>2020-07-02 13:57:49.545534-04:00</th>\n",
       "      <td>2020-07-02 13:57:49.545534</td>\n",
       "      <td>10</td>\n",
       "      <td>9069.065</td>\n",
       "      <td>-4.353743</td>\n",
       "      <td>3.770439</td>\n",
       "      <td>0.651967</td>\n",
       "    </tr>\n",
       "    <tr>\n",
       "      <th>2020-07-02 13:58:01.812770-04:00</th>\n",
       "      <td>2020-07-02 13:58:01.812770</td>\n",
       "      <td>10</td>\n",
       "      <td>9070.005</td>\n",
       "      <td>-1.143382</td>\n",
       "      <td>-11.737757</td>\n",
       "      <td>0.672478</td>\n",
       "    </tr>\n",
       "    <tr>\n",
       "      <th>2020-07-02 13:58:13.318442-04:00</th>\n",
       "      <td>2020-07-02 13:58:13.318442</td>\n",
       "      <td>10</td>\n",
       "      <td>9069.815</td>\n",
       "      <td>-0.103770</td>\n",
       "      <td>1.288612</td>\n",
       "      <td>0.376768</td>\n",
       "    </tr>\n",
       "    <tr>\n",
       "      <th>2020-07-02 13:58:24.735725-04:00</th>\n",
       "      <td>2020-07-02 13:58:24.735725</td>\n",
       "      <td>10</td>\n",
       "      <td>9070.455</td>\n",
       "      <td>0.109324</td>\n",
       "      <td>-7.522974</td>\n",
       "      <td>0.658716</td>\n",
       "    </tr>\n",
       "    <tr>\n",
       "      <th>2020-07-02 13:58:36.500687-04:00</th>\n",
       "      <td>2020-07-02 13:58:36.500687</td>\n",
       "      <td>10</td>\n",
       "      <td>9068.015</td>\n",
       "      <td>0.058965</td>\n",
       "      <td>-38.674267</td>\n",
       "      <td>0.449309</td>\n",
       "    </tr>\n",
       "    <tr>\n",
       "      <th>...</th>\n",
       "      <td>...</td>\n",
       "      <td>...</td>\n",
       "      <td>...</td>\n",
       "      <td>...</td>\n",
       "      <td>...</td>\n",
       "      <td>...</td>\n",
       "    </tr>\n",
       "    <tr>\n",
       "      <th>2020-09-03 09:32:49.476146-04:00</th>\n",
       "      <td>2020-09-03 09:32:49.476146</td>\n",
       "      <td>10</td>\n",
       "      <td>10830.955</td>\n",
       "      <td>-0.043333</td>\n",
       "      <td>-22.368282</td>\n",
       "      <td>0.461289</td>\n",
       "    </tr>\n",
       "    <tr>\n",
       "      <th>2020-09-03 09:33:00.791797-04:00</th>\n",
       "      <td>2020-09-03 09:33:00.791797</td>\n",
       "      <td>10</td>\n",
       "      <td>10830.955</td>\n",
       "      <td>-0.489244</td>\n",
       "      <td>-21.341815</td>\n",
       "      <td>0.470896</td>\n",
       "    </tr>\n",
       "    <tr>\n",
       "      <th>2020-09-03 09:33:12.133621-04:00</th>\n",
       "      <td>2020-09-03 09:33:12.133621</td>\n",
       "      <td>10</td>\n",
       "      <td>10830.955</td>\n",
       "      <td>-0.921108</td>\n",
       "      <td>-22.820611</td>\n",
       "      <td>0.468831</td>\n",
       "    </tr>\n",
       "    <tr>\n",
       "      <th>2020-09-03 09:33:23.445957-04:00</th>\n",
       "      <td>2020-09-03 09:33:23.445957</td>\n",
       "      <td>10</td>\n",
       "      <td>10830.825</td>\n",
       "      <td>-1.213449</td>\n",
       "      <td>-34.496262</td>\n",
       "      <td>0.496368</td>\n",
       "    </tr>\n",
       "    <tr>\n",
       "      <th>2020-09-03 09:33:34.843553-04:00</th>\n",
       "      <td>2020-09-03 09:33:34.843553</td>\n",
       "      <td>10</td>\n",
       "      <td>10830.825</td>\n",
       "      <td>-0.658291</td>\n",
       "      <td>-29.497235</td>\n",
       "      <td>0.513292</td>\n",
       "    </tr>\n",
       "  </tbody>\n",
       "</table>\n",
       "<p>285309 rows × 6 columns</p>\n",
       "</div>"
      ],
      "text/plain": [
       "                                                       time  lag period  \\\n",
       "time                                                                      \n",
       "2020-07-02 13:57:49.545534-04:00 2020-07-02 13:57:49.545534          10   \n",
       "2020-07-02 13:58:01.812770-04:00 2020-07-02 13:58:01.812770          10   \n",
       "2020-07-02 13:58:13.318442-04:00 2020-07-02 13:58:13.318442          10   \n",
       "2020-07-02 13:58:24.735725-04:00 2020-07-02 13:58:24.735725          10   \n",
       "2020-07-02 13:58:36.500687-04:00 2020-07-02 13:58:36.500687          10   \n",
       "...                                                     ...         ...   \n",
       "2020-09-03 09:32:49.476146-04:00 2020-09-03 09:32:49.476146          10   \n",
       "2020-09-03 09:33:00.791797-04:00 2020-09-03 09:33:00.791797          10   \n",
       "2020-09-03 09:33:12.133621-04:00 2020-09-03 09:33:12.133621          10   \n",
       "2020-09-03 09:33:23.445957-04:00 2020-09-03 09:33:23.445957          10   \n",
       "2020-09-03 09:33:34.843553-04:00 2020-09-03 09:33:34.843553          10   \n",
       "\n",
       "                                   midprice       oir        voi       tfi  \n",
       "time                                                                        \n",
       "2020-07-02 13:57:49.545534-04:00   9069.065 -4.353743   3.770439  0.651967  \n",
       "2020-07-02 13:58:01.812770-04:00   9070.005 -1.143382 -11.737757  0.672478  \n",
       "2020-07-02 13:58:13.318442-04:00   9069.815 -0.103770   1.288612  0.376768  \n",
       "2020-07-02 13:58:24.735725-04:00   9070.455  0.109324  -7.522974  0.658716  \n",
       "2020-07-02 13:58:36.500687-04:00   9068.015  0.058965 -38.674267  0.449309  \n",
       "...                                     ...       ...        ...       ...  \n",
       "2020-09-03 09:32:49.476146-04:00  10830.955 -0.043333 -22.368282  0.461289  \n",
       "2020-09-03 09:33:00.791797-04:00  10830.955 -0.489244 -21.341815  0.470896  \n",
       "2020-09-03 09:33:12.133621-04:00  10830.955 -0.921108 -22.820611  0.468831  \n",
       "2020-09-03 09:33:23.445957-04:00  10830.825 -1.213449 -34.496262  0.496368  \n",
       "2020-09-03 09:33:34.843553-04:00  10830.825 -0.658291 -29.497235  0.513292  \n",
       "\n",
       "[285309 rows x 6 columns]"
      ]
     },
     "execution_count": 6,
     "metadata": {},
     "output_type": "execute_result"
    },
    {
     "data": {
      "application/javascript": [
       "\n",
       "            setTimeout(function() {\n",
       "                var nbb_cell_id = 6;\n",
       "                var nbb_unformatted_code = \"data = data.drop(columns=[\\\"index\\\"])\\ndata[\\\"time\\\"] = pd.to_datetime(data[\\\"time\\\"])\\ndata = data.set_index(\\\"time\\\", drop=False)\\ndata = data.tz_localize(tz=\\\"US/Eastern\\\")\\n\\ndata\";\n",
       "                var nbb_formatted_code = \"data = data.drop(columns=[\\\"index\\\"])\\ndata[\\\"time\\\"] = pd.to_datetime(data[\\\"time\\\"])\\ndata = data.set_index(\\\"time\\\", drop=False)\\ndata = data.tz_localize(tz=\\\"US/Eastern\\\")\\n\\ndata\";\n",
       "                var nbb_cells = Jupyter.notebook.get_cells();\n",
       "                for (var i = 0; i < nbb_cells.length; ++i) {\n",
       "                    if (nbb_cells[i].input_prompt_number == nbb_cell_id) {\n",
       "                        if (nbb_cells[i].get_text() == nbb_unformatted_code) {\n",
       "                             nbb_cells[i].set_text(nbb_formatted_code);\n",
       "                        }\n",
       "                        break;\n",
       "                    }\n",
       "                }\n",
       "            }, 500);\n",
       "            "
      ],
      "text/plain": [
       "<IPython.core.display.Javascript object>"
      ]
     },
     "metadata": {},
     "output_type": "display_data"
    }
   ],
   "source": [
    "data = data.drop(columns=[\"index\"])\n",
    "data[\"time\"] = pd.to_datetime(data[\"time\"])\n",
    "data = data.set_index(\"time\", drop=False)\n",
    "data = data.tz_localize(tz=\"US/Eastern\")\n",
    "\n",
    "data"
   ]
  },
  {
   "cell_type": "code",
   "execution_count": 7,
   "metadata": {},
   "outputs": [
    {
     "data": {
      "application/javascript": [
       "\n",
       "            setTimeout(function() {\n",
       "                var nbb_cell_id = 7;\n",
       "                var nbb_unformatted_code = \"# Winsorize features\\n# cols = [\\\"oir\\\", \\\"voi\\\", \\\"tfi\\\"]\\n# for col in cols:\\n#     data[col] = winsorize(data[col], (0.05, 0.05))\";\n",
       "                var nbb_formatted_code = \"# Winsorize features\\n# cols = [\\\"oir\\\", \\\"voi\\\", \\\"tfi\\\"]\\n# for col in cols:\\n#     data[col] = winsorize(data[col], (0.05, 0.05))\";\n",
       "                var nbb_cells = Jupyter.notebook.get_cells();\n",
       "                for (var i = 0; i < nbb_cells.length; ++i) {\n",
       "                    if (nbb_cells[i].input_prompt_number == nbb_cell_id) {\n",
       "                        if (nbb_cells[i].get_text() == nbb_unformatted_code) {\n",
       "                             nbb_cells[i].set_text(nbb_formatted_code);\n",
       "                        }\n",
       "                        break;\n",
       "                    }\n",
       "                }\n",
       "            }, 500);\n",
       "            "
      ],
      "text/plain": [
       "<IPython.core.display.Javascript object>"
      ]
     },
     "metadata": {},
     "output_type": "display_data"
    }
   ],
   "source": [
    "# Winsorize features\n",
    "# cols = [\"oir\", \"voi\", \"tfi\"]\n",
    "# for col in cols:\n",
    "#     data[col] = winsorize(data[col], (0.05, 0.05))"
   ]
  },
  {
   "cell_type": "code",
   "execution_count": 8,
   "metadata": {},
   "outputs": [
    {
     "data": {
      "text/plain": [
       "Index(['time', 'lag period', 'midprice', 'oir', 'voi', 'tfi'], dtype='object')"
      ]
     },
     "execution_count": 8,
     "metadata": {},
     "output_type": "execute_result"
    },
    {
     "data": {
      "application/javascript": [
       "\n",
       "            setTimeout(function() {\n",
       "                var nbb_cell_id = 8;\n",
       "                var nbb_unformatted_code = \"data.columns\";\n",
       "                var nbb_formatted_code = \"data.columns\";\n",
       "                var nbb_cells = Jupyter.notebook.get_cells();\n",
       "                for (var i = 0; i < nbb_cells.length; ++i) {\n",
       "                    if (nbb_cells[i].input_prompt_number == nbb_cell_id) {\n",
       "                        if (nbb_cells[i].get_text() == nbb_unformatted_code) {\n",
       "                             nbb_cells[i].set_text(nbb_formatted_code);\n",
       "                        }\n",
       "                        break;\n",
       "                    }\n",
       "                }\n",
       "            }, 500);\n",
       "            "
      ],
      "text/plain": [
       "<IPython.core.display.Javascript object>"
      ]
     },
     "metadata": {},
     "output_type": "display_data"
    }
   ],
   "source": [
    "data.columns"
   ]
  },
  {
   "cell_type": "code",
   "execution_count": 9,
   "metadata": {},
   "outputs": [
    {
     "data": {
      "application/javascript": [
       "\n",
       "            setTimeout(function() {\n",
       "                var nbb_cell_id = 9;\n",
       "                var nbb_unformatted_code = \"# data = data.loc[data[\\\"time\\\"] > \\\"2020-07-24 04:56:29.780165\\\"]\";\n",
       "                var nbb_formatted_code = \"# data = data.loc[data[\\\"time\\\"] > \\\"2020-07-24 04:56:29.780165\\\"]\";\n",
       "                var nbb_cells = Jupyter.notebook.get_cells();\n",
       "                for (var i = 0; i < nbb_cells.length; ++i) {\n",
       "                    if (nbb_cells[i].input_prompt_number == nbb_cell_id) {\n",
       "                        if (nbb_cells[i].get_text() == nbb_unformatted_code) {\n",
       "                             nbb_cells[i].set_text(nbb_formatted_code);\n",
       "                        }\n",
       "                        break;\n",
       "                    }\n",
       "                }\n",
       "            }, 500);\n",
       "            "
      ],
      "text/plain": [
       "<IPython.core.display.Javascript object>"
      ]
     },
     "metadata": {},
     "output_type": "display_data"
    }
   ],
   "source": [
    "# data = data.loc[data[\"time\"] > \"2020-07-24 04:56:29.780165\"]"
   ]
  },
  {
   "cell_type": "code",
   "execution_count": 10,
   "metadata": {},
   "outputs": [
    {
     "data": {
      "text/html": [
       "<div>\n",
       "<style scoped>\n",
       "    .dataframe tbody tr th:only-of-type {\n",
       "        vertical-align: middle;\n",
       "    }\n",
       "\n",
       "    .dataframe tbody tr th {\n",
       "        vertical-align: top;\n",
       "    }\n",
       "\n",
       "    .dataframe thead th {\n",
       "        text-align: right;\n",
       "    }\n",
       "</style>\n",
       "<table border=\"1\" class=\"dataframe\">\n",
       "  <thead>\n",
       "    <tr style=\"text-align: right;\">\n",
       "      <th></th>\n",
       "      <th>time</th>\n",
       "      <th>midprice</th>\n",
       "      <th>oir</th>\n",
       "      <th>voi</th>\n",
       "      <th>tfi</th>\n",
       "      <th>t-oir-501</th>\n",
       "      <th>t-voi-501</th>\n",
       "      <th>t-tfi-501</th>\n",
       "      <th>t-midprice-501</th>\n",
       "      <th>t-oir-502</th>\n",
       "      <th>...</th>\n",
       "      <th>t-midprice-998</th>\n",
       "      <th>t-oir-999</th>\n",
       "      <th>t-voi-999</th>\n",
       "      <th>t-tfi-999</th>\n",
       "      <th>t-midprice-999</th>\n",
       "      <th>t-oir-1000</th>\n",
       "      <th>t-voi-1000</th>\n",
       "      <th>t-tfi-1000</th>\n",
       "      <th>t-midprice-1000</th>\n",
       "      <th>target</th>\n",
       "    </tr>\n",
       "  </thead>\n",
       "  <tbody>\n",
       "    <tr>\n",
       "      <th>1000</th>\n",
       "      <td>2020-07-02 20:30:07.844349</td>\n",
       "      <td>9093.895</td>\n",
       "      <td>1.380148</td>\n",
       "      <td>-1.042959</td>\n",
       "      <td>0.461344</td>\n",
       "      <td>-0.943778</td>\n",
       "      <td>-7.203480</td>\n",
       "      <td>0.760322</td>\n",
       "      <td>9039.495</td>\n",
       "      <td>-1.171831</td>\n",
       "      <td>...</td>\n",
       "      <td>9069.815</td>\n",
       "      <td>-1.143382</td>\n",
       "      <td>-11.737757</td>\n",
       "      <td>0.672478</td>\n",
       "      <td>9070.005</td>\n",
       "      <td>-4.353743</td>\n",
       "      <td>3.770439</td>\n",
       "      <td>0.651967</td>\n",
       "      <td>9069.065</td>\n",
       "      <td>1</td>\n",
       "    </tr>\n",
       "    <tr>\n",
       "      <th>1001</th>\n",
       "      <td>2020-07-02 20:30:32.826776</td>\n",
       "      <td>9094.025</td>\n",
       "      <td>1.270786</td>\n",
       "      <td>-3.310276</td>\n",
       "      <td>0.447799</td>\n",
       "      <td>-3.057961</td>\n",
       "      <td>7.477914</td>\n",
       "      <td>0.722981</td>\n",
       "      <td>9038.645</td>\n",
       "      <td>-0.943778</td>\n",
       "      <td>...</td>\n",
       "      <td>9070.455</td>\n",
       "      <td>-0.103770</td>\n",
       "      <td>1.288612</td>\n",
       "      <td>0.376768</td>\n",
       "      <td>9069.815</td>\n",
       "      <td>-1.143382</td>\n",
       "      <td>-11.737757</td>\n",
       "      <td>0.672478</td>\n",
       "      <td>9070.005</td>\n",
       "      <td>1</td>\n",
       "    </tr>\n",
       "    <tr>\n",
       "      <th>1002</th>\n",
       "      <td>2020-07-02 20:30:45.469928</td>\n",
       "      <td>9093.885</td>\n",
       "      <td>0.550035</td>\n",
       "      <td>-1.078092</td>\n",
       "      <td>0.454933</td>\n",
       "      <td>-1.011289</td>\n",
       "      <td>-7.149358</td>\n",
       "      <td>0.673969</td>\n",
       "      <td>9038.540</td>\n",
       "      <td>-3.057961</td>\n",
       "      <td>...</td>\n",
       "      <td>9068.015</td>\n",
       "      <td>0.109324</td>\n",
       "      <td>-7.522974</td>\n",
       "      <td>0.658716</td>\n",
       "      <td>9070.455</td>\n",
       "      <td>-0.103770</td>\n",
       "      <td>1.288612</td>\n",
       "      <td>0.376768</td>\n",
       "      <td>9069.815</td>\n",
       "      <td>1</td>\n",
       "    </tr>\n",
       "    <tr>\n",
       "      <th>1003</th>\n",
       "      <td>2020-07-02 20:30:59.034912</td>\n",
       "      <td>9093.660</td>\n",
       "      <td>0.010264</td>\n",
       "      <td>0.605181</td>\n",
       "      <td>0.480753</td>\n",
       "      <td>-0.011996</td>\n",
       "      <td>-8.574217</td>\n",
       "      <td>0.753685</td>\n",
       "      <td>9038.175</td>\n",
       "      <td>-1.011289</td>\n",
       "      <td>...</td>\n",
       "      <td>9067.925</td>\n",
       "      <td>0.058965</td>\n",
       "      <td>-38.674267</td>\n",
       "      <td>0.449309</td>\n",
       "      <td>9068.015</td>\n",
       "      <td>0.109324</td>\n",
       "      <td>-7.522974</td>\n",
       "      <td>0.658716</td>\n",
       "      <td>9070.455</td>\n",
       "      <td>1</td>\n",
       "    </tr>\n",
       "    <tr>\n",
       "      <th>1004</th>\n",
       "      <td>2020-07-02 20:31:11.771165</td>\n",
       "      <td>9093.995</td>\n",
       "      <td>1.110706</td>\n",
       "      <td>10.997174</td>\n",
       "      <td>0.451397</td>\n",
       "      <td>-0.634792</td>\n",
       "      <td>-13.929421</td>\n",
       "      <td>0.631556</td>\n",
       "      <td>9039.585</td>\n",
       "      <td>-0.011996</td>\n",
       "      <td>...</td>\n",
       "      <td>9067.925</td>\n",
       "      <td>1.977738</td>\n",
       "      <td>9.186586</td>\n",
       "      <td>0.430767</td>\n",
       "      <td>9067.925</td>\n",
       "      <td>0.058965</td>\n",
       "      <td>-38.674267</td>\n",
       "      <td>0.449309</td>\n",
       "      <td>9068.015</td>\n",
       "      <td>1</td>\n",
       "    </tr>\n",
       "    <tr>\n",
       "      <th>...</th>\n",
       "      <td>...</td>\n",
       "      <td>...</td>\n",
       "      <td>...</td>\n",
       "      <td>...</td>\n",
       "      <td>...</td>\n",
       "      <td>...</td>\n",
       "      <td>...</td>\n",
       "      <td>...</td>\n",
       "      <td>...</td>\n",
       "      <td>...</td>\n",
       "      <td>...</td>\n",
       "      <td>...</td>\n",
       "      <td>...</td>\n",
       "      <td>...</td>\n",
       "      <td>...</td>\n",
       "      <td>...</td>\n",
       "      <td>...</td>\n",
       "      <td>...</td>\n",
       "      <td>...</td>\n",
       "      <td>...</td>\n",
       "      <td>...</td>\n",
       "    </tr>\n",
       "    <tr>\n",
       "      <th>285304</th>\n",
       "      <td>2020-09-03 09:32:49.476146</td>\n",
       "      <td>10830.955</td>\n",
       "      <td>-0.043333</td>\n",
       "      <td>-22.368282</td>\n",
       "      <td>0.461289</td>\n",
       "      <td>0.386811</td>\n",
       "      <td>-4.001545</td>\n",
       "      <td>0.539549</td>\n",
       "      <td>11237.055</td>\n",
       "      <td>-0.260199</td>\n",
       "      <td>...</td>\n",
       "      <td>11320.340</td>\n",
       "      <td>-1.570151</td>\n",
       "      <td>-16.401193</td>\n",
       "      <td>1.429919</td>\n",
       "      <td>11320.495</td>\n",
       "      <td>-1.441880</td>\n",
       "      <td>-15.786901</td>\n",
       "      <td>1.426968</td>\n",
       "      <td>11320.225</td>\n",
       "      <td>0</td>\n",
       "    </tr>\n",
       "    <tr>\n",
       "      <th>285305</th>\n",
       "      <td>2020-09-03 09:33:00.791797</td>\n",
       "      <td>10830.955</td>\n",
       "      <td>-0.489244</td>\n",
       "      <td>-21.341815</td>\n",
       "      <td>0.470896</td>\n",
       "      <td>0.682944</td>\n",
       "      <td>-21.962345</td>\n",
       "      <td>0.562896</td>\n",
       "      <td>11233.745</td>\n",
       "      <td>0.386811</td>\n",
       "      <td>...</td>\n",
       "      <td>11320.005</td>\n",
       "      <td>-22.431528</td>\n",
       "      <td>-24.005183</td>\n",
       "      <td>1.433453</td>\n",
       "      <td>11320.340</td>\n",
       "      <td>-1.570151</td>\n",
       "      <td>-16.401193</td>\n",
       "      <td>1.429919</td>\n",
       "      <td>11320.495</td>\n",
       "      <td>0</td>\n",
       "    </tr>\n",
       "    <tr>\n",
       "      <th>285306</th>\n",
       "      <td>2020-09-03 09:33:12.133621</td>\n",
       "      <td>10830.955</td>\n",
       "      <td>-0.921108</td>\n",
       "      <td>-22.820611</td>\n",
       "      <td>0.468831</td>\n",
       "      <td>-1.294354</td>\n",
       "      <td>-7.394954</td>\n",
       "      <td>0.573023</td>\n",
       "      <td>11233.745</td>\n",
       "      <td>0.682944</td>\n",
       "      <td>...</td>\n",
       "      <td>11317.035</td>\n",
       "      <td>-5.331503</td>\n",
       "      <td>-29.535550</td>\n",
       "      <td>1.431562</td>\n",
       "      <td>11320.005</td>\n",
       "      <td>-22.431528</td>\n",
       "      <td>-24.005183</td>\n",
       "      <td>1.433453</td>\n",
       "      <td>11320.340</td>\n",
       "      <td>0</td>\n",
       "    </tr>\n",
       "    <tr>\n",
       "      <th>285307</th>\n",
       "      <td>2020-09-03 09:33:23.445957</td>\n",
       "      <td>10830.825</td>\n",
       "      <td>-1.213449</td>\n",
       "      <td>-34.496262</td>\n",
       "      <td>0.496368</td>\n",
       "      <td>0.075363</td>\n",
       "      <td>-25.412812</td>\n",
       "      <td>0.492631</td>\n",
       "      <td>11227.035</td>\n",
       "      <td>-1.294354</td>\n",
       "      <td>...</td>\n",
       "      <td>11317.065</td>\n",
       "      <td>41.016147</td>\n",
       "      <td>-38.257578</td>\n",
       "      <td>1.452187</td>\n",
       "      <td>11317.035</td>\n",
       "      <td>-5.331503</td>\n",
       "      <td>-29.535550</td>\n",
       "      <td>1.431562</td>\n",
       "      <td>11320.005</td>\n",
       "      <td>0</td>\n",
       "    </tr>\n",
       "    <tr>\n",
       "      <th>285308</th>\n",
       "      <td>2020-09-03 09:33:34.843553</td>\n",
       "      <td>10830.825</td>\n",
       "      <td>-0.658291</td>\n",
       "      <td>-29.497235</td>\n",
       "      <td>0.513292</td>\n",
       "      <td>1.025673</td>\n",
       "      <td>-33.224717</td>\n",
       "      <td>0.625547</td>\n",
       "      <td>11221.155</td>\n",
       "      <td>0.075363</td>\n",
       "      <td>...</td>\n",
       "      <td>11317.035</td>\n",
       "      <td>-3.096911</td>\n",
       "      <td>-29.351390</td>\n",
       "      <td>1.451968</td>\n",
       "      <td>11317.065</td>\n",
       "      <td>41.016147</td>\n",
       "      <td>-38.257578</td>\n",
       "      <td>1.452187</td>\n",
       "      <td>11317.035</td>\n",
       "      <td>0</td>\n",
       "    </tr>\n",
       "  </tbody>\n",
       "</table>\n",
       "<p>280815 rows × 2006 columns</p>\n",
       "</div>"
      ],
      "text/plain": [
       "                             time   midprice       oir        voi       tfi  \\\n",
       "1000   2020-07-02 20:30:07.844349   9093.895  1.380148  -1.042959  0.461344   \n",
       "1001   2020-07-02 20:30:32.826776   9094.025  1.270786  -3.310276  0.447799   \n",
       "1002   2020-07-02 20:30:45.469928   9093.885  0.550035  -1.078092  0.454933   \n",
       "1003   2020-07-02 20:30:59.034912   9093.660  0.010264   0.605181  0.480753   \n",
       "1004   2020-07-02 20:31:11.771165   9093.995  1.110706  10.997174  0.451397   \n",
       "...                           ...        ...       ...        ...       ...   \n",
       "285304 2020-09-03 09:32:49.476146  10830.955 -0.043333 -22.368282  0.461289   \n",
       "285305 2020-09-03 09:33:00.791797  10830.955 -0.489244 -21.341815  0.470896   \n",
       "285306 2020-09-03 09:33:12.133621  10830.955 -0.921108 -22.820611  0.468831   \n",
       "285307 2020-09-03 09:33:23.445957  10830.825 -1.213449 -34.496262  0.496368   \n",
       "285308 2020-09-03 09:33:34.843553  10830.825 -0.658291 -29.497235  0.513292   \n",
       "\n",
       "        t-oir-501  t-voi-501  t-tfi-501  t-midprice-501  t-oir-502  ...  \\\n",
       "1000    -0.943778  -7.203480   0.760322        9039.495  -1.171831  ...   \n",
       "1001    -3.057961   7.477914   0.722981        9038.645  -0.943778  ...   \n",
       "1002    -1.011289  -7.149358   0.673969        9038.540  -3.057961  ...   \n",
       "1003    -0.011996  -8.574217   0.753685        9038.175  -1.011289  ...   \n",
       "1004    -0.634792 -13.929421   0.631556        9039.585  -0.011996  ...   \n",
       "...           ...        ...        ...             ...        ...  ...   \n",
       "285304   0.386811  -4.001545   0.539549       11237.055  -0.260199  ...   \n",
       "285305   0.682944 -21.962345   0.562896       11233.745   0.386811  ...   \n",
       "285306  -1.294354  -7.394954   0.573023       11233.745   0.682944  ...   \n",
       "285307   0.075363 -25.412812   0.492631       11227.035  -1.294354  ...   \n",
       "285308   1.025673 -33.224717   0.625547       11221.155   0.075363  ...   \n",
       "\n",
       "        t-midprice-998  t-oir-999  t-voi-999  t-tfi-999  t-midprice-999  \\\n",
       "1000          9069.815  -1.143382 -11.737757   0.672478        9070.005   \n",
       "1001          9070.455  -0.103770   1.288612   0.376768        9069.815   \n",
       "1002          9068.015   0.109324  -7.522974   0.658716        9070.455   \n",
       "1003          9067.925   0.058965 -38.674267   0.449309        9068.015   \n",
       "1004          9067.925   1.977738   9.186586   0.430767        9067.925   \n",
       "...                ...        ...        ...        ...             ...   \n",
       "285304       11320.340  -1.570151 -16.401193   1.429919       11320.495   \n",
       "285305       11320.005 -22.431528 -24.005183   1.433453       11320.340   \n",
       "285306       11317.035  -5.331503 -29.535550   1.431562       11320.005   \n",
       "285307       11317.065  41.016147 -38.257578   1.452187       11317.035   \n",
       "285308       11317.035  -3.096911 -29.351390   1.451968       11317.065   \n",
       "\n",
       "        t-oir-1000  t-voi-1000  t-tfi-1000  t-midprice-1000  target  \n",
       "1000     -4.353743    3.770439    0.651967         9069.065       1  \n",
       "1001     -1.143382  -11.737757    0.672478         9070.005       1  \n",
       "1002     -0.103770    1.288612    0.376768         9069.815       1  \n",
       "1003      0.109324   -7.522974    0.658716         9070.455       1  \n",
       "1004      0.058965  -38.674267    0.449309         9068.015       1  \n",
       "...            ...         ...         ...              ...     ...  \n",
       "285304   -1.441880  -15.786901    1.426968        11320.225       0  \n",
       "285305   -1.570151  -16.401193    1.429919        11320.495       0  \n",
       "285306  -22.431528  -24.005183    1.433453        11320.340       0  \n",
       "285307   -5.331503  -29.535550    1.431562        11320.005       0  \n",
       "285308   41.016147  -38.257578    1.452187        11317.035       0  \n",
       "\n",
       "[280815 rows x 2006 columns]"
      ]
     },
     "execution_count": 10,
     "metadata": {},
     "output_type": "execute_result"
    },
    {
     "data": {
      "application/javascript": [
       "\n",
       "            setTimeout(function() {\n",
       "                var nbb_cell_id = 10;\n",
       "                var nbb_unformatted_code = \"# Transform dataframe and add target column which indicates if price moves up or down\\ntransformed = data.drop(columns=[\\\"lag period\\\"]).reset_index(drop=True)\\nhistory = 500\\nfuture = 500\\n\\nshifts = [x + future for x in list(range(1, history + 1))]\\nfor shift in shifts:\\n    transformed[\\\"t-oir-\\\" + str(shift)] = transformed[\\\"oir\\\"].shift(shift)\\n    transformed[\\\"t-voi-\\\" + str(shift)] = transformed[\\\"voi\\\"].shift(shift)\\n    transformed[\\\"t-tfi-\\\" + str(shift)] = transformed[\\\"tfi\\\"].shift(shift)\\n    transformed[\\\"t-midprice-\\\" + str(shift)] = transformed[\\\"midprice\\\"].shift(shift)\\n\\ntransformed = transformed.dropna()\\ntransformed[\\\"target\\\"] = 0\\ntransformed.loc[transformed[\\\"midprice\\\"] > transformed[\\\"t-midprice-501\\\"], \\\"target\\\"] = 1\\ntransformed.set_index(\\\"time\\\").drop([\\\"oir\\\", \\\"voi\\\", \\\"tfi\\\"], axis=1)\\n\\ntransformed\";\n",
       "                var nbb_formatted_code = \"# Transform dataframe and add target column which indicates if price moves up or down\\ntransformed = data.drop(columns=[\\\"lag period\\\"]).reset_index(drop=True)\\nhistory = 500\\nfuture = 500\\n\\nshifts = [x + future for x in list(range(1, history + 1))]\\nfor shift in shifts:\\n    transformed[\\\"t-oir-\\\" + str(shift)] = transformed[\\\"oir\\\"].shift(shift)\\n    transformed[\\\"t-voi-\\\" + str(shift)] = transformed[\\\"voi\\\"].shift(shift)\\n    transformed[\\\"t-tfi-\\\" + str(shift)] = transformed[\\\"tfi\\\"].shift(shift)\\n    transformed[\\\"t-midprice-\\\" + str(shift)] = transformed[\\\"midprice\\\"].shift(shift)\\n\\ntransformed = transformed.dropna()\\ntransformed[\\\"target\\\"] = 0\\ntransformed.loc[transformed[\\\"midprice\\\"] > transformed[\\\"t-midprice-501\\\"], \\\"target\\\"] = 1\\ntransformed.set_index(\\\"time\\\").drop([\\\"oir\\\", \\\"voi\\\", \\\"tfi\\\"], axis=1)\\n\\ntransformed\";\n",
       "                var nbb_cells = Jupyter.notebook.get_cells();\n",
       "                for (var i = 0; i < nbb_cells.length; ++i) {\n",
       "                    if (nbb_cells[i].input_prompt_number == nbb_cell_id) {\n",
       "                        if (nbb_cells[i].get_text() == nbb_unformatted_code) {\n",
       "                             nbb_cells[i].set_text(nbb_formatted_code);\n",
       "                        }\n",
       "                        break;\n",
       "                    }\n",
       "                }\n",
       "            }, 500);\n",
       "            "
      ],
      "text/plain": [
       "<IPython.core.display.Javascript object>"
      ]
     },
     "metadata": {},
     "output_type": "display_data"
    }
   ],
   "source": [
    "# Transform dataframe and add target column which indicates if price moves up or down\n",
    "transformed = data.drop(columns=[\"lag period\"]).reset_index(drop=True)\n",
    "history = 500\n",
    "future = 500\n",
    "\n",
    "shifts = [x + future for x in list(range(1, history + 1))]\n",
    "for shift in shifts:\n",
    "    transformed[\"t-oir-\" + str(shift)] = transformed[\"oir\"].shift(shift)\n",
    "    transformed[\"t-voi-\" + str(shift)] = transformed[\"voi\"].shift(shift)\n",
    "    transformed[\"t-tfi-\" + str(shift)] = transformed[\"tfi\"].shift(shift)\n",
    "    transformed[\"t-midprice-\" + str(shift)] = transformed[\"midprice\"].shift(shift)\n",
    "\n",
    "transformed = transformed.dropna()\n",
    "transformed[\"target\"] = 0\n",
    "transformed.loc[transformed[\"midprice\"] > transformed[\"t-midprice-501\"], \"target\"] = 1\n",
    "transformed.set_index(\"time\").drop([\"oir\", \"voi\", \"tfi\"], axis=1)\n",
    "\n",
    "transformed"
   ]
  },
  {
   "cell_type": "code",
   "execution_count": 11,
   "metadata": {},
   "outputs": [
    {
     "data": {
      "application/javascript": [
       "\n",
       "            setTimeout(function() {\n",
       "                var nbb_cell_id = 11;\n",
       "                var nbb_unformatted_code = \"transformed.to_csv(\\\"test_data.csv\\\", index=False)\";\n",
       "                var nbb_formatted_code = \"transformed.to_csv(\\\"test_data.csv\\\", index=False)\";\n",
       "                var nbb_cells = Jupyter.notebook.get_cells();\n",
       "                for (var i = 0; i < nbb_cells.length; ++i) {\n",
       "                    if (nbb_cells[i].input_prompt_number == nbb_cell_id) {\n",
       "                        if (nbb_cells[i].get_text() == nbb_unformatted_code) {\n",
       "                             nbb_cells[i].set_text(nbb_formatted_code);\n",
       "                        }\n",
       "                        break;\n",
       "                    }\n",
       "                }\n",
       "            }, 500);\n",
       "            "
      ],
      "text/plain": [
       "<IPython.core.display.Javascript object>"
      ]
     },
     "metadata": {},
     "output_type": "display_data"
    }
   ],
   "source": [
    "transformed.to_csv(\"test_data.csv\", index=False)"
   ]
  },
  {
   "cell_type": "code",
   "execution_count": 12,
   "metadata": {},
   "outputs": [
    {
     "data": {
      "text/html": [
       "<div>\n",
       "<style scoped>\n",
       "    .dataframe tbody tr th:only-of-type {\n",
       "        vertical-align: middle;\n",
       "    }\n",
       "\n",
       "    .dataframe tbody tr th {\n",
       "        vertical-align: top;\n",
       "    }\n",
       "\n",
       "    .dataframe thead th {\n",
       "        text-align: right;\n",
       "    }\n",
       "</style>\n",
       "<table border=\"1\" class=\"dataframe\">\n",
       "  <thead>\n",
       "    <tr style=\"text-align: right;\">\n",
       "      <th></th>\n",
       "      <th>time</th>\n",
       "      <th>midprice</th>\n",
       "      <th>oir</th>\n",
       "      <th>voi</th>\n",
       "      <th>tfi</th>\n",
       "      <th>t-oir-501</th>\n",
       "      <th>t-voi-501</th>\n",
       "      <th>t-tfi-501</th>\n",
       "      <th>t-midprice-501</th>\n",
       "      <th>t-oir-502</th>\n",
       "      <th>...</th>\n",
       "      <th>t-midprice-998</th>\n",
       "      <th>t-oir-999</th>\n",
       "      <th>t-voi-999</th>\n",
       "      <th>t-tfi-999</th>\n",
       "      <th>t-midprice-999</th>\n",
       "      <th>t-oir-1000</th>\n",
       "      <th>t-voi-1000</th>\n",
       "      <th>t-tfi-1000</th>\n",
       "      <th>t-midprice-1000</th>\n",
       "      <th>target</th>\n",
       "    </tr>\n",
       "  </thead>\n",
       "  <tbody>\n",
       "    <tr>\n",
       "      <th>72798</th>\n",
       "      <td>2020-07-24 07:56:41.516815</td>\n",
       "      <td>9537.490</td>\n",
       "      <td>3.465263</td>\n",
       "      <td>1.134861</td>\n",
       "      <td>0.580011</td>\n",
       "      <td>0.662033</td>\n",
       "      <td>86.074191</td>\n",
       "      <td>0.240416</td>\n",
       "      <td>9544.995</td>\n",
       "      <td>1.268136</td>\n",
       "      <td>...</td>\n",
       "      <td>9499.785</td>\n",
       "      <td>1.100954</td>\n",
       "      <td>-30.557809</td>\n",
       "      <td>0.490984</td>\n",
       "      <td>9499.785</td>\n",
       "      <td>1.118696</td>\n",
       "      <td>-32.397356</td>\n",
       "      <td>0.408895</td>\n",
       "      <td>9499.785</td>\n",
       "      <td>0</td>\n",
       "    </tr>\n",
       "    <tr>\n",
       "      <th>72799</th>\n",
       "      <td>2020-07-24 07:56:53.097352</td>\n",
       "      <td>9540.295</td>\n",
       "      <td>-9.078244</td>\n",
       "      <td>0.272401</td>\n",
       "      <td>0.544738</td>\n",
       "      <td>0.906631</td>\n",
       "      <td>106.000273</td>\n",
       "      <td>0.224529</td>\n",
       "      <td>9545.725</td>\n",
       "      <td>0.662033</td>\n",
       "      <td>...</td>\n",
       "      <td>9499.875</td>\n",
       "      <td>1.167474</td>\n",
       "      <td>-29.833054</td>\n",
       "      <td>0.385222</td>\n",
       "      <td>9499.785</td>\n",
       "      <td>1.100954</td>\n",
       "      <td>-30.557809</td>\n",
       "      <td>0.490984</td>\n",
       "      <td>9499.785</td>\n",
       "      <td>0</td>\n",
       "    </tr>\n",
       "    <tr>\n",
       "      <th>72800</th>\n",
       "      <td>2020-07-24 07:57:04.460598</td>\n",
       "      <td>9540.295</td>\n",
       "      <td>-8.906102</td>\n",
       "      <td>0.275545</td>\n",
       "      <td>0.544732</td>\n",
       "      <td>0.857119</td>\n",
       "      <td>92.169343</td>\n",
       "      <td>0.205053</td>\n",
       "      <td>9546.085</td>\n",
       "      <td>0.906631</td>\n",
       "      <td>...</td>\n",
       "      <td>9499.875</td>\n",
       "      <td>1.197133</td>\n",
       "      <td>-26.758507</td>\n",
       "      <td>0.348068</td>\n",
       "      <td>9499.875</td>\n",
       "      <td>1.167474</td>\n",
       "      <td>-29.833054</td>\n",
       "      <td>0.385222</td>\n",
       "      <td>9499.785</td>\n",
       "      <td>0</td>\n",
       "    </tr>\n",
       "    <tr>\n",
       "      <th>72801</th>\n",
       "      <td>2020-07-24 07:57:15.855812</td>\n",
       "      <td>9540.295</td>\n",
       "      <td>-8.852874</td>\n",
       "      <td>0.177546</td>\n",
       "      <td>0.544744</td>\n",
       "      <td>1.235613</td>\n",
       "      <td>76.799881</td>\n",
       "      <td>0.169118</td>\n",
       "      <td>9550.815</td>\n",
       "      <td>0.857119</td>\n",
       "      <td>...</td>\n",
       "      <td>9502.775</td>\n",
       "      <td>1.462656</td>\n",
       "      <td>-14.226084</td>\n",
       "      <td>0.348108</td>\n",
       "      <td>9499.875</td>\n",
       "      <td>1.197133</td>\n",
       "      <td>-26.758507</td>\n",
       "      <td>0.348068</td>\n",
       "      <td>9499.875</td>\n",
       "      <td>0</td>\n",
       "    </tr>\n",
       "    <tr>\n",
       "      <th>72802</th>\n",
       "      <td>2020-07-24 07:57:27.213732</td>\n",
       "      <td>9540.295</td>\n",
       "      <td>-4.058831</td>\n",
       "      <td>0.180030</td>\n",
       "      <td>0.544744</td>\n",
       "      <td>0.500081</td>\n",
       "      <td>93.587702</td>\n",
       "      <td>0.197177</td>\n",
       "      <td>9550.815</td>\n",
       "      <td>1.235613</td>\n",
       "      <td>...</td>\n",
       "      <td>9502.775</td>\n",
       "      <td>0.615400</td>\n",
       "      <td>11.463975</td>\n",
       "      <td>0.281089</td>\n",
       "      <td>9502.775</td>\n",
       "      <td>1.462656</td>\n",
       "      <td>-14.226084</td>\n",
       "      <td>0.348108</td>\n",
       "      <td>9499.875</td>\n",
       "      <td>0</td>\n",
       "    </tr>\n",
       "    <tr>\n",
       "      <th>...</th>\n",
       "      <td>...</td>\n",
       "      <td>...</td>\n",
       "      <td>...</td>\n",
       "      <td>...</td>\n",
       "      <td>...</td>\n",
       "      <td>...</td>\n",
       "      <td>...</td>\n",
       "      <td>...</td>\n",
       "      <td>...</td>\n",
       "      <td>...</td>\n",
       "      <td>...</td>\n",
       "      <td>...</td>\n",
       "      <td>...</td>\n",
       "      <td>...</td>\n",
       "      <td>...</td>\n",
       "      <td>...</td>\n",
       "      <td>...</td>\n",
       "      <td>...</td>\n",
       "      <td>...</td>\n",
       "      <td>...</td>\n",
       "      <td>...</td>\n",
       "    </tr>\n",
       "    <tr>\n",
       "      <th>285304</th>\n",
       "      <td>2020-09-03 09:32:49.476146</td>\n",
       "      <td>10830.955</td>\n",
       "      <td>-0.043333</td>\n",
       "      <td>-22.368282</td>\n",
       "      <td>0.461289</td>\n",
       "      <td>0.386811</td>\n",
       "      <td>-4.001545</td>\n",
       "      <td>0.539549</td>\n",
       "      <td>11237.055</td>\n",
       "      <td>-0.260199</td>\n",
       "      <td>...</td>\n",
       "      <td>11320.340</td>\n",
       "      <td>-1.570151</td>\n",
       "      <td>-16.401193</td>\n",
       "      <td>1.429919</td>\n",
       "      <td>11320.495</td>\n",
       "      <td>-1.441880</td>\n",
       "      <td>-15.786901</td>\n",
       "      <td>1.426968</td>\n",
       "      <td>11320.225</td>\n",
       "      <td>0</td>\n",
       "    </tr>\n",
       "    <tr>\n",
       "      <th>285305</th>\n",
       "      <td>2020-09-03 09:33:00.791797</td>\n",
       "      <td>10830.955</td>\n",
       "      <td>-0.489244</td>\n",
       "      <td>-21.341815</td>\n",
       "      <td>0.470896</td>\n",
       "      <td>0.682944</td>\n",
       "      <td>-21.962345</td>\n",
       "      <td>0.562896</td>\n",
       "      <td>11233.745</td>\n",
       "      <td>0.386811</td>\n",
       "      <td>...</td>\n",
       "      <td>11320.005</td>\n",
       "      <td>-22.431528</td>\n",
       "      <td>-24.005183</td>\n",
       "      <td>1.433453</td>\n",
       "      <td>11320.340</td>\n",
       "      <td>-1.570151</td>\n",
       "      <td>-16.401193</td>\n",
       "      <td>1.429919</td>\n",
       "      <td>11320.495</td>\n",
       "      <td>0</td>\n",
       "    </tr>\n",
       "    <tr>\n",
       "      <th>285306</th>\n",
       "      <td>2020-09-03 09:33:12.133621</td>\n",
       "      <td>10830.955</td>\n",
       "      <td>-0.921108</td>\n",
       "      <td>-22.820611</td>\n",
       "      <td>0.468831</td>\n",
       "      <td>-1.294354</td>\n",
       "      <td>-7.394954</td>\n",
       "      <td>0.573023</td>\n",
       "      <td>11233.745</td>\n",
       "      <td>0.682944</td>\n",
       "      <td>...</td>\n",
       "      <td>11317.035</td>\n",
       "      <td>-5.331503</td>\n",
       "      <td>-29.535550</td>\n",
       "      <td>1.431562</td>\n",
       "      <td>11320.005</td>\n",
       "      <td>-22.431528</td>\n",
       "      <td>-24.005183</td>\n",
       "      <td>1.433453</td>\n",
       "      <td>11320.340</td>\n",
       "      <td>0</td>\n",
       "    </tr>\n",
       "    <tr>\n",
       "      <th>285307</th>\n",
       "      <td>2020-09-03 09:33:23.445957</td>\n",
       "      <td>10830.825</td>\n",
       "      <td>-1.213449</td>\n",
       "      <td>-34.496262</td>\n",
       "      <td>0.496368</td>\n",
       "      <td>0.075363</td>\n",
       "      <td>-25.412812</td>\n",
       "      <td>0.492631</td>\n",
       "      <td>11227.035</td>\n",
       "      <td>-1.294354</td>\n",
       "      <td>...</td>\n",
       "      <td>11317.065</td>\n",
       "      <td>41.016147</td>\n",
       "      <td>-38.257578</td>\n",
       "      <td>1.452187</td>\n",
       "      <td>11317.035</td>\n",
       "      <td>-5.331503</td>\n",
       "      <td>-29.535550</td>\n",
       "      <td>1.431562</td>\n",
       "      <td>11320.005</td>\n",
       "      <td>0</td>\n",
       "    </tr>\n",
       "    <tr>\n",
       "      <th>285308</th>\n",
       "      <td>2020-09-03 09:33:34.843553</td>\n",
       "      <td>10830.825</td>\n",
       "      <td>-0.658291</td>\n",
       "      <td>-29.497235</td>\n",
       "      <td>0.513292</td>\n",
       "      <td>1.025673</td>\n",
       "      <td>-33.224717</td>\n",
       "      <td>0.625547</td>\n",
       "      <td>11221.155</td>\n",
       "      <td>0.075363</td>\n",
       "      <td>...</td>\n",
       "      <td>11317.035</td>\n",
       "      <td>-3.096911</td>\n",
       "      <td>-29.351390</td>\n",
       "      <td>1.451968</td>\n",
       "      <td>11317.065</td>\n",
       "      <td>41.016147</td>\n",
       "      <td>-38.257578</td>\n",
       "      <td>1.452187</td>\n",
       "      <td>11317.035</td>\n",
       "      <td>0</td>\n",
       "    </tr>\n",
       "  </tbody>\n",
       "</table>\n",
       "<p>209023 rows × 2006 columns</p>\n",
       "</div>"
      ],
      "text/plain": [
       "                             time   midprice       oir        voi       tfi  \\\n",
       "72798  2020-07-24 07:56:41.516815   9537.490  3.465263   1.134861  0.580011   \n",
       "72799  2020-07-24 07:56:53.097352   9540.295 -9.078244   0.272401  0.544738   \n",
       "72800  2020-07-24 07:57:04.460598   9540.295 -8.906102   0.275545  0.544732   \n",
       "72801  2020-07-24 07:57:15.855812   9540.295 -8.852874   0.177546  0.544744   \n",
       "72802  2020-07-24 07:57:27.213732   9540.295 -4.058831   0.180030  0.544744   \n",
       "...                           ...        ...       ...        ...       ...   \n",
       "285304 2020-09-03 09:32:49.476146  10830.955 -0.043333 -22.368282  0.461289   \n",
       "285305 2020-09-03 09:33:00.791797  10830.955 -0.489244 -21.341815  0.470896   \n",
       "285306 2020-09-03 09:33:12.133621  10830.955 -0.921108 -22.820611  0.468831   \n",
       "285307 2020-09-03 09:33:23.445957  10830.825 -1.213449 -34.496262  0.496368   \n",
       "285308 2020-09-03 09:33:34.843553  10830.825 -0.658291 -29.497235  0.513292   \n",
       "\n",
       "        t-oir-501   t-voi-501  t-tfi-501  t-midprice-501  t-oir-502  ...  \\\n",
       "72798    0.662033   86.074191   0.240416        9544.995   1.268136  ...   \n",
       "72799    0.906631  106.000273   0.224529        9545.725   0.662033  ...   \n",
       "72800    0.857119   92.169343   0.205053        9546.085   0.906631  ...   \n",
       "72801    1.235613   76.799881   0.169118        9550.815   0.857119  ...   \n",
       "72802    0.500081   93.587702   0.197177        9550.815   1.235613  ...   \n",
       "...           ...         ...        ...             ...        ...  ...   \n",
       "285304   0.386811   -4.001545   0.539549       11237.055  -0.260199  ...   \n",
       "285305   0.682944  -21.962345   0.562896       11233.745   0.386811  ...   \n",
       "285306  -1.294354   -7.394954   0.573023       11233.745   0.682944  ...   \n",
       "285307   0.075363  -25.412812   0.492631       11227.035  -1.294354  ...   \n",
       "285308   1.025673  -33.224717   0.625547       11221.155   0.075363  ...   \n",
       "\n",
       "        t-midprice-998  t-oir-999  t-voi-999  t-tfi-999  t-midprice-999  \\\n",
       "72798         9499.785   1.100954 -30.557809   0.490984        9499.785   \n",
       "72799         9499.875   1.167474 -29.833054   0.385222        9499.785   \n",
       "72800         9499.875   1.197133 -26.758507   0.348068        9499.875   \n",
       "72801         9502.775   1.462656 -14.226084   0.348108        9499.875   \n",
       "72802         9502.775   0.615400  11.463975   0.281089        9502.775   \n",
       "...                ...        ...        ...        ...             ...   \n",
       "285304       11320.340  -1.570151 -16.401193   1.429919       11320.495   \n",
       "285305       11320.005 -22.431528 -24.005183   1.433453       11320.340   \n",
       "285306       11317.035  -5.331503 -29.535550   1.431562       11320.005   \n",
       "285307       11317.065  41.016147 -38.257578   1.452187       11317.035   \n",
       "285308       11317.035  -3.096911 -29.351390   1.451968       11317.065   \n",
       "\n",
       "        t-oir-1000  t-voi-1000  t-tfi-1000  t-midprice-1000  target  \n",
       "72798     1.118696  -32.397356    0.408895         9499.785       0  \n",
       "72799     1.100954  -30.557809    0.490984         9499.785       0  \n",
       "72800     1.167474  -29.833054    0.385222         9499.785       0  \n",
       "72801     1.197133  -26.758507    0.348068         9499.875       0  \n",
       "72802     1.462656  -14.226084    0.348108         9499.875       0  \n",
       "...            ...         ...         ...              ...     ...  \n",
       "285304   -1.441880  -15.786901    1.426968        11320.225       0  \n",
       "285305   -1.570151  -16.401193    1.429919        11320.495       0  \n",
       "285306  -22.431528  -24.005183    1.433453        11320.340       0  \n",
       "285307   -5.331503  -29.535550    1.431562        11320.005       0  \n",
       "285308   41.016147  -38.257578    1.452187        11317.035       0  \n",
       "\n",
       "[209023 rows x 2006 columns]"
      ]
     },
     "execution_count": 12,
     "metadata": {},
     "output_type": "execute_result"
    },
    {
     "data": {
      "application/javascript": [
       "\n",
       "            setTimeout(function() {\n",
       "                var nbb_cell_id = 12;\n",
       "                var nbb_unformatted_code = \"test_data = transformed.loc[transformed[\\\"time\\\"] > \\\"2020-07-24 07:56:29.780165\\\"]\\n\\ntest_data\";\n",
       "                var nbb_formatted_code = \"test_data = transformed.loc[transformed[\\\"time\\\"] > \\\"2020-07-24 07:56:29.780165\\\"]\\n\\ntest_data\";\n",
       "                var nbb_cells = Jupyter.notebook.get_cells();\n",
       "                for (var i = 0; i < nbb_cells.length; ++i) {\n",
       "                    if (nbb_cells[i].input_prompt_number == nbb_cell_id) {\n",
       "                        if (nbb_cells[i].get_text() == nbb_unformatted_code) {\n",
       "                             nbb_cells[i].set_text(nbb_formatted_code);\n",
       "                        }\n",
       "                        break;\n",
       "                    }\n",
       "                }\n",
       "            }, 500);\n",
       "            "
      ],
      "text/plain": [
       "<IPython.core.display.Javascript object>"
      ]
     },
     "metadata": {},
     "output_type": "display_data"
    }
   ],
   "source": [
    "test_data = transformed.loc[transformed[\"time\"] > \"2020-07-24 07:56:29.780165\"]\n",
    "\n",
    "test_data"
   ]
  },
  {
   "cell_type": "code",
   "execution_count": 13,
   "metadata": {},
   "outputs": [
    {
     "data": {
      "application/javascript": [
       "\n",
       "            setTimeout(function() {\n",
       "                var nbb_cell_id = 13;\n",
       "                var nbb_unformatted_code = \"model = load(\\\"BTC_100m_forecast.joblib\\\")\";\n",
       "                var nbb_formatted_code = \"model = load(\\\"BTC_100m_forecast.joblib\\\")\";\n",
       "                var nbb_cells = Jupyter.notebook.get_cells();\n",
       "                for (var i = 0; i < nbb_cells.length; ++i) {\n",
       "                    if (nbb_cells[i].input_prompt_number == nbb_cell_id) {\n",
       "                        if (nbb_cells[i].get_text() == nbb_unformatted_code) {\n",
       "                             nbb_cells[i].set_text(nbb_formatted_code);\n",
       "                        }\n",
       "                        break;\n",
       "                    }\n",
       "                }\n",
       "            }, 500);\n",
       "            "
      ],
      "text/plain": [
       "<IPython.core.display.Javascript object>"
      ]
     },
     "metadata": {},
     "output_type": "display_data"
    }
   ],
   "source": [
    "model = load(\"BTC_100m_forecast.joblib\")"
   ]
  },
  {
   "cell_type": "code",
   "execution_count": 14,
   "metadata": {},
   "outputs": [
    {
     "data": {
      "application/javascript": [
       "\n",
       "            setTimeout(function() {\n",
       "                var nbb_cell_id = 14;\n",
       "                var nbb_unformatted_code = \"predictions = model.predict(\\n    test_data.drop(columns=[\\\"time\\\", \\\"midprice\\\", \\\"oir\\\", \\\"voi\\\", \\\"tfi\\\", \\\"target\\\"])\\n)\\ny_true = test_data[\\\"target\\\"]\";\n",
       "                var nbb_formatted_code = \"predictions = model.predict(\\n    test_data.drop(columns=[\\\"time\\\", \\\"midprice\\\", \\\"oir\\\", \\\"voi\\\", \\\"tfi\\\", \\\"target\\\"])\\n)\\ny_true = test_data[\\\"target\\\"]\";\n",
       "                var nbb_cells = Jupyter.notebook.get_cells();\n",
       "                for (var i = 0; i < nbb_cells.length; ++i) {\n",
       "                    if (nbb_cells[i].input_prompt_number == nbb_cell_id) {\n",
       "                        if (nbb_cells[i].get_text() == nbb_unformatted_code) {\n",
       "                             nbb_cells[i].set_text(nbb_formatted_code);\n",
       "                        }\n",
       "                        break;\n",
       "                    }\n",
       "                }\n",
       "            }, 500);\n",
       "            "
      ],
      "text/plain": [
       "<IPython.core.display.Javascript object>"
      ]
     },
     "metadata": {},
     "output_type": "display_data"
    }
   ],
   "source": [
    "predictions = model.predict(\n",
    "    test_data.drop(columns=[\"time\", \"midprice\", \"oir\", \"voi\", \"tfi\", \"target\"])\n",
    ")\n",
    "y_true = test_data[\"target\"]"
   ]
  },
  {
   "cell_type": "code",
   "execution_count": 15,
   "metadata": {},
   "outputs": [
    {
     "data": {
      "text/html": [
       "<div>\n",
       "<style scoped>\n",
       "    .dataframe tbody tr th:only-of-type {\n",
       "        vertical-align: middle;\n",
       "    }\n",
       "\n",
       "    .dataframe tbody tr th {\n",
       "        vertical-align: top;\n",
       "    }\n",
       "\n",
       "    .dataframe thead th {\n",
       "        text-align: right;\n",
       "    }\n",
       "</style>\n",
       "<table border=\"1\" class=\"dataframe\">\n",
       "  <thead>\n",
       "    <tr style=\"text-align: right;\">\n",
       "      <th></th>\n",
       "      <th>time</th>\n",
       "      <th>midprice</th>\n",
       "      <th>oir</th>\n",
       "      <th>voi</th>\n",
       "      <th>tfi</th>\n",
       "      <th>t-oir-501</th>\n",
       "      <th>t-voi-501</th>\n",
       "      <th>t-tfi-501</th>\n",
       "      <th>t-midprice-501</th>\n",
       "      <th>t-oir-502</th>\n",
       "      <th>...</th>\n",
       "      <th>t-tfi-999</th>\n",
       "      <th>t-midprice-999</th>\n",
       "      <th>t-oir-1000</th>\n",
       "      <th>t-voi-1000</th>\n",
       "      <th>t-tfi-1000</th>\n",
       "      <th>t-midprice-1000</th>\n",
       "      <th>target</th>\n",
       "      <th>probs 0</th>\n",
       "      <th>probs 1</th>\n",
       "      <th>prediction</th>\n",
       "    </tr>\n",
       "  </thead>\n",
       "  <tbody>\n",
       "    <tr>\n",
       "      <th>72798</th>\n",
       "      <td>2020-07-24 07:56:41.516815</td>\n",
       "      <td>9537.490</td>\n",
       "      <td>3.465263</td>\n",
       "      <td>1.134861</td>\n",
       "      <td>0.580011</td>\n",
       "      <td>0.662033</td>\n",
       "      <td>86.074191</td>\n",
       "      <td>0.240416</td>\n",
       "      <td>9544.995</td>\n",
       "      <td>1.268136</td>\n",
       "      <td>...</td>\n",
       "      <td>0.490984</td>\n",
       "      <td>9499.785</td>\n",
       "      <td>1.118696</td>\n",
       "      <td>-32.397356</td>\n",
       "      <td>0.408895</td>\n",
       "      <td>9499.785</td>\n",
       "      <td>0</td>\n",
       "      <td>0.460191</td>\n",
       "      <td>0.539809</td>\n",
       "      <td>1</td>\n",
       "    </tr>\n",
       "    <tr>\n",
       "      <th>72799</th>\n",
       "      <td>2020-07-24 07:56:53.097352</td>\n",
       "      <td>9540.295</td>\n",
       "      <td>-9.078244</td>\n",
       "      <td>0.272401</td>\n",
       "      <td>0.544738</td>\n",
       "      <td>0.906631</td>\n",
       "      <td>106.000273</td>\n",
       "      <td>0.224529</td>\n",
       "      <td>9545.725</td>\n",
       "      <td>0.662033</td>\n",
       "      <td>...</td>\n",
       "      <td>0.385222</td>\n",
       "      <td>9499.785</td>\n",
       "      <td>1.100954</td>\n",
       "      <td>-30.557809</td>\n",
       "      <td>0.490984</td>\n",
       "      <td>9499.785</td>\n",
       "      <td>0</td>\n",
       "      <td>0.463564</td>\n",
       "      <td>0.536436</td>\n",
       "      <td>1</td>\n",
       "    </tr>\n",
       "    <tr>\n",
       "      <th>72800</th>\n",
       "      <td>2020-07-24 07:57:04.460598</td>\n",
       "      <td>9540.295</td>\n",
       "      <td>-8.906102</td>\n",
       "      <td>0.275545</td>\n",
       "      <td>0.544732</td>\n",
       "      <td>0.857119</td>\n",
       "      <td>92.169343</td>\n",
       "      <td>0.205053</td>\n",
       "      <td>9546.085</td>\n",
       "      <td>0.906631</td>\n",
       "      <td>...</td>\n",
       "      <td>0.348068</td>\n",
       "      <td>9499.875</td>\n",
       "      <td>1.167474</td>\n",
       "      <td>-29.833054</td>\n",
       "      <td>0.385222</td>\n",
       "      <td>9499.785</td>\n",
       "      <td>0</td>\n",
       "      <td>0.469798</td>\n",
       "      <td>0.530202</td>\n",
       "      <td>1</td>\n",
       "    </tr>\n",
       "    <tr>\n",
       "      <th>72801</th>\n",
       "      <td>2020-07-24 07:57:15.855812</td>\n",
       "      <td>9540.295</td>\n",
       "      <td>-8.852874</td>\n",
       "      <td>0.177546</td>\n",
       "      <td>0.544744</td>\n",
       "      <td>1.235613</td>\n",
       "      <td>76.799881</td>\n",
       "      <td>0.169118</td>\n",
       "      <td>9550.815</td>\n",
       "      <td>0.857119</td>\n",
       "      <td>...</td>\n",
       "      <td>0.348108</td>\n",
       "      <td>9499.875</td>\n",
       "      <td>1.197133</td>\n",
       "      <td>-26.758507</td>\n",
       "      <td>0.348068</td>\n",
       "      <td>9499.875</td>\n",
       "      <td>0</td>\n",
       "      <td>0.477805</td>\n",
       "      <td>0.522195</td>\n",
       "      <td>1</td>\n",
       "    </tr>\n",
       "    <tr>\n",
       "      <th>72802</th>\n",
       "      <td>2020-07-24 07:57:27.213732</td>\n",
       "      <td>9540.295</td>\n",
       "      <td>-4.058831</td>\n",
       "      <td>0.180030</td>\n",
       "      <td>0.544744</td>\n",
       "      <td>0.500081</td>\n",
       "      <td>93.587702</td>\n",
       "      <td>0.197177</td>\n",
       "      <td>9550.815</td>\n",
       "      <td>1.235613</td>\n",
       "      <td>...</td>\n",
       "      <td>0.281089</td>\n",
       "      <td>9502.775</td>\n",
       "      <td>1.462656</td>\n",
       "      <td>-14.226084</td>\n",
       "      <td>0.348108</td>\n",
       "      <td>9499.875</td>\n",
       "      <td>0</td>\n",
       "      <td>0.481908</td>\n",
       "      <td>0.518092</td>\n",
       "      <td>1</td>\n",
       "    </tr>\n",
       "    <tr>\n",
       "      <th>...</th>\n",
       "      <td>...</td>\n",
       "      <td>...</td>\n",
       "      <td>...</td>\n",
       "      <td>...</td>\n",
       "      <td>...</td>\n",
       "      <td>...</td>\n",
       "      <td>...</td>\n",
       "      <td>...</td>\n",
       "      <td>...</td>\n",
       "      <td>...</td>\n",
       "      <td>...</td>\n",
       "      <td>...</td>\n",
       "      <td>...</td>\n",
       "      <td>...</td>\n",
       "      <td>...</td>\n",
       "      <td>...</td>\n",
       "      <td>...</td>\n",
       "      <td>...</td>\n",
       "      <td>...</td>\n",
       "      <td>...</td>\n",
       "      <td>...</td>\n",
       "    </tr>\n",
       "    <tr>\n",
       "      <th>285304</th>\n",
       "      <td>2020-09-03 09:32:49.476146</td>\n",
       "      <td>10830.955</td>\n",
       "      <td>-0.043333</td>\n",
       "      <td>-22.368282</td>\n",
       "      <td>0.461289</td>\n",
       "      <td>0.386811</td>\n",
       "      <td>-4.001545</td>\n",
       "      <td>0.539549</td>\n",
       "      <td>11237.055</td>\n",
       "      <td>-0.260199</td>\n",
       "      <td>...</td>\n",
       "      <td>1.429919</td>\n",
       "      <td>11320.495</td>\n",
       "      <td>-1.441880</td>\n",
       "      <td>-15.786901</td>\n",
       "      <td>1.426968</td>\n",
       "      <td>11320.225</td>\n",
       "      <td>0</td>\n",
       "      <td>0.469778</td>\n",
       "      <td>0.530222</td>\n",
       "      <td>1</td>\n",
       "    </tr>\n",
       "    <tr>\n",
       "      <th>285305</th>\n",
       "      <td>2020-09-03 09:33:00.791797</td>\n",
       "      <td>10830.955</td>\n",
       "      <td>-0.489244</td>\n",
       "      <td>-21.341815</td>\n",
       "      <td>0.470896</td>\n",
       "      <td>0.682944</td>\n",
       "      <td>-21.962345</td>\n",
       "      <td>0.562896</td>\n",
       "      <td>11233.745</td>\n",
       "      <td>0.386811</td>\n",
       "      <td>...</td>\n",
       "      <td>1.433453</td>\n",
       "      <td>11320.340</td>\n",
       "      <td>-1.570151</td>\n",
       "      <td>-16.401193</td>\n",
       "      <td>1.429919</td>\n",
       "      <td>11320.495</td>\n",
       "      <td>0</td>\n",
       "      <td>0.467412</td>\n",
       "      <td>0.532588</td>\n",
       "      <td>1</td>\n",
       "    </tr>\n",
       "    <tr>\n",
       "      <th>285306</th>\n",
       "      <td>2020-09-03 09:33:12.133621</td>\n",
       "      <td>10830.955</td>\n",
       "      <td>-0.921108</td>\n",
       "      <td>-22.820611</td>\n",
       "      <td>0.468831</td>\n",
       "      <td>-1.294354</td>\n",
       "      <td>-7.394954</td>\n",
       "      <td>0.573023</td>\n",
       "      <td>11233.745</td>\n",
       "      <td>0.682944</td>\n",
       "      <td>...</td>\n",
       "      <td>1.431562</td>\n",
       "      <td>11320.005</td>\n",
       "      <td>-22.431528</td>\n",
       "      <td>-24.005183</td>\n",
       "      <td>1.433453</td>\n",
       "      <td>11320.340</td>\n",
       "      <td>0</td>\n",
       "      <td>0.463614</td>\n",
       "      <td>0.536386</td>\n",
       "      <td>1</td>\n",
       "    </tr>\n",
       "    <tr>\n",
       "      <th>285307</th>\n",
       "      <td>2020-09-03 09:33:23.445957</td>\n",
       "      <td>10830.825</td>\n",
       "      <td>-1.213449</td>\n",
       "      <td>-34.496262</td>\n",
       "      <td>0.496368</td>\n",
       "      <td>0.075363</td>\n",
       "      <td>-25.412812</td>\n",
       "      <td>0.492631</td>\n",
       "      <td>11227.035</td>\n",
       "      <td>-1.294354</td>\n",
       "      <td>...</td>\n",
       "      <td>1.452187</td>\n",
       "      <td>11317.035</td>\n",
       "      <td>-5.331503</td>\n",
       "      <td>-29.535550</td>\n",
       "      <td>1.431562</td>\n",
       "      <td>11320.005</td>\n",
       "      <td>0</td>\n",
       "      <td>0.468563</td>\n",
       "      <td>0.531437</td>\n",
       "      <td>1</td>\n",
       "    </tr>\n",
       "    <tr>\n",
       "      <th>285308</th>\n",
       "      <td>2020-09-03 09:33:34.843553</td>\n",
       "      <td>10830.825</td>\n",
       "      <td>-0.658291</td>\n",
       "      <td>-29.497235</td>\n",
       "      <td>0.513292</td>\n",
       "      <td>1.025673</td>\n",
       "      <td>-33.224717</td>\n",
       "      <td>0.625547</td>\n",
       "      <td>11221.155</td>\n",
       "      <td>0.075363</td>\n",
       "      <td>...</td>\n",
       "      <td>1.451968</td>\n",
       "      <td>11317.065</td>\n",
       "      <td>41.016147</td>\n",
       "      <td>-38.257578</td>\n",
       "      <td>1.452187</td>\n",
       "      <td>11317.035</td>\n",
       "      <td>0</td>\n",
       "      <td>0.478424</td>\n",
       "      <td>0.521576</td>\n",
       "      <td>1</td>\n",
       "    </tr>\n",
       "  </tbody>\n",
       "</table>\n",
       "<p>209023 rows × 2009 columns</p>\n",
       "</div>"
      ],
      "text/plain": [
       "                             time   midprice       oir        voi       tfi  \\\n",
       "72798  2020-07-24 07:56:41.516815   9537.490  3.465263   1.134861  0.580011   \n",
       "72799  2020-07-24 07:56:53.097352   9540.295 -9.078244   0.272401  0.544738   \n",
       "72800  2020-07-24 07:57:04.460598   9540.295 -8.906102   0.275545  0.544732   \n",
       "72801  2020-07-24 07:57:15.855812   9540.295 -8.852874   0.177546  0.544744   \n",
       "72802  2020-07-24 07:57:27.213732   9540.295 -4.058831   0.180030  0.544744   \n",
       "...                           ...        ...       ...        ...       ...   \n",
       "285304 2020-09-03 09:32:49.476146  10830.955 -0.043333 -22.368282  0.461289   \n",
       "285305 2020-09-03 09:33:00.791797  10830.955 -0.489244 -21.341815  0.470896   \n",
       "285306 2020-09-03 09:33:12.133621  10830.955 -0.921108 -22.820611  0.468831   \n",
       "285307 2020-09-03 09:33:23.445957  10830.825 -1.213449 -34.496262  0.496368   \n",
       "285308 2020-09-03 09:33:34.843553  10830.825 -0.658291 -29.497235  0.513292   \n",
       "\n",
       "        t-oir-501   t-voi-501  t-tfi-501  t-midprice-501  t-oir-502  ...  \\\n",
       "72798    0.662033   86.074191   0.240416        9544.995   1.268136  ...   \n",
       "72799    0.906631  106.000273   0.224529        9545.725   0.662033  ...   \n",
       "72800    0.857119   92.169343   0.205053        9546.085   0.906631  ...   \n",
       "72801    1.235613   76.799881   0.169118        9550.815   0.857119  ...   \n",
       "72802    0.500081   93.587702   0.197177        9550.815   1.235613  ...   \n",
       "...           ...         ...        ...             ...        ...  ...   \n",
       "285304   0.386811   -4.001545   0.539549       11237.055  -0.260199  ...   \n",
       "285305   0.682944  -21.962345   0.562896       11233.745   0.386811  ...   \n",
       "285306  -1.294354   -7.394954   0.573023       11233.745   0.682944  ...   \n",
       "285307   0.075363  -25.412812   0.492631       11227.035  -1.294354  ...   \n",
       "285308   1.025673  -33.224717   0.625547       11221.155   0.075363  ...   \n",
       "\n",
       "        t-tfi-999  t-midprice-999  t-oir-1000  t-voi-1000  t-tfi-1000  \\\n",
       "72798    0.490984        9499.785    1.118696  -32.397356    0.408895   \n",
       "72799    0.385222        9499.785    1.100954  -30.557809    0.490984   \n",
       "72800    0.348068        9499.875    1.167474  -29.833054    0.385222   \n",
       "72801    0.348108        9499.875    1.197133  -26.758507    0.348068   \n",
       "72802    0.281089        9502.775    1.462656  -14.226084    0.348108   \n",
       "...           ...             ...         ...         ...         ...   \n",
       "285304   1.429919       11320.495   -1.441880  -15.786901    1.426968   \n",
       "285305   1.433453       11320.340   -1.570151  -16.401193    1.429919   \n",
       "285306   1.431562       11320.005  -22.431528  -24.005183    1.433453   \n",
       "285307   1.452187       11317.035   -5.331503  -29.535550    1.431562   \n",
       "285308   1.451968       11317.065   41.016147  -38.257578    1.452187   \n",
       "\n",
       "        t-midprice-1000  target   probs 0   probs 1  prediction  \n",
       "72798          9499.785       0  0.460191  0.539809           1  \n",
       "72799          9499.785       0  0.463564  0.536436           1  \n",
       "72800          9499.785       0  0.469798  0.530202           1  \n",
       "72801          9499.875       0  0.477805  0.522195           1  \n",
       "72802          9499.875       0  0.481908  0.518092           1  \n",
       "...                 ...     ...       ...       ...         ...  \n",
       "285304        11320.225       0  0.469778  0.530222           1  \n",
       "285305        11320.495       0  0.467412  0.532588           1  \n",
       "285306        11320.340       0  0.463614  0.536386           1  \n",
       "285307        11320.005       0  0.468563  0.531437           1  \n",
       "285308        11317.035       0  0.478424  0.521576           1  \n",
       "\n",
       "[209023 rows x 2009 columns]"
      ]
     },
     "execution_count": 15,
     "metadata": {},
     "output_type": "execute_result"
    },
    {
     "data": {
      "application/javascript": [
       "\n",
       "            setTimeout(function() {\n",
       "                var nbb_cell_id = 15;\n",
       "                var nbb_unformatted_code = \"test_data = test_data.copy()\\ntest_data[\\\"probs 0\\\"] = model.predict_proba(\\n    test_data.drop(columns=[\\\"time\\\", \\\"midprice\\\", \\\"oir\\\", \\\"voi\\\", \\\"tfi\\\", \\\"target\\\"])\\n)[0:, 0:1]\\ntest_data[\\\"probs 1\\\"] = 1 - test_data[\\\"probs 0\\\"]\\ntest_data[\\\"prediction\\\"] = predictions\\n\\ntest_data\";\n",
       "                var nbb_formatted_code = \"test_data = test_data.copy()\\ntest_data[\\\"probs 0\\\"] = model.predict_proba(\\n    test_data.drop(columns=[\\\"time\\\", \\\"midprice\\\", \\\"oir\\\", \\\"voi\\\", \\\"tfi\\\", \\\"target\\\"])\\n)[0:, 0:1]\\ntest_data[\\\"probs 1\\\"] = 1 - test_data[\\\"probs 0\\\"]\\ntest_data[\\\"prediction\\\"] = predictions\\n\\ntest_data\";\n",
       "                var nbb_cells = Jupyter.notebook.get_cells();\n",
       "                for (var i = 0; i < nbb_cells.length; ++i) {\n",
       "                    if (nbb_cells[i].input_prompt_number == nbb_cell_id) {\n",
       "                        if (nbb_cells[i].get_text() == nbb_unformatted_code) {\n",
       "                             nbb_cells[i].set_text(nbb_formatted_code);\n",
       "                        }\n",
       "                        break;\n",
       "                    }\n",
       "                }\n",
       "            }, 500);\n",
       "            "
      ],
      "text/plain": [
       "<IPython.core.display.Javascript object>"
      ]
     },
     "metadata": {},
     "output_type": "display_data"
    }
   ],
   "source": [
    "test_data = test_data.copy()\n",
    "test_data[\"probs 0\"] = model.predict_proba(\n",
    "    test_data.drop(columns=[\"time\", \"midprice\", \"oir\", \"voi\", \"tfi\", \"target\"])\n",
    ")[0:, 0:1]\n",
    "test_data[\"probs 1\"] = 1 - test_data[\"probs 0\"]\n",
    "test_data[\"prediction\"] = predictions\n",
    "\n",
    "test_data"
   ]
  },
  {
   "cell_type": "code",
   "execution_count": 16,
   "metadata": {},
   "outputs": [
    {
     "data": {
      "text/html": [
       "<div>\n",
       "<style scoped>\n",
       "    .dataframe tbody tr th:only-of-type {\n",
       "        vertical-align: middle;\n",
       "    }\n",
       "\n",
       "    .dataframe tbody tr th {\n",
       "        vertical-align: top;\n",
       "    }\n",
       "\n",
       "    .dataframe thead th {\n",
       "        text-align: right;\n",
       "    }\n",
       "</style>\n",
       "<table border=\"1\" class=\"dataframe\">\n",
       "  <thead>\n",
       "    <tr style=\"text-align: right;\">\n",
       "      <th></th>\n",
       "      <th>time</th>\n",
       "      <th>midprice</th>\n",
       "      <th>t-oir-501</th>\n",
       "      <th>t-voi-501</th>\n",
       "      <th>t-tfi-501</th>\n",
       "      <th>t-midprice-501</th>\n",
       "      <th>t-oir-502</th>\n",
       "      <th>t-voi-502</th>\n",
       "      <th>t-tfi-502</th>\n",
       "      <th>t-midprice-502</th>\n",
       "      <th>...</th>\n",
       "      <th>t-tfi-999</th>\n",
       "      <th>t-midprice-999</th>\n",
       "      <th>t-oir-1000</th>\n",
       "      <th>t-voi-1000</th>\n",
       "      <th>t-tfi-1000</th>\n",
       "      <th>t-midprice-1000</th>\n",
       "      <th>target</th>\n",
       "      <th>probs 0</th>\n",
       "      <th>probs 1</th>\n",
       "      <th>prediction</th>\n",
       "    </tr>\n",
       "  </thead>\n",
       "  <tbody>\n",
       "    <tr>\n",
       "      <th>72798</th>\n",
       "      <td>2020-07-24 07:56:41.516815</td>\n",
       "      <td>9537.490</td>\n",
       "      <td>0.662033</td>\n",
       "      <td>86.074191</td>\n",
       "      <td>0.240416</td>\n",
       "      <td>9544.995</td>\n",
       "      <td>1.268136</td>\n",
       "      <td>91.206296</td>\n",
       "      <td>0.240392</td>\n",
       "      <td>9544.995</td>\n",
       "      <td>...</td>\n",
       "      <td>0.490984</td>\n",
       "      <td>9499.785</td>\n",
       "      <td>1.118696</td>\n",
       "      <td>-32.397356</td>\n",
       "      <td>0.408895</td>\n",
       "      <td>9499.785</td>\n",
       "      <td>0</td>\n",
       "      <td>0.460191</td>\n",
       "      <td>0.539809</td>\n",
       "      <td>1</td>\n",
       "    </tr>\n",
       "    <tr>\n",
       "      <th>72799</th>\n",
       "      <td>2020-07-24 07:56:53.097352</td>\n",
       "      <td>9540.295</td>\n",
       "      <td>0.906631</td>\n",
       "      <td>106.000273</td>\n",
       "      <td>0.224529</td>\n",
       "      <td>9545.725</td>\n",
       "      <td>0.662033</td>\n",
       "      <td>86.074191</td>\n",
       "      <td>0.240416</td>\n",
       "      <td>9544.995</td>\n",
       "      <td>...</td>\n",
       "      <td>0.385222</td>\n",
       "      <td>9499.785</td>\n",
       "      <td>1.100954</td>\n",
       "      <td>-30.557809</td>\n",
       "      <td>0.490984</td>\n",
       "      <td>9499.785</td>\n",
       "      <td>0</td>\n",
       "      <td>0.463564</td>\n",
       "      <td>0.536436</td>\n",
       "      <td>1</td>\n",
       "    </tr>\n",
       "    <tr>\n",
       "      <th>72800</th>\n",
       "      <td>2020-07-24 07:57:04.460598</td>\n",
       "      <td>9540.295</td>\n",
       "      <td>0.857119</td>\n",
       "      <td>92.169343</td>\n",
       "      <td>0.205053</td>\n",
       "      <td>9546.085</td>\n",
       "      <td>0.906631</td>\n",
       "      <td>106.000273</td>\n",
       "      <td>0.224529</td>\n",
       "      <td>9545.725</td>\n",
       "      <td>...</td>\n",
       "      <td>0.348068</td>\n",
       "      <td>9499.875</td>\n",
       "      <td>1.167474</td>\n",
       "      <td>-29.833054</td>\n",
       "      <td>0.385222</td>\n",
       "      <td>9499.785</td>\n",
       "      <td>0</td>\n",
       "      <td>0.469798</td>\n",
       "      <td>0.530202</td>\n",
       "      <td>1</td>\n",
       "    </tr>\n",
       "    <tr>\n",
       "      <th>72801</th>\n",
       "      <td>2020-07-24 07:57:15.855812</td>\n",
       "      <td>9540.295</td>\n",
       "      <td>1.235613</td>\n",
       "      <td>76.799881</td>\n",
       "      <td>0.169118</td>\n",
       "      <td>9550.815</td>\n",
       "      <td>0.857119</td>\n",
       "      <td>92.169343</td>\n",
       "      <td>0.205053</td>\n",
       "      <td>9546.085</td>\n",
       "      <td>...</td>\n",
       "      <td>0.348108</td>\n",
       "      <td>9499.875</td>\n",
       "      <td>1.197133</td>\n",
       "      <td>-26.758507</td>\n",
       "      <td>0.348068</td>\n",
       "      <td>9499.875</td>\n",
       "      <td>0</td>\n",
       "      <td>0.477805</td>\n",
       "      <td>0.522195</td>\n",
       "      <td>1</td>\n",
       "    </tr>\n",
       "    <tr>\n",
       "      <th>72802</th>\n",
       "      <td>2020-07-24 07:57:27.213732</td>\n",
       "      <td>9540.295</td>\n",
       "      <td>0.500081</td>\n",
       "      <td>93.587702</td>\n",
       "      <td>0.197177</td>\n",
       "      <td>9550.815</td>\n",
       "      <td>1.235613</td>\n",
       "      <td>76.799881</td>\n",
       "      <td>0.169118</td>\n",
       "      <td>9550.815</td>\n",
       "      <td>...</td>\n",
       "      <td>0.281089</td>\n",
       "      <td>9502.775</td>\n",
       "      <td>1.462656</td>\n",
       "      <td>-14.226084</td>\n",
       "      <td>0.348108</td>\n",
       "      <td>9499.875</td>\n",
       "      <td>0</td>\n",
       "      <td>0.481908</td>\n",
       "      <td>0.518092</td>\n",
       "      <td>1</td>\n",
       "    </tr>\n",
       "    <tr>\n",
       "      <th>...</th>\n",
       "      <td>...</td>\n",
       "      <td>...</td>\n",
       "      <td>...</td>\n",
       "      <td>...</td>\n",
       "      <td>...</td>\n",
       "      <td>...</td>\n",
       "      <td>...</td>\n",
       "      <td>...</td>\n",
       "      <td>...</td>\n",
       "      <td>...</td>\n",
       "      <td>...</td>\n",
       "      <td>...</td>\n",
       "      <td>...</td>\n",
       "      <td>...</td>\n",
       "      <td>...</td>\n",
       "      <td>...</td>\n",
       "      <td>...</td>\n",
       "      <td>...</td>\n",
       "      <td>...</td>\n",
       "      <td>...</td>\n",
       "      <td>...</td>\n",
       "    </tr>\n",
       "    <tr>\n",
       "      <th>285304</th>\n",
       "      <td>2020-09-03 09:32:49.476146</td>\n",
       "      <td>10830.955</td>\n",
       "      <td>0.386811</td>\n",
       "      <td>-4.001545</td>\n",
       "      <td>0.539549</td>\n",
       "      <td>11237.055</td>\n",
       "      <td>-0.260199</td>\n",
       "      <td>4.340889</td>\n",
       "      <td>0.405184</td>\n",
       "      <td>11238.525</td>\n",
       "      <td>...</td>\n",
       "      <td>1.429919</td>\n",
       "      <td>11320.495</td>\n",
       "      <td>-1.441880</td>\n",
       "      <td>-15.786901</td>\n",
       "      <td>1.426968</td>\n",
       "      <td>11320.225</td>\n",
       "      <td>0</td>\n",
       "      <td>0.469778</td>\n",
       "      <td>0.530222</td>\n",
       "      <td>1</td>\n",
       "    </tr>\n",
       "    <tr>\n",
       "      <th>285305</th>\n",
       "      <td>2020-09-03 09:33:00.791797</td>\n",
       "      <td>10830.955</td>\n",
       "      <td>0.682944</td>\n",
       "      <td>-21.962345</td>\n",
       "      <td>0.562896</td>\n",
       "      <td>11233.745</td>\n",
       "      <td>0.386811</td>\n",
       "      <td>-4.001545</td>\n",
       "      <td>0.539549</td>\n",
       "      <td>11237.055</td>\n",
       "      <td>...</td>\n",
       "      <td>1.433453</td>\n",
       "      <td>11320.340</td>\n",
       "      <td>-1.570151</td>\n",
       "      <td>-16.401193</td>\n",
       "      <td>1.429919</td>\n",
       "      <td>11320.495</td>\n",
       "      <td>0</td>\n",
       "      <td>0.467412</td>\n",
       "      <td>0.532588</td>\n",
       "      <td>1</td>\n",
       "    </tr>\n",
       "    <tr>\n",
       "      <th>285306</th>\n",
       "      <td>2020-09-03 09:33:12.133621</td>\n",
       "      <td>10830.955</td>\n",
       "      <td>-1.294354</td>\n",
       "      <td>-7.394954</td>\n",
       "      <td>0.573023</td>\n",
       "      <td>11233.745</td>\n",
       "      <td>0.682944</td>\n",
       "      <td>-21.962345</td>\n",
       "      <td>0.562896</td>\n",
       "      <td>11233.745</td>\n",
       "      <td>...</td>\n",
       "      <td>1.431562</td>\n",
       "      <td>11320.005</td>\n",
       "      <td>-22.431528</td>\n",
       "      <td>-24.005183</td>\n",
       "      <td>1.433453</td>\n",
       "      <td>11320.340</td>\n",
       "      <td>0</td>\n",
       "      <td>0.463614</td>\n",
       "      <td>0.536386</td>\n",
       "      <td>1</td>\n",
       "    </tr>\n",
       "    <tr>\n",
       "      <th>285307</th>\n",
       "      <td>2020-09-03 09:33:23.445957</td>\n",
       "      <td>10830.825</td>\n",
       "      <td>0.075363</td>\n",
       "      <td>-25.412812</td>\n",
       "      <td>0.492631</td>\n",
       "      <td>11227.035</td>\n",
       "      <td>-1.294354</td>\n",
       "      <td>-7.394954</td>\n",
       "      <td>0.573023</td>\n",
       "      <td>11233.745</td>\n",
       "      <td>...</td>\n",
       "      <td>1.452187</td>\n",
       "      <td>11317.035</td>\n",
       "      <td>-5.331503</td>\n",
       "      <td>-29.535550</td>\n",
       "      <td>1.431562</td>\n",
       "      <td>11320.005</td>\n",
       "      <td>0</td>\n",
       "      <td>0.468563</td>\n",
       "      <td>0.531437</td>\n",
       "      <td>1</td>\n",
       "    </tr>\n",
       "    <tr>\n",
       "      <th>285308</th>\n",
       "      <td>2020-09-03 09:33:34.843553</td>\n",
       "      <td>10830.825</td>\n",
       "      <td>1.025673</td>\n",
       "      <td>-33.224717</td>\n",
       "      <td>0.625547</td>\n",
       "      <td>11221.155</td>\n",
       "      <td>0.075363</td>\n",
       "      <td>-25.412812</td>\n",
       "      <td>0.492631</td>\n",
       "      <td>11227.035</td>\n",
       "      <td>...</td>\n",
       "      <td>1.451968</td>\n",
       "      <td>11317.065</td>\n",
       "      <td>41.016147</td>\n",
       "      <td>-38.257578</td>\n",
       "      <td>1.452187</td>\n",
       "      <td>11317.035</td>\n",
       "      <td>0</td>\n",
       "      <td>0.478424</td>\n",
       "      <td>0.521576</td>\n",
       "      <td>1</td>\n",
       "    </tr>\n",
       "  </tbody>\n",
       "</table>\n",
       "<p>209023 rows × 2006 columns</p>\n",
       "</div>"
      ],
      "text/plain": [
       "                             time   midprice  t-oir-501   t-voi-501  \\\n",
       "72798  2020-07-24 07:56:41.516815   9537.490   0.662033   86.074191   \n",
       "72799  2020-07-24 07:56:53.097352   9540.295   0.906631  106.000273   \n",
       "72800  2020-07-24 07:57:04.460598   9540.295   0.857119   92.169343   \n",
       "72801  2020-07-24 07:57:15.855812   9540.295   1.235613   76.799881   \n",
       "72802  2020-07-24 07:57:27.213732   9540.295   0.500081   93.587702   \n",
       "...                           ...        ...        ...         ...   \n",
       "285304 2020-09-03 09:32:49.476146  10830.955   0.386811   -4.001545   \n",
       "285305 2020-09-03 09:33:00.791797  10830.955   0.682944  -21.962345   \n",
       "285306 2020-09-03 09:33:12.133621  10830.955  -1.294354   -7.394954   \n",
       "285307 2020-09-03 09:33:23.445957  10830.825   0.075363  -25.412812   \n",
       "285308 2020-09-03 09:33:34.843553  10830.825   1.025673  -33.224717   \n",
       "\n",
       "        t-tfi-501  t-midprice-501  t-oir-502   t-voi-502  t-tfi-502  \\\n",
       "72798    0.240416        9544.995   1.268136   91.206296   0.240392   \n",
       "72799    0.224529        9545.725   0.662033   86.074191   0.240416   \n",
       "72800    0.205053        9546.085   0.906631  106.000273   0.224529   \n",
       "72801    0.169118        9550.815   0.857119   92.169343   0.205053   \n",
       "72802    0.197177        9550.815   1.235613   76.799881   0.169118   \n",
       "...           ...             ...        ...         ...        ...   \n",
       "285304   0.539549       11237.055  -0.260199    4.340889   0.405184   \n",
       "285305   0.562896       11233.745   0.386811   -4.001545   0.539549   \n",
       "285306   0.573023       11233.745   0.682944  -21.962345   0.562896   \n",
       "285307   0.492631       11227.035  -1.294354   -7.394954   0.573023   \n",
       "285308   0.625547       11221.155   0.075363  -25.412812   0.492631   \n",
       "\n",
       "        t-midprice-502  ...  t-tfi-999  t-midprice-999  t-oir-1000  \\\n",
       "72798         9544.995  ...   0.490984        9499.785    1.118696   \n",
       "72799         9544.995  ...   0.385222        9499.785    1.100954   \n",
       "72800         9545.725  ...   0.348068        9499.875    1.167474   \n",
       "72801         9546.085  ...   0.348108        9499.875    1.197133   \n",
       "72802         9550.815  ...   0.281089        9502.775    1.462656   \n",
       "...                ...  ...        ...             ...         ...   \n",
       "285304       11238.525  ...   1.429919       11320.495   -1.441880   \n",
       "285305       11237.055  ...   1.433453       11320.340   -1.570151   \n",
       "285306       11233.745  ...   1.431562       11320.005  -22.431528   \n",
       "285307       11233.745  ...   1.452187       11317.035   -5.331503   \n",
       "285308       11227.035  ...   1.451968       11317.065   41.016147   \n",
       "\n",
       "        t-voi-1000  t-tfi-1000  t-midprice-1000  target   probs 0   probs 1  \\\n",
       "72798   -32.397356    0.408895         9499.785       0  0.460191  0.539809   \n",
       "72799   -30.557809    0.490984         9499.785       0  0.463564  0.536436   \n",
       "72800   -29.833054    0.385222         9499.785       0  0.469798  0.530202   \n",
       "72801   -26.758507    0.348068         9499.875       0  0.477805  0.522195   \n",
       "72802   -14.226084    0.348108         9499.875       0  0.481908  0.518092   \n",
       "...            ...         ...              ...     ...       ...       ...   \n",
       "285304  -15.786901    1.426968        11320.225       0  0.469778  0.530222   \n",
       "285305  -16.401193    1.429919        11320.495       0  0.467412  0.532588   \n",
       "285306  -24.005183    1.433453        11320.340       0  0.463614  0.536386   \n",
       "285307  -29.535550    1.431562        11320.005       0  0.468563  0.531437   \n",
       "285308  -38.257578    1.452187        11317.035       0  0.478424  0.521576   \n",
       "\n",
       "        prediction  \n",
       "72798            1  \n",
       "72799            1  \n",
       "72800            1  \n",
       "72801            1  \n",
       "72802            1  \n",
       "...            ...  \n",
       "285304           1  \n",
       "285305           1  \n",
       "285306           1  \n",
       "285307           1  \n",
       "285308           1  \n",
       "\n",
       "[209023 rows x 2006 columns]"
      ]
     },
     "execution_count": 16,
     "metadata": {},
     "output_type": "execute_result"
    },
    {
     "data": {
      "application/javascript": [
       "\n",
       "            setTimeout(function() {\n",
       "                var nbb_cell_id = 16;\n",
       "                var nbb_unformatted_code = \"test_data[\\\"target\\\"] = y_true\\ntest_data = test_data.drop(columns=[\\\"oir\\\", \\\"voi\\\", \\\"tfi\\\"])\\n\\ntest_data\";\n",
       "                var nbb_formatted_code = \"test_data[\\\"target\\\"] = y_true\\ntest_data = test_data.drop(columns=[\\\"oir\\\", \\\"voi\\\", \\\"tfi\\\"])\\n\\ntest_data\";\n",
       "                var nbb_cells = Jupyter.notebook.get_cells();\n",
       "                for (var i = 0; i < nbb_cells.length; ++i) {\n",
       "                    if (nbb_cells[i].input_prompt_number == nbb_cell_id) {\n",
       "                        if (nbb_cells[i].get_text() == nbb_unformatted_code) {\n",
       "                             nbb_cells[i].set_text(nbb_formatted_code);\n",
       "                        }\n",
       "                        break;\n",
       "                    }\n",
       "                }\n",
       "            }, 500);\n",
       "            "
      ],
      "text/plain": [
       "<IPython.core.display.Javascript object>"
      ]
     },
     "metadata": {},
     "output_type": "display_data"
    }
   ],
   "source": [
    "test_data[\"target\"] = y_true\n",
    "test_data = test_data.drop(columns=[\"oir\", \"voi\", \"tfi\"])\n",
    "\n",
    "test_data"
   ]
  },
  {
   "cell_type": "code",
   "execution_count": 17,
   "metadata": {},
   "outputs": [
    {
     "data": {
      "application/javascript": [
       "\n",
       "            setTimeout(function() {\n",
       "                var nbb_cell_id = 17;\n",
       "                var nbb_unformatted_code = \"test_data[\\\"trade time\\\"] = test_data[\\\"time\\\"].shift(501)\";\n",
       "                var nbb_formatted_code = \"test_data[\\\"trade time\\\"] = test_data[\\\"time\\\"].shift(501)\";\n",
       "                var nbb_cells = Jupyter.notebook.get_cells();\n",
       "                for (var i = 0; i < nbb_cells.length; ++i) {\n",
       "                    if (nbb_cells[i].input_prompt_number == nbb_cell_id) {\n",
       "                        if (nbb_cells[i].get_text() == nbb_unformatted_code) {\n",
       "                             nbb_cells[i].set_text(nbb_formatted_code);\n",
       "                        }\n",
       "                        break;\n",
       "                    }\n",
       "                }\n",
       "            }, 500);\n",
       "            "
      ],
      "text/plain": [
       "<IPython.core.display.Javascript object>"
      ]
     },
     "metadata": {},
     "output_type": "display_data"
    }
   ],
   "source": [
    "test_data[\"trade time\"] = test_data[\"time\"].shift(501)"
   ]
  },
  {
   "cell_type": "code",
   "execution_count": 27,
   "metadata": {},
   "outputs": [
    {
     "data": {
      "application/javascript": [
       "\n",
       "            setTimeout(function() {\n",
       "                var nbb_cell_id = 27;\n",
       "                var nbb_unformatted_code = \"test_data.to_csv(\\\"test_data_predictions.csv\\\", index=False)\";\n",
       "                var nbb_formatted_code = \"test_data.to_csv(\\\"test_data_predictions.csv\\\", index=False)\";\n",
       "                var nbb_cells = Jupyter.notebook.get_cells();\n",
       "                for (var i = 0; i < nbb_cells.length; ++i) {\n",
       "                    if (nbb_cells[i].input_prompt_number == nbb_cell_id) {\n",
       "                        if (nbb_cells[i].get_text() == nbb_unformatted_code) {\n",
       "                             nbb_cells[i].set_text(nbb_formatted_code);\n",
       "                        }\n",
       "                        break;\n",
       "                    }\n",
       "                }\n",
       "            }, 500);\n",
       "            "
      ],
      "text/plain": [
       "<IPython.core.display.Javascript object>"
      ]
     },
     "metadata": {},
     "output_type": "display_data"
    }
   ],
   "source": [
    "test_data.to_csv(\"test_data_predictions.csv\", index=False)"
   ]
  },
  {
   "cell_type": "code",
   "execution_count": 58,
   "metadata": {},
   "outputs": [
    {
     "data": {
      "application/javascript": [
       "\n",
       "            setTimeout(function() {\n",
       "                var nbb_cell_id = 58;\n",
       "                var nbb_unformatted_code = \"class MarketSim:\\n    def __init__(self, test_data, confidence, risk, reward, position_size, balance):\\n        self.test_data = test_data\\n        self.confidence = confidence\\n        self.risk = risk\\n        self.reward = reward\\n        self.position_size = position_size\\n        self.balance = balance\\n        self.starting_balance = balance\\n        self.get_predictions()\\n\\n    def get_predictions(self):\\n        confidence_df = self.test_data[\\n            (self.test_data[\\\"probs 0\\\"] > self.confidence)\\n            | (self.test_data[\\\"probs 1\\\"] > self.confidence)\\n        ]\\n        confidence_df[\\\"success\\\"] = \\\"no\\\"\\n        confidence_df.loc[\\n            confidence_df[\\\"prediction\\\"] == confidence_df[\\\"target\\\"], \\\"success\\\"\\n        ] = \\\"yes\\\"\\n\\n        live_test = confidence_df[\\n            [\\\"trade time\\\", \\\"t-midprice-501\\\", \\\"midprice\\\", \\\"prediction\\\", \\\"success\\\"]\\n        ]\\n        live_test = live_test.rename(\\n            columns={\\\"trade time\\\": \\\"time\\\", \\\"midprice\\\": \\\"future midprice\\\"}\\n        )\\n        live_test = live_test.reset_index(drop=True)\\n\\n        live_test = live_test.merge(\\n            data[[\\\"time\\\", \\\"midprice\\\"]].reset_index(drop=True), on=\\\"time\\\"\\n        )\\n        live_test = live_test.append(data[[\\\"time\\\", \\\"midprice\\\"]].reset_index(drop=True))\\n        live_test = live_test.set_index(\\\"time\\\")\\n        live_test = live_test.sort_index()\\n\\n        self.test_data = live_test\\n\\n    def test(self):\\n        position = \\\"\\\"\\n        trade_price = 0\\n        self.profit_list = []\\n        self.open_times = []\\n        self.close_times = []\\n        self.open_prices = []\\n        self.close_prices = []\\n        self.direction_list = []\\n\\n        print(self.test_data.info())\\n\\n        for index, row in self.test_data.iterrows():\\n            if row[\\\"prediction\\\"] == 0 and position == \\\"\\\":\\n                position = \\\"short\\\"\\n                trade_price = row[\\\"t-midprice-501\\\"]\\n                #                 + (row[\\\"t-midprice-501\\\"] * 0.0001)\\n                self.open_times.append(index)\\n                self.open_prices.append(trade_price)\\n                self.direction_list.append(position)\\n            elif row[\\\"prediction\\\"] == 1 and position == \\\"\\\":\\n                position = \\\"long\\\"\\n                trade_price = row[\\\"t-midprice-501\\\"]\\n                #                 - (row[\\\"t-midprice-501\\\"] * 0.0001)\\n                self.open_times.append(index)\\n                self.open_prices.append(trade_price)\\n                self.direction_list.append(position)\\n            if position == \\\"short\\\":\\n                if row[\\\"midprice\\\"] <= trade_price - (trade_price * self.reward):\\n                    close_price = row[\\\"midprice\\\"]\\n                    profit = (trade_price - close_price) * (\\n                        self.position_size / trade_price\\n                    )\\n                    profit += self.position_size * 0.00025\\n                    profit += self.position_size * 0.00025\\n                    profit = round(profit, 2)\\n                    self.profit_list.append(profit)\\n                    position = \\\"\\\"\\n                    self.close_times.append(index)\\n                    self.close_prices.append(row[\\\"midprice\\\"])\\n                    self.balance += profit\\n                elif row[\\\"midprice\\\"] >= trade_price + (trade_price * self.risk):\\n                    close_price = row[\\\"midprice\\\"]\\n                    profit = (trade_price - close_price) * (\\n                        self.position_size / trade_price\\n                    )\\n                    profit += self.position_size * 0.00025\\n                    profit += self.position_size * 0.00025\\n                    profit = round(profit, 2)\\n                    self.profit_list.append(profit)\\n                    position = \\\"\\\"\\n                    self.close_times.append(index)\\n                    self.close_prices.append(row[\\\"midprice\\\"])\\n                    self.balance += profit\\n            if position == \\\"long\\\":\\n                if row[\\\"midprice\\\"] >= trade_price + (trade_price * self.reward):\\n                    close_price = row[\\\"midprice\\\"]\\n                    profit = (\\n                        (trade_price - close_price)\\n                        * (self.position_size / trade_price)\\n                        * -1\\n                    )\\n                    profit += self.position_size * 0.00025\\n                    profit += self.position_size * 0.00025\\n                    profit = round(profit, 2)\\n                    self.profit_list.append(profit)\\n                    position = \\\"\\\"\\n                    self.close_times.append(index)\\n                    self.close_prices.append(row[\\\"midprice\\\"])\\n                    self.balance += profit\\n                elif row[\\\"midprice\\\"] <= trade_price - (trade_price * self.risk):\\n                    close_price = row[\\\"midprice\\\"]\\n                    profit = (\\n                        (trade_price - close_price)\\n                        * (self.position_size / trade_price)\\n                        * -1\\n                    )\\n                    profit += self.position_size * 0.00025\\n                    profit += self.position_size * 0.00025\\n                    profit = round(profit, 2)\\n                    self.profit_list.append(profit)\\n                    position = \\\"\\\"\\n                    self.close_times.append(index)\\n                    self.close_prices.append(row[\\\"midprice\\\"])\\n                    self.balance += profit\\n\\n            self.position_size = self.balance\\n\\n        self.equity_list = []\\n        for i in self.profit_list:\\n            self.equity_list.append(i + self.starting_balance)\\n            self.starting_balance = i + self.starting_balance\\n\\n    def get_trades(self):\\n        trades_df = pd.DataFrame(self.open_times, columns=[\\\"open time\\\"])\\n        trades_df[\\\"key\\\"] = trades_df.index\\n        trades_df[\\\"open price\\\"] = self.open_prices\\n\\n        try:\\n            trades_df[\\\"close time\\\"] = self.close_times\\n            trades_df[\\\"close price\\\"] = self.close_prices\\n            trades_df[\\\"equity\\\"] = self.equity_list\\n            trades_df[\\\"PnL\\\"] = self.profit_list\\n        except (ValueError):\\n            self.close_times.append(np.nan)\\n            self.close_prices.append(np.nan)\\n            self.profit_list.append(np.nan)\\n            self.equity_list.append(np.nan)\\n            trades_df[\\\"close time\\\"] = self.close_times\\n            trades_df[\\\"close price\\\"] = self.close_prices\\n            trades_df[\\\"equity\\\"] = self.equity_list\\n            trades_df[\\\"PnL\\\"] = self.profit_list\\n\\n        trades_df[\\\"position\\\"] = self.direction_list\\n\\n        trades_close = trades_df.drop(columns=[\\\"open time\\\", \\\"open price\\\"])\\n        trades_open = trades_df.drop(columns=[\\\"close time\\\", \\\"close price\\\"])\\n        trades_close[\\\"OC\\\"] = \\\"close\\\"\\n        trades_open[\\\"OC\\\"] = \\\"open\\\"\\n\\n        trades_open = trades_open.rename(\\n            columns={\\\"open time\\\": \\\"time\\\", \\\"open price\\\": \\\"price\\\"}\\n        )\\n        trades_close = trades_close.rename(\\n            columns={\\\"close time\\\": \\\"time\\\", \\\"close price\\\": \\\"price\\\"}\\n        )\\n\\n        trades_df = trades_open.append(trades_close)\\n        trades_df[\\\"key\\\"] = trades_df[\\\"key\\\"].astype(str)\\n\\n        self.trades_df = trades_df\\n\\n        return trades_df\\n\\n    def display_trades(self):\\n        fig = px.scatter(\\n            self.trades_df,\\n            x=\\\"time\\\",\\n            y=\\\"price\\\",\\n            color=\\\"key\\\",\\n            hover_data=[\\\"OC\\\", \\\"position\\\", \\\"PnL\\\"],\\n        )\\n        fig.show()\\n\\n    def display_equity(self):\\n        equity_df = self.trades_df.copy().drop_duplicates(subset=[\\\"key\\\"])\\n        fig = px.line(equity_df, x=\\\"time\\\", y=\\\"equity\\\")\\n        fig.show()\";\n",
       "                var nbb_formatted_code = \"class MarketSim:\\n    def __init__(self, test_data, confidence, risk, reward, position_size, balance):\\n        self.test_data = test_data\\n        self.confidence = confidence\\n        self.risk = risk\\n        self.reward = reward\\n        self.position_size = position_size\\n        self.balance = balance\\n        self.starting_balance = balance\\n        self.get_predictions()\\n\\n    def get_predictions(self):\\n        confidence_df = self.test_data[\\n            (self.test_data[\\\"probs 0\\\"] > self.confidence)\\n            | (self.test_data[\\\"probs 1\\\"] > self.confidence)\\n        ]\\n        confidence_df[\\\"success\\\"] = \\\"no\\\"\\n        confidence_df.loc[\\n            confidence_df[\\\"prediction\\\"] == confidence_df[\\\"target\\\"], \\\"success\\\"\\n        ] = \\\"yes\\\"\\n\\n        live_test = confidence_df[\\n            [\\\"trade time\\\", \\\"t-midprice-501\\\", \\\"midprice\\\", \\\"prediction\\\", \\\"success\\\"]\\n        ]\\n        live_test = live_test.rename(\\n            columns={\\\"trade time\\\": \\\"time\\\", \\\"midprice\\\": \\\"future midprice\\\"}\\n        )\\n        live_test = live_test.reset_index(drop=True)\\n\\n        live_test = live_test.merge(\\n            data[[\\\"time\\\", \\\"midprice\\\"]].reset_index(drop=True), on=\\\"time\\\"\\n        )\\n        live_test = live_test.append(data[[\\\"time\\\", \\\"midprice\\\"]].reset_index(drop=True))\\n        live_test = live_test.set_index(\\\"time\\\")\\n        live_test = live_test.sort_index()\\n\\n        self.test_data = live_test\\n\\n    def test(self):\\n        position = \\\"\\\"\\n        trade_price = 0\\n        self.profit_list = []\\n        self.open_times = []\\n        self.close_times = []\\n        self.open_prices = []\\n        self.close_prices = []\\n        self.direction_list = []\\n\\n        print(self.test_data.info())\\n\\n        for index, row in self.test_data.iterrows():\\n            if row[\\\"prediction\\\"] == 0 and position == \\\"\\\":\\n                position = \\\"short\\\"\\n                trade_price = row[\\\"t-midprice-501\\\"]\\n                #                 + (row[\\\"t-midprice-501\\\"] * 0.0001)\\n                self.open_times.append(index)\\n                self.open_prices.append(trade_price)\\n                self.direction_list.append(position)\\n            elif row[\\\"prediction\\\"] == 1 and position == \\\"\\\":\\n                position = \\\"long\\\"\\n                trade_price = row[\\\"t-midprice-501\\\"]\\n                #                 - (row[\\\"t-midprice-501\\\"] * 0.0001)\\n                self.open_times.append(index)\\n                self.open_prices.append(trade_price)\\n                self.direction_list.append(position)\\n            if position == \\\"short\\\":\\n                if row[\\\"midprice\\\"] <= trade_price - (trade_price * self.reward):\\n                    close_price = row[\\\"midprice\\\"]\\n                    profit = (trade_price - close_price) * (\\n                        self.position_size / trade_price\\n                    )\\n                    profit += self.position_size * 0.00025\\n                    profit += self.position_size * 0.00025\\n                    profit = round(profit, 2)\\n                    self.profit_list.append(profit)\\n                    position = \\\"\\\"\\n                    self.close_times.append(index)\\n                    self.close_prices.append(row[\\\"midprice\\\"])\\n                    self.balance += profit\\n                elif row[\\\"midprice\\\"] >= trade_price + (trade_price * self.risk):\\n                    close_price = row[\\\"midprice\\\"]\\n                    profit = (trade_price - close_price) * (\\n                        self.position_size / trade_price\\n                    )\\n                    profit += self.position_size * 0.00025\\n                    profit += self.position_size * 0.00025\\n                    profit = round(profit, 2)\\n                    self.profit_list.append(profit)\\n                    position = \\\"\\\"\\n                    self.close_times.append(index)\\n                    self.close_prices.append(row[\\\"midprice\\\"])\\n                    self.balance += profit\\n            if position == \\\"long\\\":\\n                if row[\\\"midprice\\\"] >= trade_price + (trade_price * self.reward):\\n                    close_price = row[\\\"midprice\\\"]\\n                    profit = (\\n                        (trade_price - close_price)\\n                        * (self.position_size / trade_price)\\n                        * -1\\n                    )\\n                    profit += self.position_size * 0.00025\\n                    profit += self.position_size * 0.00025\\n                    profit = round(profit, 2)\\n                    self.profit_list.append(profit)\\n                    position = \\\"\\\"\\n                    self.close_times.append(index)\\n                    self.close_prices.append(row[\\\"midprice\\\"])\\n                    self.balance += profit\\n                elif row[\\\"midprice\\\"] <= trade_price - (trade_price * self.risk):\\n                    close_price = row[\\\"midprice\\\"]\\n                    profit = (\\n                        (trade_price - close_price)\\n                        * (self.position_size / trade_price)\\n                        * -1\\n                    )\\n                    profit += self.position_size * 0.00025\\n                    profit += self.position_size * 0.00025\\n                    profit = round(profit, 2)\\n                    self.profit_list.append(profit)\\n                    position = \\\"\\\"\\n                    self.close_times.append(index)\\n                    self.close_prices.append(row[\\\"midprice\\\"])\\n                    self.balance += profit\\n\\n            self.position_size = self.balance\\n\\n        self.equity_list = []\\n        for i in self.profit_list:\\n            self.equity_list.append(i + self.starting_balance)\\n            self.starting_balance = i + self.starting_balance\\n\\n    def get_trades(self):\\n        trades_df = pd.DataFrame(self.open_times, columns=[\\\"open time\\\"])\\n        trades_df[\\\"key\\\"] = trades_df.index\\n        trades_df[\\\"open price\\\"] = self.open_prices\\n\\n        try:\\n            trades_df[\\\"close time\\\"] = self.close_times\\n            trades_df[\\\"close price\\\"] = self.close_prices\\n            trades_df[\\\"equity\\\"] = self.equity_list\\n            trades_df[\\\"PnL\\\"] = self.profit_list\\n        except (ValueError):\\n            self.close_times.append(np.nan)\\n            self.close_prices.append(np.nan)\\n            self.profit_list.append(np.nan)\\n            self.equity_list.append(np.nan)\\n            trades_df[\\\"close time\\\"] = self.close_times\\n            trades_df[\\\"close price\\\"] = self.close_prices\\n            trades_df[\\\"equity\\\"] = self.equity_list\\n            trades_df[\\\"PnL\\\"] = self.profit_list\\n\\n        trades_df[\\\"position\\\"] = self.direction_list\\n\\n        trades_close = trades_df.drop(columns=[\\\"open time\\\", \\\"open price\\\"])\\n        trades_open = trades_df.drop(columns=[\\\"close time\\\", \\\"close price\\\"])\\n        trades_close[\\\"OC\\\"] = \\\"close\\\"\\n        trades_open[\\\"OC\\\"] = \\\"open\\\"\\n\\n        trades_open = trades_open.rename(\\n            columns={\\\"open time\\\": \\\"time\\\", \\\"open price\\\": \\\"price\\\"}\\n        )\\n        trades_close = trades_close.rename(\\n            columns={\\\"close time\\\": \\\"time\\\", \\\"close price\\\": \\\"price\\\"}\\n        )\\n\\n        trades_df = trades_open.append(trades_close)\\n        trades_df[\\\"key\\\"] = trades_df[\\\"key\\\"].astype(str)\\n\\n        self.trades_df = trades_df\\n\\n        return trades_df\\n\\n    def display_trades(self):\\n        fig = px.scatter(\\n            self.trades_df,\\n            x=\\\"time\\\",\\n            y=\\\"price\\\",\\n            color=\\\"key\\\",\\n            hover_data=[\\\"OC\\\", \\\"position\\\", \\\"PnL\\\"],\\n        )\\n        fig.show()\\n\\n    def display_equity(self):\\n        equity_df = self.trades_df.copy().drop_duplicates(subset=[\\\"key\\\"])\\n        fig = px.line(equity_df, x=\\\"time\\\", y=\\\"equity\\\")\\n        fig.show()\";\n",
       "                var nbb_cells = Jupyter.notebook.get_cells();\n",
       "                for (var i = 0; i < nbb_cells.length; ++i) {\n",
       "                    if (nbb_cells[i].input_prompt_number == nbb_cell_id) {\n",
       "                        if (nbb_cells[i].get_text() == nbb_unformatted_code) {\n",
       "                             nbb_cells[i].set_text(nbb_formatted_code);\n",
       "                        }\n",
       "                        break;\n",
       "                    }\n",
       "                }\n",
       "            }, 500);\n",
       "            "
      ],
      "text/plain": [
       "<IPython.core.display.Javascript object>"
      ]
     },
     "metadata": {},
     "output_type": "display_data"
    }
   ],
   "source": [
    "class MarketSim:\n",
    "    def __init__(self, test_data, confidence, risk, reward, position_size, balance):\n",
    "        self.test_data = test_data\n",
    "        self.confidence = confidence\n",
    "        self.risk = risk\n",
    "        self.reward = reward\n",
    "        self.position_size = position_size\n",
    "        self.balance = balance\n",
    "        self.starting_balance = balance\n",
    "        self.get_predictions()\n",
    "\n",
    "    def get_predictions(self):\n",
    "        confidence_df = self.test_data[\n",
    "            (self.test_data[\"probs 0\"] > self.confidence)\n",
    "            | (self.test_data[\"probs 1\"] > self.confidence)\n",
    "        ]\n",
    "        confidence_df[\"success\"] = \"no\"\n",
    "        confidence_df.loc[\n",
    "            confidence_df[\"prediction\"] == confidence_df[\"target\"], \"success\"\n",
    "        ] = \"yes\"\n",
    "\n",
    "        live_test = confidence_df[\n",
    "            [\"trade time\", \"t-midprice-501\", \"midprice\", \"prediction\", \"success\"]\n",
    "        ]\n",
    "        live_test = live_test.rename(\n",
    "            columns={\"trade time\": \"time\", \"midprice\": \"future midprice\"}\n",
    "        )\n",
    "        live_test = live_test.reset_index(drop=True)\n",
    "\n",
    "        live_test = live_test.merge(\n",
    "            data[[\"time\", \"midprice\"]].reset_index(drop=True), on=\"time\"\n",
    "        )\n",
    "        live_test = live_test.append(data[[\"time\", \"midprice\"]].reset_index(drop=True))\n",
    "        live_test = live_test.set_index(\"time\")\n",
    "        live_test = live_test.sort_index()\n",
    "\n",
    "        self.test_data = live_test\n",
    "\n",
    "    def test(self):\n",
    "        position = \"\"\n",
    "        trade_price = 0\n",
    "        self.profit_list = []\n",
    "        self.open_times = []\n",
    "        self.close_times = []\n",
    "        self.open_prices = []\n",
    "        self.close_prices = []\n",
    "        self.direction_list = []\n",
    "\n",
    "        print(self.test_data.info())\n",
    "\n",
    "        for index, row in self.test_data.iterrows():\n",
    "            if row[\"prediction\"] == 0 and position == \"\":\n",
    "                position = \"short\"\n",
    "                trade_price = row[\"t-midprice-501\"]\n",
    "                #                 + (row[\"t-midprice-501\"] * 0.0001)\n",
    "                self.open_times.append(index)\n",
    "                self.open_prices.append(trade_price)\n",
    "                self.direction_list.append(position)\n",
    "            elif row[\"prediction\"] == 1 and position == \"\":\n",
    "                position = \"long\"\n",
    "                trade_price = row[\"t-midprice-501\"]\n",
    "                #                 - (row[\"t-midprice-501\"] * 0.0001)\n",
    "                self.open_times.append(index)\n",
    "                self.open_prices.append(trade_price)\n",
    "                self.direction_list.append(position)\n",
    "            if position == \"short\":\n",
    "                if row[\"midprice\"] <= trade_price - (trade_price * self.reward):\n",
    "                    close_price = row[\"midprice\"]\n",
    "                    profit = (trade_price - close_price) * (\n",
    "                        self.position_size / trade_price\n",
    "                    )\n",
    "                    profit += self.position_size * 0.00025\n",
    "                    profit += self.position_size * 0.00025\n",
    "                    profit = round(profit, 2)\n",
    "                    self.profit_list.append(profit)\n",
    "                    position = \"\"\n",
    "                    self.close_times.append(index)\n",
    "                    self.close_prices.append(row[\"midprice\"])\n",
    "                    self.balance += profit\n",
    "                elif row[\"midprice\"] >= trade_price + (trade_price * self.risk):\n",
    "                    close_price = row[\"midprice\"]\n",
    "                    profit = (trade_price - close_price) * (\n",
    "                        self.position_size / trade_price\n",
    "                    )\n",
    "                    profit += self.position_size * 0.00025\n",
    "                    profit += self.position_size * 0.00025\n",
    "                    profit = round(profit, 2)\n",
    "                    self.profit_list.append(profit)\n",
    "                    position = \"\"\n",
    "                    self.close_times.append(index)\n",
    "                    self.close_prices.append(row[\"midprice\"])\n",
    "                    self.balance += profit\n",
    "            if position == \"long\":\n",
    "                if row[\"midprice\"] >= trade_price + (trade_price * self.reward):\n",
    "                    close_price = row[\"midprice\"]\n",
    "                    profit = (\n",
    "                        (trade_price - close_price)\n",
    "                        * (self.position_size / trade_price)\n",
    "                        * -1\n",
    "                    )\n",
    "                    profit += self.position_size * 0.00025\n",
    "                    profit += self.position_size * 0.00025\n",
    "                    profit = round(profit, 2)\n",
    "                    self.profit_list.append(profit)\n",
    "                    position = \"\"\n",
    "                    self.close_times.append(index)\n",
    "                    self.close_prices.append(row[\"midprice\"])\n",
    "                    self.balance += profit\n",
    "                elif row[\"midprice\"] <= trade_price - (trade_price * self.risk):\n",
    "                    close_price = row[\"midprice\"]\n",
    "                    profit = (\n",
    "                        (trade_price - close_price)\n",
    "                        * (self.position_size / trade_price)\n",
    "                        * -1\n",
    "                    )\n",
    "                    profit += self.position_size * 0.00025\n",
    "                    profit += self.position_size * 0.00025\n",
    "                    profit = round(profit, 2)\n",
    "                    self.profit_list.append(profit)\n",
    "                    position = \"\"\n",
    "                    self.close_times.append(index)\n",
    "                    self.close_prices.append(row[\"midprice\"])\n",
    "                    self.balance += profit\n",
    "\n",
    "            self.position_size = self.balance\n",
    "\n",
    "        self.equity_list = []\n",
    "        for i in self.profit_list:\n",
    "            self.equity_list.append(i + self.starting_balance)\n",
    "            self.starting_balance = i + self.starting_balance\n",
    "\n",
    "    def get_trades(self):\n",
    "        trades_df = pd.DataFrame(self.open_times, columns=[\"open time\"])\n",
    "        trades_df[\"key\"] = trades_df.index\n",
    "        trades_df[\"open price\"] = self.open_prices\n",
    "\n",
    "        try:\n",
    "            trades_df[\"close time\"] = self.close_times\n",
    "            trades_df[\"close price\"] = self.close_prices\n",
    "            trades_df[\"equity\"] = self.equity_list\n",
    "            trades_df[\"PnL\"] = self.profit_list\n",
    "        except (ValueError):\n",
    "            self.close_times.append(np.nan)\n",
    "            self.close_prices.append(np.nan)\n",
    "            self.profit_list.append(np.nan)\n",
    "            self.equity_list.append(np.nan)\n",
    "            trades_df[\"close time\"] = self.close_times\n",
    "            trades_df[\"close price\"] = self.close_prices\n",
    "            trades_df[\"equity\"] = self.equity_list\n",
    "            trades_df[\"PnL\"] = self.profit_list\n",
    "\n",
    "        trades_df[\"position\"] = self.direction_list\n",
    "\n",
    "        trades_close = trades_df.drop(columns=[\"open time\", \"open price\"])\n",
    "        trades_open = trades_df.drop(columns=[\"close time\", \"close price\"])\n",
    "        trades_close[\"OC\"] = \"close\"\n",
    "        trades_open[\"OC\"] = \"open\"\n",
    "\n",
    "        trades_open = trades_open.rename(\n",
    "            columns={\"open time\": \"time\", \"open price\": \"price\"}\n",
    "        )\n",
    "        trades_close = trades_close.rename(\n",
    "            columns={\"close time\": \"time\", \"close price\": \"price\"}\n",
    "        )\n",
    "\n",
    "        trades_df = trades_open.append(trades_close)\n",
    "        trades_df[\"key\"] = trades_df[\"key\"].astype(str)\n",
    "\n",
    "        self.trades_df = trades_df\n",
    "\n",
    "        return trades_df\n",
    "\n",
    "    def display_trades(self):\n",
    "        fig = px.scatter(\n",
    "            self.trades_df,\n",
    "            x=\"time\",\n",
    "            y=\"price\",\n",
    "            color=\"key\",\n",
    "            hover_data=[\"OC\", \"position\", \"PnL\"],\n",
    "        )\n",
    "        fig.show()\n",
    "\n",
    "    def display_equity(self):\n",
    "        equity_df = self.trades_df.copy().drop_duplicates(subset=[\"key\"])\n",
    "        fig = px.line(equity_df, x=\"time\", y=\"equity\")\n",
    "        fig.show()"
   ]
  },
  {
   "cell_type": "code",
   "execution_count": 28,
   "metadata": {},
   "outputs": [
    {
     "data": {
      "application/javascript": [
       "\n",
       "            setTimeout(function() {\n",
       "                var nbb_cell_id = 28;\n",
       "                var nbb_unformatted_code = \"test_data = pd.read_csv(\\\"test_data_predictions.csv\\\")\";\n",
       "                var nbb_formatted_code = \"test_data = pd.read_csv(\\\"test_data_predictions.csv\\\")\";\n",
       "                var nbb_cells = Jupyter.notebook.get_cells();\n",
       "                for (var i = 0; i < nbb_cells.length; ++i) {\n",
       "                    if (nbb_cells[i].input_prompt_number == nbb_cell_id) {\n",
       "                        if (nbb_cells[i].get_text() == nbb_unformatted_code) {\n",
       "                             nbb_cells[i].set_text(nbb_formatted_code);\n",
       "                        }\n",
       "                        break;\n",
       "                    }\n",
       "                }\n",
       "            }, 500);\n",
       "            "
      ],
      "text/plain": [
       "<IPython.core.display.Javascript object>"
      ]
     },
     "metadata": {},
     "output_type": "display_data"
    }
   ],
   "source": [
    "test_data = pd.read_csv(\"test_data_predictions.csv\")"
   ]
  },
  {
   "cell_type": "code",
   "execution_count": 31,
   "metadata": {},
   "outputs": [
    {
     "data": {
      "text/html": [
       "<div>\n",
       "<style scoped>\n",
       "    .dataframe tbody tr th:only-of-type {\n",
       "        vertical-align: middle;\n",
       "    }\n",
       "\n",
       "    .dataframe tbody tr th {\n",
       "        vertical-align: top;\n",
       "    }\n",
       "\n",
       "    .dataframe thead th {\n",
       "        text-align: right;\n",
       "    }\n",
       "</style>\n",
       "<table border=\"1\" class=\"dataframe\">\n",
       "  <thead>\n",
       "    <tr style=\"text-align: right;\">\n",
       "      <th></th>\n",
       "      <th>time</th>\n",
       "      <th>midprice</th>\n",
       "      <th>t-oir-501</th>\n",
       "      <th>t-voi-501</th>\n",
       "      <th>t-tfi-501</th>\n",
       "      <th>t-midprice-501</th>\n",
       "      <th>t-oir-502</th>\n",
       "      <th>t-voi-502</th>\n",
       "      <th>t-tfi-502</th>\n",
       "      <th>t-midprice-502</th>\n",
       "      <th>...</th>\n",
       "      <th>t-midprice-999</th>\n",
       "      <th>t-oir-1000</th>\n",
       "      <th>t-voi-1000</th>\n",
       "      <th>t-tfi-1000</th>\n",
       "      <th>t-midprice-1000</th>\n",
       "      <th>target</th>\n",
       "      <th>probs 0</th>\n",
       "      <th>probs 1</th>\n",
       "      <th>prediction</th>\n",
       "      <th>trade time</th>\n",
       "    </tr>\n",
       "  </thead>\n",
       "  <tbody>\n",
       "    <tr>\n",
       "      <th>501</th>\n",
       "      <td>2020-07-24 13:23:04.294420</td>\n",
       "      <td>9553.225</td>\n",
       "      <td>1.249740</td>\n",
       "      <td>-22.935431</td>\n",
       "      <td>0.345302</td>\n",
       "      <td>9571.100</td>\n",
       "      <td>0.618170</td>\n",
       "      <td>-9.812822</td>\n",
       "      <td>0.255617</td>\n",
       "      <td>9571.565</td>\n",
       "      <td>...</td>\n",
       "      <td>9520.005</td>\n",
       "      <td>0.836111</td>\n",
       "      <td>-40.515293</td>\n",
       "      <td>0.886006</td>\n",
       "      <td>9520.005</td>\n",
       "      <td>0</td>\n",
       "      <td>0.509787</td>\n",
       "      <td>0.490213</td>\n",
       "      <td>0</td>\n",
       "      <td>2020-07-24 07:56:41.516815</td>\n",
       "    </tr>\n",
       "    <tr>\n",
       "      <th>502</th>\n",
       "      <td>2020-07-24 13:23:15.568196</td>\n",
       "      <td>9553.895</td>\n",
       "      <td>-1.363672</td>\n",
       "      <td>-64.326887</td>\n",
       "      <td>0.355308</td>\n",
       "      <td>9570.005</td>\n",
       "      <td>1.249740</td>\n",
       "      <td>-22.935431</td>\n",
       "      <td>0.345302</td>\n",
       "      <td>9571.100</td>\n",
       "      <td>...</td>\n",
       "      <td>9520.005</td>\n",
       "      <td>0.322191</td>\n",
       "      <td>-48.169109</td>\n",
       "      <td>0.902386</td>\n",
       "      <td>9520.005</td>\n",
       "      <td>0</td>\n",
       "      <td>0.517400</td>\n",
       "      <td>0.482600</td>\n",
       "      <td>0</td>\n",
       "      <td>2020-07-24 07:56:53.097352</td>\n",
       "    </tr>\n",
       "    <tr>\n",
       "      <th>503</th>\n",
       "      <td>2020-07-24 13:23:26.768205</td>\n",
       "      <td>9554.285</td>\n",
       "      <td>4.017513</td>\n",
       "      <td>-42.612788</td>\n",
       "      <td>0.341127</td>\n",
       "      <td>9568.595</td>\n",
       "      <td>-1.363672</td>\n",
       "      <td>-64.326887</td>\n",
       "      <td>0.355308</td>\n",
       "      <td>9570.005</td>\n",
       "      <td>...</td>\n",
       "      <td>9520.005</td>\n",
       "      <td>0.079639</td>\n",
       "      <td>-50.363275</td>\n",
       "      <td>0.901905</td>\n",
       "      <td>9520.005</td>\n",
       "      <td>0</td>\n",
       "      <td>0.521668</td>\n",
       "      <td>0.478332</td>\n",
       "      <td>0</td>\n",
       "      <td>2020-07-24 07:57:04.460598</td>\n",
       "    </tr>\n",
       "    <tr>\n",
       "      <th>504</th>\n",
       "      <td>2020-07-24 13:23:38.163816</td>\n",
       "      <td>9554.285</td>\n",
       "      <td>1.185701</td>\n",
       "      <td>-41.038011</td>\n",
       "      <td>0.353265</td>\n",
       "      <td>9568.595</td>\n",
       "      <td>4.017513</td>\n",
       "      <td>-42.612788</td>\n",
       "      <td>0.341127</td>\n",
       "      <td>9568.595</td>\n",
       "      <td>...</td>\n",
       "      <td>9520.005</td>\n",
       "      <td>0.954171</td>\n",
       "      <td>-54.771372</td>\n",
       "      <td>0.821617</td>\n",
       "      <td>9520.005</td>\n",
       "      <td>0</td>\n",
       "      <td>0.529201</td>\n",
       "      <td>0.470799</td>\n",
       "      <td>0</td>\n",
       "      <td>2020-07-24 07:57:15.855812</td>\n",
       "    </tr>\n",
       "    <tr>\n",
       "      <th>505</th>\n",
       "      <td>2020-07-24 13:23:49.464790</td>\n",
       "      <td>9554.285</td>\n",
       "      <td>1.759679</td>\n",
       "      <td>-39.352717</td>\n",
       "      <td>0.258099</td>\n",
       "      <td>9568.595</td>\n",
       "      <td>1.185701</td>\n",
       "      <td>-41.038011</td>\n",
       "      <td>0.353265</td>\n",
       "      <td>9568.595</td>\n",
       "      <td>...</td>\n",
       "      <td>9520.005</td>\n",
       "      <td>0.965269</td>\n",
       "      <td>-53.571857</td>\n",
       "      <td>0.900828</td>\n",
       "      <td>9520.005</td>\n",
       "      <td>0</td>\n",
       "      <td>0.530649</td>\n",
       "      <td>0.469351</td>\n",
       "      <td>0</td>\n",
       "      <td>2020-07-24 07:57:27.213732</td>\n",
       "    </tr>\n",
       "    <tr>\n",
       "      <th>...</th>\n",
       "      <td>...</td>\n",
       "      <td>...</td>\n",
       "      <td>...</td>\n",
       "      <td>...</td>\n",
       "      <td>...</td>\n",
       "      <td>...</td>\n",
       "      <td>...</td>\n",
       "      <td>...</td>\n",
       "      <td>...</td>\n",
       "      <td>...</td>\n",
       "      <td>...</td>\n",
       "      <td>...</td>\n",
       "      <td>...</td>\n",
       "      <td>...</td>\n",
       "      <td>...</td>\n",
       "      <td>...</td>\n",
       "      <td>...</td>\n",
       "      <td>...</td>\n",
       "      <td>...</td>\n",
       "      <td>...</td>\n",
       "      <td>...</td>\n",
       "    </tr>\n",
       "    <tr>\n",
       "      <th>209018</th>\n",
       "      <td>2020-09-03 09:32:49.476146</td>\n",
       "      <td>10830.955</td>\n",
       "      <td>0.386811</td>\n",
       "      <td>-4.001545</td>\n",
       "      <td>0.539549</td>\n",
       "      <td>11237.055</td>\n",
       "      <td>-0.260199</td>\n",
       "      <td>4.340889</td>\n",
       "      <td>0.405184</td>\n",
       "      <td>11238.525</td>\n",
       "      <td>...</td>\n",
       "      <td>11320.495</td>\n",
       "      <td>-1.441880</td>\n",
       "      <td>-15.786901</td>\n",
       "      <td>1.426968</td>\n",
       "      <td>11320.225</td>\n",
       "      <td>0</td>\n",
       "      <td>0.469778</td>\n",
       "      <td>0.530222</td>\n",
       "      <td>1</td>\n",
       "      <td>2020-09-03 07:56:39.068704</td>\n",
       "    </tr>\n",
       "    <tr>\n",
       "      <th>209019</th>\n",
       "      <td>2020-09-03 09:33:00.791797</td>\n",
       "      <td>10830.955</td>\n",
       "      <td>0.682944</td>\n",
       "      <td>-21.962345</td>\n",
       "      <td>0.562896</td>\n",
       "      <td>11233.745</td>\n",
       "      <td>0.386811</td>\n",
       "      <td>-4.001545</td>\n",
       "      <td>0.539549</td>\n",
       "      <td>11237.055</td>\n",
       "      <td>...</td>\n",
       "      <td>11320.340</td>\n",
       "      <td>-1.570151</td>\n",
       "      <td>-16.401193</td>\n",
       "      <td>1.429919</td>\n",
       "      <td>11320.495</td>\n",
       "      <td>0</td>\n",
       "      <td>0.467412</td>\n",
       "      <td>0.532588</td>\n",
       "      <td>1</td>\n",
       "      <td>2020-09-03 07:56:50.473710</td>\n",
       "    </tr>\n",
       "    <tr>\n",
       "      <th>209020</th>\n",
       "      <td>2020-09-03 09:33:12.133621</td>\n",
       "      <td>10830.955</td>\n",
       "      <td>-1.294354</td>\n",
       "      <td>-7.394954</td>\n",
       "      <td>0.573023</td>\n",
       "      <td>11233.745</td>\n",
       "      <td>0.682944</td>\n",
       "      <td>-21.962345</td>\n",
       "      <td>0.562896</td>\n",
       "      <td>11233.745</td>\n",
       "      <td>...</td>\n",
       "      <td>11320.005</td>\n",
       "      <td>-22.431528</td>\n",
       "      <td>-24.005183</td>\n",
       "      <td>1.433453</td>\n",
       "      <td>11320.340</td>\n",
       "      <td>0</td>\n",
       "      <td>0.463614</td>\n",
       "      <td>0.536386</td>\n",
       "      <td>1</td>\n",
       "      <td>2020-09-03 07:57:01.809474</td>\n",
       "    </tr>\n",
       "    <tr>\n",
       "      <th>209021</th>\n",
       "      <td>2020-09-03 09:33:23.445957</td>\n",
       "      <td>10830.825</td>\n",
       "      <td>0.075363</td>\n",
       "      <td>-25.412812</td>\n",
       "      <td>0.492631</td>\n",
       "      <td>11227.035</td>\n",
       "      <td>-1.294354</td>\n",
       "      <td>-7.394954</td>\n",
       "      <td>0.573023</td>\n",
       "      <td>11233.745</td>\n",
       "      <td>...</td>\n",
       "      <td>11317.035</td>\n",
       "      <td>-5.331503</td>\n",
       "      <td>-29.535550</td>\n",
       "      <td>1.431562</td>\n",
       "      <td>11320.005</td>\n",
       "      <td>0</td>\n",
       "      <td>0.468563</td>\n",
       "      <td>0.531437</td>\n",
       "      <td>1</td>\n",
       "      <td>2020-09-03 07:57:13.360853</td>\n",
       "    </tr>\n",
       "    <tr>\n",
       "      <th>209022</th>\n",
       "      <td>2020-09-03 09:33:34.843553</td>\n",
       "      <td>10830.825</td>\n",
       "      <td>1.025673</td>\n",
       "      <td>-33.224717</td>\n",
       "      <td>0.625547</td>\n",
       "      <td>11221.155</td>\n",
       "      <td>0.075363</td>\n",
       "      <td>-25.412812</td>\n",
       "      <td>0.492631</td>\n",
       "      <td>11227.035</td>\n",
       "      <td>...</td>\n",
       "      <td>11317.065</td>\n",
       "      <td>41.016147</td>\n",
       "      <td>-38.257578</td>\n",
       "      <td>1.452187</td>\n",
       "      <td>11317.035</td>\n",
       "      <td>0</td>\n",
       "      <td>0.478424</td>\n",
       "      <td>0.521576</td>\n",
       "      <td>1</td>\n",
       "      <td>2020-09-03 07:57:24.782248</td>\n",
       "    </tr>\n",
       "  </tbody>\n",
       "</table>\n",
       "<p>208522 rows × 2007 columns</p>\n",
       "</div>"
      ],
      "text/plain": [
       "                              time   midprice  t-oir-501  t-voi-501  \\\n",
       "501     2020-07-24 13:23:04.294420   9553.225   1.249740 -22.935431   \n",
       "502     2020-07-24 13:23:15.568196   9553.895  -1.363672 -64.326887   \n",
       "503     2020-07-24 13:23:26.768205   9554.285   4.017513 -42.612788   \n",
       "504     2020-07-24 13:23:38.163816   9554.285   1.185701 -41.038011   \n",
       "505     2020-07-24 13:23:49.464790   9554.285   1.759679 -39.352717   \n",
       "...                            ...        ...        ...        ...   \n",
       "209018  2020-09-03 09:32:49.476146  10830.955   0.386811  -4.001545   \n",
       "209019  2020-09-03 09:33:00.791797  10830.955   0.682944 -21.962345   \n",
       "209020  2020-09-03 09:33:12.133621  10830.955  -1.294354  -7.394954   \n",
       "209021  2020-09-03 09:33:23.445957  10830.825   0.075363 -25.412812   \n",
       "209022  2020-09-03 09:33:34.843553  10830.825   1.025673 -33.224717   \n",
       "\n",
       "        t-tfi-501  t-midprice-501  t-oir-502  t-voi-502  t-tfi-502  \\\n",
       "501      0.345302        9571.100   0.618170  -9.812822   0.255617   \n",
       "502      0.355308        9570.005   1.249740 -22.935431   0.345302   \n",
       "503      0.341127        9568.595  -1.363672 -64.326887   0.355308   \n",
       "504      0.353265        9568.595   4.017513 -42.612788   0.341127   \n",
       "505      0.258099        9568.595   1.185701 -41.038011   0.353265   \n",
       "...           ...             ...        ...        ...        ...   \n",
       "209018   0.539549       11237.055  -0.260199   4.340889   0.405184   \n",
       "209019   0.562896       11233.745   0.386811  -4.001545   0.539549   \n",
       "209020   0.573023       11233.745   0.682944 -21.962345   0.562896   \n",
       "209021   0.492631       11227.035  -1.294354  -7.394954   0.573023   \n",
       "209022   0.625547       11221.155   0.075363 -25.412812   0.492631   \n",
       "\n",
       "        t-midprice-502  ...  t-midprice-999  t-oir-1000  t-voi-1000  \\\n",
       "501           9571.565  ...        9520.005    0.836111  -40.515293   \n",
       "502           9571.100  ...        9520.005    0.322191  -48.169109   \n",
       "503           9570.005  ...        9520.005    0.079639  -50.363275   \n",
       "504           9568.595  ...        9520.005    0.954171  -54.771372   \n",
       "505           9568.595  ...        9520.005    0.965269  -53.571857   \n",
       "...                ...  ...             ...         ...         ...   \n",
       "209018       11238.525  ...       11320.495   -1.441880  -15.786901   \n",
       "209019       11237.055  ...       11320.340   -1.570151  -16.401193   \n",
       "209020       11233.745  ...       11320.005  -22.431528  -24.005183   \n",
       "209021       11233.745  ...       11317.035   -5.331503  -29.535550   \n",
       "209022       11227.035  ...       11317.065   41.016147  -38.257578   \n",
       "\n",
       "        t-tfi-1000  t-midprice-1000  target   probs 0   probs 1  prediction  \\\n",
       "501       0.886006         9520.005       0  0.509787  0.490213           0   \n",
       "502       0.902386         9520.005       0  0.517400  0.482600           0   \n",
       "503       0.901905         9520.005       0  0.521668  0.478332           0   \n",
       "504       0.821617         9520.005       0  0.529201  0.470799           0   \n",
       "505       0.900828         9520.005       0  0.530649  0.469351           0   \n",
       "...            ...              ...     ...       ...       ...         ...   \n",
       "209018    1.426968        11320.225       0  0.469778  0.530222           1   \n",
       "209019    1.429919        11320.495       0  0.467412  0.532588           1   \n",
       "209020    1.433453        11320.340       0  0.463614  0.536386           1   \n",
       "209021    1.431562        11320.005       0  0.468563  0.531437           1   \n",
       "209022    1.452187        11317.035       0  0.478424  0.521576           1   \n",
       "\n",
       "                        trade time  \n",
       "501     2020-07-24 07:56:41.516815  \n",
       "502     2020-07-24 07:56:53.097352  \n",
       "503     2020-07-24 07:57:04.460598  \n",
       "504     2020-07-24 07:57:15.855812  \n",
       "505     2020-07-24 07:57:27.213732  \n",
       "...                            ...  \n",
       "209018  2020-09-03 07:56:39.068704  \n",
       "209019  2020-09-03 07:56:50.473710  \n",
       "209020  2020-09-03 07:57:01.809474  \n",
       "209021  2020-09-03 07:57:13.360853  \n",
       "209022  2020-09-03 07:57:24.782248  \n",
       "\n",
       "[208522 rows x 2007 columns]"
      ]
     },
     "execution_count": 31,
     "metadata": {},
     "output_type": "execute_result"
    },
    {
     "data": {
      "application/javascript": [
       "\n",
       "            setTimeout(function() {\n",
       "                var nbb_cell_id = 31;\n",
       "                var nbb_unformatted_code = \"test_data = test_data.dropna()\\ntest_data\";\n",
       "                var nbb_formatted_code = \"test_data = test_data.dropna()\\ntest_data\";\n",
       "                var nbb_cells = Jupyter.notebook.get_cells();\n",
       "                for (var i = 0; i < nbb_cells.length; ++i) {\n",
       "                    if (nbb_cells[i].input_prompt_number == nbb_cell_id) {\n",
       "                        if (nbb_cells[i].get_text() == nbb_unformatted_code) {\n",
       "                             nbb_cells[i].set_text(nbb_formatted_code);\n",
       "                        }\n",
       "                        break;\n",
       "                    }\n",
       "                }\n",
       "            }, 500);\n",
       "            "
      ],
      "text/plain": [
       "<IPython.core.display.Javascript object>"
      ]
     },
     "metadata": {},
     "output_type": "display_data"
    }
   ],
   "source": [
    "test_data = test_data.dropna()\n",
    "test_data"
   ]
  },
  {
   "cell_type": "code",
   "execution_count": 34,
   "metadata": {},
   "outputs": [
    {
     "name": "stdout",
     "output_type": "stream",
     "text": [
      "<class 'pandas.core.frame.DataFrame'>\n",
      "Int64Index: 208522 entries, 501 to 209022\n",
      "Data columns (total 2 columns):\n",
      " #   Column      Non-Null Count   Dtype \n",
      "---  ------      --------------   ----- \n",
      " 0   time        208522 non-null  object\n",
      " 1   trade time  208522 non-null  object\n",
      "dtypes: object(2)\n",
      "memory usage: 4.8+ MB\n"
     ]
    },
    {
     "data": {
      "application/javascript": [
       "\n",
       "            setTimeout(function() {\n",
       "                var nbb_cell_id = 34;\n",
       "                var nbb_unformatted_code = \"test_data[['time','trade time']].info()\";\n",
       "                var nbb_formatted_code = \"test_data[[\\\"time\\\", \\\"trade time\\\"]].info()\";\n",
       "                var nbb_cells = Jupyter.notebook.get_cells();\n",
       "                for (var i = 0; i < nbb_cells.length; ++i) {\n",
       "                    if (nbb_cells[i].input_prompt_number == nbb_cell_id) {\n",
       "                        if (nbb_cells[i].get_text() == nbb_unformatted_code) {\n",
       "                             nbb_cells[i].set_text(nbb_formatted_code);\n",
       "                        }\n",
       "                        break;\n",
       "                    }\n",
       "                }\n",
       "            }, 500);\n",
       "            "
      ],
      "text/plain": [
       "<IPython.core.display.Javascript object>"
      ]
     },
     "metadata": {},
     "output_type": "display_data"
    }
   ],
   "source": [
    "test_data[[\"time\", \"trade time\"]].info()"
   ]
  },
  {
   "cell_type": "code",
   "execution_count": 37,
   "metadata": {},
   "outputs": [
    {
     "name": "stderr",
     "output_type": "stream",
     "text": [
      "/opt/miniconda3/lib/python3.7/site-packages/ipykernel_launcher.py:2: SettingWithCopyWarning:\n",
      "\n",
      "\n",
      "A value is trying to be set on a copy of a slice from a DataFrame.\n",
      "Try using .loc[row_indexer,col_indexer] = value instead\n",
      "\n",
      "See the caveats in the documentation: https://pandas.pydata.org/pandas-docs/stable/user_guide/indexing.html#returning-a-view-versus-a-copy\n",
      "\n"
     ]
    },
    {
     "data": {
      "text/html": [
       "<div>\n",
       "<style scoped>\n",
       "    .dataframe tbody tr th:only-of-type {\n",
       "        vertical-align: middle;\n",
       "    }\n",
       "\n",
       "    .dataframe tbody tr th {\n",
       "        vertical-align: top;\n",
       "    }\n",
       "\n",
       "    .dataframe thead th {\n",
       "        text-align: right;\n",
       "    }\n",
       "</style>\n",
       "<table border=\"1\" class=\"dataframe\">\n",
       "  <thead>\n",
       "    <tr style=\"text-align: right;\">\n",
       "      <th></th>\n",
       "      <th>time</th>\n",
       "      <th>midprice</th>\n",
       "      <th>t-oir-501</th>\n",
       "      <th>t-voi-501</th>\n",
       "      <th>t-tfi-501</th>\n",
       "      <th>t-midprice-501</th>\n",
       "      <th>t-oir-502</th>\n",
       "      <th>t-voi-502</th>\n",
       "      <th>t-tfi-502</th>\n",
       "      <th>t-midprice-502</th>\n",
       "      <th>...</th>\n",
       "      <th>t-midprice-999</th>\n",
       "      <th>t-oir-1000</th>\n",
       "      <th>t-voi-1000</th>\n",
       "      <th>t-tfi-1000</th>\n",
       "      <th>t-midprice-1000</th>\n",
       "      <th>target</th>\n",
       "      <th>probs 0</th>\n",
       "      <th>probs 1</th>\n",
       "      <th>prediction</th>\n",
       "      <th>trade time</th>\n",
       "    </tr>\n",
       "  </thead>\n",
       "  <tbody>\n",
       "    <tr>\n",
       "      <th>501</th>\n",
       "      <td>2020-07-24 13:23:04.294420</td>\n",
       "      <td>9553.225</td>\n",
       "      <td>1.249740</td>\n",
       "      <td>-22.935431</td>\n",
       "      <td>0.345302</td>\n",
       "      <td>9571.100</td>\n",
       "      <td>0.618170</td>\n",
       "      <td>-9.812822</td>\n",
       "      <td>0.255617</td>\n",
       "      <td>9571.565</td>\n",
       "      <td>...</td>\n",
       "      <td>9520.005</td>\n",
       "      <td>0.836111</td>\n",
       "      <td>-40.515293</td>\n",
       "      <td>0.886006</td>\n",
       "      <td>9520.005</td>\n",
       "      <td>0</td>\n",
       "      <td>0.509787</td>\n",
       "      <td>0.490213</td>\n",
       "      <td>0</td>\n",
       "      <td>2020-07-24 07:56:41.516815</td>\n",
       "    </tr>\n",
       "    <tr>\n",
       "      <th>502</th>\n",
       "      <td>2020-07-24 13:23:15.568196</td>\n",
       "      <td>9553.895</td>\n",
       "      <td>-1.363672</td>\n",
       "      <td>-64.326887</td>\n",
       "      <td>0.355308</td>\n",
       "      <td>9570.005</td>\n",
       "      <td>1.249740</td>\n",
       "      <td>-22.935431</td>\n",
       "      <td>0.345302</td>\n",
       "      <td>9571.100</td>\n",
       "      <td>...</td>\n",
       "      <td>9520.005</td>\n",
       "      <td>0.322191</td>\n",
       "      <td>-48.169109</td>\n",
       "      <td>0.902386</td>\n",
       "      <td>9520.005</td>\n",
       "      <td>0</td>\n",
       "      <td>0.517400</td>\n",
       "      <td>0.482600</td>\n",
       "      <td>0</td>\n",
       "      <td>2020-07-24 07:56:53.097352</td>\n",
       "    </tr>\n",
       "    <tr>\n",
       "      <th>503</th>\n",
       "      <td>2020-07-24 13:23:26.768205</td>\n",
       "      <td>9554.285</td>\n",
       "      <td>4.017513</td>\n",
       "      <td>-42.612788</td>\n",
       "      <td>0.341127</td>\n",
       "      <td>9568.595</td>\n",
       "      <td>-1.363672</td>\n",
       "      <td>-64.326887</td>\n",
       "      <td>0.355308</td>\n",
       "      <td>9570.005</td>\n",
       "      <td>...</td>\n",
       "      <td>9520.005</td>\n",
       "      <td>0.079639</td>\n",
       "      <td>-50.363275</td>\n",
       "      <td>0.901905</td>\n",
       "      <td>9520.005</td>\n",
       "      <td>0</td>\n",
       "      <td>0.521668</td>\n",
       "      <td>0.478332</td>\n",
       "      <td>0</td>\n",
       "      <td>2020-07-24 07:57:04.460598</td>\n",
       "    </tr>\n",
       "    <tr>\n",
       "      <th>504</th>\n",
       "      <td>2020-07-24 13:23:38.163816</td>\n",
       "      <td>9554.285</td>\n",
       "      <td>1.185701</td>\n",
       "      <td>-41.038011</td>\n",
       "      <td>0.353265</td>\n",
       "      <td>9568.595</td>\n",
       "      <td>4.017513</td>\n",
       "      <td>-42.612788</td>\n",
       "      <td>0.341127</td>\n",
       "      <td>9568.595</td>\n",
       "      <td>...</td>\n",
       "      <td>9520.005</td>\n",
       "      <td>0.954171</td>\n",
       "      <td>-54.771372</td>\n",
       "      <td>0.821617</td>\n",
       "      <td>9520.005</td>\n",
       "      <td>0</td>\n",
       "      <td>0.529201</td>\n",
       "      <td>0.470799</td>\n",
       "      <td>0</td>\n",
       "      <td>2020-07-24 07:57:15.855812</td>\n",
       "    </tr>\n",
       "    <tr>\n",
       "      <th>505</th>\n",
       "      <td>2020-07-24 13:23:49.464790</td>\n",
       "      <td>9554.285</td>\n",
       "      <td>1.759679</td>\n",
       "      <td>-39.352717</td>\n",
       "      <td>0.258099</td>\n",
       "      <td>9568.595</td>\n",
       "      <td>1.185701</td>\n",
       "      <td>-41.038011</td>\n",
       "      <td>0.353265</td>\n",
       "      <td>9568.595</td>\n",
       "      <td>...</td>\n",
       "      <td>9520.005</td>\n",
       "      <td>0.965269</td>\n",
       "      <td>-53.571857</td>\n",
       "      <td>0.900828</td>\n",
       "      <td>9520.005</td>\n",
       "      <td>0</td>\n",
       "      <td>0.530649</td>\n",
       "      <td>0.469351</td>\n",
       "      <td>0</td>\n",
       "      <td>2020-07-24 07:57:27.213732</td>\n",
       "    </tr>\n",
       "    <tr>\n",
       "      <th>...</th>\n",
       "      <td>...</td>\n",
       "      <td>...</td>\n",
       "      <td>...</td>\n",
       "      <td>...</td>\n",
       "      <td>...</td>\n",
       "      <td>...</td>\n",
       "      <td>...</td>\n",
       "      <td>...</td>\n",
       "      <td>...</td>\n",
       "      <td>...</td>\n",
       "      <td>...</td>\n",
       "      <td>...</td>\n",
       "      <td>...</td>\n",
       "      <td>...</td>\n",
       "      <td>...</td>\n",
       "      <td>...</td>\n",
       "      <td>...</td>\n",
       "      <td>...</td>\n",
       "      <td>...</td>\n",
       "      <td>...</td>\n",
       "      <td>...</td>\n",
       "    </tr>\n",
       "    <tr>\n",
       "      <th>209018</th>\n",
       "      <td>2020-09-03 09:32:49.476146</td>\n",
       "      <td>10830.955</td>\n",
       "      <td>0.386811</td>\n",
       "      <td>-4.001545</td>\n",
       "      <td>0.539549</td>\n",
       "      <td>11237.055</td>\n",
       "      <td>-0.260199</td>\n",
       "      <td>4.340889</td>\n",
       "      <td>0.405184</td>\n",
       "      <td>11238.525</td>\n",
       "      <td>...</td>\n",
       "      <td>11320.495</td>\n",
       "      <td>-1.441880</td>\n",
       "      <td>-15.786901</td>\n",
       "      <td>1.426968</td>\n",
       "      <td>11320.225</td>\n",
       "      <td>0</td>\n",
       "      <td>0.469778</td>\n",
       "      <td>0.530222</td>\n",
       "      <td>1</td>\n",
       "      <td>2020-09-03 07:56:39.068704</td>\n",
       "    </tr>\n",
       "    <tr>\n",
       "      <th>209019</th>\n",
       "      <td>2020-09-03 09:33:00.791797</td>\n",
       "      <td>10830.955</td>\n",
       "      <td>0.682944</td>\n",
       "      <td>-21.962345</td>\n",
       "      <td>0.562896</td>\n",
       "      <td>11233.745</td>\n",
       "      <td>0.386811</td>\n",
       "      <td>-4.001545</td>\n",
       "      <td>0.539549</td>\n",
       "      <td>11237.055</td>\n",
       "      <td>...</td>\n",
       "      <td>11320.340</td>\n",
       "      <td>-1.570151</td>\n",
       "      <td>-16.401193</td>\n",
       "      <td>1.429919</td>\n",
       "      <td>11320.495</td>\n",
       "      <td>0</td>\n",
       "      <td>0.467412</td>\n",
       "      <td>0.532588</td>\n",
       "      <td>1</td>\n",
       "      <td>2020-09-03 07:56:50.473710</td>\n",
       "    </tr>\n",
       "    <tr>\n",
       "      <th>209020</th>\n",
       "      <td>2020-09-03 09:33:12.133621</td>\n",
       "      <td>10830.955</td>\n",
       "      <td>-1.294354</td>\n",
       "      <td>-7.394954</td>\n",
       "      <td>0.573023</td>\n",
       "      <td>11233.745</td>\n",
       "      <td>0.682944</td>\n",
       "      <td>-21.962345</td>\n",
       "      <td>0.562896</td>\n",
       "      <td>11233.745</td>\n",
       "      <td>...</td>\n",
       "      <td>11320.005</td>\n",
       "      <td>-22.431528</td>\n",
       "      <td>-24.005183</td>\n",
       "      <td>1.433453</td>\n",
       "      <td>11320.340</td>\n",
       "      <td>0</td>\n",
       "      <td>0.463614</td>\n",
       "      <td>0.536386</td>\n",
       "      <td>1</td>\n",
       "      <td>2020-09-03 07:57:01.809474</td>\n",
       "    </tr>\n",
       "    <tr>\n",
       "      <th>209021</th>\n",
       "      <td>2020-09-03 09:33:23.445957</td>\n",
       "      <td>10830.825</td>\n",
       "      <td>0.075363</td>\n",
       "      <td>-25.412812</td>\n",
       "      <td>0.492631</td>\n",
       "      <td>11227.035</td>\n",
       "      <td>-1.294354</td>\n",
       "      <td>-7.394954</td>\n",
       "      <td>0.573023</td>\n",
       "      <td>11233.745</td>\n",
       "      <td>...</td>\n",
       "      <td>11317.035</td>\n",
       "      <td>-5.331503</td>\n",
       "      <td>-29.535550</td>\n",
       "      <td>1.431562</td>\n",
       "      <td>11320.005</td>\n",
       "      <td>0</td>\n",
       "      <td>0.468563</td>\n",
       "      <td>0.531437</td>\n",
       "      <td>1</td>\n",
       "      <td>2020-09-03 07:57:13.360853</td>\n",
       "    </tr>\n",
       "    <tr>\n",
       "      <th>209022</th>\n",
       "      <td>2020-09-03 09:33:34.843553</td>\n",
       "      <td>10830.825</td>\n",
       "      <td>1.025673</td>\n",
       "      <td>-33.224717</td>\n",
       "      <td>0.625547</td>\n",
       "      <td>11221.155</td>\n",
       "      <td>0.075363</td>\n",
       "      <td>-25.412812</td>\n",
       "      <td>0.492631</td>\n",
       "      <td>11227.035</td>\n",
       "      <td>...</td>\n",
       "      <td>11317.065</td>\n",
       "      <td>41.016147</td>\n",
       "      <td>-38.257578</td>\n",
       "      <td>1.452187</td>\n",
       "      <td>11317.035</td>\n",
       "      <td>0</td>\n",
       "      <td>0.478424</td>\n",
       "      <td>0.521576</td>\n",
       "      <td>1</td>\n",
       "      <td>2020-09-03 07:57:24.782248</td>\n",
       "    </tr>\n",
       "  </tbody>\n",
       "</table>\n",
       "<p>208522 rows × 2007 columns</p>\n",
       "</div>"
      ],
      "text/plain": [
       "                             time   midprice  t-oir-501  t-voi-501  t-tfi-501  \\\n",
       "501    2020-07-24 13:23:04.294420   9553.225   1.249740 -22.935431   0.345302   \n",
       "502    2020-07-24 13:23:15.568196   9553.895  -1.363672 -64.326887   0.355308   \n",
       "503    2020-07-24 13:23:26.768205   9554.285   4.017513 -42.612788   0.341127   \n",
       "504    2020-07-24 13:23:38.163816   9554.285   1.185701 -41.038011   0.353265   \n",
       "505    2020-07-24 13:23:49.464790   9554.285   1.759679 -39.352717   0.258099   \n",
       "...                           ...        ...        ...        ...        ...   \n",
       "209018 2020-09-03 09:32:49.476146  10830.955   0.386811  -4.001545   0.539549   \n",
       "209019 2020-09-03 09:33:00.791797  10830.955   0.682944 -21.962345   0.562896   \n",
       "209020 2020-09-03 09:33:12.133621  10830.955  -1.294354  -7.394954   0.573023   \n",
       "209021 2020-09-03 09:33:23.445957  10830.825   0.075363 -25.412812   0.492631   \n",
       "209022 2020-09-03 09:33:34.843553  10830.825   1.025673 -33.224717   0.625547   \n",
       "\n",
       "        t-midprice-501  t-oir-502  t-voi-502  t-tfi-502  t-midprice-502  ...  \\\n",
       "501           9571.100   0.618170  -9.812822   0.255617        9571.565  ...   \n",
       "502           9570.005   1.249740 -22.935431   0.345302        9571.100  ...   \n",
       "503           9568.595  -1.363672 -64.326887   0.355308        9570.005  ...   \n",
       "504           9568.595   4.017513 -42.612788   0.341127        9568.595  ...   \n",
       "505           9568.595   1.185701 -41.038011   0.353265        9568.595  ...   \n",
       "...                ...        ...        ...        ...             ...  ...   \n",
       "209018       11237.055  -0.260199   4.340889   0.405184       11238.525  ...   \n",
       "209019       11233.745   0.386811  -4.001545   0.539549       11237.055  ...   \n",
       "209020       11233.745   0.682944 -21.962345   0.562896       11233.745  ...   \n",
       "209021       11227.035  -1.294354  -7.394954   0.573023       11233.745  ...   \n",
       "209022       11221.155   0.075363 -25.412812   0.492631       11227.035  ...   \n",
       "\n",
       "        t-midprice-999  t-oir-1000  t-voi-1000  t-tfi-1000  t-midprice-1000  \\\n",
       "501           9520.005    0.836111  -40.515293    0.886006         9520.005   \n",
       "502           9520.005    0.322191  -48.169109    0.902386         9520.005   \n",
       "503           9520.005    0.079639  -50.363275    0.901905         9520.005   \n",
       "504           9520.005    0.954171  -54.771372    0.821617         9520.005   \n",
       "505           9520.005    0.965269  -53.571857    0.900828         9520.005   \n",
       "...                ...         ...         ...         ...              ...   \n",
       "209018       11320.495   -1.441880  -15.786901    1.426968        11320.225   \n",
       "209019       11320.340   -1.570151  -16.401193    1.429919        11320.495   \n",
       "209020       11320.005  -22.431528  -24.005183    1.433453        11320.340   \n",
       "209021       11317.035   -5.331503  -29.535550    1.431562        11320.005   \n",
       "209022       11317.065   41.016147  -38.257578    1.452187        11317.035   \n",
       "\n",
       "        target   probs 0   probs 1  prediction                 trade time  \n",
       "501          0  0.509787  0.490213           0 2020-07-24 07:56:41.516815  \n",
       "502          0  0.517400  0.482600           0 2020-07-24 07:56:53.097352  \n",
       "503          0  0.521668  0.478332           0 2020-07-24 07:57:04.460598  \n",
       "504          0  0.529201  0.470799           0 2020-07-24 07:57:15.855812  \n",
       "505          0  0.530649  0.469351           0 2020-07-24 07:57:27.213732  \n",
       "...        ...       ...       ...         ...                        ...  \n",
       "209018       0  0.469778  0.530222           1 2020-09-03 07:56:39.068704  \n",
       "209019       0  0.467412  0.532588           1 2020-09-03 07:56:50.473710  \n",
       "209020       0  0.463614  0.536386           1 2020-09-03 07:57:01.809474  \n",
       "209021       0  0.468563  0.531437           1 2020-09-03 07:57:13.360853  \n",
       "209022       0  0.478424  0.521576           1 2020-09-03 07:57:24.782248  \n",
       "\n",
       "[208522 rows x 2007 columns]"
      ]
     },
     "execution_count": 37,
     "metadata": {},
     "output_type": "execute_result"
    },
    {
     "data": {
      "application/javascript": [
       "\n",
       "            setTimeout(function() {\n",
       "                var nbb_cell_id = 37;\n",
       "                var nbb_unformatted_code = \"for col in [\\\"time\\\", \\\"trade time\\\"]:\\n    test_data[col] = pd.to_datetime(test_data[col])\\n\\ntest_data\";\n",
       "                var nbb_formatted_code = \"for col in [\\\"time\\\", \\\"trade time\\\"]:\\n    test_data[col] = pd.to_datetime(test_data[col])\\n\\ntest_data\";\n",
       "                var nbb_cells = Jupyter.notebook.get_cells();\n",
       "                for (var i = 0; i < nbb_cells.length; ++i) {\n",
       "                    if (nbb_cells[i].input_prompt_number == nbb_cell_id) {\n",
       "                        if (nbb_cells[i].get_text() == nbb_unformatted_code) {\n",
       "                             nbb_cells[i].set_text(nbb_formatted_code);\n",
       "                        }\n",
       "                        break;\n",
       "                    }\n",
       "                }\n",
       "            }, 500);\n",
       "            "
      ],
      "text/plain": [
       "<IPython.core.display.Javascript object>"
      ]
     },
     "metadata": {},
     "output_type": "display_data"
    }
   ],
   "source": [
    "for col in [\"time\", \"trade time\"]:\n",
    "    test_data[col] = pd.to_datetime(test_data[col])\n",
    "\n",
    "test_data"
   ]
  },
  {
   "cell_type": "code",
   "execution_count": 85,
   "metadata": {},
   "outputs": [
    {
     "name": "stderr",
     "output_type": "stream",
     "text": [
      "/opt/miniconda3/lib/python3.7/site-packages/ipykernel_launcher.py:17: SettingWithCopyWarning:\n",
      "\n",
      "\n",
      "A value is trying to be set on a copy of a slice from a DataFrame.\n",
      "Try using .loc[row_indexer,col_indexer] = value instead\n",
      "\n",
      "See the caveats in the documentation: https://pandas.pydata.org/pandas-docs/stable/user_guide/indexing.html#returning-a-view-versus-a-copy\n",
      "\n",
      "/opt/miniconda3/lib/python3.7/site-packages/pandas/core/indexing.py:966: SettingWithCopyWarning:\n",
      "\n",
      "\n",
      "A value is trying to be set on a copy of a slice from a DataFrame.\n",
      "Try using .loc[row_indexer,col_indexer] = value instead\n",
      "\n",
      "See the caveats in the documentation: https://pandas.pydata.org/pandas-docs/stable/user_guide/indexing.html#returning-a-view-versus-a-copy\n",
      "\n"
     ]
    },
    {
     "data": {
      "application/javascript": [
       "\n",
       "            setTimeout(function() {\n",
       "                var nbb_cell_id = 85;\n",
       "                var nbb_unformatted_code = \"test = MarketSim(test_data, 0.60, 0.01, 0.02, 10000, 10000)\";\n",
       "                var nbb_formatted_code = \"test = MarketSim(test_data, 0.60, 0.01, 0.02, 10000, 10000)\";\n",
       "                var nbb_cells = Jupyter.notebook.get_cells();\n",
       "                for (var i = 0; i < nbb_cells.length; ++i) {\n",
       "                    if (nbb_cells[i].input_prompt_number == nbb_cell_id) {\n",
       "                        if (nbb_cells[i].get_text() == nbb_unformatted_code) {\n",
       "                             nbb_cells[i].set_text(nbb_formatted_code);\n",
       "                        }\n",
       "                        break;\n",
       "                    }\n",
       "                }\n",
       "            }, 500);\n",
       "            "
      ],
      "text/plain": [
       "<IPython.core.display.Javascript object>"
      ]
     },
     "metadata": {},
     "output_type": "display_data"
    }
   ],
   "source": [
    "test = MarketSim(test_data, 0.60, 0.01, 0.02, 10000, 10000)"
   ]
  },
  {
   "cell_type": "code",
   "execution_count": 86,
   "metadata": {},
   "outputs": [
    {
     "name": "stdout",
     "output_type": "stream",
     "text": [
      "<class 'pandas.core.frame.DataFrame'>\n",
      "DatetimeIndex: 348168 entries, 2020-07-02 13:57:49.545534 to 2020-09-03 09:33:34.843553\n",
      "Data columns (total 5 columns):\n",
      " #   Column           Non-Null Count   Dtype  \n",
      "---  ------           --------------   -----  \n",
      " 0   t-midprice-501   62859 non-null   float64\n",
      " 1   future midprice  62859 non-null   float64\n",
      " 2   prediction       62859 non-null   float64\n",
      " 3   success          62859 non-null   object \n",
      " 4   midprice         348168 non-null  float64\n",
      "dtypes: float64(4), object(1)\n",
      "memory usage: 15.9+ MB\n",
      "None\n"
     ]
    },
    {
     "data": {
      "application/javascript": [
       "\n",
       "            setTimeout(function() {\n",
       "                var nbb_cell_id = 86;\n",
       "                var nbb_unformatted_code = \"test.test()\";\n",
       "                var nbb_formatted_code = \"test.test()\";\n",
       "                var nbb_cells = Jupyter.notebook.get_cells();\n",
       "                for (var i = 0; i < nbb_cells.length; ++i) {\n",
       "                    if (nbb_cells[i].input_prompt_number == nbb_cell_id) {\n",
       "                        if (nbb_cells[i].get_text() == nbb_unformatted_code) {\n",
       "                             nbb_cells[i].set_text(nbb_formatted_code);\n",
       "                        }\n",
       "                        break;\n",
       "                    }\n",
       "                }\n",
       "            }, 500);\n",
       "            "
      ],
      "text/plain": [
       "<IPython.core.display.Javascript object>"
      ]
     },
     "metadata": {},
     "output_type": "display_data"
    }
   ],
   "source": [
    "test.test()"
   ]
  },
  {
   "cell_type": "code",
   "execution_count": 87,
   "metadata": {},
   "outputs": [
    {
     "data": {
      "text/plain": [
       "12330.720000000005"
      ]
     },
     "execution_count": 87,
     "metadata": {},
     "output_type": "execute_result"
    },
    {
     "data": {
      "application/javascript": [
       "\n",
       "            setTimeout(function() {\n",
       "                var nbb_cell_id = 87;\n",
       "                var nbb_unformatted_code = \"test.balance\";\n",
       "                var nbb_formatted_code = \"test.balance\";\n",
       "                var nbb_cells = Jupyter.notebook.get_cells();\n",
       "                for (var i = 0; i < nbb_cells.length; ++i) {\n",
       "                    if (nbb_cells[i].input_prompt_number == nbb_cell_id) {\n",
       "                        if (nbb_cells[i].get_text() == nbb_unformatted_code) {\n",
       "                             nbb_cells[i].set_text(nbb_formatted_code);\n",
       "                        }\n",
       "                        break;\n",
       "                    }\n",
       "                }\n",
       "            }, 500);\n",
       "            "
      ],
      "text/plain": [
       "<IPython.core.display.Javascript object>"
      ]
     },
     "metadata": {},
     "output_type": "display_data"
    }
   ],
   "source": [
    "test.balance"
   ]
  },
  {
   "cell_type": "code",
   "execution_count": 90,
   "metadata": {},
   "outputs": [
    {
     "data": {
      "text/html": [
       "<div>\n",
       "<style scoped>\n",
       "    .dataframe tbody tr th:only-of-type {\n",
       "        vertical-align: middle;\n",
       "    }\n",
       "\n",
       "    .dataframe tbody tr th {\n",
       "        vertical-align: top;\n",
       "    }\n",
       "\n",
       "    .dataframe thead th {\n",
       "        text-align: right;\n",
       "    }\n",
       "</style>\n",
       "<table border=\"1\" class=\"dataframe\">\n",
       "  <thead>\n",
       "    <tr style=\"text-align: right;\">\n",
       "      <th></th>\n",
       "      <th>time</th>\n",
       "      <th>key</th>\n",
       "      <th>price</th>\n",
       "      <th>equity</th>\n",
       "      <th>PnL</th>\n",
       "      <th>position</th>\n",
       "      <th>OC</th>\n",
       "    </tr>\n",
       "  </thead>\n",
       "  <tbody>\n",
       "    <tr>\n",
       "      <th>0</th>\n",
       "      <td>2020-07-24 08:06:56.357093</td>\n",
       "      <td>0</td>\n",
       "      <td>9559.735</td>\n",
       "      <td>9867.52</td>\n",
       "      <td>-132.48</td>\n",
       "      <td>short</td>\n",
       "      <td>open</td>\n",
       "    </tr>\n",
       "    <tr>\n",
       "      <th>1</th>\n",
       "      <td>2020-07-25 22:51:33.678075</td>\n",
       "      <td>1</td>\n",
       "      <td>9692.915</td>\n",
       "      <td>9772.31</td>\n",
       "      <td>-95.21</td>\n",
       "      <td>short</td>\n",
       "      <td>open</td>\n",
       "    </tr>\n",
       "    <tr>\n",
       "      <th>2</th>\n",
       "      <td>2020-07-26 04:59:27.335955</td>\n",
       "      <td>2</td>\n",
       "      <td>9787.745</td>\n",
       "      <td>9678.10</td>\n",
       "      <td>-94.21</td>\n",
       "      <td>short</td>\n",
       "      <td>open</td>\n",
       "    </tr>\n",
       "    <tr>\n",
       "      <th>3</th>\n",
       "      <td>2020-07-26 06:02:57.186353</td>\n",
       "      <td>3</td>\n",
       "      <td>9896.545</td>\n",
       "      <td>9583.73</td>\n",
       "      <td>-94.37</td>\n",
       "      <td>short</td>\n",
       "      <td>open</td>\n",
       "    </tr>\n",
       "    <tr>\n",
       "      <th>4</th>\n",
       "      <td>2020-07-26 06:03:53.465342</td>\n",
       "      <td>4</td>\n",
       "      <td>9997.995</td>\n",
       "      <td>9490.75</td>\n",
       "      <td>-92.98</td>\n",
       "      <td>short</td>\n",
       "      <td>open</td>\n",
       "    </tr>\n",
       "    <tr>\n",
       "      <th>...</th>\n",
       "      <td>...</td>\n",
       "      <td>...</td>\n",
       "      <td>...</td>\n",
       "      <td>...</td>\n",
       "      <td>...</td>\n",
       "      <td>...</td>\n",
       "      <td>...</td>\n",
       "    </tr>\n",
       "    <tr>\n",
       "      <th>99</th>\n",
       "      <td>2020-09-02 07:03:42.394239</td>\n",
       "      <td>99</td>\n",
       "      <td>11519.575</td>\n",
       "      <td>12099.30</td>\n",
       "      <td>-117.89</td>\n",
       "      <td>long</td>\n",
       "      <td>close</td>\n",
       "    </tr>\n",
       "    <tr>\n",
       "      <th>100</th>\n",
       "      <td>2020-09-02 07:10:08.873714</td>\n",
       "      <td>100</td>\n",
       "      <td>11351.055</td>\n",
       "      <td>11959.30</td>\n",
       "      <td>-140.00</td>\n",
       "      <td>long</td>\n",
       "      <td>close</td>\n",
       "    </tr>\n",
       "    <tr>\n",
       "      <th>101</th>\n",
       "      <td>2020-09-02 07:22:43.377274</td>\n",
       "      <td>101</td>\n",
       "      <td>11170.080</td>\n",
       "      <td>11833.99</td>\n",
       "      <td>-125.31</td>\n",
       "      <td>long</td>\n",
       "      <td>close</td>\n",
       "    </tr>\n",
       "    <tr>\n",
       "      <th>102</th>\n",
       "      <td>2020-09-02 07:49:14.987735</td>\n",
       "      <td>102</td>\n",
       "      <td>11398.545</td>\n",
       "      <td>12081.95</td>\n",
       "      <td>247.96</td>\n",
       "      <td>long</td>\n",
       "      <td>close</td>\n",
       "    </tr>\n",
       "    <tr>\n",
       "      <th>103</th>\n",
       "      <td>2020-09-03 08:10:45.662684</td>\n",
       "      <td>103</td>\n",
       "      <td>11161.610</td>\n",
       "      <td>12330.72</td>\n",
       "      <td>248.77</td>\n",
       "      <td>short</td>\n",
       "      <td>close</td>\n",
       "    </tr>\n",
       "  </tbody>\n",
       "</table>\n",
       "<p>208 rows × 7 columns</p>\n",
       "</div>"
      ],
      "text/plain": [
       "                          time  key      price    equity     PnL position  \\\n",
       "0   2020-07-24 08:06:56.357093    0   9559.735   9867.52 -132.48    short   \n",
       "1   2020-07-25 22:51:33.678075    1   9692.915   9772.31  -95.21    short   \n",
       "2   2020-07-26 04:59:27.335955    2   9787.745   9678.10  -94.21    short   \n",
       "3   2020-07-26 06:02:57.186353    3   9896.545   9583.73  -94.37    short   \n",
       "4   2020-07-26 06:03:53.465342    4   9997.995   9490.75  -92.98    short   \n",
       "..                         ...  ...        ...       ...     ...      ...   \n",
       "99  2020-09-02 07:03:42.394239   99  11519.575  12099.30 -117.89     long   \n",
       "100 2020-09-02 07:10:08.873714  100  11351.055  11959.30 -140.00     long   \n",
       "101 2020-09-02 07:22:43.377274  101  11170.080  11833.99 -125.31     long   \n",
       "102 2020-09-02 07:49:14.987735  102  11398.545  12081.95  247.96     long   \n",
       "103 2020-09-03 08:10:45.662684  103  11161.610  12330.72  248.77    short   \n",
       "\n",
       "        OC  \n",
       "0     open  \n",
       "1     open  \n",
       "2     open  \n",
       "3     open  \n",
       "4     open  \n",
       "..     ...  \n",
       "99   close  \n",
       "100  close  \n",
       "101  close  \n",
       "102  close  \n",
       "103  close  \n",
       "\n",
       "[208 rows x 7 columns]"
      ]
     },
     "execution_count": 90,
     "metadata": {},
     "output_type": "execute_result"
    },
    {
     "data": {
      "application/javascript": [
       "\n",
       "            setTimeout(function() {\n",
       "                var nbb_cell_id = 90;\n",
       "                var nbb_unformatted_code = \"test.get_trades()\";\n",
       "                var nbb_formatted_code = \"test.get_trades()\";\n",
       "                var nbb_cells = Jupyter.notebook.get_cells();\n",
       "                for (var i = 0; i < nbb_cells.length; ++i) {\n",
       "                    if (nbb_cells[i].input_prompt_number == nbb_cell_id) {\n",
       "                        if (nbb_cells[i].get_text() == nbb_unformatted_code) {\n",
       "                             nbb_cells[i].set_text(nbb_formatted_code);\n",
       "                        }\n",
       "                        break;\n",
       "                    }\n",
       "                }\n",
       "            }, 500);\n",
       "            "
      ],
      "text/plain": [
       "<IPython.core.display.Javascript object>"
      ]
     },
     "metadata": {},
     "output_type": "display_data"
    }
   ],
   "source": [
    "test.get_trades()"
   ]
  },
  {
   "cell_type": "code",
   "execution_count": 91,
   "metadata": {},
   "outputs": [
    {
     "data": {
      "application/vnd.plotly.v1+json": {
       "config": {
        "plotlyServerURL": "https://plot.ly"
       },
       "data": [
        {
         "customdata": [
          [
           "open",
           "short",
           -132.48
          ],
          [
           "close",
           "short",
           -132.48
          ]
         ],
         "hovertemplate": "key=0<br>time=%{x}<br>price=%{y}<br>OC=%{customdata[0]}<br>position=%{customdata[1]}<br>PnL=%{customdata[2]}<extra></extra>",
         "legendgroup": "0",
         "marker": {
          "color": "#636efa",
          "symbol": "circle"
         },
         "mode": "markers",
         "name": "0",
         "orientation": "v",
         "showlegend": true,
         "type": "scatter",
         "x": [
          "2020-07-24T08:06:56.357093",
          "2020-07-25T22:49:17.650537"
         ],
         "xaxis": "x",
         "y": [
          9559.735,
          9691.165
         ],
         "yaxis": "y"
        },
        {
         "customdata": [
          [
           "open",
           "short",
           -95.21
          ],
          [
           "close",
           "short",
           -95.21
          ]
         ],
         "hovertemplate": "key=1<br>time=%{x}<br>price=%{y}<br>OC=%{customdata[0]}<br>position=%{customdata[1]}<br>PnL=%{customdata[2]}<extra></extra>",
         "legendgroup": "1",
         "marker": {
          "color": "#EF553B",
          "symbol": "circle"
         },
         "mode": "markers",
         "name": "1",
         "orientation": "v",
         "showlegend": true,
         "type": "scatter",
         "x": [
          "2020-07-25T22:51:33.678075",
          "2020-07-26T04:56:49.165469"
         ],
         "xaxis": "x",
         "y": [
          9692.915,
          9791.285
         ],
         "yaxis": "y"
        },
        {
         "customdata": [
          [
           "open",
           "short",
           -94.21
          ],
          [
           "close",
           "short",
           -94.21
          ]
         ],
         "hovertemplate": "key=2<br>time=%{x}<br>price=%{y}<br>OC=%{customdata[0]}<br>position=%{customdata[1]}<br>PnL=%{customdata[2]}<extra></extra>",
         "legendgroup": "2",
         "marker": {
          "color": "#00cc96",
          "symbol": "circle"
         },
         "mode": "markers",
         "name": "2",
         "orientation": "v",
         "showlegend": true,
         "type": "scatter",
         "x": [
          "2020-07-26T04:59:27.335955",
          "2020-07-26T06:02:45.504736"
         ],
         "xaxis": "x",
         "y": [
          9787.745,
          9886.994999999999
         ],
         "yaxis": "y"
        },
        {
         "customdata": [
          [
           "open",
           "short",
           -94.37
          ],
          [
           "close",
           "short",
           -94.37
          ]
         ],
         "hovertemplate": "key=3<br>time=%{x}<br>price=%{y}<br>OC=%{customdata[0]}<br>position=%{customdata[1]}<br>PnL=%{customdata[2]}<extra></extra>",
         "legendgroup": "3",
         "marker": {
          "color": "#ab63fa",
          "symbol": "circle"
         },
         "mode": "markers",
         "name": "3",
         "orientation": "v",
         "showlegend": true,
         "type": "scatter",
         "x": [
          "2020-07-26T06:02:57.186353",
          "2020-07-26T06:03:53.465342"
         ],
         "xaxis": "x",
         "y": [
          9896.545,
          9997.994999999999
         ],
         "yaxis": "y"
        },
        {
         "customdata": [
          [
           "open",
           "short",
           -92.98
          ],
          [
           "close",
           "short",
           -92.98
          ]
         ],
         "hovertemplate": "key=4<br>time=%{x}<br>price=%{y}<br>OC=%{customdata[0]}<br>position=%{customdata[1]}<br>PnL=%{customdata[2]}<extra></extra>",
         "legendgroup": "4",
         "marker": {
          "color": "#FFA15A",
          "symbol": "circle"
         },
         "mode": "markers",
         "name": "4",
         "orientation": "v",
         "showlegend": true,
         "type": "scatter",
         "x": [
          "2020-07-26T06:03:53.465342",
          "2020-07-26T06:05:46.019875"
         ],
         "xaxis": "x",
         "y": [
          9997.995,
          10099.994999999999
         ],
         "yaxis": "y"
        },
        {
         "customdata": [
          [
           "open",
           "short",
           249.53
          ],
          [
           "close",
           "short",
           249.53
          ]
         ],
         "hovertemplate": "key=5<br>time=%{x}<br>price=%{y}<br>OC=%{customdata[0]}<br>position=%{customdata[1]}<br>PnL=%{customdata[2]}<extra></extra>",
         "legendgroup": "5",
         "marker": {
          "color": "#19d3f3",
          "symbol": "circle"
         },
         "mode": "markers",
         "name": "5",
         "orientation": "v",
         "showlegend": true,
         "type": "scatter",
         "x": [
          "2020-07-26T06:05:46.019875",
          "2020-07-26T08:32:07.371260"
         ],
         "xaxis": "x",
         "y": [
          10099.995,
          9839.494999999999
         ],
         "yaxis": "y"
        },
        {
         "customdata": [
          [
           "open",
           "long",
           204.01
          ],
          [
           "close",
           "long",
           204.01
          ]
         ],
         "hovertemplate": "key=6<br>time=%{x}<br>price=%{y}<br>OC=%{customdata[0]}<br>position=%{customdata[1]}<br>PnL=%{customdata[2]}<extra></extra>",
         "legendgroup": "6",
         "marker": {
          "color": "#FF6692",
          "symbol": "circle"
         },
         "mode": "markers",
         "name": "6",
         "orientation": "v",
         "showlegend": true,
         "type": "scatter",
         "x": [
          "2020-07-26T08:32:18.628217",
          "2020-07-26T21:16:47.931642"
         ],
         "xaxis": "x",
         "y": [
          9862.405,
          10064.045
         ],
         "yaxis": "y"
        },
        {
         "customdata": [
          [
           "open",
           "short",
           -103.69
          ],
          [
           "close",
           "short",
           -103.69
          ]
         ],
         "hovertemplate": "key=7<br>time=%{x}<br>price=%{y}<br>OC=%{customdata[0]}<br>position=%{customdata[1]}<br>PnL=%{customdata[2]}<extra></extra>",
         "legendgroup": "7",
         "marker": {
          "color": "#B6E880",
          "symbol": "circle"
         },
         "mode": "markers",
         "name": "7",
         "orientation": "v",
         "showlegend": true,
         "type": "scatter",
         "x": [
          "2020-07-26T21:16:59.041366",
          "2020-07-26T23:30:50.165228"
         ],
         "xaxis": "x",
         "y": [
          10065.87,
          10175.865000000002
         ],
         "yaxis": "y"
        },
        {
         "customdata": [
          [
           "open",
           "short",
           -103.48
          ],
          [
           "close",
           "short",
           -103.48
          ]
         ],
         "hovertemplate": "key=8<br>time=%{x}<br>price=%{y}<br>OC=%{customdata[0]}<br>position=%{customdata[1]}<br>PnL=%{customdata[2]}<extra></extra>",
         "legendgroup": "8",
         "marker": {
          "color": "#FF97FF",
          "symbol": "circle"
         },
         "mode": "markers",
         "name": "8",
         "orientation": "v",
         "showlegend": true,
         "type": "scatter",
         "x": [
          "2020-07-26T23:31:01.428906",
          "2020-07-26T23:50:29.820598"
         ],
         "xaxis": "x",
         "y": [
          10174.15,
          10286.225
         ],
         "yaxis": "y"
        },
        {
         "customdata": [
          [
           "open",
           "short",
           -301.63
          ],
          [
           "close",
           "short",
           -301.63
          ]
         ],
         "hovertemplate": "key=9<br>time=%{x}<br>price=%{y}<br>OC=%{customdata[0]}<br>position=%{customdata[1]}<br>PnL=%{customdata[2]}<extra></extra>",
         "legendgroup": "9",
         "marker": {
          "color": "#FECB52",
          "symbol": "circle"
         },
         "mode": "markers",
         "name": "9",
         "orientation": "v",
         "showlegend": true,
         "type": "scatter",
         "x": [
          "2020-07-26T23:50:29.820598",
          "2020-07-27T12:51:49.814372"
         ],
         "xaxis": "x",
         "y": [
          10286.225,
          10610.005000000001
         ],
         "yaxis": "y"
        },
        {
         "customdata": [
          [
           "open",
           "short",
           -89.97
          ],
          [
           "close",
           "short",
           -89.97
          ]
         ],
         "hovertemplate": "key=10<br>time=%{x}<br>price=%{y}<br>OC=%{customdata[0]}<br>position=%{customdata[1]}<br>PnL=%{customdata[2]}<extra></extra>",
         "legendgroup": "10",
         "marker": {
          "color": "#636efa",
          "symbol": "circle"
         },
         "mode": "markers",
         "name": "10",
         "orientation": "v",
         "showlegend": true,
         "type": "scatter",
         "x": [
          "2020-07-27T12:52:48.083159",
          "2020-07-27T12:56:51.076234"
         ],
         "xaxis": "x",
         "y": [
          10607.415,
          10713.86
         ],
         "yaxis": "y"
        },
        {
         "customdata": [
          [
           "open",
           "short",
           -100.97
          ],
          [
           "close",
           "short",
           -100.97
          ]
         ],
         "hovertemplate": "key=11<br>time=%{x}<br>price=%{y}<br>OC=%{customdata[0]}<br>position=%{customdata[1]}<br>PnL=%{customdata[2]}<extra></extra>",
         "legendgroup": "11",
         "marker": {
          "color": "#EF553B",
          "symbol": "circle"
         },
         "mode": "markers",
         "name": "11",
         "orientation": "v",
         "showlegend": true,
         "type": "scatter",
         "x": [
          "2020-07-27T12:56:51.076234",
          "2020-07-27T13:01:03.773253"
         ],
         "xaxis": "x",
         "y": [
          10713.86,
          10834.970000000001
         ],
         "yaxis": "y"
        },
        {
         "customdata": [
          [
           "open",
           "short",
           -97.55
          ],
          [
           "close",
           "short",
           -97.55
          ]
         ],
         "hovertemplate": "key=12<br>time=%{x}<br>price=%{y}<br>OC=%{customdata[0]}<br>position=%{customdata[1]}<br>PnL=%{customdata[2]}<extra></extra>",
         "legendgroup": "12",
         "marker": {
          "color": "#00cc96",
          "symbol": "circle"
         },
         "mode": "markers",
         "name": "12",
         "orientation": "v",
         "showlegend": true,
         "type": "scatter",
         "x": [
          "2020-07-27T13:01:15.516457",
          "2020-07-27T17:52:47.237542"
         ],
         "xaxis": "x",
         "y": [
          10852.48,
          10972.425
         ],
         "yaxis": "y"
        },
        {
         "customdata": [
          [
           "open",
           "short",
           -100.54
          ],
          [
           "close",
           "short",
           -100.54
          ]
         ],
         "hovertemplate": "key=13<br>time=%{x}<br>price=%{y}<br>OC=%{customdata[0]}<br>position=%{customdata[1]}<br>PnL=%{customdata[2]}<extra></extra>",
         "legendgroup": "13",
         "marker": {
          "color": "#ab63fa",
          "symbol": "circle"
         },
         "mode": "markers",
         "name": "13",
         "orientation": "v",
         "showlegend": true,
         "type": "scatter",
         "x": [
          "2020-07-27T17:52:47.237542",
          "2020-07-27T17:55:04.376194"
         ],
         "xaxis": "x",
         "y": [
          10972.425,
          11098.51
         ],
         "yaxis": "y"
        },
        {
         "customdata": [
          [
           "open",
           "short",
           -99.01
          ],
          [
           "close",
           "short",
           -99.01
          ]
         ],
         "hovertemplate": "key=14<br>time=%{x}<br>price=%{y}<br>OC=%{customdata[0]}<br>position=%{customdata[1]}<br>PnL=%{customdata[2]}<extra></extra>",
         "legendgroup": "14",
         "marker": {
          "color": "#FFA15A",
          "symbol": "circle"
         },
         "mode": "markers",
         "name": "14",
         "orientation": "v",
         "showlegend": true,
         "type": "scatter",
         "x": [
          "2020-07-27T17:55:04.376194",
          "2020-07-27T18:08:21.816338"
         ],
         "xaxis": "x",
         "y": [
          11098.51,
          11225.525000000001
         ],
         "yaxis": "y"
        },
        {
         "customdata": [
          [
           "open",
           "short",
           -85.7
          ],
          [
           "close",
           "short",
           -85.7
          ]
         ],
         "hovertemplate": "key=15<br>time=%{x}<br>price=%{y}<br>OC=%{customdata[0]}<br>position=%{customdata[1]}<br>PnL=%{customdata[2]}<extra></extra>",
         "legendgroup": "15",
         "marker": {
          "color": "#19d3f3",
          "symbol": "circle"
         },
         "mode": "markers",
         "name": "15",
         "orientation": "v",
         "showlegend": true,
         "type": "scatter",
         "x": [
          "2020-07-27T18:08:33.405531",
          "2020-07-27T18:11:24.314453"
         ],
         "xaxis": "x",
         "y": [
          11237.485,
          11350.735
         ],
         "yaxis": "y"
        },
        {
         "customdata": [
          [
           "open",
           "short",
           224.08
          ],
          [
           "close",
           "short",
           224.08
          ]
         ],
         "hovertemplate": "key=16<br>time=%{x}<br>price=%{y}<br>OC=%{customdata[0]}<br>position=%{customdata[1]}<br>PnL=%{customdata[2]}<extra></extra>",
         "legendgroup": "16",
         "marker": {
          "color": "#FF6692",
          "symbol": "circle"
         },
         "mode": "markers",
         "name": "16",
         "orientation": "v",
         "showlegend": true,
         "type": "scatter",
         "x": [
          "2020-07-27T18:11:24.314453",
          "2020-07-27T19:18:36.071295"
         ],
         "xaxis": "x",
         "y": [
          11350.735,
          11069.395
         ],
         "yaxis": "y"
        },
        {
         "customdata": [
          [
           "open",
           "long",
           -114.03
          ],
          [
           "close",
           "long",
           -114.03
          ]
         ],
         "hovertemplate": "key=17<br>time=%{x}<br>price=%{y}<br>OC=%{customdata[0]}<br>position=%{customdata[1]}<br>PnL=%{customdata[2]}<extra></extra>",
         "legendgroup": "17",
         "marker": {
          "color": "#B6E880",
          "symbol": "circle"
         },
         "mode": "markers",
         "name": "17",
         "orientation": "v",
         "showlegend": true,
         "type": "scatter",
         "x": [
          "2020-07-27T19:18:36.071295",
          "2020-07-27T19:18:47.323508"
         ],
         "xaxis": "x",
         "y": [
          11069.395,
          10924.93
         ],
         "yaxis": "y"
        },
        {
         "customdata": [
          [
           "open",
           "long",
           -109.11
          ],
          [
           "close",
           "long",
           -109.11
          ]
         ],
         "hovertemplate": "key=18<br>time=%{x}<br>price=%{y}<br>OC=%{customdata[0]}<br>position=%{customdata[1]}<br>PnL=%{customdata[2]}<extra></extra>",
         "legendgroup": "18",
         "marker": {
          "color": "#FF97FF",
          "symbol": "circle"
         },
         "mode": "markers",
         "name": "18",
         "orientation": "v",
         "showlegend": true,
         "type": "scatter",
         "x": [
          "2020-07-27T19:18:58.553864",
          "2020-07-27T19:20:04.962722"
         ],
         "xaxis": "x",
         "y": [
          11007.885,
          10868.505000000001
         ],
         "yaxis": "y"
        },
        {
         "customdata": [
          [
           "open",
           "long",
           188.14
          ],
          [
           "close",
           "long",
           188.14
          ]
         ],
         "hovertemplate": "key=19<br>time=%{x}<br>price=%{y}<br>OC=%{customdata[0]}<br>position=%{customdata[1]}<br>PnL=%{customdata[2]}<extra></extra>",
         "legendgroup": "19",
         "marker": {
          "color": "#FECB52",
          "symbol": "circle"
         },
         "mode": "markers",
         "name": "19",
         "orientation": "v",
         "showlegend": true,
         "type": "scatter",
         "x": [
          "2020-07-27T19:20:04.962722",
          "2020-07-27T19:37:03.282099"
         ],
         "xaxis": "x",
         "y": [
          10868.505,
          11093.79
         ],
         "yaxis": "y"
        },
        {
         "customdata": [
          [
           "open",
           "long",
           -86.04
          ],
          [
           "close",
           "long",
           -86.04
          ]
         ],
         "hovertemplate": "key=20<br>time=%{x}<br>price=%{y}<br>OC=%{customdata[0]}<br>position=%{customdata[1]}<br>PnL=%{customdata[2]}<extra></extra>",
         "legendgroup": "20",
         "marker": {
          "color": "#636efa",
          "symbol": "circle"
         },
         "mode": "markers",
         "name": "20",
         "orientation": "v",
         "showlegend": true,
         "type": "scatter",
         "x": [
          "2020-07-27T19:37:14.845557",
          "2020-07-27T22:59:53.781203"
         ],
         "xaxis": "x",
         "y": [
          11094.7,
          10983.68
         ],
         "yaxis": "y"
        },
        {
         "customdata": [
          [
           "open",
           "long",
           -93.19
          ],
          [
           "close",
           "long",
           -93.19
          ]
         ],
         "hovertemplate": "key=21<br>time=%{x}<br>price=%{y}<br>OC=%{customdata[0]}<br>position=%{customdata[1]}<br>PnL=%{customdata[2]}<extra></extra>",
         "legendgroup": "21",
         "marker": {
          "color": "#EF553B",
          "symbol": "circle"
         },
         "mode": "markers",
         "name": "21",
         "orientation": "v",
         "showlegend": true,
         "type": "scatter",
         "x": [
          "2020-07-27T23:00:16.211319",
          "2020-07-27T23:34:27.124115"
         ],
         "xaxis": "x",
         "y": [
          10991.405,
          10871.650000000001
         ],
         "yaxis": "y"
        },
        {
         "customdata": [
          [
           "open",
           "short",
           -84.58
          ],
          [
           "close",
           "short",
           -84.58
          ]
         ],
         "hovertemplate": "key=22<br>time=%{x}<br>price=%{y}<br>OC=%{customdata[0]}<br>position=%{customdata[1]}<br>PnL=%{customdata[2]}<extra></extra>",
         "legendgroup": "22",
         "marker": {
          "color": "#00cc96",
          "symbol": "circle"
         },
         "mode": "markers",
         "name": "22",
         "orientation": "v",
         "showlegend": true,
         "type": "scatter",
         "x": [
          "2020-07-27T23:45:44.848607",
          "2020-07-28T00:01:46.020816"
         ],
         "xaxis": "x",
         "y": [
          10910.535,
          11020.005000000001
         ],
         "yaxis": "y"
        },
        {
         "customdata": [
          [
           "open",
           "short",
           204.71
          ],
          [
           "close",
           "short",
           204.71
          ]
         ],
         "hovertemplate": "key=23<br>time=%{x}<br>price=%{y}<br>OC=%{customdata[0]}<br>position=%{customdata[1]}<br>PnL=%{customdata[2]}<extra></extra>",
         "legendgroup": "23",
         "marker": {
          "color": "#ab63fa",
          "symbol": "circle"
         },
         "mode": "markers",
         "name": "23",
         "orientation": "v",
         "showlegend": true,
         "type": "scatter",
         "x": [
          "2020-07-28T00:01:57.338194",
          "2020-07-28T04:11:18.517501"
         ],
         "xaxis": "x",
         "y": [
          11020.475,
          10769.24
         ],
         "yaxis": "y"
        },
        {
         "customdata": [
          [
           "open",
           "long",
           262.31
          ],
          [
           "close",
           "long",
           262.31
          ]
         ],
         "hovertemplate": "key=24<br>time=%{x}<br>price=%{y}<br>OC=%{customdata[0]}<br>position=%{customdata[1]}<br>PnL=%{customdata[2]}<extra></extra>",
         "legendgroup": "24",
         "marker": {
          "color": "#FFA15A",
          "symbol": "circle"
         },
         "mode": "markers",
         "name": "24",
         "orientation": "v",
         "showlegend": true,
         "type": "scatter",
         "x": [
          "2020-07-28T04:11:18.517501",
          "2020-07-28T12:21:46.161419"
         ],
         "xaxis": "x",
         "y": [
          10769.24,
          11078.015
         ],
         "yaxis": "y"
        },
        {
         "customdata": [
          [
           "open",
           "long",
           -89.78
          ],
          [
           "close",
           "long",
           -89.78
          ]
         ],
         "hovertemplate": "key=25<br>time=%{x}<br>price=%{y}<br>OC=%{customdata[0]}<br>position=%{customdata[1]}<br>PnL=%{customdata[2]}<extra></extra>",
         "legendgroup": "25",
         "marker": {
          "color": "#19d3f3",
          "symbol": "circle"
         },
         "mode": "markers",
         "name": "25",
         "orientation": "v",
         "showlegend": true,
         "type": "scatter",
         "x": [
          "2020-07-28T12:21:46.161419",
          "2020-07-28T12:41:28.638135"
         ],
         "xaxis": "x",
         "y": [
          11078.015,
          10965.005000000001
         ],
         "yaxis": "y"
        },
        {
         "customdata": [
          [
           "open",
           "short",
           -87.4
          ],
          [
           "close",
           "short",
           -87.4
          ]
         ],
         "hovertemplate": "key=26<br>time=%{x}<br>price=%{y}<br>OC=%{customdata[0]}<br>position=%{customdata[1]}<br>PnL=%{customdata[2]}<extra></extra>",
         "legendgroup": "26",
         "marker": {
          "color": "#FF6692",
          "symbol": "circle"
         },
         "mode": "markers",
         "name": "26",
         "orientation": "v",
         "showlegend": true,
         "type": "scatter",
         "x": [
          "2020-07-28T12:41:39.902641",
          "2020-07-30T14:22:14.667840"
         ],
         "xaxis": "x",
         "y": [
          10981.325,
          11091.545
         ],
         "yaxis": "y"
        },
        {
         "customdata": [
          [
           "open",
           "short",
           -212.43
          ],
          [
           "close",
           "short",
           -212.43
          ]
         ],
         "hovertemplate": "key=27<br>time=%{x}<br>price=%{y}<br>OC=%{customdata[0]}<br>position=%{customdata[1]}<br>PnL=%{customdata[2]}<extra></extra>",
         "legendgroup": "27",
         "marker": {
          "color": "#B6E880",
          "symbol": "circle"
         },
         "mode": "markers",
         "name": "27",
         "orientation": "v",
         "showlegend": true,
         "type": "scatter",
         "x": [
          "2020-07-30T14:22:49.224294",
          "2020-07-31T11:50:50.009510"
         ],
         "xaxis": "x",
         "y": [
          11092.045,
          11357.185
         ],
         "yaxis": "y"
        },
        {
         "customdata": [
          [
           "open",
           "short",
           -84.31
          ],
          [
           "close",
           "short",
           -84.31
          ]
         ],
         "hovertemplate": "key=28<br>time=%{x}<br>price=%{y}<br>OC=%{customdata[0]}<br>position=%{customdata[1]}<br>PnL=%{customdata[2]}<extra></extra>",
         "legendgroup": "28",
         "marker": {
          "color": "#FF97FF",
          "symbol": "circle"
         },
         "mode": "markers",
         "name": "28",
         "orientation": "v",
         "showlegend": true,
         "type": "scatter",
         "x": [
          "2020-07-31T11:51:13.367823",
          "2020-08-01T01:24:29.601340"
         ],
         "xaxis": "x",
         "y": [
          11356.305,
          11469.994999999999
         ],
         "yaxis": "y"
        },
        {
         "customdata": [
          [
           "open",
           "short",
           -91.29
          ],
          [
           "close",
           "short",
           -91.29
          ]
         ],
         "hovertemplate": "key=29<br>time=%{x}<br>price=%{y}<br>OC=%{customdata[0]}<br>position=%{customdata[1]}<br>PnL=%{customdata[2]}<extra></extra>",
         "legendgroup": "29",
         "marker": {
          "color": "#FECB52",
          "symbol": "circle"
         },
         "mode": "markers",
         "name": "29",
         "orientation": "v",
         "showlegend": true,
         "type": "scatter",
         "x": [
          "2020-08-01T01:24:29.601340",
          "2020-08-01T01:52:54.879749"
         ],
         "xaxis": "x",
         "y": [
          11469.995,
          11594.985
         ],
         "yaxis": "y"
        },
        {
         "customdata": [
          [
           "open",
           "short",
           -86.07
          ],
          [
           "close",
           "short",
           -86.07
          ]
         ],
         "hovertemplate": "key=30<br>time=%{x}<br>price=%{y}<br>OC=%{customdata[0]}<br>position=%{customdata[1]}<br>PnL=%{customdata[2]}<extra></extra>",
         "legendgroup": "30",
         "marker": {
          "color": "#636efa",
          "symbol": "circle"
         },
         "mode": "markers",
         "name": "30",
         "orientation": "v",
         "showlegend": true,
         "type": "scatter",
         "x": [
          "2020-08-01T01:52:54.879749",
          "2020-08-01T02:19:12.073057"
         ],
         "xaxis": "x",
         "y": [
          11594.985,
          11715.635
         ],
         "yaxis": "y"
        },
        {
         "customdata": [
          [
           "open",
           "short",
           -84.12
          ],
          [
           "close",
           "short",
           -84.12
          ]
         ],
         "hovertemplate": "key=31<br>time=%{x}<br>price=%{y}<br>OC=%{customdata[0]}<br>position=%{customdata[1]}<br>PnL=%{customdata[2]}<extra></extra>",
         "legendgroup": "31",
         "marker": {
          "color": "#EF553B",
          "symbol": "circle"
         },
         "mode": "markers",
         "name": "31",
         "orientation": "v",
         "showlegend": true,
         "type": "scatter",
         "x": [
          "2020-08-01T02:19:12.073057",
          "2020-08-01T15:34:43.318437"
         ],
         "xaxis": "x",
         "y": [
          11715.635,
          11836.045
         ],
         "yaxis": "y"
        },
        {
         "customdata": [
          [
           "open",
           "short",
           -84.71
          ],
          [
           "close",
           "short",
           -84.71
          ]
         ],
         "hovertemplate": "key=32<br>time=%{x}<br>price=%{y}<br>OC=%{customdata[0]}<br>position=%{customdata[1]}<br>PnL=%{customdata[2]}<extra></extra>",
         "legendgroup": "32",
         "marker": {
          "color": "#00cc96",
          "symbol": "circle"
         },
         "mode": "markers",
         "name": "32",
         "orientation": "v",
         "showlegend": true,
         "type": "scatter",
         "x": [
          "2020-08-01T15:34:43.318437",
          "2020-08-01T22:14:05.563754"
         ],
         "xaxis": "x",
         "y": [
          11836.045,
          11959.665
         ],
         "yaxis": "y"
        },
        {
         "customdata": [
          [
           "open",
           "short",
           -83.3
          ],
          [
           "close",
           "short",
           -83.3
          ]
         ],
         "hovertemplate": "key=33<br>time=%{x}<br>price=%{y}<br>OC=%{customdata[0]}<br>position=%{customdata[1]}<br>PnL=%{customdata[2]}<extra></extra>",
         "legendgroup": "33",
         "marker": {
          "color": "#ab63fa",
          "symbol": "circle"
         },
         "mode": "markers",
         "name": "33",
         "orientation": "v",
         "showlegend": true,
         "type": "scatter",
         "x": [
          "2020-08-01T22:16:29.729777",
          "2020-08-02T00:12:26.571586"
         ],
         "xaxis": "x",
         "y": [
          11959.995,
          12084.095000000001
         ],
         "yaxis": "y"
        },
        {
         "customdata": [
          [
           "open",
           "short",
           189.26
          ],
          [
           "close",
           "short",
           189.26
          ]
         ],
         "hovertemplate": "key=34<br>time=%{x}<br>price=%{y}<br>OC=%{customdata[0]}<br>position=%{customdata[1]}<br>PnL=%{customdata[2]}<extra></extra>",
         "legendgroup": "34",
         "marker": {
          "color": "#FFA15A",
          "symbol": "circle"
         },
         "mode": "markers",
         "name": "34",
         "orientation": "v",
         "showlegend": true,
         "type": "scatter",
         "x": [
          "2020-08-02T00:12:26.571586",
          "2020-08-02T00:37:57.407917"
         ],
         "xaxis": "x",
         "y": [
          12084.095,
          11816.255000000001
         ],
         "yaxis": "y"
        },
        {
         "customdata": [
          [
           "open",
           "long",
           -124.52
          ],
          [
           "close",
           "long",
           -124.52
          ]
         ],
         "hovertemplate": "key=35<br>time=%{x}<br>price=%{y}<br>OC=%{customdata[0]}<br>position=%{customdata[1]}<br>PnL=%{customdata[2]}<extra></extra>",
         "legendgroup": "35",
         "marker": {
          "color": "#19d3f3",
          "symbol": "circle"
         },
         "mode": "markers",
         "name": "35",
         "orientation": "v",
         "showlegend": true,
         "type": "scatter",
         "x": [
          "2020-08-02T00:37:57.407917",
          "2020-08-02T00:38:31.559867"
         ],
         "xaxis": "x",
         "y": [
          11816.255,
          11638.055
         ],
         "yaxis": "y"
        },
        {
         "customdata": [
          [
           "open",
           "long",
           -95.05
          ],
          [
           "close",
           "long",
           -95.05
          ]
         ],
         "hovertemplate": "key=36<br>time=%{x}<br>price=%{y}<br>OC=%{customdata[0]}<br>position=%{customdata[1]}<br>PnL=%{customdata[2]}<extra></extra>",
         "legendgroup": "36",
         "marker": {
          "color": "#FF6692",
          "symbol": "circle"
         },
         "mode": "markers",
         "name": "36",
         "orientation": "v",
         "showlegend": true,
         "type": "scatter",
         "x": [
          "2020-08-02T00:38:42.837230",
          "2020-08-02T00:38:54.186963"
         ],
         "xaxis": "x",
         "y": [
          11557.21,
          11420.9
         ],
         "yaxis": "y"
        },
        {
         "customdata": [
          [
           "open",
           "long",
           -141.2
          ],
          [
           "close",
           "long",
           -141.2
          ]
         ],
         "hovertemplate": "key=37<br>time=%{x}<br>price=%{y}<br>OC=%{customdata[0]}<br>position=%{customdata[1]}<br>PnL=%{customdata[2]}<extra></extra>",
         "legendgroup": "37",
         "marker": {
          "color": "#B6E880",
          "symbol": "circle"
         },
         "mode": "markers",
         "name": "37",
         "orientation": "v",
         "showlegend": true,
         "type": "scatter",
         "x": [
          "2020-08-02T00:39:05.648864",
          "2020-08-02T00:39:28.334156"
         ],
         "xaxis": "x",
         "y": [
          11391.795,
          11192.775
         ],
         "yaxis": "y"
        },
        {
         "customdata": [
          [
           "open",
           "long",
           -114.15
          ],
          [
           "close",
           "long",
           -114.15
          ]
         ],
         "hovertemplate": "key=38<br>time=%{x}<br>price=%{y}<br>OC=%{customdata[0]}<br>position=%{customdata[1]}<br>PnL=%{customdata[2]}<extra></extra>",
         "legendgroup": "38",
         "marker": {
          "color": "#FF97FF",
          "symbol": "circle"
         },
         "mode": "markers",
         "name": "38",
         "orientation": "v",
         "showlegend": true,
         "type": "scatter",
         "x": [
          "2020-08-02T00:39:28.334156",
          "2020-08-02T00:40:48.146815"
         ],
         "xaxis": "x",
         "y": [
          11192.775,
          11030.965
         ],
         "yaxis": "y"
        },
        {
         "customdata": [
          [
           "open",
           "long",
           -148.86
          ],
          [
           "close",
           "long",
           -148.86
          ]
         ],
         "hovertemplate": "key=39<br>time=%{x}<br>price=%{y}<br>OC=%{customdata[0]}<br>position=%{customdata[1]}<br>PnL=%{customdata[2]}<extra></extra>",
         "legendgroup": "39",
         "marker": {
          "color": "#FECB52",
          "symbol": "circle"
         },
         "mode": "markers",
         "name": "39",
         "orientation": "v",
         "showlegend": true,
         "type": "scatter",
         "x": [
          "2020-08-02T00:40:59.645882",
          "2020-08-02T00:42:07.623763"
         ],
         "xaxis": "x",
         "y": [
          10902.51,
          10695.82
         ],
         "yaxis": "y"
        },
        {
         "customdata": [
          [
           "open",
           "long",
           -84.06
          ],
          [
           "close",
           "long",
           -84.06
          ]
         ],
         "hovertemplate": "key=40<br>time=%{x}<br>price=%{y}<br>OC=%{customdata[0]}<br>position=%{customdata[1]}<br>PnL=%{customdata[2]}<extra></extra>",
         "legendgroup": "40",
         "marker": {
          "color": "#636efa",
          "symbol": "circle"
         },
         "mode": "markers",
         "name": "40",
         "orientation": "v",
         "showlegend": true,
         "type": "scatter",
         "x": [
          "2020-08-02T00:42:07.623763",
          "2020-08-02T00:42:19.031513"
         ],
         "xaxis": "x",
         "y": [
          10695.82,
          10576.9
         ],
         "yaxis": "y"
        },
        {
         "customdata": [
          [
           "open",
           "long",
           191.47
          ],
          [
           "close",
           "long",
           191.47
          ]
         ],
         "hovertemplate": "key=41<br>time=%{x}<br>price=%{y}<br>OC=%{customdata[0]}<br>position=%{customdata[1]}<br>PnL=%{customdata[2]}<extra></extra>",
         "legendgroup": "41",
         "marker": {
          "color": "#EF553B",
          "symbol": "circle"
         },
         "mode": "markers",
         "name": "41",
         "orientation": "v",
         "showlegend": true,
         "type": "scatter",
         "x": [
          "2020-08-02T00:42:19.031513",
          "2020-08-02T00:43:27.324243"
         ],
         "xaxis": "x",
         "y": [
          10576.9,
          10830.185000000001
         ],
         "yaxis": "y"
        },
        {
         "customdata": [
          [
           "open",
           "long",
           182.04
          ],
          [
           "close",
           "long",
           182.04
          ]
         ],
         "hovertemplate": "key=42<br>time=%{x}<br>price=%{y}<br>OC=%{customdata[0]}<br>position=%{customdata[1]}<br>PnL=%{customdata[2]}<extra></extra>",
         "legendgroup": "42",
         "marker": {
          "color": "#00cc96",
          "symbol": "circle"
         },
         "mode": "markers",
         "name": "42",
         "orientation": "v",
         "showlegend": true,
         "type": "scatter",
         "x": [
          "2020-08-02T00:43:27.324243",
          "2020-08-02T00:46:18.349592"
         ],
         "xaxis": "x",
         "y": [
          10830.185,
          11070.485
         ],
         "yaxis": "y"
        },
        {
         "customdata": [
          [
           "open",
           "long",
           174.75
          ],
          [
           "close",
           "long",
           174.75
          ]
         ],
         "hovertemplate": "key=43<br>time=%{x}<br>price=%{y}<br>OC=%{customdata[0]}<br>position=%{customdata[1]}<br>PnL=%{customdata[2]}<extra></extra>",
         "legendgroup": "43",
         "marker": {
          "color": "#ab63fa",
          "symbol": "circle"
         },
         "mode": "markers",
         "name": "43",
         "orientation": "v",
         "showlegend": true,
         "type": "scatter",
         "x": [
          "2020-08-02T00:46:18.349592",
          "2020-08-02T01:06:13.833970"
         ],
         "xaxis": "x",
         "y": [
          11070.485,
          11300.715
         ],
         "yaxis": "y"
        },
        {
         "customdata": [
          [
           "open",
           "short",
           180.7
          ],
          [
           "close",
           "short",
           180.7
          ]
         ],
         "hovertemplate": "key=44<br>time=%{x}<br>price=%{y}<br>OC=%{customdata[0]}<br>position=%{customdata[1]}<br>PnL=%{customdata[2]}<extra></extra>",
         "legendgroup": "44",
         "marker": {
          "color": "#FFA15A",
          "symbol": "circle"
         },
         "mode": "markers",
         "name": "44",
         "orientation": "v",
         "showlegend": true,
         "type": "scatter",
         "x": [
          "2020-08-02T01:06:13.833970",
          "2020-08-02T07:21:00.664101"
         ],
         "xaxis": "x",
         "y": [
          11300.715,
          11062.689999999999
         ],
         "yaxis": "y"
        },
        {
         "customdata": [
          [
           "open",
           "long",
           -84.66
          ],
          [
           "close",
           "long",
           -84.66
          ]
         ],
         "hovertemplate": "key=45<br>time=%{x}<br>price=%{y}<br>OC=%{customdata[0]}<br>position=%{customdata[1]}<br>PnL=%{customdata[2]}<extra></extra>",
         "legendgroup": "45",
         "marker": {
          "color": "#19d3f3",
          "symbol": "circle"
         },
         "mode": "markers",
         "name": "45",
         "orientation": "v",
         "showlegend": true,
         "type": "scatter",
         "x": [
          "2020-08-02T07:21:11.989294",
          "2020-08-02T07:39:26.568831"
         ],
         "xaxis": "x",
         "y": [
          11087.765,
          10972.575
         ],
         "yaxis": "y"
        },
        {
         "customdata": [
          [
           "open",
           "long",
           176.05
          ],
          [
           "close",
           "long",
           176.05
          ]
         ],
         "hovertemplate": "key=46<br>time=%{x}<br>price=%{y}<br>OC=%{customdata[0]}<br>position=%{customdata[1]}<br>PnL=%{customdata[2]}<extra></extra>",
         "legendgroup": "46",
         "marker": {
          "color": "#FF6692",
          "symbol": "circle"
         },
         "mode": "markers",
         "name": "46",
         "orientation": "v",
         "showlegend": true,
         "type": "scatter",
         "x": [
          "2020-08-02T07:39:26.568831",
          "2020-08-02T12:49:44.988872"
         ],
         "xaxis": "x",
         "y": [
          10972.575,
          11194.985
         ],
         "yaxis": "y"
        },
        {
         "customdata": [
          [
           "open",
           "short",
           178.05
          ],
          [
           "close",
           "short",
           178.05
          ]
         ],
         "hovertemplate": "key=47<br>time=%{x}<br>price=%{y}<br>OC=%{customdata[0]}<br>position=%{customdata[1]}<br>PnL=%{customdata[2]}<extra></extra>",
         "legendgroup": "47",
         "marker": {
          "color": "#B6E880",
          "symbol": "circle"
         },
         "mode": "markers",
         "name": "47",
         "orientation": "v",
         "showlegend": true,
         "type": "scatter",
         "x": [
          "2020-08-02T12:49:56.378900",
          "2020-08-02T20:04:18.017710"
         ],
         "xaxis": "x",
         "y": [
          11197.835,
          10973.005000000001
         ],
         "yaxis": "y"
        },
        {
         "customdata": [
          [
           "open",
           "long",
           183.11
          ],
          [
           "close",
           "long",
           183.11
          ]
         ],
         "hovertemplate": "key=48<br>time=%{x}<br>price=%{y}<br>OC=%{customdata[0]}<br>position=%{customdata[1]}<br>PnL=%{customdata[2]}<extra></extra>",
         "legendgroup": "48",
         "marker": {
          "color": "#FF97FF",
          "symbol": "circle"
         },
         "mode": "markers",
         "name": "48",
         "orientation": "v",
         "showlegend": true,
         "type": "scatter",
         "x": [
          "2020-08-02T20:04:29.501043",
          "2020-08-02T22:38:27.415420"
         ],
         "xaxis": "x",
         "y": [
          10968.72,
          11190.685
         ],
         "yaxis": "y"
        },
        {
         "customdata": [
          [
           "open",
           "long",
           189.11
          ],
          [
           "close",
           "long",
           189.11
          ]
         ],
         "hovertemplate": "key=49<br>time=%{x}<br>price=%{y}<br>OC=%{customdata[0]}<br>position=%{customdata[1]}<br>PnL=%{customdata[2]}<extra></extra>",
         "legendgroup": "49",
         "marker": {
          "color": "#FECB52",
          "symbol": "circle"
         },
         "mode": "markers",
         "name": "49",
         "orientation": "v",
         "showlegend": true,
         "type": "scatter",
         "x": [
          "2020-08-02T23:03:34.090471",
          "2020-08-03T12:00:40.159968"
         ],
         "xaxis": "x",
         "y": [
          11179.955,
          11408.925
         ],
         "yaxis": "y"
        },
        {
         "customdata": [
          [
           "open",
           "short",
           200.08
          ],
          [
           "close",
           "short",
           200.08
          ]
         ],
         "hovertemplate": "key=50<br>time=%{x}<br>price=%{y}<br>OC=%{customdata[0]}<br>position=%{customdata[1]}<br>PnL=%{customdata[2]}<extra></extra>",
         "legendgroup": "50",
         "marker": {
          "color": "#636efa",
          "symbol": "circle"
         },
         "mode": "markers",
         "name": "50",
         "orientation": "v",
         "showlegend": true,
         "type": "scatter",
         "x": [
          "2020-08-03T12:03:09.668466",
          "2020-08-03T17:59:26.638395"
         ],
         "xaxis": "x",
         "y": [
          11412.815,
          11170.395
         ],
         "yaxis": "y"
        },
        {
         "customdata": [
          [
           "open",
           "long",
           -91.23
          ],
          [
           "close",
           "long",
           -91.23
          ]
         ],
         "hovertemplate": "key=51<br>time=%{x}<br>price=%{y}<br>OC=%{customdata[0]}<br>position=%{customdata[1]}<br>PnL=%{customdata[2]}<extra></extra>",
         "legendgroup": "51",
         "marker": {
          "color": "#EF553B",
          "symbol": "circle"
         },
         "mode": "markers",
         "name": "51",
         "orientation": "v",
         "showlegend": true,
         "type": "scatter",
         "x": [
          "2020-08-03T17:59:38.400594",
          "2020-08-04T07:54:20.810450"
         ],
         "xaxis": "x",
         "y": [
          11208.36,
          11094.005000000001
         ],
         "yaxis": "y"
        },
        {
         "customdata": [
          [
           "open",
           "long",
           193.5
          ],
          [
           "close",
           "long",
           193.5
          ]
         ],
         "hovertemplate": "key=52<br>time=%{x}<br>price=%{y}<br>OC=%{customdata[0]}<br>position=%{customdata[1]}<br>PnL=%{customdata[2]}<extra></extra>",
         "legendgroup": "52",
         "marker": {
          "color": "#00cc96",
          "symbol": "circle"
         },
         "mode": "markers",
         "name": "52",
         "orientation": "v",
         "showlegend": true,
         "type": "scatter",
         "x": [
          "2020-08-04T07:54:20.810450",
          "2020-08-05T02:10:04.155380"
         ],
         "xaxis": "x",
         "y": [
          11094.005,
          11318.994999999999
         ],
         "yaxis": "y"
        },
        {
         "customdata": [
          [
           "open",
           "long",
           231.45
          ],
          [
           "close",
           "long",
           231.45
          ]
         ],
         "hovertemplate": "key=53<br>time=%{x}<br>price=%{y}<br>OC=%{customdata[0]}<br>position=%{customdata[1]}<br>PnL=%{customdata[2]}<extra></extra>",
         "legendgroup": "53",
         "marker": {
          "color": "#ab63fa",
          "symbol": "circle"
         },
         "mode": "markers",
         "name": "53",
         "orientation": "v",
         "showlegend": true,
         "type": "scatter",
         "x": [
          "2020-08-05T02:45:40.482053",
          "2020-08-05T08:50:50.322035"
         ],
         "xaxis": "x",
         "y": [
          11293.625,
          11562.985
         ],
         "yaxis": "y"
        },
        {
         "customdata": [
          [
           "open",
           "short",
           -92.94
          ],
          [
           "close",
           "short",
           -92.94
          ]
         ],
         "hovertemplate": "key=54<br>time=%{x}<br>price=%{y}<br>OC=%{customdata[0]}<br>position=%{customdata[1]}<br>PnL=%{customdata[2]}<extra></extra>",
         "legendgroup": "54",
         "marker": {
          "color": "#FFA15A",
          "symbol": "circle"
         },
         "mode": "markers",
         "name": "54",
         "orientation": "v",
         "showlegend": true,
         "type": "scatter",
         "x": [
          "2020-08-05T08:51:24.394751",
          "2020-08-05T11:06:36.138277"
         ],
         "xaxis": "x",
         "y": [
          11557.91,
          11674.01
         ],
         "yaxis": "y"
        },
        {
         "customdata": [
          [
           "open",
           "short",
           -94.14
          ],
          [
           "close",
           "short",
           -94.14
          ]
         ],
         "hovertemplate": "key=55<br>time=%{x}<br>price=%{y}<br>OC=%{customdata[0]}<br>position=%{customdata[1]}<br>PnL=%{customdata[2]}<extra></extra>",
         "legendgroup": "55",
         "marker": {
          "color": "#19d3f3",
          "symbol": "circle"
         },
         "mode": "markers",
         "name": "55",
         "orientation": "v",
         "showlegend": true,
         "type": "scatter",
         "x": [
          "2020-08-05T11:07:10.609185",
          "2020-08-05T17:41:51.535205"
         ],
         "xaxis": "x",
         "y": [
          11675.345,
          11795.154999999999
         ],
         "yaxis": "y"
        },
        {
         "customdata": [
          [
           "open",
           "short",
           214.94
          ],
          [
           "close",
           "short",
           214.94
          ]
         ],
         "hovertemplate": "key=56<br>time=%{x}<br>price=%{y}<br>OC=%{customdata[0]}<br>position=%{customdata[1]}<br>PnL=%{customdata[2]}<extra></extra>",
         "legendgroup": "56",
         "marker": {
          "color": "#FF6692",
          "symbol": "circle"
         },
         "mode": "markers",
         "name": "56",
         "orientation": "v",
         "showlegend": true,
         "type": "scatter",
         "x": [
          "2020-08-05T17:45:53.518505",
          "2020-08-05T18:03:54.657078"
         ],
         "xaxis": "x",
         "y": [
          11793.275,
          11533.72
         ],
         "yaxis": "y"
        },
        {
         "customdata": [
          [
           "open",
           "long",
           204.44
          ],
          [
           "close",
           "long",
           204.44
          ]
         ],
         "hovertemplate": "key=57<br>time=%{x}<br>price=%{y}<br>OC=%{customdata[0]}<br>position=%{customdata[1]}<br>PnL=%{customdata[2]}<extra></extra>",
         "legendgroup": "57",
         "marker": {
          "color": "#B6E880",
          "symbol": "circle"
         },
         "mode": "markers",
         "name": "57",
         "orientation": "v",
         "showlegend": true,
         "type": "scatter",
         "x": [
          "2020-08-05T18:04:06.007503",
          "2020-08-06T09:40:05.176781"
         ],
         "xaxis": "x",
         "y": [
          11618.54,
          11855.994999999999
         ],
         "yaxis": "y"
        },
        {
         "customdata": [
          [
           "open",
           "short",
           205.74
          ],
          [
           "close",
           "short",
           205.74
          ]
         ],
         "hovertemplate": "key=58<br>time=%{x}<br>price=%{y}<br>OC=%{customdata[0]}<br>position=%{customdata[1]}<br>PnL=%{customdata[2]}<extra></extra>",
         "legendgroup": "58",
         "marker": {
          "color": "#FF97FF",
          "symbol": "circle"
         },
         "mode": "markers",
         "name": "58",
         "orientation": "v",
         "showlegend": true,
         "type": "scatter",
         "x": [
          "2020-08-06T09:40:05.176781",
          "2020-08-07T12:22:02.121783"
         ],
         "xaxis": "x",
         "y": [
          11855.995,
          11617.23
         ],
         "yaxis": "y"
        },
        {
         "customdata": [
          [
           "open",
           "long",
           250.32
          ],
          [
           "close",
           "long",
           250.32
          ]
         ],
         "hovertemplate": "key=59<br>time=%{x}<br>price=%{y}<br>OC=%{customdata[0]}<br>position=%{customdata[1]}<br>PnL=%{customdata[2]}<extra></extra>",
         "legendgroup": "59",
         "marker": {
          "color": "#FECB52",
          "symbol": "circle"
         },
         "mode": "markers",
         "name": "59",
         "orientation": "v",
         "showlegend": true,
         "type": "scatter",
         "x": [
          "2020-08-07T12:30:45.693014",
          "2020-08-10T15:10:51.478721"
         ],
         "xaxis": "x",
         "y": [
          11605.805,
          11885.535
         ],
         "yaxis": "y"
        },
        {
         "customdata": [
          [
           "open",
           "short",
           217.6
          ],
          [
           "close",
           "short",
           217.6
          ]
         ],
         "hovertemplate": "key=60<br>time=%{x}<br>price=%{y}<br>OC=%{customdata[0]}<br>position=%{customdata[1]}<br>PnL=%{customdata[2]}<extra></extra>",
         "legendgroup": "60",
         "marker": {
          "color": "#636efa",
          "symbol": "circle"
         },
         "mode": "markers",
         "name": "60",
         "orientation": "v",
         "showlegend": true,
         "type": "scatter",
         "x": [
          "2020-08-10T15:12:50.293200",
          "2020-08-11T06:10:22.399485"
         ],
         "xaxis": "x",
         "y": [
          11902.295,
          11659.810000000001
         ],
         "yaxis": "y"
        },
        {
         "customdata": [
          [
           "open",
           "long",
           -111.68
          ],
          [
           "close",
           "long",
           -111.68
          ]
         ],
         "hovertemplate": "key=61<br>time=%{x}<br>price=%{y}<br>OC=%{customdata[0]}<br>position=%{customdata[1]}<br>PnL=%{customdata[2]}<extra></extra>",
         "legendgroup": "61",
         "marker": {
          "color": "#EF553B",
          "symbol": "circle"
         },
         "mode": "markers",
         "name": "61",
         "orientation": "v",
         "showlegend": true,
         "type": "scatter",
         "x": [
          "2020-08-11T06:10:22.399485",
          "2020-08-11T10:58:14.131239"
         ],
         "xaxis": "x",
         "y": [
          11659.81,
          11531.619999999999
         ],
         "yaxis": "y"
        },
        {
         "customdata": [
          [
           "open",
           "long",
           -114.97
          ],
          [
           "close",
           "long",
           -114.97
          ]
         ],
         "hovertemplate": "key=62<br>time=%{x}<br>price=%{y}<br>OC=%{customdata[0]}<br>position=%{customdata[1]}<br>PnL=%{customdata[2]}<extra></extra>",
         "legendgroup": "62",
         "marker": {
          "color": "#00cc96",
          "symbol": "circle"
         },
         "mode": "markers",
         "name": "62",
         "orientation": "v",
         "showlegend": true,
         "type": "scatter",
         "x": [
          "2020-08-11T10:59:11.750959",
          "2020-08-11T11:15:30.284205"
         ],
         "xaxis": "x",
         "y": [
          11549.865000000002,
          11417.994999999999
         ],
         "yaxis": "y"
        },
        {
         "customdata": [
          [
           "open",
           "long",
           -115.1
          ],
          [
           "close",
           "long",
           -115.1
          ]
         ],
         "hovertemplate": "key=63<br>time=%{x}<br>price=%{y}<br>OC=%{customdata[0]}<br>position=%{customdata[1]}<br>PnL=%{customdata[2]}<extra></extra>",
         "legendgroup": "63",
         "marker": {
          "color": "#ab63fa",
          "symbol": "circle"
         },
         "mode": "markers",
         "name": "63",
         "orientation": "v",
         "showlegend": true,
         "type": "scatter",
         "x": [
          "2020-08-11T11:15:41.968992",
          "2020-08-11T16:17:55.763602"
         ],
         "xaxis": "x",
         "y": [
          11405.865000000002,
          11274.125
         ],
         "yaxis": "y"
        },
        {
         "customdata": [
          [
           "open",
           "long",
           -104.6
          ],
          [
           "close",
           "long",
           -104.6
          ]
         ],
         "hovertemplate": "key=64<br>time=%{x}<br>price=%{y}<br>OC=%{customdata[0]}<br>position=%{customdata[1]}<br>PnL=%{customdata[2]}<extra></extra>",
         "legendgroup": "64",
         "marker": {
          "color": "#FFA15A",
          "symbol": "circle"
         },
         "mode": "markers",
         "name": "64",
         "orientation": "v",
         "showlegend": true,
         "type": "scatter",
         "x": [
          "2020-08-11T16:17:55.763602",
          "2020-08-11T16:36:04.110229"
         ],
         "xaxis": "x",
         "y": [
          11274.125,
          11154.005000000001
         ],
         "yaxis": "y"
        },
        {
         "customdata": [
          [
           "open",
           "long",
           211.09
          ],
          [
           "close",
           "long",
           211.09
          ]
         ],
         "hovertemplate": "key=65<br>time=%{x}<br>price=%{y}<br>OC=%{customdata[0]}<br>position=%{customdata[1]}<br>PnL=%{customdata[2]}<extra></extra>",
         "legendgroup": "65",
         "marker": {
          "color": "#19d3f3",
          "symbol": "circle"
         },
         "mode": "markers",
         "name": "65",
         "orientation": "v",
         "showlegend": true,
         "type": "scatter",
         "x": [
          "2020-08-11T16:36:04.110229",
          "2020-08-11T19:07:17.452802"
         ],
         "xaxis": "x",
         "y": [
          11154.005,
          11379.355
         ],
         "yaxis": "y"
        },
        {
         "customdata": [
          [
           "open",
           "short",
           -101.41
          ],
          [
           "close",
           "short",
           -101.41
          ]
         ],
         "hovertemplate": "key=66<br>time=%{x}<br>price=%{y}<br>OC=%{customdata[0]}<br>position=%{customdata[1]}<br>PnL=%{customdata[2]}<extra></extra>",
         "legendgroup": "66",
         "marker": {
          "color": "#FF6692",
          "symbol": "circle"
         },
         "mode": "markers",
         "name": "66",
         "orientation": "v",
         "showlegend": true,
         "type": "scatter",
         "x": [
          "2020-08-11T19:07:50.027631",
          "2020-08-12T04:31:52.549581"
         ],
         "xaxis": "x",
         "y": [
          11377.01,
          11493.555
         ],
         "yaxis": "y"
        },
        {
         "customdata": [
          [
           "open",
           "short",
           -99.36
          ],
          [
           "close",
           "short",
           -99.36
          ]
         ],
         "hovertemplate": "key=67<br>time=%{x}<br>price=%{y}<br>OC=%{customdata[0]}<br>position=%{customdata[1]}<br>PnL=%{customdata[2]}<extra></extra>",
         "legendgroup": "67",
         "marker": {
          "color": "#B6E880",
          "symbol": "circle"
         },
         "mode": "markers",
         "name": "67",
         "orientation": "v",
         "showlegend": true,
         "type": "scatter",
         "x": [
          "2020-08-12T04:32:03.797409",
          "2020-08-12T11:01:43.073327"
         ],
         "xaxis": "x",
         "y": [
          11494.585,
          11611.154999999999
         ],
         "yaxis": "y"
        },
        {
         "customdata": [
          [
           "open",
           "short",
           222.25
          ],
          [
           "close",
           "short",
           222.25
          ]
         ],
         "hovertemplate": "key=68<br>time=%{x}<br>price=%{y}<br>OC=%{customdata[0]}<br>position=%{customdata[1]}<br>PnL=%{customdata[2]}<extra></extra>",
         "legendgroup": "68",
         "marker": {
          "color": "#FF97FF",
          "symbol": "circle"
         },
         "mode": "markers",
         "name": "68",
         "orientation": "v",
         "showlegend": true,
         "type": "scatter",
         "x": [
          "2020-08-12T11:02:39.524888",
          "2020-08-13T04:43:45.869830"
         ],
         "xaxis": "x",
         "y": [
          11624.995,
          11377.665
         ],
         "yaxis": "y"
        },
        {
         "customdata": [
          [
           "open",
           "long",
           217.68
          ],
          [
           "close",
           "long",
           217.68
          ]
         ],
         "hovertemplate": "key=69<br>time=%{x}<br>price=%{y}<br>OC=%{customdata[0]}<br>position=%{customdata[1]}<br>PnL=%{customdata[2]}<extra></extra>",
         "legendgroup": "69",
         "marker": {
          "color": "#FECB52",
          "symbol": "circle"
         },
         "mode": "markers",
         "name": "69",
         "orientation": "v",
         "showlegend": true,
         "type": "scatter",
         "x": [
          "2020-08-13T04:43:57.660878",
          "2020-08-13T07:20:46.651182"
         ],
         "xaxis": "x",
         "y": [
          11380.935,
          11612.805
         ],
         "yaxis": "y"
        },
        {
         "customdata": [
          [
           "open",
           "short",
           -103.63
          ],
          [
           "close",
           "short",
           -103.63
          ]
         ],
         "hovertemplate": "key=70<br>time=%{x}<br>price=%{y}<br>OC=%{customdata[0]}<br>position=%{customdata[1]}<br>PnL=%{customdata[2]}<extra></extra>",
         "legendgroup": "70",
         "marker": {
          "color": "#636efa",
          "symbol": "circle"
         },
         "mode": "markers",
         "name": "70",
         "orientation": "v",
         "showlegend": true,
         "type": "scatter",
         "x": [
          "2020-08-13T07:20:46.651182",
          "2020-08-13T17:06:45.473664"
         ],
         "xaxis": "x",
         "y": [
          11612.805,
          11731.645
         ],
         "yaxis": "y"
        },
        {
         "customdata": [
          [
           "open",
           "short",
           -106.65
          ],
          [
           "close",
           "short",
           -106.65
          ]
         ],
         "hovertemplate": "key=71<br>time=%{x}<br>price=%{y}<br>OC=%{customdata[0]}<br>position=%{customdata[1]}<br>PnL=%{customdata[2]}<extra></extra>",
         "legendgroup": "71",
         "marker": {
          "color": "#EF553B",
          "symbol": "circle"
         },
         "mode": "markers",
         "name": "71",
         "orientation": "v",
         "showlegend": true,
         "type": "scatter",
         "x": [
          "2020-08-13T17:06:57.272874",
          "2020-08-14T12:26:11.329869"
         ],
         "xaxis": "x",
         "y": [
          11734.47,
          11859.045
         ],
         "yaxis": "y"
        },
        {
         "customdata": [
          [
           "open",
           "long",
           409.06
          ],
          [
           "close",
           "long",
           409.06
          ]
         ],
         "hovertemplate": "key=72<br>time=%{x}<br>price=%{y}<br>OC=%{customdata[0]}<br>position=%{customdata[1]}<br>PnL=%{customdata[2]}<extra></extra>",
         "legendgroup": "72",
         "marker": {
          "color": "#00cc96",
          "symbol": "circle"
         },
         "mode": "markers",
         "name": "72",
         "orientation": "v",
         "showlegend": true,
         "type": "scatter",
         "x": [
          "2020-08-14T12:26:22.648451",
          "2020-08-17T11:32:28.788868"
         ],
         "xaxis": "x",
         "y": [
          11802.245,
          12258.95
         ],
         "yaxis": "y"
        },
        {
         "customdata": [
          [
           "open",
           "short",
           -104.09
          ],
          [
           "close",
           "short",
           -104.09
          ]
         ],
         "hovertemplate": "key=73<br>time=%{x}<br>price=%{y}<br>OC=%{customdata[0]}<br>position=%{customdata[1]}<br>PnL=%{customdata[2]}<extra></extra>",
         "legendgroup": "73",
         "marker": {
          "color": "#ab63fa",
          "symbol": "circle"
         },
         "mode": "markers",
         "name": "73",
         "orientation": "v",
         "showlegend": true,
         "type": "scatter",
         "x": [
          "2020-08-17T11:33:03.317015",
          "2020-08-17T11:46:01.335962"
         ],
         "xaxis": "x",
         "y": [
          12254.205,
          12377.945
         ],
         "yaxis": "y"
        },
        {
         "customdata": [
          [
           "open",
           "short",
           373.86
          ],
          [
           "close",
           "short",
           373.86
          ]
         ],
         "hovertemplate": "key=74<br>time=%{x}<br>price=%{y}<br>OC=%{customdata[0]}<br>position=%{customdata[1]}<br>PnL=%{customdata[2]}<extra></extra>",
         "legendgroup": "74",
         "marker": {
          "color": "#FFA15A",
          "symbol": "circle"
         },
         "mode": "markers",
         "name": "74",
         "orientation": "v",
         "showlegend": true,
         "type": "scatter",
         "x": [
          "2020-08-17T11:46:13.159762",
          "2020-08-18T12:32:39.120521"
         ],
         "xaxis": "x",
         "y": [
          12397.965,
          11972.634999999998
         ],
         "yaxis": "y"
        },
        {
         "customdata": [
          [
           "open",
           "long",
           -107.97
          ],
          [
           "close",
           "long",
           -107.97
          ]
         ],
         "hovertemplate": "key=75<br>time=%{x}<br>price=%{y}<br>OC=%{customdata[0]}<br>position=%{customdata[1]}<br>PnL=%{customdata[2]}<extra></extra>",
         "legendgroup": "75",
         "marker": {
          "color": "#19d3f3",
          "symbol": "circle"
         },
         "mode": "markers",
         "name": "75",
         "orientation": "v",
         "showlegend": true,
         "type": "scatter",
         "x": [
          "2020-08-18T12:32:50.874013",
          "2020-08-18T23:48:31.309414"
         ],
         "xaxis": "x",
         "y": [
          11979.585,
          11857.224999999999
         ],
         "yaxis": "y"
        },
        {
         "customdata": [
          [
           "open",
           "long",
           -125.08
          ],
          [
           "close",
           "long",
           -125.08
          ]
         ],
         "hovertemplate": "key=76<br>time=%{x}<br>price=%{y}<br>OC=%{customdata[0]}<br>position=%{customdata[1]}<br>PnL=%{customdata[2]}<extra></extra>",
         "legendgroup": "76",
         "marker": {
          "color": "#FF6692",
          "symbol": "circle"
         },
         "mode": "markers",
         "name": "76",
         "orientation": "v",
         "showlegend": true,
         "type": "scatter",
         "x": [
          "2020-08-18T23:49:05.947694",
          "2020-08-19T00:18:01.313987"
         ],
         "xaxis": "x",
         "y": [
          11847.32,
          11706.765
         ],
         "yaxis": "y"
        },
        {
         "customdata": [
          [
           "open",
           "long",
           -104.48
          ],
          [
           "close",
           "long",
           -104.48
          ]
         ],
         "hovertemplate": "key=77<br>time=%{x}<br>price=%{y}<br>OC=%{customdata[0]}<br>position=%{customdata[1]}<br>PnL=%{customdata[2]}<extra></extra>",
         "legendgroup": "77",
         "marker": {
          "color": "#B6E880",
          "symbol": "circle"
         },
         "mode": "markers",
         "name": "77",
         "orientation": "v",
         "showlegend": true,
         "type": "scatter",
         "x": [
          "2020-08-19T00:18:12.699188",
          "2020-08-19T02:21:49.406522"
         ],
         "xaxis": "x",
         "y": [
          11746.035,
          11627.384999999998
         ],
         "yaxis": "y"
        },
        {
         "customdata": [
          [
           "open",
           "long",
           221.73
          ],
          [
           "close",
           "long",
           221.73
          ]
         ],
         "hovertemplate": "key=78<br>time=%{x}<br>price=%{y}<br>OC=%{customdata[0]}<br>position=%{customdata[1]}<br>PnL=%{customdata[2]}<extra></extra>",
         "legendgroup": "78",
         "marker": {
          "color": "#FF97FF",
          "symbol": "circle"
         },
         "mode": "markers",
         "name": "78",
         "orientation": "v",
         "showlegend": true,
         "type": "scatter",
         "x": [
          "2020-08-19T02:21:49.406522",
          "2020-08-19T07:17:47.796712"
         ],
         "xaxis": "x",
         "y": [
          11627.384999999998,
          11860.795
         ],
         "yaxis": "y"
        },
        {
         "customdata": [
          [
           "open",
           "short",
           229.85
          ],
          [
           "close",
           "short",
           229.85
          ]
         ],
         "hovertemplate": "key=79<br>time=%{x}<br>price=%{y}<br>OC=%{customdata[0]}<br>position=%{customdata[1]}<br>PnL=%{customdata[2]}<extra></extra>",
         "legendgroup": "79",
         "marker": {
          "color": "#FECB52",
          "symbol": "circle"
         },
         "mode": "markers",
         "name": "79",
         "orientation": "v",
         "showlegend": true,
         "type": "scatter",
         "x": [
          "2020-08-19T07:17:58.962054",
          "2020-08-19T16:17:10.224164"
         ],
         "xaxis": "x",
         "y": [
          11863.955,
          11621.965
         ],
         "yaxis": "y"
        },
        {
         "customdata": [
          [
           "open",
           "long",
           235.37
          ],
          [
           "close",
           "long",
           235.37
          ]
         ],
         "hovertemplate": "key=80<br>time=%{x}<br>price=%{y}<br>OC=%{customdata[0]}<br>position=%{customdata[1]}<br>PnL=%{customdata[2]}<extra></extra>",
         "legendgroup": "80",
         "marker": {
          "color": "#636efa",
          "symbol": "circle"
         },
         "mode": "markers",
         "name": "80",
         "orientation": "v",
         "showlegend": true,
         "type": "scatter",
         "x": [
          "2020-08-19T16:17:10.224164",
          "2020-08-20T12:22:52.362734"
         ],
         "xaxis": "x",
         "y": [
          11621.965,
          11859.76
         ],
         "yaxis": "y"
        },
        {
         "customdata": [
          [
           "open",
           "short",
           236.36
          ],
          [
           "close",
           "short",
           236.36
          ]
         ],
         "hovertemplate": "key=81<br>time=%{x}<br>price=%{y}<br>OC=%{customdata[0]}<br>position=%{customdata[1]}<br>PnL=%{customdata[2]}<extra></extra>",
         "legendgroup": "81",
         "marker": {
          "color": "#EF553B",
          "symbol": "circle"
         },
         "mode": "markers",
         "name": "81",
         "orientation": "v",
         "showlegend": true,
         "type": "scatter",
         "x": [
          "2020-08-20T12:23:36.563453",
          "2020-08-21T08:30:22.208515"
         ],
         "xaxis": "x",
         "y": [
          11868.795,
          11630.025000000001
         ],
         "yaxis": "y"
        },
        {
         "customdata": [
          [
           "open",
           "long",
           -114.05
          ],
          [
           "close",
           "long",
           -114.05
          ]
         ],
         "hovertemplate": "key=82<br>time=%{x}<br>price=%{y}<br>OC=%{customdata[0]}<br>position=%{customdata[1]}<br>PnL=%{customdata[2]}<extra></extra>",
         "legendgroup": "82",
         "marker": {
          "color": "#00cc96",
          "symbol": "circle"
         },
         "mode": "markers",
         "name": "82",
         "orientation": "v",
         "showlegend": true,
         "type": "scatter",
         "x": [
          "2020-08-21T08:30:33.670185",
          "2020-08-21T17:47:42.914764"
         ],
         "xaxis": "x",
         "y": [
          11629.185,
          11510.015
         ],
         "yaxis": "y"
        },
        {
         "customdata": [
          [
           "open",
           "long",
           -119.28
          ],
          [
           "close",
           "long",
           -119.28
          ]
         ],
         "hovertemplate": "key=83<br>time=%{x}<br>price=%{y}<br>OC=%{customdata[0]}<br>position=%{customdata[1]}<br>PnL=%{customdata[2]}<extra></extra>",
         "legendgroup": "83",
         "marker": {
          "color": "#ab63fa",
          "symbol": "circle"
         },
         "mode": "markers",
         "name": "83",
         "orientation": "v",
         "showlegend": true,
         "type": "scatter",
         "x": [
          "2020-08-21T17:47:42.914764",
          "2020-08-21T21:04:16.251178"
         ],
         "xaxis": "x",
         "y": [
          11510.015,
          11385.77
         ],
         "yaxis": "y"
        },
        {
         "customdata": [
          [
           "open",
           "long",
           239.56
          ],
          [
           "close",
           "long",
           239.56
          ]
         ],
         "hovertemplate": "key=84<br>time=%{x}<br>price=%{y}<br>OC=%{customdata[0]}<br>position=%{customdata[1]}<br>PnL=%{customdata[2]}<extra></extra>",
         "legendgroup": "84",
         "marker": {
          "color": "#FFA15A",
          "symbol": "circle"
         },
         "mode": "markers",
         "name": "84",
         "orientation": "v",
         "showlegend": true,
         "type": "scatter",
         "x": [
          "2020-08-21T21:04:27.840751",
          "2020-08-22T04:29:39.938217"
         ],
         "xaxis": "x",
         "y": [
          11387.015,
          11619.205
         ],
         "yaxis": "y"
        },
        {
         "customdata": [
          [
           "open",
           "short",
           -119.39
          ],
          [
           "close",
           "short",
           -119.39
          ]
         ],
         "hovertemplate": "key=85<br>time=%{x}<br>price=%{y}<br>OC=%{customdata[0]}<br>position=%{customdata[1]}<br>PnL=%{customdata[2]}<extra></extra>",
         "legendgroup": "85",
         "marker": {
          "color": "#19d3f3",
          "symbol": "circle"
         },
         "mode": "markers",
         "name": "85",
         "orientation": "v",
         "showlegend": true,
         "type": "scatter",
         "x": [
          "2020-08-22T04:30:02.526258",
          "2020-08-24T02:37:30.290928"
         ],
         "xaxis": "x",
         "y": [
          11605.835,
          11729.994999999999
         ],
         "yaxis": "y"
        },
        {
         "customdata": [
          [
           "open",
           "short",
           244.49
          ],
          [
           "close",
           "short",
           244.49
          ]
         ],
         "hovertemplate": "key=86<br>time=%{x}<br>price=%{y}<br>OC=%{customdata[0]}<br>position=%{customdata[1]}<br>PnL=%{customdata[2]}<extra></extra>",
         "legendgroup": "86",
         "marker": {
          "color": "#FF6692",
          "symbol": "circle"
         },
         "mode": "markers",
         "name": "86",
         "orientation": "v",
         "showlegend": true,
         "type": "scatter",
         "x": [
          "2020-08-24T03:03:37.280438",
          "2020-08-25T04:30:32.266506"
         ],
         "xaxis": "x",
         "y": [
          11764.745,
          11522.395
         ],
         "yaxis": "y"
        },
        {
         "customdata": [
          [
           "open",
           "long",
           -123.02
          ],
          [
           "close",
           "long",
           -123.02
          ]
         ],
         "hovertemplate": "key=87<br>time=%{x}<br>price=%{y}<br>OC=%{customdata[0]}<br>position=%{customdata[1]}<br>PnL=%{customdata[2]}<extra></extra>",
         "legendgroup": "87",
         "marker": {
          "color": "#B6E880",
          "symbol": "circle"
         },
         "mode": "markers",
         "name": "87",
         "orientation": "v",
         "showlegend": true,
         "type": "scatter",
         "x": [
          "2020-08-25T04:31:40.733654",
          "2020-08-25T09:40:57.765473"
         ],
         "xaxis": "x",
         "y": [
          11537.205,
          11411.485
         ],
         "yaxis": "y"
        },
        {
         "customdata": [
          [
           "open",
           "long",
           -111.92
          ],
          [
           "close",
           "long",
           -111.92
          ]
         ],
         "hovertemplate": "key=88<br>time=%{x}<br>price=%{y}<br>OC=%{customdata[0]}<br>position=%{customdata[1]}<br>PnL=%{customdata[2]}<extra></extra>",
         "legendgroup": "88",
         "marker": {
          "color": "#FF97FF",
          "symbol": "circle"
         },
         "mode": "markers",
         "name": "88",
         "orientation": "v",
         "showlegend": true,
         "type": "scatter",
         "x": [
          "2020-08-25T09:42:17.047145",
          "2020-08-25T13:06:00.365116"
         ],
         "xaxis": "x",
         "y": [
          11421.375,
          11306.494999999999
         ],
         "yaxis": "y"
        },
        {
         "customdata": [
          [
           "open",
           "long",
           -113.53
          ],
          [
           "close",
           "long",
           -113.53
          ]
         ],
         "hovertemplate": "key=89<br>time=%{x}<br>price=%{y}<br>OC=%{customdata[0]}<br>position=%{customdata[1]}<br>PnL=%{customdata[2]}<extra></extra>",
         "legendgroup": "89",
         "marker": {
          "color": "#FECB52",
          "symbol": "circle"
         },
         "mode": "markers",
         "name": "89",
         "orientation": "v",
         "showlegend": true,
         "type": "scatter",
         "x": [
          "2020-08-25T13:06:12.360772",
          "2020-08-25T13:48:25.932974"
         ],
         "xaxis": "x",
         "y": [
          11304.315,
          11187.994999999999
         ],
         "yaxis": "y"
        },
        {
         "customdata": [
          [
           "open",
           "long",
           246.33
          ],
          [
           "close",
           "long",
           246.33
          ]
         ],
         "hovertemplate": "key=90<br>time=%{x}<br>price=%{y}<br>OC=%{customdata[0]}<br>position=%{customdata[1]}<br>PnL=%{customdata[2]}<extra></extra>",
         "legendgroup": "90",
         "marker": {
          "color": "#636efa",
          "symbol": "circle"
         },
         "mode": "markers",
         "name": "90",
         "orientation": "v",
         "showlegend": true,
         "type": "scatter",
         "x": [
          "2020-08-25T13:48:37.173257",
          "2020-08-26T10:01:58.939297"
         ],
         "xaxis": "x",
         "y": [
          11205.795,
          11440.564999999999
         ],
         "yaxis": "y"
        },
        {
         "customdata": [
          [
           "open",
           "short",
           241.5
          ],
          [
           "close",
           "short",
           241.5
          ]
         ],
         "hovertemplate": "key=91<br>time=%{x}<br>price=%{y}<br>OC=%{customdata[0]}<br>position=%{customdata[1]}<br>PnL=%{customdata[2]}<extra></extra>",
         "legendgroup": "91",
         "marker": {
          "color": "#EF553B",
          "symbol": "circle"
         },
         "mode": "markers",
         "name": "91",
         "orientation": "v",
         "showlegend": true,
         "type": "scatter",
         "x": [
          "2020-08-26T10:02:10.250101",
          "2020-08-27T13:02:42.899148"
         ],
         "xaxis": "x",
         "y": [
          11443.575,
          11213.695
         ],
         "yaxis": "y"
        },
        {
         "customdata": [
          [
           "open",
           "long",
           246.96
          ],
          [
           "close",
           "long",
           246.96
          ]
         ],
         "hovertemplate": "key=92<br>time=%{x}<br>price=%{y}<br>OC=%{customdata[0]}<br>position=%{customdata[1]}<br>PnL=%{customdata[2]}<extra></extra>",
         "legendgroup": "92",
         "marker": {
          "color": "#00cc96",
          "symbol": "circle"
         },
         "mode": "markers",
         "name": "92",
         "orientation": "v",
         "showlegend": true,
         "type": "scatter",
         "x": [
          "2020-08-27T13:02:54.446579",
          "2020-08-28T02:25:37.352602"
         ],
         "xaxis": "x",
         "y": [
          11213.345,
          11439.064999999999
         ],
         "yaxis": "y"
        },
        {
         "customdata": [
          [
           "open",
           "short",
           -123.05
          ],
          [
           "close",
           "short",
           -123.05
          ]
         ],
         "hovertemplate": "key=93<br>time=%{x}<br>price=%{y}<br>OC=%{customdata[0]}<br>position=%{customdata[1]}<br>PnL=%{customdata[2]}<extra></extra>",
         "legendgroup": "93",
         "marker": {
          "color": "#ab63fa",
          "symbol": "circle"
         },
         "mode": "markers",
         "name": "93",
         "orientation": "v",
         "showlegend": true,
         "type": "scatter",
         "x": [
          "2020-08-28T02:25:48.850641",
          "2020-08-29T03:33:12.399196"
         ],
         "xaxis": "x",
         "y": [
          11439.065,
          11559.985
         ],
         "yaxis": "y"
        },
        {
         "customdata": [
          [
           "open",
           "short",
           -118.51
          ],
          [
           "close",
           "short",
           -118.51
          ]
         ],
         "hovertemplate": "key=94<br>time=%{x}<br>price=%{y}<br>OC=%{customdata[0]}<br>position=%{customdata[1]}<br>PnL=%{customdata[2]}<extra></extra>",
         "legendgroup": "94",
         "marker": {
          "color": "#FFA15A",
          "symbol": "circle"
         },
         "mode": "markers",
         "name": "94",
         "orientation": "v",
         "showlegend": true,
         "type": "scatter",
         "x": [
          "2020-08-29T03:34:07.947607",
          "2020-08-30T12:40:55.727749"
         ],
         "xaxis": "x",
         "y": [
          11557.485,
          11676.5
         ],
         "yaxis": "y"
        },
        {
         "customdata": [
          [
           "open",
           "long",
           246.65
          ],
          [
           "close",
           "long",
           246.65
          ]
         ],
         "hovertemplate": "key=95<br>time=%{x}<br>price=%{y}<br>OC=%{customdata[0]}<br>position=%{customdata[1]}<br>PnL=%{customdata[2]}<extra></extra>",
         "legendgroup": "95",
         "marker": {
          "color": "#19d3f3",
          "symbol": "circle"
         },
         "mode": "markers",
         "name": "95",
         "orientation": "v",
         "showlegend": true,
         "type": "scatter",
         "x": [
          "2020-08-30T14:03:12.445095",
          "2020-09-01T03:00:11.396361"
         ],
         "xaxis": "x",
         "y": [
          11644.015,
          11877.994999999999
         ],
         "yaxis": "y"
        },
        {
         "customdata": [
          [
           "open",
           "short",
           -118.08
          ],
          [
           "close",
           "short",
           -118.08
          ]
         ],
         "hovertemplate": "key=96<br>time=%{x}<br>price=%{y}<br>OC=%{customdata[0]}<br>position=%{customdata[1]}<br>PnL=%{customdata[2]}<extra></extra>",
         "legendgroup": "96",
         "marker": {
          "color": "#FF6692",
          "symbol": "circle"
         },
         "mode": "markers",
         "name": "96",
         "orientation": "v",
         "showlegend": true,
         "type": "scatter",
         "x": [
          "2020-09-01T03:00:11.396361",
          "2020-09-01T11:50:17.210906"
         ],
         "xaxis": "x",
         "y": [
          11877.995,
          11998.68
         ],
         "yaxis": "y"
        },
        {
         "customdata": [
          [
           "open",
           "short",
           249.66
          ],
          [
           "close",
           "short",
           249.66
          ]
         ],
         "hovertemplate": "key=97<br>time=%{x}<br>price=%{y}<br>OC=%{customdata[0]}<br>position=%{customdata[1]}<br>PnL=%{customdata[2]}<extra></extra>",
         "legendgroup": "97",
         "marker": {
          "color": "#B6E880",
          "symbol": "circle"
         },
         "mode": "markers",
         "name": "97",
         "orientation": "v",
         "showlegend": true,
         "type": "scatter",
         "x": [
          "2020-09-01T11:50:28.944218",
          "2020-09-02T02:41:28.357467"
         ],
         "xaxis": "x",
         "y": [
          11999.67,
          11758.189999999999
         ],
         "yaxis": "y"
        },
        {
         "customdata": [
          [
           "open",
           "long",
           -137.79
          ],
          [
           "close",
           "long",
           -137.79
          ]
         ],
         "hovertemplate": "key=98<br>time=%{x}<br>price=%{y}<br>OC=%{customdata[0]}<br>position=%{customdata[1]}<br>PnL=%{customdata[2]}<extra></extra>",
         "legendgroup": "98",
         "marker": {
          "color": "#FF97FF",
          "symbol": "circle"
         },
         "mode": "markers",
         "name": "98",
         "orientation": "v",
         "showlegend": true,
         "type": "scatter",
         "x": [
          "2020-09-02T02:46:58.892774",
          "2020-09-02T06:28:59.396828"
         ],
         "xaxis": "x",
         "y": [
          11774.905,
          11637.695
         ],
         "yaxis": "y"
        },
        {
         "customdata": [
          [
           "open",
           "long",
           -117.89
          ],
          [
           "close",
           "long",
           -117.89
          ]
         ],
         "hovertemplate": "key=99<br>time=%{x}<br>price=%{y}<br>OC=%{customdata[0]}<br>position=%{customdata[1]}<br>PnL=%{customdata[2]}<extra></extra>",
         "legendgroup": "99",
         "marker": {
          "color": "#FECB52",
          "symbol": "circle"
         },
         "mode": "markers",
         "name": "99",
         "orientation": "v",
         "showlegend": true,
         "type": "scatter",
         "x": [
          "2020-09-02T06:28:59.396828",
          "2020-09-02T07:03:42.394239"
         ],
         "xaxis": "x",
         "y": [
          11637.695,
          11519.575
         ],
         "yaxis": "y"
        },
        {
         "customdata": [
          [
           "open",
           "long",
           -140
          ],
          [
           "close",
           "long",
           -140
          ]
         ],
         "hovertemplate": "key=100<br>time=%{x}<br>price=%{y}<br>OC=%{customdata[0]}<br>position=%{customdata[1]}<br>PnL=%{customdata[2]}<extra></extra>",
         "legendgroup": "100",
         "marker": {
          "color": "#636efa",
          "symbol": "circle"
         },
         "mode": "markers",
         "name": "100",
         "orientation": "v",
         "showlegend": true,
         "type": "scatter",
         "x": [
          "2020-09-02T07:03:53.746060",
          "2020-09-02T07:10:08.873714"
         ],
         "xaxis": "x",
         "y": [
          11489.75,
          11351.055
         ],
         "yaxis": "y"
        },
        {
         "customdata": [
          [
           "open",
           "long",
           -125.31
          ],
          [
           "close",
           "long",
           -125.31
          ]
         ],
         "hovertemplate": "key=101<br>time=%{x}<br>price=%{y}<br>OC=%{customdata[0]}<br>position=%{customdata[1]}<br>PnL=%{customdata[2]}<extra></extra>",
         "legendgroup": "101",
         "marker": {
          "color": "#EF553B",
          "symbol": "circle"
         },
         "mode": "markers",
         "name": "101",
         "orientation": "v",
         "showlegend": true,
         "type": "scatter",
         "x": [
          "2020-09-02T07:10:20.379627",
          "2020-09-02T07:22:43.377274"
         ],
         "xaxis": "x",
         "y": [
          11294.07,
          11170.08
         ],
         "yaxis": "y"
        },
        {
         "customdata": [
          [
           "open",
           "long",
           247.96
          ],
          [
           "close",
           "long",
           247.96
          ]
         ],
         "hovertemplate": "key=102<br>time=%{x}<br>price=%{y}<br>OC=%{customdata[0]}<br>position=%{customdata[1]}<br>PnL=%{customdata[2]}<extra></extra>",
         "legendgroup": "102",
         "marker": {
          "color": "#00cc96",
          "symbol": "circle"
         },
         "mode": "markers",
         "name": "102",
         "orientation": "v",
         "showlegend": true,
         "type": "scatter",
         "x": [
          "2020-09-02T07:22:43.377274",
          "2020-09-02T07:49:14.987735"
         ],
         "xaxis": "x",
         "y": [
          11170.08,
          11398.545
         ],
         "yaxis": "y"
        },
        {
         "customdata": [
          [
           "open",
           "short",
           248.77
          ],
          [
           "close",
           "short",
           248.77
          ]
         ],
         "hovertemplate": "key=103<br>time=%{x}<br>price=%{y}<br>OC=%{customdata[0]}<br>position=%{customdata[1]}<br>PnL=%{customdata[2]}<extra></extra>",
         "legendgroup": "103",
         "marker": {
          "color": "#ab63fa",
          "symbol": "circle"
         },
         "mode": "markers",
         "name": "103",
         "orientation": "v",
         "showlegend": true,
         "type": "scatter",
         "x": [
          "2020-09-02T07:52:35.117899",
          "2020-09-03T08:10:45.662684"
         ],
         "xaxis": "x",
         "y": [
          11390.445,
          11161.61
         ],
         "yaxis": "y"
        }
       ],
       "layout": {
        "legend": {
         "title": {
          "text": "key"
         },
         "tracegroupgap": 0
        },
        "margin": {
         "t": 60
        },
        "template": {
         "data": {
          "bar": [
           {
            "error_x": {
             "color": "#2a3f5f"
            },
            "error_y": {
             "color": "#2a3f5f"
            },
            "marker": {
             "line": {
              "color": "#E5ECF6",
              "width": 0.5
             }
            },
            "type": "bar"
           }
          ],
          "barpolar": [
           {
            "marker": {
             "line": {
              "color": "#E5ECF6",
              "width": 0.5
             }
            },
            "type": "barpolar"
           }
          ],
          "carpet": [
           {
            "aaxis": {
             "endlinecolor": "#2a3f5f",
             "gridcolor": "white",
             "linecolor": "white",
             "minorgridcolor": "white",
             "startlinecolor": "#2a3f5f"
            },
            "baxis": {
             "endlinecolor": "#2a3f5f",
             "gridcolor": "white",
             "linecolor": "white",
             "minorgridcolor": "white",
             "startlinecolor": "#2a3f5f"
            },
            "type": "carpet"
           }
          ],
          "choropleth": [
           {
            "colorbar": {
             "outlinewidth": 0,
             "ticks": ""
            },
            "type": "choropleth"
           }
          ],
          "contour": [
           {
            "colorbar": {
             "outlinewidth": 0,
             "ticks": ""
            },
            "colorscale": [
             [
              0,
              "#0d0887"
             ],
             [
              0.1111111111111111,
              "#46039f"
             ],
             [
              0.2222222222222222,
              "#7201a8"
             ],
             [
              0.3333333333333333,
              "#9c179e"
             ],
             [
              0.4444444444444444,
              "#bd3786"
             ],
             [
              0.5555555555555556,
              "#d8576b"
             ],
             [
              0.6666666666666666,
              "#ed7953"
             ],
             [
              0.7777777777777778,
              "#fb9f3a"
             ],
             [
              0.8888888888888888,
              "#fdca26"
             ],
             [
              1,
              "#f0f921"
             ]
            ],
            "type": "contour"
           }
          ],
          "contourcarpet": [
           {
            "colorbar": {
             "outlinewidth": 0,
             "ticks": ""
            },
            "type": "contourcarpet"
           }
          ],
          "heatmap": [
           {
            "colorbar": {
             "outlinewidth": 0,
             "ticks": ""
            },
            "colorscale": [
             [
              0,
              "#0d0887"
             ],
             [
              0.1111111111111111,
              "#46039f"
             ],
             [
              0.2222222222222222,
              "#7201a8"
             ],
             [
              0.3333333333333333,
              "#9c179e"
             ],
             [
              0.4444444444444444,
              "#bd3786"
             ],
             [
              0.5555555555555556,
              "#d8576b"
             ],
             [
              0.6666666666666666,
              "#ed7953"
             ],
             [
              0.7777777777777778,
              "#fb9f3a"
             ],
             [
              0.8888888888888888,
              "#fdca26"
             ],
             [
              1,
              "#f0f921"
             ]
            ],
            "type": "heatmap"
           }
          ],
          "heatmapgl": [
           {
            "colorbar": {
             "outlinewidth": 0,
             "ticks": ""
            },
            "colorscale": [
             [
              0,
              "#0d0887"
             ],
             [
              0.1111111111111111,
              "#46039f"
             ],
             [
              0.2222222222222222,
              "#7201a8"
             ],
             [
              0.3333333333333333,
              "#9c179e"
             ],
             [
              0.4444444444444444,
              "#bd3786"
             ],
             [
              0.5555555555555556,
              "#d8576b"
             ],
             [
              0.6666666666666666,
              "#ed7953"
             ],
             [
              0.7777777777777778,
              "#fb9f3a"
             ],
             [
              0.8888888888888888,
              "#fdca26"
             ],
             [
              1,
              "#f0f921"
             ]
            ],
            "type": "heatmapgl"
           }
          ],
          "histogram": [
           {
            "marker": {
             "colorbar": {
              "outlinewidth": 0,
              "ticks": ""
             }
            },
            "type": "histogram"
           }
          ],
          "histogram2d": [
           {
            "colorbar": {
             "outlinewidth": 0,
             "ticks": ""
            },
            "colorscale": [
             [
              0,
              "#0d0887"
             ],
             [
              0.1111111111111111,
              "#46039f"
             ],
             [
              0.2222222222222222,
              "#7201a8"
             ],
             [
              0.3333333333333333,
              "#9c179e"
             ],
             [
              0.4444444444444444,
              "#bd3786"
             ],
             [
              0.5555555555555556,
              "#d8576b"
             ],
             [
              0.6666666666666666,
              "#ed7953"
             ],
             [
              0.7777777777777778,
              "#fb9f3a"
             ],
             [
              0.8888888888888888,
              "#fdca26"
             ],
             [
              1,
              "#f0f921"
             ]
            ],
            "type": "histogram2d"
           }
          ],
          "histogram2dcontour": [
           {
            "colorbar": {
             "outlinewidth": 0,
             "ticks": ""
            },
            "colorscale": [
             [
              0,
              "#0d0887"
             ],
             [
              0.1111111111111111,
              "#46039f"
             ],
             [
              0.2222222222222222,
              "#7201a8"
             ],
             [
              0.3333333333333333,
              "#9c179e"
             ],
             [
              0.4444444444444444,
              "#bd3786"
             ],
             [
              0.5555555555555556,
              "#d8576b"
             ],
             [
              0.6666666666666666,
              "#ed7953"
             ],
             [
              0.7777777777777778,
              "#fb9f3a"
             ],
             [
              0.8888888888888888,
              "#fdca26"
             ],
             [
              1,
              "#f0f921"
             ]
            ],
            "type": "histogram2dcontour"
           }
          ],
          "mesh3d": [
           {
            "colorbar": {
             "outlinewidth": 0,
             "ticks": ""
            },
            "type": "mesh3d"
           }
          ],
          "parcoords": [
           {
            "line": {
             "colorbar": {
              "outlinewidth": 0,
              "ticks": ""
             }
            },
            "type": "parcoords"
           }
          ],
          "pie": [
           {
            "automargin": true,
            "type": "pie"
           }
          ],
          "scatter": [
           {
            "marker": {
             "colorbar": {
              "outlinewidth": 0,
              "ticks": ""
             }
            },
            "type": "scatter"
           }
          ],
          "scatter3d": [
           {
            "line": {
             "colorbar": {
              "outlinewidth": 0,
              "ticks": ""
             }
            },
            "marker": {
             "colorbar": {
              "outlinewidth": 0,
              "ticks": ""
             }
            },
            "type": "scatter3d"
           }
          ],
          "scattercarpet": [
           {
            "marker": {
             "colorbar": {
              "outlinewidth": 0,
              "ticks": ""
             }
            },
            "type": "scattercarpet"
           }
          ],
          "scattergeo": [
           {
            "marker": {
             "colorbar": {
              "outlinewidth": 0,
              "ticks": ""
             }
            },
            "type": "scattergeo"
           }
          ],
          "scattergl": [
           {
            "marker": {
             "colorbar": {
              "outlinewidth": 0,
              "ticks": ""
             }
            },
            "type": "scattergl"
           }
          ],
          "scattermapbox": [
           {
            "marker": {
             "colorbar": {
              "outlinewidth": 0,
              "ticks": ""
             }
            },
            "type": "scattermapbox"
           }
          ],
          "scatterpolar": [
           {
            "marker": {
             "colorbar": {
              "outlinewidth": 0,
              "ticks": ""
             }
            },
            "type": "scatterpolar"
           }
          ],
          "scatterpolargl": [
           {
            "marker": {
             "colorbar": {
              "outlinewidth": 0,
              "ticks": ""
             }
            },
            "type": "scatterpolargl"
           }
          ],
          "scatterternary": [
           {
            "marker": {
             "colorbar": {
              "outlinewidth": 0,
              "ticks": ""
             }
            },
            "type": "scatterternary"
           }
          ],
          "surface": [
           {
            "colorbar": {
             "outlinewidth": 0,
             "ticks": ""
            },
            "colorscale": [
             [
              0,
              "#0d0887"
             ],
             [
              0.1111111111111111,
              "#46039f"
             ],
             [
              0.2222222222222222,
              "#7201a8"
             ],
             [
              0.3333333333333333,
              "#9c179e"
             ],
             [
              0.4444444444444444,
              "#bd3786"
             ],
             [
              0.5555555555555556,
              "#d8576b"
             ],
             [
              0.6666666666666666,
              "#ed7953"
             ],
             [
              0.7777777777777778,
              "#fb9f3a"
             ],
             [
              0.8888888888888888,
              "#fdca26"
             ],
             [
              1,
              "#f0f921"
             ]
            ],
            "type": "surface"
           }
          ],
          "table": [
           {
            "cells": {
             "fill": {
              "color": "#EBF0F8"
             },
             "line": {
              "color": "white"
             }
            },
            "header": {
             "fill": {
              "color": "#C8D4E3"
             },
             "line": {
              "color": "white"
             }
            },
            "type": "table"
           }
          ]
         },
         "layout": {
          "annotationdefaults": {
           "arrowcolor": "#2a3f5f",
           "arrowhead": 0,
           "arrowwidth": 1
          },
          "coloraxis": {
           "colorbar": {
            "outlinewidth": 0,
            "ticks": ""
           }
          },
          "colorscale": {
           "diverging": [
            [
             0,
             "#8e0152"
            ],
            [
             0.1,
             "#c51b7d"
            ],
            [
             0.2,
             "#de77ae"
            ],
            [
             0.3,
             "#f1b6da"
            ],
            [
             0.4,
             "#fde0ef"
            ],
            [
             0.5,
             "#f7f7f7"
            ],
            [
             0.6,
             "#e6f5d0"
            ],
            [
             0.7,
             "#b8e186"
            ],
            [
             0.8,
             "#7fbc41"
            ],
            [
             0.9,
             "#4d9221"
            ],
            [
             1,
             "#276419"
            ]
           ],
           "sequential": [
            [
             0,
             "#0d0887"
            ],
            [
             0.1111111111111111,
             "#46039f"
            ],
            [
             0.2222222222222222,
             "#7201a8"
            ],
            [
             0.3333333333333333,
             "#9c179e"
            ],
            [
             0.4444444444444444,
             "#bd3786"
            ],
            [
             0.5555555555555556,
             "#d8576b"
            ],
            [
             0.6666666666666666,
             "#ed7953"
            ],
            [
             0.7777777777777778,
             "#fb9f3a"
            ],
            [
             0.8888888888888888,
             "#fdca26"
            ],
            [
             1,
             "#f0f921"
            ]
           ],
           "sequentialminus": [
            [
             0,
             "#0d0887"
            ],
            [
             0.1111111111111111,
             "#46039f"
            ],
            [
             0.2222222222222222,
             "#7201a8"
            ],
            [
             0.3333333333333333,
             "#9c179e"
            ],
            [
             0.4444444444444444,
             "#bd3786"
            ],
            [
             0.5555555555555556,
             "#d8576b"
            ],
            [
             0.6666666666666666,
             "#ed7953"
            ],
            [
             0.7777777777777778,
             "#fb9f3a"
            ],
            [
             0.8888888888888888,
             "#fdca26"
            ],
            [
             1,
             "#f0f921"
            ]
           ]
          },
          "colorway": [
           "#636efa",
           "#EF553B",
           "#00cc96",
           "#ab63fa",
           "#FFA15A",
           "#19d3f3",
           "#FF6692",
           "#B6E880",
           "#FF97FF",
           "#FECB52"
          ],
          "font": {
           "color": "#2a3f5f"
          },
          "geo": {
           "bgcolor": "white",
           "lakecolor": "white",
           "landcolor": "#E5ECF6",
           "showlakes": true,
           "showland": true,
           "subunitcolor": "white"
          },
          "hoverlabel": {
           "align": "left"
          },
          "hovermode": "closest",
          "mapbox": {
           "style": "light"
          },
          "paper_bgcolor": "white",
          "plot_bgcolor": "#E5ECF6",
          "polar": {
           "angularaxis": {
            "gridcolor": "white",
            "linecolor": "white",
            "ticks": ""
           },
           "bgcolor": "#E5ECF6",
           "radialaxis": {
            "gridcolor": "white",
            "linecolor": "white",
            "ticks": ""
           }
          },
          "scene": {
           "xaxis": {
            "backgroundcolor": "#E5ECF6",
            "gridcolor": "white",
            "gridwidth": 2,
            "linecolor": "white",
            "showbackground": true,
            "ticks": "",
            "zerolinecolor": "white"
           },
           "yaxis": {
            "backgroundcolor": "#E5ECF6",
            "gridcolor": "white",
            "gridwidth": 2,
            "linecolor": "white",
            "showbackground": true,
            "ticks": "",
            "zerolinecolor": "white"
           },
           "zaxis": {
            "backgroundcolor": "#E5ECF6",
            "gridcolor": "white",
            "gridwidth": 2,
            "linecolor": "white",
            "showbackground": true,
            "ticks": "",
            "zerolinecolor": "white"
           }
          },
          "shapedefaults": {
           "line": {
            "color": "#2a3f5f"
           }
          },
          "ternary": {
           "aaxis": {
            "gridcolor": "white",
            "linecolor": "white",
            "ticks": ""
           },
           "baxis": {
            "gridcolor": "white",
            "linecolor": "white",
            "ticks": ""
           },
           "bgcolor": "#E5ECF6",
           "caxis": {
            "gridcolor": "white",
            "linecolor": "white",
            "ticks": ""
           }
          },
          "title": {
           "x": 0.05
          },
          "xaxis": {
           "automargin": true,
           "gridcolor": "white",
           "linecolor": "white",
           "ticks": "",
           "title": {
            "standoff": 15
           },
           "zerolinecolor": "white",
           "zerolinewidth": 2
          },
          "yaxis": {
           "automargin": true,
           "gridcolor": "white",
           "linecolor": "white",
           "ticks": "",
           "title": {
            "standoff": 15
           },
           "zerolinecolor": "white",
           "zerolinewidth": 2
          }
         }
        },
        "xaxis": {
         "anchor": "y",
         "domain": [
          0,
          1
         ],
         "title": {
          "text": "time"
         }
        },
        "yaxis": {
         "anchor": "x",
         "domain": [
          0,
          1
         ],
         "title": {
          "text": "price"
         }
        }
       }
      },
      "text/html": [
       "<div>\n",
       "        \n",
       "        \n",
       "            <div id=\"1ec73503-8860-48f1-b07e-0e6d302332f3\" class=\"plotly-graph-div\" style=\"height:525px; width:100%;\"></div>\n",
       "            <script type=\"text/javascript\">\n",
       "                require([\"plotly\"], function(Plotly) {\n",
       "                    window.PLOTLYENV=window.PLOTLYENV || {};\n",
       "                    \n",
       "                if (document.getElementById(\"1ec73503-8860-48f1-b07e-0e6d302332f3\")) {\n",
       "                    Plotly.newPlot(\n",
       "                        '1ec73503-8860-48f1-b07e-0e6d302332f3',\n",
       "                        [{\"customdata\": [[\"open\", \"short\", -132.48], [\"close\", \"short\", -132.48]], \"hovertemplate\": \"key=0<br>time=%{x}<br>price=%{y}<br>OC=%{customdata[0]}<br>position=%{customdata[1]}<br>PnL=%{customdata[2]}<extra></extra>\", \"legendgroup\": \"0\", \"marker\": {\"color\": \"#636efa\", \"symbol\": \"circle\"}, \"mode\": \"markers\", \"name\": \"0\", \"orientation\": \"v\", \"showlegend\": true, \"type\": \"scatter\", \"x\": [\"2020-07-24T08:06:56.357093\", \"2020-07-25T22:49:17.650537\"], \"xaxis\": \"x\", \"y\": [9559.735, 9691.165], \"yaxis\": \"y\"}, {\"customdata\": [[\"open\", \"short\", -95.21], [\"close\", \"short\", -95.21]], \"hovertemplate\": \"key=1<br>time=%{x}<br>price=%{y}<br>OC=%{customdata[0]}<br>position=%{customdata[1]}<br>PnL=%{customdata[2]}<extra></extra>\", \"legendgroup\": \"1\", \"marker\": {\"color\": \"#EF553B\", \"symbol\": \"circle\"}, \"mode\": \"markers\", \"name\": \"1\", \"orientation\": \"v\", \"showlegend\": true, \"type\": \"scatter\", \"x\": [\"2020-07-25T22:51:33.678075\", \"2020-07-26T04:56:49.165469\"], \"xaxis\": \"x\", \"y\": [9692.915, 9791.285], \"yaxis\": \"y\"}, {\"customdata\": [[\"open\", \"short\", -94.21], [\"close\", \"short\", -94.21]], \"hovertemplate\": \"key=2<br>time=%{x}<br>price=%{y}<br>OC=%{customdata[0]}<br>position=%{customdata[1]}<br>PnL=%{customdata[2]}<extra></extra>\", \"legendgroup\": \"2\", \"marker\": {\"color\": \"#00cc96\", \"symbol\": \"circle\"}, \"mode\": \"markers\", \"name\": \"2\", \"orientation\": \"v\", \"showlegend\": true, \"type\": \"scatter\", \"x\": [\"2020-07-26T04:59:27.335955\", \"2020-07-26T06:02:45.504736\"], \"xaxis\": \"x\", \"y\": [9787.745, 9886.994999999999], \"yaxis\": \"y\"}, {\"customdata\": [[\"open\", \"short\", -94.37], [\"close\", \"short\", -94.37]], \"hovertemplate\": \"key=3<br>time=%{x}<br>price=%{y}<br>OC=%{customdata[0]}<br>position=%{customdata[1]}<br>PnL=%{customdata[2]}<extra></extra>\", \"legendgroup\": \"3\", \"marker\": {\"color\": \"#ab63fa\", \"symbol\": \"circle\"}, \"mode\": \"markers\", \"name\": \"3\", \"orientation\": \"v\", \"showlegend\": true, \"type\": \"scatter\", \"x\": [\"2020-07-26T06:02:57.186353\", \"2020-07-26T06:03:53.465342\"], \"xaxis\": \"x\", \"y\": [9896.545, 9997.994999999999], \"yaxis\": \"y\"}, {\"customdata\": [[\"open\", \"short\", -92.98], [\"close\", \"short\", -92.98]], \"hovertemplate\": \"key=4<br>time=%{x}<br>price=%{y}<br>OC=%{customdata[0]}<br>position=%{customdata[1]}<br>PnL=%{customdata[2]}<extra></extra>\", \"legendgroup\": \"4\", \"marker\": {\"color\": \"#FFA15A\", \"symbol\": \"circle\"}, \"mode\": \"markers\", \"name\": \"4\", \"orientation\": \"v\", \"showlegend\": true, \"type\": \"scatter\", \"x\": [\"2020-07-26T06:03:53.465342\", \"2020-07-26T06:05:46.019875\"], \"xaxis\": \"x\", \"y\": [9997.995, 10099.994999999999], \"yaxis\": \"y\"}, {\"customdata\": [[\"open\", \"short\", 249.53], [\"close\", \"short\", 249.53]], \"hovertemplate\": \"key=5<br>time=%{x}<br>price=%{y}<br>OC=%{customdata[0]}<br>position=%{customdata[1]}<br>PnL=%{customdata[2]}<extra></extra>\", \"legendgroup\": \"5\", \"marker\": {\"color\": \"#19d3f3\", \"symbol\": \"circle\"}, \"mode\": \"markers\", \"name\": \"5\", \"orientation\": \"v\", \"showlegend\": true, \"type\": \"scatter\", \"x\": [\"2020-07-26T06:05:46.019875\", \"2020-07-26T08:32:07.371260\"], \"xaxis\": \"x\", \"y\": [10099.995, 9839.494999999999], \"yaxis\": \"y\"}, {\"customdata\": [[\"open\", \"long\", 204.01], [\"close\", \"long\", 204.01]], \"hovertemplate\": \"key=6<br>time=%{x}<br>price=%{y}<br>OC=%{customdata[0]}<br>position=%{customdata[1]}<br>PnL=%{customdata[2]}<extra></extra>\", \"legendgroup\": \"6\", \"marker\": {\"color\": \"#FF6692\", \"symbol\": \"circle\"}, \"mode\": \"markers\", \"name\": \"6\", \"orientation\": \"v\", \"showlegend\": true, \"type\": \"scatter\", \"x\": [\"2020-07-26T08:32:18.628217\", \"2020-07-26T21:16:47.931642\"], \"xaxis\": \"x\", \"y\": [9862.405, 10064.045], \"yaxis\": \"y\"}, {\"customdata\": [[\"open\", \"short\", -103.69], [\"close\", \"short\", -103.69]], \"hovertemplate\": \"key=7<br>time=%{x}<br>price=%{y}<br>OC=%{customdata[0]}<br>position=%{customdata[1]}<br>PnL=%{customdata[2]}<extra></extra>\", \"legendgroup\": \"7\", \"marker\": {\"color\": \"#B6E880\", \"symbol\": \"circle\"}, \"mode\": \"markers\", \"name\": \"7\", \"orientation\": \"v\", \"showlegend\": true, \"type\": \"scatter\", \"x\": [\"2020-07-26T21:16:59.041366\", \"2020-07-26T23:30:50.165228\"], \"xaxis\": \"x\", \"y\": [10065.87, 10175.865000000002], \"yaxis\": \"y\"}, {\"customdata\": [[\"open\", \"short\", -103.48], [\"close\", \"short\", -103.48]], \"hovertemplate\": \"key=8<br>time=%{x}<br>price=%{y}<br>OC=%{customdata[0]}<br>position=%{customdata[1]}<br>PnL=%{customdata[2]}<extra></extra>\", \"legendgroup\": \"8\", \"marker\": {\"color\": \"#FF97FF\", \"symbol\": \"circle\"}, \"mode\": \"markers\", \"name\": \"8\", \"orientation\": \"v\", \"showlegend\": true, \"type\": \"scatter\", \"x\": [\"2020-07-26T23:31:01.428906\", \"2020-07-26T23:50:29.820598\"], \"xaxis\": \"x\", \"y\": [10174.15, 10286.225], \"yaxis\": \"y\"}, {\"customdata\": [[\"open\", \"short\", -301.63], [\"close\", \"short\", -301.63]], \"hovertemplate\": \"key=9<br>time=%{x}<br>price=%{y}<br>OC=%{customdata[0]}<br>position=%{customdata[1]}<br>PnL=%{customdata[2]}<extra></extra>\", \"legendgroup\": \"9\", \"marker\": {\"color\": \"#FECB52\", \"symbol\": \"circle\"}, \"mode\": \"markers\", \"name\": \"9\", \"orientation\": \"v\", \"showlegend\": true, \"type\": \"scatter\", \"x\": [\"2020-07-26T23:50:29.820598\", \"2020-07-27T12:51:49.814372\"], \"xaxis\": \"x\", \"y\": [10286.225, 10610.005000000001], \"yaxis\": \"y\"}, {\"customdata\": [[\"open\", \"short\", -89.97], [\"close\", \"short\", -89.97]], \"hovertemplate\": \"key=10<br>time=%{x}<br>price=%{y}<br>OC=%{customdata[0]}<br>position=%{customdata[1]}<br>PnL=%{customdata[2]}<extra></extra>\", \"legendgroup\": \"10\", \"marker\": {\"color\": \"#636efa\", \"symbol\": \"circle\"}, \"mode\": \"markers\", \"name\": \"10\", \"orientation\": \"v\", \"showlegend\": true, \"type\": \"scatter\", \"x\": [\"2020-07-27T12:52:48.083159\", \"2020-07-27T12:56:51.076234\"], \"xaxis\": \"x\", \"y\": [10607.415, 10713.86], \"yaxis\": \"y\"}, {\"customdata\": [[\"open\", \"short\", -100.97], [\"close\", \"short\", -100.97]], \"hovertemplate\": \"key=11<br>time=%{x}<br>price=%{y}<br>OC=%{customdata[0]}<br>position=%{customdata[1]}<br>PnL=%{customdata[2]}<extra></extra>\", \"legendgroup\": \"11\", \"marker\": {\"color\": \"#EF553B\", \"symbol\": \"circle\"}, \"mode\": \"markers\", \"name\": \"11\", \"orientation\": \"v\", \"showlegend\": true, \"type\": \"scatter\", \"x\": [\"2020-07-27T12:56:51.076234\", \"2020-07-27T13:01:03.773253\"], \"xaxis\": \"x\", \"y\": [10713.86, 10834.970000000001], \"yaxis\": \"y\"}, {\"customdata\": [[\"open\", \"short\", -97.55], [\"close\", \"short\", -97.55]], \"hovertemplate\": \"key=12<br>time=%{x}<br>price=%{y}<br>OC=%{customdata[0]}<br>position=%{customdata[1]}<br>PnL=%{customdata[2]}<extra></extra>\", \"legendgroup\": \"12\", \"marker\": {\"color\": \"#00cc96\", \"symbol\": \"circle\"}, \"mode\": \"markers\", \"name\": \"12\", \"orientation\": \"v\", \"showlegend\": true, \"type\": \"scatter\", \"x\": [\"2020-07-27T13:01:15.516457\", \"2020-07-27T17:52:47.237542\"], \"xaxis\": \"x\", \"y\": [10852.48, 10972.425], \"yaxis\": \"y\"}, {\"customdata\": [[\"open\", \"short\", -100.54], [\"close\", \"short\", -100.54]], \"hovertemplate\": \"key=13<br>time=%{x}<br>price=%{y}<br>OC=%{customdata[0]}<br>position=%{customdata[1]}<br>PnL=%{customdata[2]}<extra></extra>\", \"legendgroup\": \"13\", \"marker\": {\"color\": \"#ab63fa\", \"symbol\": \"circle\"}, \"mode\": \"markers\", \"name\": \"13\", \"orientation\": \"v\", \"showlegend\": true, \"type\": \"scatter\", \"x\": [\"2020-07-27T17:52:47.237542\", \"2020-07-27T17:55:04.376194\"], \"xaxis\": \"x\", \"y\": [10972.425, 11098.51], \"yaxis\": \"y\"}, {\"customdata\": [[\"open\", \"short\", -99.01], [\"close\", \"short\", -99.01]], \"hovertemplate\": \"key=14<br>time=%{x}<br>price=%{y}<br>OC=%{customdata[0]}<br>position=%{customdata[1]}<br>PnL=%{customdata[2]}<extra></extra>\", \"legendgroup\": \"14\", \"marker\": {\"color\": \"#FFA15A\", \"symbol\": \"circle\"}, \"mode\": \"markers\", \"name\": \"14\", \"orientation\": \"v\", \"showlegend\": true, \"type\": \"scatter\", \"x\": [\"2020-07-27T17:55:04.376194\", \"2020-07-27T18:08:21.816338\"], \"xaxis\": \"x\", \"y\": [11098.51, 11225.525000000001], \"yaxis\": \"y\"}, {\"customdata\": [[\"open\", \"short\", -85.7], [\"close\", \"short\", -85.7]], \"hovertemplate\": \"key=15<br>time=%{x}<br>price=%{y}<br>OC=%{customdata[0]}<br>position=%{customdata[1]}<br>PnL=%{customdata[2]}<extra></extra>\", \"legendgroup\": \"15\", \"marker\": {\"color\": \"#19d3f3\", \"symbol\": \"circle\"}, \"mode\": \"markers\", \"name\": \"15\", \"orientation\": \"v\", \"showlegend\": true, \"type\": \"scatter\", \"x\": [\"2020-07-27T18:08:33.405531\", \"2020-07-27T18:11:24.314453\"], \"xaxis\": \"x\", \"y\": [11237.485, 11350.735], \"yaxis\": \"y\"}, {\"customdata\": [[\"open\", \"short\", 224.08], [\"close\", \"short\", 224.08]], \"hovertemplate\": \"key=16<br>time=%{x}<br>price=%{y}<br>OC=%{customdata[0]}<br>position=%{customdata[1]}<br>PnL=%{customdata[2]}<extra></extra>\", \"legendgroup\": \"16\", \"marker\": {\"color\": \"#FF6692\", \"symbol\": \"circle\"}, \"mode\": \"markers\", \"name\": \"16\", \"orientation\": \"v\", \"showlegend\": true, \"type\": \"scatter\", \"x\": [\"2020-07-27T18:11:24.314453\", \"2020-07-27T19:18:36.071295\"], \"xaxis\": \"x\", \"y\": [11350.735, 11069.395], \"yaxis\": \"y\"}, {\"customdata\": [[\"open\", \"long\", -114.03], [\"close\", \"long\", -114.03]], \"hovertemplate\": \"key=17<br>time=%{x}<br>price=%{y}<br>OC=%{customdata[0]}<br>position=%{customdata[1]}<br>PnL=%{customdata[2]}<extra></extra>\", \"legendgroup\": \"17\", \"marker\": {\"color\": \"#B6E880\", \"symbol\": \"circle\"}, \"mode\": \"markers\", \"name\": \"17\", \"orientation\": \"v\", \"showlegend\": true, \"type\": \"scatter\", \"x\": [\"2020-07-27T19:18:36.071295\", \"2020-07-27T19:18:47.323508\"], \"xaxis\": \"x\", \"y\": [11069.395, 10924.93], \"yaxis\": \"y\"}, {\"customdata\": [[\"open\", \"long\", -109.11], [\"close\", \"long\", -109.11]], \"hovertemplate\": \"key=18<br>time=%{x}<br>price=%{y}<br>OC=%{customdata[0]}<br>position=%{customdata[1]}<br>PnL=%{customdata[2]}<extra></extra>\", \"legendgroup\": \"18\", \"marker\": {\"color\": \"#FF97FF\", \"symbol\": \"circle\"}, \"mode\": \"markers\", \"name\": \"18\", \"orientation\": \"v\", \"showlegend\": true, \"type\": \"scatter\", \"x\": [\"2020-07-27T19:18:58.553864\", \"2020-07-27T19:20:04.962722\"], \"xaxis\": \"x\", \"y\": [11007.885, 10868.505000000001], \"yaxis\": \"y\"}, {\"customdata\": [[\"open\", \"long\", 188.14], [\"close\", \"long\", 188.14]], \"hovertemplate\": \"key=19<br>time=%{x}<br>price=%{y}<br>OC=%{customdata[0]}<br>position=%{customdata[1]}<br>PnL=%{customdata[2]}<extra></extra>\", \"legendgroup\": \"19\", \"marker\": {\"color\": \"#FECB52\", \"symbol\": \"circle\"}, \"mode\": \"markers\", \"name\": \"19\", \"orientation\": \"v\", \"showlegend\": true, \"type\": \"scatter\", \"x\": [\"2020-07-27T19:20:04.962722\", \"2020-07-27T19:37:03.282099\"], \"xaxis\": \"x\", \"y\": [10868.505, 11093.79], \"yaxis\": \"y\"}, {\"customdata\": [[\"open\", \"long\", -86.04], [\"close\", \"long\", -86.04]], \"hovertemplate\": \"key=20<br>time=%{x}<br>price=%{y}<br>OC=%{customdata[0]}<br>position=%{customdata[1]}<br>PnL=%{customdata[2]}<extra></extra>\", \"legendgroup\": \"20\", \"marker\": {\"color\": \"#636efa\", \"symbol\": \"circle\"}, \"mode\": \"markers\", \"name\": \"20\", \"orientation\": \"v\", \"showlegend\": true, \"type\": \"scatter\", \"x\": [\"2020-07-27T19:37:14.845557\", \"2020-07-27T22:59:53.781203\"], \"xaxis\": \"x\", \"y\": [11094.7, 10983.68], \"yaxis\": \"y\"}, {\"customdata\": [[\"open\", \"long\", -93.19], [\"close\", \"long\", -93.19]], \"hovertemplate\": \"key=21<br>time=%{x}<br>price=%{y}<br>OC=%{customdata[0]}<br>position=%{customdata[1]}<br>PnL=%{customdata[2]}<extra></extra>\", \"legendgroup\": \"21\", \"marker\": {\"color\": \"#EF553B\", \"symbol\": \"circle\"}, \"mode\": \"markers\", \"name\": \"21\", \"orientation\": \"v\", \"showlegend\": true, \"type\": \"scatter\", \"x\": [\"2020-07-27T23:00:16.211319\", \"2020-07-27T23:34:27.124115\"], \"xaxis\": \"x\", \"y\": [10991.405, 10871.650000000001], \"yaxis\": \"y\"}, {\"customdata\": [[\"open\", \"short\", -84.58], [\"close\", \"short\", -84.58]], \"hovertemplate\": \"key=22<br>time=%{x}<br>price=%{y}<br>OC=%{customdata[0]}<br>position=%{customdata[1]}<br>PnL=%{customdata[2]}<extra></extra>\", \"legendgroup\": \"22\", \"marker\": {\"color\": \"#00cc96\", \"symbol\": \"circle\"}, \"mode\": \"markers\", \"name\": \"22\", \"orientation\": \"v\", \"showlegend\": true, \"type\": \"scatter\", \"x\": [\"2020-07-27T23:45:44.848607\", \"2020-07-28T00:01:46.020816\"], \"xaxis\": \"x\", \"y\": [10910.535, 11020.005000000001], \"yaxis\": \"y\"}, {\"customdata\": [[\"open\", \"short\", 204.71], [\"close\", \"short\", 204.71]], \"hovertemplate\": \"key=23<br>time=%{x}<br>price=%{y}<br>OC=%{customdata[0]}<br>position=%{customdata[1]}<br>PnL=%{customdata[2]}<extra></extra>\", \"legendgroup\": \"23\", \"marker\": {\"color\": \"#ab63fa\", \"symbol\": \"circle\"}, \"mode\": \"markers\", \"name\": \"23\", \"orientation\": \"v\", \"showlegend\": true, \"type\": \"scatter\", \"x\": [\"2020-07-28T00:01:57.338194\", \"2020-07-28T04:11:18.517501\"], \"xaxis\": \"x\", \"y\": [11020.475, 10769.24], \"yaxis\": \"y\"}, {\"customdata\": [[\"open\", \"long\", 262.31], [\"close\", \"long\", 262.31]], \"hovertemplate\": \"key=24<br>time=%{x}<br>price=%{y}<br>OC=%{customdata[0]}<br>position=%{customdata[1]}<br>PnL=%{customdata[2]}<extra></extra>\", \"legendgroup\": \"24\", \"marker\": {\"color\": \"#FFA15A\", \"symbol\": \"circle\"}, \"mode\": \"markers\", \"name\": \"24\", \"orientation\": \"v\", \"showlegend\": true, \"type\": \"scatter\", \"x\": [\"2020-07-28T04:11:18.517501\", \"2020-07-28T12:21:46.161419\"], \"xaxis\": \"x\", \"y\": [10769.24, 11078.015], \"yaxis\": \"y\"}, {\"customdata\": [[\"open\", \"long\", -89.78], [\"close\", \"long\", -89.78]], \"hovertemplate\": \"key=25<br>time=%{x}<br>price=%{y}<br>OC=%{customdata[0]}<br>position=%{customdata[1]}<br>PnL=%{customdata[2]}<extra></extra>\", \"legendgroup\": \"25\", \"marker\": {\"color\": \"#19d3f3\", \"symbol\": \"circle\"}, \"mode\": \"markers\", \"name\": \"25\", \"orientation\": \"v\", \"showlegend\": true, \"type\": \"scatter\", \"x\": [\"2020-07-28T12:21:46.161419\", \"2020-07-28T12:41:28.638135\"], \"xaxis\": \"x\", \"y\": [11078.015, 10965.005000000001], \"yaxis\": \"y\"}, {\"customdata\": [[\"open\", \"short\", -87.4], [\"close\", \"short\", -87.4]], \"hovertemplate\": \"key=26<br>time=%{x}<br>price=%{y}<br>OC=%{customdata[0]}<br>position=%{customdata[1]}<br>PnL=%{customdata[2]}<extra></extra>\", \"legendgroup\": \"26\", \"marker\": {\"color\": \"#FF6692\", \"symbol\": \"circle\"}, \"mode\": \"markers\", \"name\": \"26\", \"orientation\": \"v\", \"showlegend\": true, \"type\": \"scatter\", \"x\": [\"2020-07-28T12:41:39.902641\", \"2020-07-30T14:22:14.667840\"], \"xaxis\": \"x\", \"y\": [10981.325, 11091.545], \"yaxis\": \"y\"}, {\"customdata\": [[\"open\", \"short\", -212.43], [\"close\", \"short\", -212.43]], \"hovertemplate\": \"key=27<br>time=%{x}<br>price=%{y}<br>OC=%{customdata[0]}<br>position=%{customdata[1]}<br>PnL=%{customdata[2]}<extra></extra>\", \"legendgroup\": \"27\", \"marker\": {\"color\": \"#B6E880\", \"symbol\": \"circle\"}, \"mode\": \"markers\", \"name\": \"27\", \"orientation\": \"v\", \"showlegend\": true, \"type\": \"scatter\", \"x\": [\"2020-07-30T14:22:49.224294\", \"2020-07-31T11:50:50.009510\"], \"xaxis\": \"x\", \"y\": [11092.045, 11357.185], \"yaxis\": \"y\"}, {\"customdata\": [[\"open\", \"short\", -84.31], [\"close\", \"short\", -84.31]], \"hovertemplate\": \"key=28<br>time=%{x}<br>price=%{y}<br>OC=%{customdata[0]}<br>position=%{customdata[1]}<br>PnL=%{customdata[2]}<extra></extra>\", \"legendgroup\": \"28\", \"marker\": {\"color\": \"#FF97FF\", \"symbol\": \"circle\"}, \"mode\": \"markers\", \"name\": \"28\", \"orientation\": \"v\", \"showlegend\": true, \"type\": \"scatter\", \"x\": [\"2020-07-31T11:51:13.367823\", \"2020-08-01T01:24:29.601340\"], \"xaxis\": \"x\", \"y\": [11356.305, 11469.994999999999], \"yaxis\": \"y\"}, {\"customdata\": [[\"open\", \"short\", -91.29], [\"close\", \"short\", -91.29]], \"hovertemplate\": \"key=29<br>time=%{x}<br>price=%{y}<br>OC=%{customdata[0]}<br>position=%{customdata[1]}<br>PnL=%{customdata[2]}<extra></extra>\", \"legendgroup\": \"29\", \"marker\": {\"color\": \"#FECB52\", \"symbol\": \"circle\"}, \"mode\": \"markers\", \"name\": \"29\", \"orientation\": \"v\", \"showlegend\": true, \"type\": \"scatter\", \"x\": [\"2020-08-01T01:24:29.601340\", \"2020-08-01T01:52:54.879749\"], \"xaxis\": \"x\", \"y\": [11469.995, 11594.985], \"yaxis\": \"y\"}, {\"customdata\": [[\"open\", \"short\", -86.07], [\"close\", \"short\", -86.07]], \"hovertemplate\": \"key=30<br>time=%{x}<br>price=%{y}<br>OC=%{customdata[0]}<br>position=%{customdata[1]}<br>PnL=%{customdata[2]}<extra></extra>\", \"legendgroup\": \"30\", \"marker\": {\"color\": \"#636efa\", \"symbol\": \"circle\"}, \"mode\": \"markers\", \"name\": \"30\", \"orientation\": \"v\", \"showlegend\": true, \"type\": \"scatter\", \"x\": [\"2020-08-01T01:52:54.879749\", \"2020-08-01T02:19:12.073057\"], \"xaxis\": \"x\", \"y\": [11594.985, 11715.635], \"yaxis\": \"y\"}, {\"customdata\": [[\"open\", \"short\", -84.12], [\"close\", \"short\", -84.12]], \"hovertemplate\": \"key=31<br>time=%{x}<br>price=%{y}<br>OC=%{customdata[0]}<br>position=%{customdata[1]}<br>PnL=%{customdata[2]}<extra></extra>\", \"legendgroup\": \"31\", \"marker\": {\"color\": \"#EF553B\", \"symbol\": \"circle\"}, \"mode\": \"markers\", \"name\": \"31\", \"orientation\": \"v\", \"showlegend\": true, \"type\": \"scatter\", \"x\": [\"2020-08-01T02:19:12.073057\", \"2020-08-01T15:34:43.318437\"], \"xaxis\": \"x\", \"y\": [11715.635, 11836.045], \"yaxis\": \"y\"}, {\"customdata\": [[\"open\", \"short\", -84.71], [\"close\", \"short\", -84.71]], \"hovertemplate\": \"key=32<br>time=%{x}<br>price=%{y}<br>OC=%{customdata[0]}<br>position=%{customdata[1]}<br>PnL=%{customdata[2]}<extra></extra>\", \"legendgroup\": \"32\", \"marker\": {\"color\": \"#00cc96\", \"symbol\": \"circle\"}, \"mode\": \"markers\", \"name\": \"32\", \"orientation\": \"v\", \"showlegend\": true, \"type\": \"scatter\", \"x\": [\"2020-08-01T15:34:43.318437\", \"2020-08-01T22:14:05.563754\"], \"xaxis\": \"x\", \"y\": [11836.045, 11959.665], \"yaxis\": \"y\"}, {\"customdata\": [[\"open\", \"short\", -83.3], [\"close\", \"short\", -83.3]], \"hovertemplate\": \"key=33<br>time=%{x}<br>price=%{y}<br>OC=%{customdata[0]}<br>position=%{customdata[1]}<br>PnL=%{customdata[2]}<extra></extra>\", \"legendgroup\": \"33\", \"marker\": {\"color\": \"#ab63fa\", \"symbol\": \"circle\"}, \"mode\": \"markers\", \"name\": \"33\", \"orientation\": \"v\", \"showlegend\": true, \"type\": \"scatter\", \"x\": [\"2020-08-01T22:16:29.729777\", \"2020-08-02T00:12:26.571586\"], \"xaxis\": \"x\", \"y\": [11959.995, 12084.095000000001], \"yaxis\": \"y\"}, {\"customdata\": [[\"open\", \"short\", 189.26], [\"close\", \"short\", 189.26]], \"hovertemplate\": \"key=34<br>time=%{x}<br>price=%{y}<br>OC=%{customdata[0]}<br>position=%{customdata[1]}<br>PnL=%{customdata[2]}<extra></extra>\", \"legendgroup\": \"34\", \"marker\": {\"color\": \"#FFA15A\", \"symbol\": \"circle\"}, \"mode\": \"markers\", \"name\": \"34\", \"orientation\": \"v\", \"showlegend\": true, \"type\": \"scatter\", \"x\": [\"2020-08-02T00:12:26.571586\", \"2020-08-02T00:37:57.407917\"], \"xaxis\": \"x\", \"y\": [12084.095, 11816.255000000001], \"yaxis\": \"y\"}, {\"customdata\": [[\"open\", \"long\", -124.52], [\"close\", \"long\", -124.52]], \"hovertemplate\": \"key=35<br>time=%{x}<br>price=%{y}<br>OC=%{customdata[0]}<br>position=%{customdata[1]}<br>PnL=%{customdata[2]}<extra></extra>\", \"legendgroup\": \"35\", \"marker\": {\"color\": \"#19d3f3\", \"symbol\": \"circle\"}, \"mode\": \"markers\", \"name\": \"35\", \"orientation\": \"v\", \"showlegend\": true, \"type\": \"scatter\", \"x\": [\"2020-08-02T00:37:57.407917\", \"2020-08-02T00:38:31.559867\"], \"xaxis\": \"x\", \"y\": [11816.255, 11638.055], \"yaxis\": \"y\"}, {\"customdata\": [[\"open\", \"long\", -95.05], [\"close\", \"long\", -95.05]], \"hovertemplate\": \"key=36<br>time=%{x}<br>price=%{y}<br>OC=%{customdata[0]}<br>position=%{customdata[1]}<br>PnL=%{customdata[2]}<extra></extra>\", \"legendgroup\": \"36\", \"marker\": {\"color\": \"#FF6692\", \"symbol\": \"circle\"}, \"mode\": \"markers\", \"name\": \"36\", \"orientation\": \"v\", \"showlegend\": true, \"type\": \"scatter\", \"x\": [\"2020-08-02T00:38:42.837230\", \"2020-08-02T00:38:54.186963\"], \"xaxis\": \"x\", \"y\": [11557.21, 11420.9], \"yaxis\": \"y\"}, {\"customdata\": [[\"open\", \"long\", -141.2], [\"close\", \"long\", -141.2]], \"hovertemplate\": \"key=37<br>time=%{x}<br>price=%{y}<br>OC=%{customdata[0]}<br>position=%{customdata[1]}<br>PnL=%{customdata[2]}<extra></extra>\", \"legendgroup\": \"37\", \"marker\": {\"color\": \"#B6E880\", \"symbol\": \"circle\"}, \"mode\": \"markers\", \"name\": \"37\", \"orientation\": \"v\", \"showlegend\": true, \"type\": \"scatter\", \"x\": [\"2020-08-02T00:39:05.648864\", \"2020-08-02T00:39:28.334156\"], \"xaxis\": \"x\", \"y\": [11391.795, 11192.775], \"yaxis\": \"y\"}, {\"customdata\": [[\"open\", \"long\", -114.15], [\"close\", \"long\", -114.15]], \"hovertemplate\": \"key=38<br>time=%{x}<br>price=%{y}<br>OC=%{customdata[0]}<br>position=%{customdata[1]}<br>PnL=%{customdata[2]}<extra></extra>\", \"legendgroup\": \"38\", \"marker\": {\"color\": \"#FF97FF\", \"symbol\": \"circle\"}, \"mode\": \"markers\", \"name\": \"38\", \"orientation\": \"v\", \"showlegend\": true, \"type\": \"scatter\", \"x\": [\"2020-08-02T00:39:28.334156\", \"2020-08-02T00:40:48.146815\"], \"xaxis\": \"x\", \"y\": [11192.775, 11030.965], \"yaxis\": \"y\"}, {\"customdata\": [[\"open\", \"long\", -148.86], [\"close\", \"long\", -148.86]], \"hovertemplate\": \"key=39<br>time=%{x}<br>price=%{y}<br>OC=%{customdata[0]}<br>position=%{customdata[1]}<br>PnL=%{customdata[2]}<extra></extra>\", \"legendgroup\": \"39\", \"marker\": {\"color\": \"#FECB52\", \"symbol\": \"circle\"}, \"mode\": \"markers\", \"name\": \"39\", \"orientation\": \"v\", \"showlegend\": true, \"type\": \"scatter\", \"x\": [\"2020-08-02T00:40:59.645882\", \"2020-08-02T00:42:07.623763\"], \"xaxis\": \"x\", \"y\": [10902.51, 10695.82], \"yaxis\": \"y\"}, {\"customdata\": [[\"open\", \"long\", -84.06], [\"close\", \"long\", -84.06]], \"hovertemplate\": \"key=40<br>time=%{x}<br>price=%{y}<br>OC=%{customdata[0]}<br>position=%{customdata[1]}<br>PnL=%{customdata[2]}<extra></extra>\", \"legendgroup\": \"40\", \"marker\": {\"color\": \"#636efa\", \"symbol\": \"circle\"}, \"mode\": \"markers\", \"name\": \"40\", \"orientation\": \"v\", \"showlegend\": true, \"type\": \"scatter\", \"x\": [\"2020-08-02T00:42:07.623763\", \"2020-08-02T00:42:19.031513\"], \"xaxis\": \"x\", \"y\": [10695.82, 10576.9], \"yaxis\": \"y\"}, {\"customdata\": [[\"open\", \"long\", 191.47], [\"close\", \"long\", 191.47]], \"hovertemplate\": \"key=41<br>time=%{x}<br>price=%{y}<br>OC=%{customdata[0]}<br>position=%{customdata[1]}<br>PnL=%{customdata[2]}<extra></extra>\", \"legendgroup\": \"41\", \"marker\": {\"color\": \"#EF553B\", \"symbol\": \"circle\"}, \"mode\": \"markers\", \"name\": \"41\", \"orientation\": \"v\", \"showlegend\": true, \"type\": \"scatter\", \"x\": [\"2020-08-02T00:42:19.031513\", \"2020-08-02T00:43:27.324243\"], \"xaxis\": \"x\", \"y\": [10576.9, 10830.185000000001], \"yaxis\": \"y\"}, {\"customdata\": [[\"open\", \"long\", 182.04], [\"close\", \"long\", 182.04]], \"hovertemplate\": \"key=42<br>time=%{x}<br>price=%{y}<br>OC=%{customdata[0]}<br>position=%{customdata[1]}<br>PnL=%{customdata[2]}<extra></extra>\", \"legendgroup\": \"42\", \"marker\": {\"color\": \"#00cc96\", \"symbol\": \"circle\"}, \"mode\": \"markers\", \"name\": \"42\", \"orientation\": \"v\", \"showlegend\": true, \"type\": \"scatter\", \"x\": [\"2020-08-02T00:43:27.324243\", \"2020-08-02T00:46:18.349592\"], \"xaxis\": \"x\", \"y\": [10830.185, 11070.485], \"yaxis\": \"y\"}, {\"customdata\": [[\"open\", \"long\", 174.75], [\"close\", \"long\", 174.75]], \"hovertemplate\": \"key=43<br>time=%{x}<br>price=%{y}<br>OC=%{customdata[0]}<br>position=%{customdata[1]}<br>PnL=%{customdata[2]}<extra></extra>\", \"legendgroup\": \"43\", \"marker\": {\"color\": \"#ab63fa\", \"symbol\": \"circle\"}, \"mode\": \"markers\", \"name\": \"43\", \"orientation\": \"v\", \"showlegend\": true, \"type\": \"scatter\", \"x\": [\"2020-08-02T00:46:18.349592\", \"2020-08-02T01:06:13.833970\"], \"xaxis\": \"x\", \"y\": [11070.485, 11300.715], \"yaxis\": \"y\"}, {\"customdata\": [[\"open\", \"short\", 180.7], [\"close\", \"short\", 180.7]], \"hovertemplate\": \"key=44<br>time=%{x}<br>price=%{y}<br>OC=%{customdata[0]}<br>position=%{customdata[1]}<br>PnL=%{customdata[2]}<extra></extra>\", \"legendgroup\": \"44\", \"marker\": {\"color\": \"#FFA15A\", \"symbol\": \"circle\"}, \"mode\": \"markers\", \"name\": \"44\", \"orientation\": \"v\", \"showlegend\": true, \"type\": \"scatter\", \"x\": [\"2020-08-02T01:06:13.833970\", \"2020-08-02T07:21:00.664101\"], \"xaxis\": \"x\", \"y\": [11300.715, 11062.689999999999], \"yaxis\": \"y\"}, {\"customdata\": [[\"open\", \"long\", -84.66], [\"close\", \"long\", -84.66]], \"hovertemplate\": \"key=45<br>time=%{x}<br>price=%{y}<br>OC=%{customdata[0]}<br>position=%{customdata[1]}<br>PnL=%{customdata[2]}<extra></extra>\", \"legendgroup\": \"45\", \"marker\": {\"color\": \"#19d3f3\", \"symbol\": \"circle\"}, \"mode\": \"markers\", \"name\": \"45\", \"orientation\": \"v\", \"showlegend\": true, \"type\": \"scatter\", \"x\": [\"2020-08-02T07:21:11.989294\", \"2020-08-02T07:39:26.568831\"], \"xaxis\": \"x\", \"y\": [11087.765, 10972.575], \"yaxis\": \"y\"}, {\"customdata\": [[\"open\", \"long\", 176.05], [\"close\", \"long\", 176.05]], \"hovertemplate\": \"key=46<br>time=%{x}<br>price=%{y}<br>OC=%{customdata[0]}<br>position=%{customdata[1]}<br>PnL=%{customdata[2]}<extra></extra>\", \"legendgroup\": \"46\", \"marker\": {\"color\": \"#FF6692\", \"symbol\": \"circle\"}, \"mode\": \"markers\", \"name\": \"46\", \"orientation\": \"v\", \"showlegend\": true, \"type\": \"scatter\", \"x\": [\"2020-08-02T07:39:26.568831\", \"2020-08-02T12:49:44.988872\"], \"xaxis\": \"x\", \"y\": [10972.575, 11194.985], \"yaxis\": \"y\"}, {\"customdata\": [[\"open\", \"short\", 178.05], [\"close\", \"short\", 178.05]], \"hovertemplate\": \"key=47<br>time=%{x}<br>price=%{y}<br>OC=%{customdata[0]}<br>position=%{customdata[1]}<br>PnL=%{customdata[2]}<extra></extra>\", \"legendgroup\": \"47\", \"marker\": {\"color\": \"#B6E880\", \"symbol\": \"circle\"}, \"mode\": \"markers\", \"name\": \"47\", \"orientation\": \"v\", \"showlegend\": true, \"type\": \"scatter\", \"x\": [\"2020-08-02T12:49:56.378900\", \"2020-08-02T20:04:18.017710\"], \"xaxis\": \"x\", \"y\": [11197.835, 10973.005000000001], \"yaxis\": \"y\"}, {\"customdata\": [[\"open\", \"long\", 183.11], [\"close\", \"long\", 183.11]], \"hovertemplate\": \"key=48<br>time=%{x}<br>price=%{y}<br>OC=%{customdata[0]}<br>position=%{customdata[1]}<br>PnL=%{customdata[2]}<extra></extra>\", \"legendgroup\": \"48\", \"marker\": {\"color\": \"#FF97FF\", \"symbol\": \"circle\"}, \"mode\": \"markers\", \"name\": \"48\", \"orientation\": \"v\", \"showlegend\": true, \"type\": \"scatter\", \"x\": [\"2020-08-02T20:04:29.501043\", \"2020-08-02T22:38:27.415420\"], \"xaxis\": \"x\", \"y\": [10968.72, 11190.685], \"yaxis\": \"y\"}, {\"customdata\": [[\"open\", \"long\", 189.11], [\"close\", \"long\", 189.11]], \"hovertemplate\": \"key=49<br>time=%{x}<br>price=%{y}<br>OC=%{customdata[0]}<br>position=%{customdata[1]}<br>PnL=%{customdata[2]}<extra></extra>\", \"legendgroup\": \"49\", \"marker\": {\"color\": \"#FECB52\", \"symbol\": \"circle\"}, \"mode\": \"markers\", \"name\": \"49\", \"orientation\": \"v\", \"showlegend\": true, \"type\": \"scatter\", \"x\": [\"2020-08-02T23:03:34.090471\", \"2020-08-03T12:00:40.159968\"], \"xaxis\": \"x\", \"y\": [11179.955, 11408.925], \"yaxis\": \"y\"}, {\"customdata\": [[\"open\", \"short\", 200.08], [\"close\", \"short\", 200.08]], \"hovertemplate\": \"key=50<br>time=%{x}<br>price=%{y}<br>OC=%{customdata[0]}<br>position=%{customdata[1]}<br>PnL=%{customdata[2]}<extra></extra>\", \"legendgroup\": \"50\", \"marker\": {\"color\": \"#636efa\", \"symbol\": \"circle\"}, \"mode\": \"markers\", \"name\": \"50\", \"orientation\": \"v\", \"showlegend\": true, \"type\": \"scatter\", \"x\": [\"2020-08-03T12:03:09.668466\", \"2020-08-03T17:59:26.638395\"], \"xaxis\": \"x\", \"y\": [11412.815, 11170.395], \"yaxis\": \"y\"}, {\"customdata\": [[\"open\", \"long\", -91.23], [\"close\", \"long\", -91.23]], \"hovertemplate\": \"key=51<br>time=%{x}<br>price=%{y}<br>OC=%{customdata[0]}<br>position=%{customdata[1]}<br>PnL=%{customdata[2]}<extra></extra>\", \"legendgroup\": \"51\", \"marker\": {\"color\": \"#EF553B\", \"symbol\": \"circle\"}, \"mode\": \"markers\", \"name\": \"51\", \"orientation\": \"v\", \"showlegend\": true, \"type\": \"scatter\", \"x\": [\"2020-08-03T17:59:38.400594\", \"2020-08-04T07:54:20.810450\"], \"xaxis\": \"x\", \"y\": [11208.36, 11094.005000000001], \"yaxis\": \"y\"}, {\"customdata\": [[\"open\", \"long\", 193.5], [\"close\", \"long\", 193.5]], \"hovertemplate\": \"key=52<br>time=%{x}<br>price=%{y}<br>OC=%{customdata[0]}<br>position=%{customdata[1]}<br>PnL=%{customdata[2]}<extra></extra>\", \"legendgroup\": \"52\", \"marker\": {\"color\": \"#00cc96\", \"symbol\": \"circle\"}, \"mode\": \"markers\", \"name\": \"52\", \"orientation\": \"v\", \"showlegend\": true, \"type\": \"scatter\", \"x\": [\"2020-08-04T07:54:20.810450\", \"2020-08-05T02:10:04.155380\"], \"xaxis\": \"x\", \"y\": [11094.005, 11318.994999999999], \"yaxis\": \"y\"}, {\"customdata\": [[\"open\", \"long\", 231.45], [\"close\", \"long\", 231.45]], \"hovertemplate\": \"key=53<br>time=%{x}<br>price=%{y}<br>OC=%{customdata[0]}<br>position=%{customdata[1]}<br>PnL=%{customdata[2]}<extra></extra>\", \"legendgroup\": \"53\", \"marker\": {\"color\": \"#ab63fa\", \"symbol\": \"circle\"}, \"mode\": \"markers\", \"name\": \"53\", \"orientation\": \"v\", \"showlegend\": true, \"type\": \"scatter\", \"x\": [\"2020-08-05T02:45:40.482053\", \"2020-08-05T08:50:50.322035\"], \"xaxis\": \"x\", \"y\": [11293.625, 11562.985], \"yaxis\": \"y\"}, {\"customdata\": [[\"open\", \"short\", -92.94], [\"close\", \"short\", -92.94]], \"hovertemplate\": \"key=54<br>time=%{x}<br>price=%{y}<br>OC=%{customdata[0]}<br>position=%{customdata[1]}<br>PnL=%{customdata[2]}<extra></extra>\", \"legendgroup\": \"54\", \"marker\": {\"color\": \"#FFA15A\", \"symbol\": \"circle\"}, \"mode\": \"markers\", \"name\": \"54\", \"orientation\": \"v\", \"showlegend\": true, \"type\": \"scatter\", \"x\": [\"2020-08-05T08:51:24.394751\", \"2020-08-05T11:06:36.138277\"], \"xaxis\": \"x\", \"y\": [11557.91, 11674.01], \"yaxis\": \"y\"}, {\"customdata\": [[\"open\", \"short\", -94.14], [\"close\", \"short\", -94.14]], \"hovertemplate\": \"key=55<br>time=%{x}<br>price=%{y}<br>OC=%{customdata[0]}<br>position=%{customdata[1]}<br>PnL=%{customdata[2]}<extra></extra>\", \"legendgroup\": \"55\", \"marker\": {\"color\": \"#19d3f3\", \"symbol\": \"circle\"}, \"mode\": \"markers\", \"name\": \"55\", \"orientation\": \"v\", \"showlegend\": true, \"type\": \"scatter\", \"x\": [\"2020-08-05T11:07:10.609185\", \"2020-08-05T17:41:51.535205\"], \"xaxis\": \"x\", \"y\": [11675.345, 11795.154999999999], \"yaxis\": \"y\"}, {\"customdata\": [[\"open\", \"short\", 214.94], [\"close\", \"short\", 214.94]], \"hovertemplate\": \"key=56<br>time=%{x}<br>price=%{y}<br>OC=%{customdata[0]}<br>position=%{customdata[1]}<br>PnL=%{customdata[2]}<extra></extra>\", \"legendgroup\": \"56\", \"marker\": {\"color\": \"#FF6692\", \"symbol\": \"circle\"}, \"mode\": \"markers\", \"name\": \"56\", \"orientation\": \"v\", \"showlegend\": true, \"type\": \"scatter\", \"x\": [\"2020-08-05T17:45:53.518505\", \"2020-08-05T18:03:54.657078\"], \"xaxis\": \"x\", \"y\": [11793.275, 11533.72], \"yaxis\": \"y\"}, {\"customdata\": [[\"open\", \"long\", 204.44], [\"close\", \"long\", 204.44]], \"hovertemplate\": \"key=57<br>time=%{x}<br>price=%{y}<br>OC=%{customdata[0]}<br>position=%{customdata[1]}<br>PnL=%{customdata[2]}<extra></extra>\", \"legendgroup\": \"57\", \"marker\": {\"color\": \"#B6E880\", \"symbol\": \"circle\"}, \"mode\": \"markers\", \"name\": \"57\", \"orientation\": \"v\", \"showlegend\": true, \"type\": \"scatter\", \"x\": [\"2020-08-05T18:04:06.007503\", \"2020-08-06T09:40:05.176781\"], \"xaxis\": \"x\", \"y\": [11618.54, 11855.994999999999], \"yaxis\": \"y\"}, {\"customdata\": [[\"open\", \"short\", 205.74], [\"close\", \"short\", 205.74]], \"hovertemplate\": \"key=58<br>time=%{x}<br>price=%{y}<br>OC=%{customdata[0]}<br>position=%{customdata[1]}<br>PnL=%{customdata[2]}<extra></extra>\", \"legendgroup\": \"58\", \"marker\": {\"color\": \"#FF97FF\", \"symbol\": \"circle\"}, \"mode\": \"markers\", \"name\": \"58\", \"orientation\": \"v\", \"showlegend\": true, \"type\": \"scatter\", \"x\": [\"2020-08-06T09:40:05.176781\", \"2020-08-07T12:22:02.121783\"], \"xaxis\": \"x\", \"y\": [11855.995, 11617.23], \"yaxis\": \"y\"}, {\"customdata\": [[\"open\", \"long\", 250.32], [\"close\", \"long\", 250.32]], \"hovertemplate\": \"key=59<br>time=%{x}<br>price=%{y}<br>OC=%{customdata[0]}<br>position=%{customdata[1]}<br>PnL=%{customdata[2]}<extra></extra>\", \"legendgroup\": \"59\", \"marker\": {\"color\": \"#FECB52\", \"symbol\": \"circle\"}, \"mode\": \"markers\", \"name\": \"59\", \"orientation\": \"v\", \"showlegend\": true, \"type\": \"scatter\", \"x\": [\"2020-08-07T12:30:45.693014\", \"2020-08-10T15:10:51.478721\"], \"xaxis\": \"x\", \"y\": [11605.805, 11885.535], \"yaxis\": \"y\"}, {\"customdata\": [[\"open\", \"short\", 217.6], [\"close\", \"short\", 217.6]], \"hovertemplate\": \"key=60<br>time=%{x}<br>price=%{y}<br>OC=%{customdata[0]}<br>position=%{customdata[1]}<br>PnL=%{customdata[2]}<extra></extra>\", \"legendgroup\": \"60\", \"marker\": {\"color\": \"#636efa\", \"symbol\": \"circle\"}, \"mode\": \"markers\", \"name\": \"60\", \"orientation\": \"v\", \"showlegend\": true, \"type\": \"scatter\", \"x\": [\"2020-08-10T15:12:50.293200\", \"2020-08-11T06:10:22.399485\"], \"xaxis\": \"x\", \"y\": [11902.295, 11659.810000000001], \"yaxis\": \"y\"}, {\"customdata\": [[\"open\", \"long\", -111.68], [\"close\", \"long\", -111.68]], \"hovertemplate\": \"key=61<br>time=%{x}<br>price=%{y}<br>OC=%{customdata[0]}<br>position=%{customdata[1]}<br>PnL=%{customdata[2]}<extra></extra>\", \"legendgroup\": \"61\", \"marker\": {\"color\": \"#EF553B\", \"symbol\": \"circle\"}, \"mode\": \"markers\", \"name\": \"61\", \"orientation\": \"v\", \"showlegend\": true, \"type\": \"scatter\", \"x\": [\"2020-08-11T06:10:22.399485\", \"2020-08-11T10:58:14.131239\"], \"xaxis\": \"x\", \"y\": [11659.81, 11531.619999999999], \"yaxis\": \"y\"}, {\"customdata\": [[\"open\", \"long\", -114.97], [\"close\", \"long\", -114.97]], \"hovertemplate\": \"key=62<br>time=%{x}<br>price=%{y}<br>OC=%{customdata[0]}<br>position=%{customdata[1]}<br>PnL=%{customdata[2]}<extra></extra>\", \"legendgroup\": \"62\", \"marker\": {\"color\": \"#00cc96\", \"symbol\": \"circle\"}, \"mode\": \"markers\", \"name\": \"62\", \"orientation\": \"v\", \"showlegend\": true, \"type\": \"scatter\", \"x\": [\"2020-08-11T10:59:11.750959\", \"2020-08-11T11:15:30.284205\"], \"xaxis\": \"x\", \"y\": [11549.865000000002, 11417.994999999999], \"yaxis\": \"y\"}, {\"customdata\": [[\"open\", \"long\", -115.1], [\"close\", \"long\", -115.1]], \"hovertemplate\": \"key=63<br>time=%{x}<br>price=%{y}<br>OC=%{customdata[0]}<br>position=%{customdata[1]}<br>PnL=%{customdata[2]}<extra></extra>\", \"legendgroup\": \"63\", \"marker\": {\"color\": \"#ab63fa\", \"symbol\": \"circle\"}, \"mode\": \"markers\", \"name\": \"63\", \"orientation\": \"v\", \"showlegend\": true, \"type\": \"scatter\", \"x\": [\"2020-08-11T11:15:41.968992\", \"2020-08-11T16:17:55.763602\"], \"xaxis\": \"x\", \"y\": [11405.865000000002, 11274.125], \"yaxis\": \"y\"}, {\"customdata\": [[\"open\", \"long\", -104.6], [\"close\", \"long\", -104.6]], \"hovertemplate\": \"key=64<br>time=%{x}<br>price=%{y}<br>OC=%{customdata[0]}<br>position=%{customdata[1]}<br>PnL=%{customdata[2]}<extra></extra>\", \"legendgroup\": \"64\", \"marker\": {\"color\": \"#FFA15A\", \"symbol\": \"circle\"}, \"mode\": \"markers\", \"name\": \"64\", \"orientation\": \"v\", \"showlegend\": true, \"type\": \"scatter\", \"x\": [\"2020-08-11T16:17:55.763602\", \"2020-08-11T16:36:04.110229\"], \"xaxis\": \"x\", \"y\": [11274.125, 11154.005000000001], \"yaxis\": \"y\"}, {\"customdata\": [[\"open\", \"long\", 211.09], [\"close\", \"long\", 211.09]], \"hovertemplate\": \"key=65<br>time=%{x}<br>price=%{y}<br>OC=%{customdata[0]}<br>position=%{customdata[1]}<br>PnL=%{customdata[2]}<extra></extra>\", \"legendgroup\": \"65\", \"marker\": {\"color\": \"#19d3f3\", \"symbol\": \"circle\"}, \"mode\": \"markers\", \"name\": \"65\", \"orientation\": \"v\", \"showlegend\": true, \"type\": \"scatter\", \"x\": [\"2020-08-11T16:36:04.110229\", \"2020-08-11T19:07:17.452802\"], \"xaxis\": \"x\", \"y\": [11154.005, 11379.355], \"yaxis\": \"y\"}, {\"customdata\": [[\"open\", \"short\", -101.41], [\"close\", \"short\", -101.41]], \"hovertemplate\": \"key=66<br>time=%{x}<br>price=%{y}<br>OC=%{customdata[0]}<br>position=%{customdata[1]}<br>PnL=%{customdata[2]}<extra></extra>\", \"legendgroup\": \"66\", \"marker\": {\"color\": \"#FF6692\", \"symbol\": \"circle\"}, \"mode\": \"markers\", \"name\": \"66\", \"orientation\": \"v\", \"showlegend\": true, \"type\": \"scatter\", \"x\": [\"2020-08-11T19:07:50.027631\", \"2020-08-12T04:31:52.549581\"], \"xaxis\": \"x\", \"y\": [11377.01, 11493.555], \"yaxis\": \"y\"}, {\"customdata\": [[\"open\", \"short\", -99.36], [\"close\", \"short\", -99.36]], \"hovertemplate\": \"key=67<br>time=%{x}<br>price=%{y}<br>OC=%{customdata[0]}<br>position=%{customdata[1]}<br>PnL=%{customdata[2]}<extra></extra>\", \"legendgroup\": \"67\", \"marker\": {\"color\": \"#B6E880\", \"symbol\": \"circle\"}, \"mode\": \"markers\", \"name\": \"67\", \"orientation\": \"v\", \"showlegend\": true, \"type\": \"scatter\", \"x\": [\"2020-08-12T04:32:03.797409\", \"2020-08-12T11:01:43.073327\"], \"xaxis\": \"x\", \"y\": [11494.585, 11611.154999999999], \"yaxis\": \"y\"}, {\"customdata\": [[\"open\", \"short\", 222.25], [\"close\", \"short\", 222.25]], \"hovertemplate\": \"key=68<br>time=%{x}<br>price=%{y}<br>OC=%{customdata[0]}<br>position=%{customdata[1]}<br>PnL=%{customdata[2]}<extra></extra>\", \"legendgroup\": \"68\", \"marker\": {\"color\": \"#FF97FF\", \"symbol\": \"circle\"}, \"mode\": \"markers\", \"name\": \"68\", \"orientation\": \"v\", \"showlegend\": true, \"type\": \"scatter\", \"x\": [\"2020-08-12T11:02:39.524888\", \"2020-08-13T04:43:45.869830\"], \"xaxis\": \"x\", \"y\": [11624.995, 11377.665], \"yaxis\": \"y\"}, {\"customdata\": [[\"open\", \"long\", 217.68], [\"close\", \"long\", 217.68]], \"hovertemplate\": \"key=69<br>time=%{x}<br>price=%{y}<br>OC=%{customdata[0]}<br>position=%{customdata[1]}<br>PnL=%{customdata[2]}<extra></extra>\", \"legendgroup\": \"69\", \"marker\": {\"color\": \"#FECB52\", \"symbol\": \"circle\"}, \"mode\": \"markers\", \"name\": \"69\", \"orientation\": \"v\", \"showlegend\": true, \"type\": \"scatter\", \"x\": [\"2020-08-13T04:43:57.660878\", \"2020-08-13T07:20:46.651182\"], \"xaxis\": \"x\", \"y\": [11380.935, 11612.805], \"yaxis\": \"y\"}, {\"customdata\": [[\"open\", \"short\", -103.63], [\"close\", \"short\", -103.63]], \"hovertemplate\": \"key=70<br>time=%{x}<br>price=%{y}<br>OC=%{customdata[0]}<br>position=%{customdata[1]}<br>PnL=%{customdata[2]}<extra></extra>\", \"legendgroup\": \"70\", \"marker\": {\"color\": \"#636efa\", \"symbol\": \"circle\"}, \"mode\": \"markers\", \"name\": \"70\", \"orientation\": \"v\", \"showlegend\": true, \"type\": \"scatter\", \"x\": [\"2020-08-13T07:20:46.651182\", \"2020-08-13T17:06:45.473664\"], \"xaxis\": \"x\", \"y\": [11612.805, 11731.645], \"yaxis\": \"y\"}, {\"customdata\": [[\"open\", \"short\", -106.65], [\"close\", \"short\", -106.65]], \"hovertemplate\": \"key=71<br>time=%{x}<br>price=%{y}<br>OC=%{customdata[0]}<br>position=%{customdata[1]}<br>PnL=%{customdata[2]}<extra></extra>\", \"legendgroup\": \"71\", \"marker\": {\"color\": \"#EF553B\", \"symbol\": \"circle\"}, \"mode\": \"markers\", \"name\": \"71\", \"orientation\": \"v\", \"showlegend\": true, \"type\": \"scatter\", \"x\": [\"2020-08-13T17:06:57.272874\", \"2020-08-14T12:26:11.329869\"], \"xaxis\": \"x\", \"y\": [11734.47, 11859.045], \"yaxis\": \"y\"}, {\"customdata\": [[\"open\", \"long\", 409.06], [\"close\", \"long\", 409.06]], \"hovertemplate\": \"key=72<br>time=%{x}<br>price=%{y}<br>OC=%{customdata[0]}<br>position=%{customdata[1]}<br>PnL=%{customdata[2]}<extra></extra>\", \"legendgroup\": \"72\", \"marker\": {\"color\": \"#00cc96\", \"symbol\": \"circle\"}, \"mode\": \"markers\", \"name\": \"72\", \"orientation\": \"v\", \"showlegend\": true, \"type\": \"scatter\", \"x\": [\"2020-08-14T12:26:22.648451\", \"2020-08-17T11:32:28.788868\"], \"xaxis\": \"x\", \"y\": [11802.245, 12258.95], \"yaxis\": \"y\"}, {\"customdata\": [[\"open\", \"short\", -104.09], [\"close\", \"short\", -104.09]], \"hovertemplate\": \"key=73<br>time=%{x}<br>price=%{y}<br>OC=%{customdata[0]}<br>position=%{customdata[1]}<br>PnL=%{customdata[2]}<extra></extra>\", \"legendgroup\": \"73\", \"marker\": {\"color\": \"#ab63fa\", \"symbol\": \"circle\"}, \"mode\": \"markers\", \"name\": \"73\", \"orientation\": \"v\", \"showlegend\": true, \"type\": \"scatter\", \"x\": [\"2020-08-17T11:33:03.317015\", \"2020-08-17T11:46:01.335962\"], \"xaxis\": \"x\", \"y\": [12254.205, 12377.945], \"yaxis\": \"y\"}, {\"customdata\": [[\"open\", \"short\", 373.86], [\"close\", \"short\", 373.86]], \"hovertemplate\": \"key=74<br>time=%{x}<br>price=%{y}<br>OC=%{customdata[0]}<br>position=%{customdata[1]}<br>PnL=%{customdata[2]}<extra></extra>\", \"legendgroup\": \"74\", \"marker\": {\"color\": \"#FFA15A\", \"symbol\": \"circle\"}, \"mode\": \"markers\", \"name\": \"74\", \"orientation\": \"v\", \"showlegend\": true, \"type\": \"scatter\", \"x\": [\"2020-08-17T11:46:13.159762\", \"2020-08-18T12:32:39.120521\"], \"xaxis\": \"x\", \"y\": [12397.965, 11972.634999999998], \"yaxis\": \"y\"}, {\"customdata\": [[\"open\", \"long\", -107.97], [\"close\", \"long\", -107.97]], \"hovertemplate\": \"key=75<br>time=%{x}<br>price=%{y}<br>OC=%{customdata[0]}<br>position=%{customdata[1]}<br>PnL=%{customdata[2]}<extra></extra>\", \"legendgroup\": \"75\", \"marker\": {\"color\": \"#19d3f3\", \"symbol\": \"circle\"}, \"mode\": \"markers\", \"name\": \"75\", \"orientation\": \"v\", \"showlegend\": true, \"type\": \"scatter\", \"x\": [\"2020-08-18T12:32:50.874013\", \"2020-08-18T23:48:31.309414\"], \"xaxis\": \"x\", \"y\": [11979.585, 11857.224999999999], \"yaxis\": \"y\"}, {\"customdata\": [[\"open\", \"long\", -125.08], [\"close\", \"long\", -125.08]], \"hovertemplate\": \"key=76<br>time=%{x}<br>price=%{y}<br>OC=%{customdata[0]}<br>position=%{customdata[1]}<br>PnL=%{customdata[2]}<extra></extra>\", \"legendgroup\": \"76\", \"marker\": {\"color\": \"#FF6692\", \"symbol\": \"circle\"}, \"mode\": \"markers\", \"name\": \"76\", \"orientation\": \"v\", \"showlegend\": true, \"type\": \"scatter\", \"x\": [\"2020-08-18T23:49:05.947694\", \"2020-08-19T00:18:01.313987\"], \"xaxis\": \"x\", \"y\": [11847.32, 11706.765], \"yaxis\": \"y\"}, {\"customdata\": [[\"open\", \"long\", -104.48], [\"close\", \"long\", -104.48]], \"hovertemplate\": \"key=77<br>time=%{x}<br>price=%{y}<br>OC=%{customdata[0]}<br>position=%{customdata[1]}<br>PnL=%{customdata[2]}<extra></extra>\", \"legendgroup\": \"77\", \"marker\": {\"color\": \"#B6E880\", \"symbol\": \"circle\"}, \"mode\": \"markers\", \"name\": \"77\", \"orientation\": \"v\", \"showlegend\": true, \"type\": \"scatter\", \"x\": [\"2020-08-19T00:18:12.699188\", \"2020-08-19T02:21:49.406522\"], \"xaxis\": \"x\", \"y\": [11746.035, 11627.384999999998], \"yaxis\": \"y\"}, {\"customdata\": [[\"open\", \"long\", 221.73], [\"close\", \"long\", 221.73]], \"hovertemplate\": \"key=78<br>time=%{x}<br>price=%{y}<br>OC=%{customdata[0]}<br>position=%{customdata[1]}<br>PnL=%{customdata[2]}<extra></extra>\", \"legendgroup\": \"78\", \"marker\": {\"color\": \"#FF97FF\", \"symbol\": \"circle\"}, \"mode\": \"markers\", \"name\": \"78\", \"orientation\": \"v\", \"showlegend\": true, \"type\": \"scatter\", \"x\": [\"2020-08-19T02:21:49.406522\", \"2020-08-19T07:17:47.796712\"], \"xaxis\": \"x\", \"y\": [11627.384999999998, 11860.795], \"yaxis\": \"y\"}, {\"customdata\": [[\"open\", \"short\", 229.85], [\"close\", \"short\", 229.85]], \"hovertemplate\": \"key=79<br>time=%{x}<br>price=%{y}<br>OC=%{customdata[0]}<br>position=%{customdata[1]}<br>PnL=%{customdata[2]}<extra></extra>\", \"legendgroup\": \"79\", \"marker\": {\"color\": \"#FECB52\", \"symbol\": \"circle\"}, \"mode\": \"markers\", \"name\": \"79\", \"orientation\": \"v\", \"showlegend\": true, \"type\": \"scatter\", \"x\": [\"2020-08-19T07:17:58.962054\", \"2020-08-19T16:17:10.224164\"], \"xaxis\": \"x\", \"y\": [11863.955, 11621.965], \"yaxis\": \"y\"}, {\"customdata\": [[\"open\", \"long\", 235.37], [\"close\", \"long\", 235.37]], \"hovertemplate\": \"key=80<br>time=%{x}<br>price=%{y}<br>OC=%{customdata[0]}<br>position=%{customdata[1]}<br>PnL=%{customdata[2]}<extra></extra>\", \"legendgroup\": \"80\", \"marker\": {\"color\": \"#636efa\", \"symbol\": \"circle\"}, \"mode\": \"markers\", \"name\": \"80\", \"orientation\": \"v\", \"showlegend\": true, \"type\": \"scatter\", \"x\": [\"2020-08-19T16:17:10.224164\", \"2020-08-20T12:22:52.362734\"], \"xaxis\": \"x\", \"y\": [11621.965, 11859.76], \"yaxis\": \"y\"}, {\"customdata\": [[\"open\", \"short\", 236.36], [\"close\", \"short\", 236.36]], \"hovertemplate\": \"key=81<br>time=%{x}<br>price=%{y}<br>OC=%{customdata[0]}<br>position=%{customdata[1]}<br>PnL=%{customdata[2]}<extra></extra>\", \"legendgroup\": \"81\", \"marker\": {\"color\": \"#EF553B\", \"symbol\": \"circle\"}, \"mode\": \"markers\", \"name\": \"81\", \"orientation\": \"v\", \"showlegend\": true, \"type\": \"scatter\", \"x\": [\"2020-08-20T12:23:36.563453\", \"2020-08-21T08:30:22.208515\"], \"xaxis\": \"x\", \"y\": [11868.795, 11630.025000000001], \"yaxis\": \"y\"}, {\"customdata\": [[\"open\", \"long\", -114.05], [\"close\", \"long\", -114.05]], \"hovertemplate\": \"key=82<br>time=%{x}<br>price=%{y}<br>OC=%{customdata[0]}<br>position=%{customdata[1]}<br>PnL=%{customdata[2]}<extra></extra>\", \"legendgroup\": \"82\", \"marker\": {\"color\": \"#00cc96\", \"symbol\": \"circle\"}, \"mode\": \"markers\", \"name\": \"82\", \"orientation\": \"v\", \"showlegend\": true, \"type\": \"scatter\", \"x\": [\"2020-08-21T08:30:33.670185\", \"2020-08-21T17:47:42.914764\"], \"xaxis\": \"x\", \"y\": [11629.185, 11510.015], \"yaxis\": \"y\"}, {\"customdata\": [[\"open\", \"long\", -119.28], [\"close\", \"long\", -119.28]], \"hovertemplate\": \"key=83<br>time=%{x}<br>price=%{y}<br>OC=%{customdata[0]}<br>position=%{customdata[1]}<br>PnL=%{customdata[2]}<extra></extra>\", \"legendgroup\": \"83\", \"marker\": {\"color\": \"#ab63fa\", \"symbol\": \"circle\"}, \"mode\": \"markers\", \"name\": \"83\", \"orientation\": \"v\", \"showlegend\": true, \"type\": \"scatter\", \"x\": [\"2020-08-21T17:47:42.914764\", \"2020-08-21T21:04:16.251178\"], \"xaxis\": \"x\", \"y\": [11510.015, 11385.77], \"yaxis\": \"y\"}, {\"customdata\": [[\"open\", \"long\", 239.56], [\"close\", \"long\", 239.56]], \"hovertemplate\": \"key=84<br>time=%{x}<br>price=%{y}<br>OC=%{customdata[0]}<br>position=%{customdata[1]}<br>PnL=%{customdata[2]}<extra></extra>\", \"legendgroup\": \"84\", \"marker\": {\"color\": \"#FFA15A\", \"symbol\": \"circle\"}, \"mode\": \"markers\", \"name\": \"84\", \"orientation\": \"v\", \"showlegend\": true, \"type\": \"scatter\", \"x\": [\"2020-08-21T21:04:27.840751\", \"2020-08-22T04:29:39.938217\"], \"xaxis\": \"x\", \"y\": [11387.015, 11619.205], \"yaxis\": \"y\"}, {\"customdata\": [[\"open\", \"short\", -119.39], [\"close\", \"short\", -119.39]], \"hovertemplate\": \"key=85<br>time=%{x}<br>price=%{y}<br>OC=%{customdata[0]}<br>position=%{customdata[1]}<br>PnL=%{customdata[2]}<extra></extra>\", \"legendgroup\": \"85\", \"marker\": {\"color\": \"#19d3f3\", \"symbol\": \"circle\"}, \"mode\": \"markers\", \"name\": \"85\", \"orientation\": \"v\", \"showlegend\": true, \"type\": \"scatter\", \"x\": [\"2020-08-22T04:30:02.526258\", \"2020-08-24T02:37:30.290928\"], \"xaxis\": \"x\", \"y\": [11605.835, 11729.994999999999], \"yaxis\": \"y\"}, {\"customdata\": [[\"open\", \"short\", 244.49], [\"close\", \"short\", 244.49]], \"hovertemplate\": \"key=86<br>time=%{x}<br>price=%{y}<br>OC=%{customdata[0]}<br>position=%{customdata[1]}<br>PnL=%{customdata[2]}<extra></extra>\", \"legendgroup\": \"86\", \"marker\": {\"color\": \"#FF6692\", \"symbol\": \"circle\"}, \"mode\": \"markers\", \"name\": \"86\", \"orientation\": \"v\", \"showlegend\": true, \"type\": \"scatter\", \"x\": [\"2020-08-24T03:03:37.280438\", \"2020-08-25T04:30:32.266506\"], \"xaxis\": \"x\", \"y\": [11764.745, 11522.395], \"yaxis\": \"y\"}, {\"customdata\": [[\"open\", \"long\", -123.02], [\"close\", \"long\", -123.02]], \"hovertemplate\": \"key=87<br>time=%{x}<br>price=%{y}<br>OC=%{customdata[0]}<br>position=%{customdata[1]}<br>PnL=%{customdata[2]}<extra></extra>\", \"legendgroup\": \"87\", \"marker\": {\"color\": \"#B6E880\", \"symbol\": \"circle\"}, \"mode\": \"markers\", \"name\": \"87\", \"orientation\": \"v\", \"showlegend\": true, \"type\": \"scatter\", \"x\": [\"2020-08-25T04:31:40.733654\", \"2020-08-25T09:40:57.765473\"], \"xaxis\": \"x\", \"y\": [11537.205, 11411.485], \"yaxis\": \"y\"}, {\"customdata\": [[\"open\", \"long\", -111.92], [\"close\", \"long\", -111.92]], \"hovertemplate\": \"key=88<br>time=%{x}<br>price=%{y}<br>OC=%{customdata[0]}<br>position=%{customdata[1]}<br>PnL=%{customdata[2]}<extra></extra>\", \"legendgroup\": \"88\", \"marker\": {\"color\": \"#FF97FF\", \"symbol\": \"circle\"}, \"mode\": \"markers\", \"name\": \"88\", \"orientation\": \"v\", \"showlegend\": true, \"type\": \"scatter\", \"x\": [\"2020-08-25T09:42:17.047145\", \"2020-08-25T13:06:00.365116\"], \"xaxis\": \"x\", \"y\": [11421.375, 11306.494999999999], \"yaxis\": \"y\"}, {\"customdata\": [[\"open\", \"long\", -113.53], [\"close\", \"long\", -113.53]], \"hovertemplate\": \"key=89<br>time=%{x}<br>price=%{y}<br>OC=%{customdata[0]}<br>position=%{customdata[1]}<br>PnL=%{customdata[2]}<extra></extra>\", \"legendgroup\": \"89\", \"marker\": {\"color\": \"#FECB52\", \"symbol\": \"circle\"}, \"mode\": \"markers\", \"name\": \"89\", \"orientation\": \"v\", \"showlegend\": true, \"type\": \"scatter\", \"x\": [\"2020-08-25T13:06:12.360772\", \"2020-08-25T13:48:25.932974\"], \"xaxis\": \"x\", \"y\": [11304.315, 11187.994999999999], \"yaxis\": \"y\"}, {\"customdata\": [[\"open\", \"long\", 246.33], [\"close\", \"long\", 246.33]], \"hovertemplate\": \"key=90<br>time=%{x}<br>price=%{y}<br>OC=%{customdata[0]}<br>position=%{customdata[1]}<br>PnL=%{customdata[2]}<extra></extra>\", \"legendgroup\": \"90\", \"marker\": {\"color\": \"#636efa\", \"symbol\": \"circle\"}, \"mode\": \"markers\", \"name\": \"90\", \"orientation\": \"v\", \"showlegend\": true, \"type\": \"scatter\", \"x\": [\"2020-08-25T13:48:37.173257\", \"2020-08-26T10:01:58.939297\"], \"xaxis\": \"x\", \"y\": [11205.795, 11440.564999999999], \"yaxis\": \"y\"}, {\"customdata\": [[\"open\", \"short\", 241.5], [\"close\", \"short\", 241.5]], \"hovertemplate\": \"key=91<br>time=%{x}<br>price=%{y}<br>OC=%{customdata[0]}<br>position=%{customdata[1]}<br>PnL=%{customdata[2]}<extra></extra>\", \"legendgroup\": \"91\", \"marker\": {\"color\": \"#EF553B\", \"symbol\": \"circle\"}, \"mode\": \"markers\", \"name\": \"91\", \"orientation\": \"v\", \"showlegend\": true, \"type\": \"scatter\", \"x\": [\"2020-08-26T10:02:10.250101\", \"2020-08-27T13:02:42.899148\"], \"xaxis\": \"x\", \"y\": [11443.575, 11213.695], \"yaxis\": \"y\"}, {\"customdata\": [[\"open\", \"long\", 246.96], [\"close\", \"long\", 246.96]], \"hovertemplate\": \"key=92<br>time=%{x}<br>price=%{y}<br>OC=%{customdata[0]}<br>position=%{customdata[1]}<br>PnL=%{customdata[2]}<extra></extra>\", \"legendgroup\": \"92\", \"marker\": {\"color\": \"#00cc96\", \"symbol\": \"circle\"}, \"mode\": \"markers\", \"name\": \"92\", \"orientation\": \"v\", \"showlegend\": true, \"type\": \"scatter\", \"x\": [\"2020-08-27T13:02:54.446579\", \"2020-08-28T02:25:37.352602\"], \"xaxis\": \"x\", \"y\": [11213.345, 11439.064999999999], \"yaxis\": \"y\"}, {\"customdata\": [[\"open\", \"short\", -123.05], [\"close\", \"short\", -123.05]], \"hovertemplate\": \"key=93<br>time=%{x}<br>price=%{y}<br>OC=%{customdata[0]}<br>position=%{customdata[1]}<br>PnL=%{customdata[2]}<extra></extra>\", \"legendgroup\": \"93\", \"marker\": {\"color\": \"#ab63fa\", \"symbol\": \"circle\"}, \"mode\": \"markers\", \"name\": \"93\", \"orientation\": \"v\", \"showlegend\": true, \"type\": \"scatter\", \"x\": [\"2020-08-28T02:25:48.850641\", \"2020-08-29T03:33:12.399196\"], \"xaxis\": \"x\", \"y\": [11439.065, 11559.985], \"yaxis\": \"y\"}, {\"customdata\": [[\"open\", \"short\", -118.51], [\"close\", \"short\", -118.51]], \"hovertemplate\": \"key=94<br>time=%{x}<br>price=%{y}<br>OC=%{customdata[0]}<br>position=%{customdata[1]}<br>PnL=%{customdata[2]}<extra></extra>\", \"legendgroup\": \"94\", \"marker\": {\"color\": \"#FFA15A\", \"symbol\": \"circle\"}, \"mode\": \"markers\", \"name\": \"94\", \"orientation\": \"v\", \"showlegend\": true, \"type\": \"scatter\", \"x\": [\"2020-08-29T03:34:07.947607\", \"2020-08-30T12:40:55.727749\"], \"xaxis\": \"x\", \"y\": [11557.485, 11676.5], \"yaxis\": \"y\"}, {\"customdata\": [[\"open\", \"long\", 246.65], [\"close\", \"long\", 246.65]], \"hovertemplate\": \"key=95<br>time=%{x}<br>price=%{y}<br>OC=%{customdata[0]}<br>position=%{customdata[1]}<br>PnL=%{customdata[2]}<extra></extra>\", \"legendgroup\": \"95\", \"marker\": {\"color\": \"#19d3f3\", \"symbol\": \"circle\"}, \"mode\": \"markers\", \"name\": \"95\", \"orientation\": \"v\", \"showlegend\": true, \"type\": \"scatter\", \"x\": [\"2020-08-30T14:03:12.445095\", \"2020-09-01T03:00:11.396361\"], \"xaxis\": \"x\", \"y\": [11644.015, 11877.994999999999], \"yaxis\": \"y\"}, {\"customdata\": [[\"open\", \"short\", -118.08], [\"close\", \"short\", -118.08]], \"hovertemplate\": \"key=96<br>time=%{x}<br>price=%{y}<br>OC=%{customdata[0]}<br>position=%{customdata[1]}<br>PnL=%{customdata[2]}<extra></extra>\", \"legendgroup\": \"96\", \"marker\": {\"color\": \"#FF6692\", \"symbol\": \"circle\"}, \"mode\": \"markers\", \"name\": \"96\", \"orientation\": \"v\", \"showlegend\": true, \"type\": \"scatter\", \"x\": [\"2020-09-01T03:00:11.396361\", \"2020-09-01T11:50:17.210906\"], \"xaxis\": \"x\", \"y\": [11877.995, 11998.68], \"yaxis\": \"y\"}, {\"customdata\": [[\"open\", \"short\", 249.66], [\"close\", \"short\", 249.66]], \"hovertemplate\": \"key=97<br>time=%{x}<br>price=%{y}<br>OC=%{customdata[0]}<br>position=%{customdata[1]}<br>PnL=%{customdata[2]}<extra></extra>\", \"legendgroup\": \"97\", \"marker\": {\"color\": \"#B6E880\", \"symbol\": \"circle\"}, \"mode\": \"markers\", \"name\": \"97\", \"orientation\": \"v\", \"showlegend\": true, \"type\": \"scatter\", \"x\": [\"2020-09-01T11:50:28.944218\", \"2020-09-02T02:41:28.357467\"], \"xaxis\": \"x\", \"y\": [11999.67, 11758.189999999999], \"yaxis\": \"y\"}, {\"customdata\": [[\"open\", \"long\", -137.79], [\"close\", \"long\", -137.79]], \"hovertemplate\": \"key=98<br>time=%{x}<br>price=%{y}<br>OC=%{customdata[0]}<br>position=%{customdata[1]}<br>PnL=%{customdata[2]}<extra></extra>\", \"legendgroup\": \"98\", \"marker\": {\"color\": \"#FF97FF\", \"symbol\": \"circle\"}, \"mode\": \"markers\", \"name\": \"98\", \"orientation\": \"v\", \"showlegend\": true, \"type\": \"scatter\", \"x\": [\"2020-09-02T02:46:58.892774\", \"2020-09-02T06:28:59.396828\"], \"xaxis\": \"x\", \"y\": [11774.905, 11637.695], \"yaxis\": \"y\"}, {\"customdata\": [[\"open\", \"long\", -117.89], [\"close\", \"long\", -117.89]], \"hovertemplate\": \"key=99<br>time=%{x}<br>price=%{y}<br>OC=%{customdata[0]}<br>position=%{customdata[1]}<br>PnL=%{customdata[2]}<extra></extra>\", \"legendgroup\": \"99\", \"marker\": {\"color\": \"#FECB52\", \"symbol\": \"circle\"}, \"mode\": \"markers\", \"name\": \"99\", \"orientation\": \"v\", \"showlegend\": true, \"type\": \"scatter\", \"x\": [\"2020-09-02T06:28:59.396828\", \"2020-09-02T07:03:42.394239\"], \"xaxis\": \"x\", \"y\": [11637.695, 11519.575], \"yaxis\": \"y\"}, {\"customdata\": [[\"open\", \"long\", -140.0], [\"close\", \"long\", -140.0]], \"hovertemplate\": \"key=100<br>time=%{x}<br>price=%{y}<br>OC=%{customdata[0]}<br>position=%{customdata[1]}<br>PnL=%{customdata[2]}<extra></extra>\", \"legendgroup\": \"100\", \"marker\": {\"color\": \"#636efa\", \"symbol\": \"circle\"}, \"mode\": \"markers\", \"name\": \"100\", \"orientation\": \"v\", \"showlegend\": true, \"type\": \"scatter\", \"x\": [\"2020-09-02T07:03:53.746060\", \"2020-09-02T07:10:08.873714\"], \"xaxis\": \"x\", \"y\": [11489.75, 11351.055], \"yaxis\": \"y\"}, {\"customdata\": [[\"open\", \"long\", -125.31], [\"close\", \"long\", -125.31]], \"hovertemplate\": \"key=101<br>time=%{x}<br>price=%{y}<br>OC=%{customdata[0]}<br>position=%{customdata[1]}<br>PnL=%{customdata[2]}<extra></extra>\", \"legendgroup\": \"101\", \"marker\": {\"color\": \"#EF553B\", \"symbol\": \"circle\"}, \"mode\": \"markers\", \"name\": \"101\", \"orientation\": \"v\", \"showlegend\": true, \"type\": \"scatter\", \"x\": [\"2020-09-02T07:10:20.379627\", \"2020-09-02T07:22:43.377274\"], \"xaxis\": \"x\", \"y\": [11294.07, 11170.08], \"yaxis\": \"y\"}, {\"customdata\": [[\"open\", \"long\", 247.96], [\"close\", \"long\", 247.96]], \"hovertemplate\": \"key=102<br>time=%{x}<br>price=%{y}<br>OC=%{customdata[0]}<br>position=%{customdata[1]}<br>PnL=%{customdata[2]}<extra></extra>\", \"legendgroup\": \"102\", \"marker\": {\"color\": \"#00cc96\", \"symbol\": \"circle\"}, \"mode\": \"markers\", \"name\": \"102\", \"orientation\": \"v\", \"showlegend\": true, \"type\": \"scatter\", \"x\": [\"2020-09-02T07:22:43.377274\", \"2020-09-02T07:49:14.987735\"], \"xaxis\": \"x\", \"y\": [11170.08, 11398.545], \"yaxis\": \"y\"}, {\"customdata\": [[\"open\", \"short\", 248.77], [\"close\", \"short\", 248.77]], \"hovertemplate\": \"key=103<br>time=%{x}<br>price=%{y}<br>OC=%{customdata[0]}<br>position=%{customdata[1]}<br>PnL=%{customdata[2]}<extra></extra>\", \"legendgroup\": \"103\", \"marker\": {\"color\": \"#ab63fa\", \"symbol\": \"circle\"}, \"mode\": \"markers\", \"name\": \"103\", \"orientation\": \"v\", \"showlegend\": true, \"type\": \"scatter\", \"x\": [\"2020-09-02T07:52:35.117899\", \"2020-09-03T08:10:45.662684\"], \"xaxis\": \"x\", \"y\": [11390.445, 11161.61], \"yaxis\": \"y\"}],\n",
       "                        {\"legend\": {\"title\": {\"text\": \"key\"}, \"tracegroupgap\": 0}, \"margin\": {\"t\": 60}, \"template\": {\"data\": {\"bar\": [{\"error_x\": {\"color\": \"#2a3f5f\"}, \"error_y\": {\"color\": \"#2a3f5f\"}, \"marker\": {\"line\": {\"color\": \"#E5ECF6\", \"width\": 0.5}}, \"type\": \"bar\"}], \"barpolar\": [{\"marker\": {\"line\": {\"color\": \"#E5ECF6\", \"width\": 0.5}}, \"type\": \"barpolar\"}], \"carpet\": [{\"aaxis\": {\"endlinecolor\": \"#2a3f5f\", \"gridcolor\": \"white\", \"linecolor\": \"white\", \"minorgridcolor\": \"white\", \"startlinecolor\": \"#2a3f5f\"}, \"baxis\": {\"endlinecolor\": \"#2a3f5f\", \"gridcolor\": \"white\", \"linecolor\": \"white\", \"minorgridcolor\": \"white\", \"startlinecolor\": \"#2a3f5f\"}, \"type\": \"carpet\"}], \"choropleth\": [{\"colorbar\": {\"outlinewidth\": 0, \"ticks\": \"\"}, \"type\": \"choropleth\"}], \"contour\": [{\"colorbar\": {\"outlinewidth\": 0, \"ticks\": \"\"}, \"colorscale\": [[0.0, \"#0d0887\"], [0.1111111111111111, \"#46039f\"], [0.2222222222222222, \"#7201a8\"], [0.3333333333333333, \"#9c179e\"], [0.4444444444444444, \"#bd3786\"], [0.5555555555555556, \"#d8576b\"], [0.6666666666666666, \"#ed7953\"], [0.7777777777777778, \"#fb9f3a\"], [0.8888888888888888, \"#fdca26\"], [1.0, \"#f0f921\"]], \"type\": \"contour\"}], \"contourcarpet\": [{\"colorbar\": {\"outlinewidth\": 0, \"ticks\": \"\"}, \"type\": \"contourcarpet\"}], \"heatmap\": [{\"colorbar\": {\"outlinewidth\": 0, \"ticks\": \"\"}, \"colorscale\": [[0.0, \"#0d0887\"], [0.1111111111111111, \"#46039f\"], [0.2222222222222222, \"#7201a8\"], [0.3333333333333333, \"#9c179e\"], [0.4444444444444444, \"#bd3786\"], [0.5555555555555556, \"#d8576b\"], [0.6666666666666666, \"#ed7953\"], [0.7777777777777778, \"#fb9f3a\"], [0.8888888888888888, \"#fdca26\"], [1.0, \"#f0f921\"]], \"type\": \"heatmap\"}], \"heatmapgl\": [{\"colorbar\": {\"outlinewidth\": 0, \"ticks\": \"\"}, \"colorscale\": [[0.0, \"#0d0887\"], [0.1111111111111111, \"#46039f\"], [0.2222222222222222, \"#7201a8\"], [0.3333333333333333, \"#9c179e\"], [0.4444444444444444, \"#bd3786\"], [0.5555555555555556, \"#d8576b\"], [0.6666666666666666, \"#ed7953\"], [0.7777777777777778, \"#fb9f3a\"], [0.8888888888888888, \"#fdca26\"], [1.0, \"#f0f921\"]], \"type\": \"heatmapgl\"}], \"histogram\": [{\"marker\": {\"colorbar\": {\"outlinewidth\": 0, \"ticks\": \"\"}}, \"type\": \"histogram\"}], \"histogram2d\": [{\"colorbar\": {\"outlinewidth\": 0, \"ticks\": \"\"}, \"colorscale\": [[0.0, \"#0d0887\"], [0.1111111111111111, \"#46039f\"], [0.2222222222222222, \"#7201a8\"], [0.3333333333333333, \"#9c179e\"], [0.4444444444444444, \"#bd3786\"], [0.5555555555555556, \"#d8576b\"], [0.6666666666666666, \"#ed7953\"], [0.7777777777777778, \"#fb9f3a\"], [0.8888888888888888, \"#fdca26\"], [1.0, \"#f0f921\"]], \"type\": \"histogram2d\"}], \"histogram2dcontour\": [{\"colorbar\": {\"outlinewidth\": 0, \"ticks\": \"\"}, \"colorscale\": [[0.0, \"#0d0887\"], [0.1111111111111111, \"#46039f\"], [0.2222222222222222, \"#7201a8\"], [0.3333333333333333, \"#9c179e\"], [0.4444444444444444, \"#bd3786\"], [0.5555555555555556, \"#d8576b\"], [0.6666666666666666, \"#ed7953\"], [0.7777777777777778, \"#fb9f3a\"], [0.8888888888888888, \"#fdca26\"], [1.0, \"#f0f921\"]], \"type\": \"histogram2dcontour\"}], \"mesh3d\": [{\"colorbar\": {\"outlinewidth\": 0, \"ticks\": \"\"}, \"type\": \"mesh3d\"}], \"parcoords\": [{\"line\": {\"colorbar\": {\"outlinewidth\": 0, \"ticks\": \"\"}}, \"type\": \"parcoords\"}], \"pie\": [{\"automargin\": true, \"type\": \"pie\"}], \"scatter\": [{\"marker\": {\"colorbar\": {\"outlinewidth\": 0, \"ticks\": \"\"}}, \"type\": \"scatter\"}], \"scatter3d\": [{\"line\": {\"colorbar\": {\"outlinewidth\": 0, \"ticks\": \"\"}}, \"marker\": {\"colorbar\": {\"outlinewidth\": 0, \"ticks\": \"\"}}, \"type\": \"scatter3d\"}], \"scattercarpet\": [{\"marker\": {\"colorbar\": {\"outlinewidth\": 0, \"ticks\": \"\"}}, \"type\": \"scattercarpet\"}], \"scattergeo\": [{\"marker\": {\"colorbar\": {\"outlinewidth\": 0, \"ticks\": \"\"}}, \"type\": \"scattergeo\"}], \"scattergl\": [{\"marker\": {\"colorbar\": {\"outlinewidth\": 0, \"ticks\": \"\"}}, \"type\": \"scattergl\"}], \"scattermapbox\": [{\"marker\": {\"colorbar\": {\"outlinewidth\": 0, \"ticks\": \"\"}}, \"type\": \"scattermapbox\"}], \"scatterpolar\": [{\"marker\": {\"colorbar\": {\"outlinewidth\": 0, \"ticks\": \"\"}}, \"type\": \"scatterpolar\"}], \"scatterpolargl\": [{\"marker\": {\"colorbar\": {\"outlinewidth\": 0, \"ticks\": \"\"}}, \"type\": \"scatterpolargl\"}], \"scatterternary\": [{\"marker\": {\"colorbar\": {\"outlinewidth\": 0, \"ticks\": \"\"}}, \"type\": \"scatterternary\"}], \"surface\": [{\"colorbar\": {\"outlinewidth\": 0, \"ticks\": \"\"}, \"colorscale\": [[0.0, \"#0d0887\"], [0.1111111111111111, \"#46039f\"], [0.2222222222222222, \"#7201a8\"], [0.3333333333333333, \"#9c179e\"], [0.4444444444444444, \"#bd3786\"], [0.5555555555555556, \"#d8576b\"], [0.6666666666666666, \"#ed7953\"], [0.7777777777777778, \"#fb9f3a\"], [0.8888888888888888, \"#fdca26\"], [1.0, \"#f0f921\"]], \"type\": \"surface\"}], \"table\": [{\"cells\": {\"fill\": {\"color\": \"#EBF0F8\"}, \"line\": {\"color\": \"white\"}}, \"header\": {\"fill\": {\"color\": \"#C8D4E3\"}, \"line\": {\"color\": \"white\"}}, \"type\": \"table\"}]}, \"layout\": {\"annotationdefaults\": {\"arrowcolor\": \"#2a3f5f\", \"arrowhead\": 0, \"arrowwidth\": 1}, \"coloraxis\": {\"colorbar\": {\"outlinewidth\": 0, \"ticks\": \"\"}}, \"colorscale\": {\"diverging\": [[0, \"#8e0152\"], [0.1, \"#c51b7d\"], [0.2, \"#de77ae\"], [0.3, \"#f1b6da\"], [0.4, \"#fde0ef\"], [0.5, \"#f7f7f7\"], [0.6, \"#e6f5d0\"], [0.7, \"#b8e186\"], [0.8, \"#7fbc41\"], [0.9, \"#4d9221\"], [1, \"#276419\"]], \"sequential\": [[0.0, \"#0d0887\"], [0.1111111111111111, \"#46039f\"], [0.2222222222222222, \"#7201a8\"], [0.3333333333333333, \"#9c179e\"], [0.4444444444444444, \"#bd3786\"], [0.5555555555555556, \"#d8576b\"], [0.6666666666666666, \"#ed7953\"], [0.7777777777777778, \"#fb9f3a\"], [0.8888888888888888, \"#fdca26\"], [1.0, \"#f0f921\"]], \"sequentialminus\": [[0.0, \"#0d0887\"], [0.1111111111111111, \"#46039f\"], [0.2222222222222222, \"#7201a8\"], [0.3333333333333333, \"#9c179e\"], [0.4444444444444444, \"#bd3786\"], [0.5555555555555556, \"#d8576b\"], [0.6666666666666666, \"#ed7953\"], [0.7777777777777778, \"#fb9f3a\"], [0.8888888888888888, \"#fdca26\"], [1.0, \"#f0f921\"]]}, \"colorway\": [\"#636efa\", \"#EF553B\", \"#00cc96\", \"#ab63fa\", \"#FFA15A\", \"#19d3f3\", \"#FF6692\", \"#B6E880\", \"#FF97FF\", \"#FECB52\"], \"font\": {\"color\": \"#2a3f5f\"}, \"geo\": {\"bgcolor\": \"white\", \"lakecolor\": \"white\", \"landcolor\": \"#E5ECF6\", \"showlakes\": true, \"showland\": true, \"subunitcolor\": \"white\"}, \"hoverlabel\": {\"align\": \"left\"}, \"hovermode\": \"closest\", \"mapbox\": {\"style\": \"light\"}, \"paper_bgcolor\": \"white\", \"plot_bgcolor\": \"#E5ECF6\", \"polar\": {\"angularaxis\": {\"gridcolor\": \"white\", \"linecolor\": \"white\", \"ticks\": \"\"}, \"bgcolor\": \"#E5ECF6\", \"radialaxis\": {\"gridcolor\": \"white\", \"linecolor\": \"white\", \"ticks\": \"\"}}, \"scene\": {\"xaxis\": {\"backgroundcolor\": \"#E5ECF6\", \"gridcolor\": \"white\", \"gridwidth\": 2, \"linecolor\": \"white\", \"showbackground\": true, \"ticks\": \"\", \"zerolinecolor\": \"white\"}, \"yaxis\": {\"backgroundcolor\": \"#E5ECF6\", \"gridcolor\": \"white\", \"gridwidth\": 2, \"linecolor\": \"white\", \"showbackground\": true, \"ticks\": \"\", \"zerolinecolor\": \"white\"}, \"zaxis\": {\"backgroundcolor\": \"#E5ECF6\", \"gridcolor\": \"white\", \"gridwidth\": 2, \"linecolor\": \"white\", \"showbackground\": true, \"ticks\": \"\", \"zerolinecolor\": \"white\"}}, \"shapedefaults\": {\"line\": {\"color\": \"#2a3f5f\"}}, \"ternary\": {\"aaxis\": {\"gridcolor\": \"white\", \"linecolor\": \"white\", \"ticks\": \"\"}, \"baxis\": {\"gridcolor\": \"white\", \"linecolor\": \"white\", \"ticks\": \"\"}, \"bgcolor\": \"#E5ECF6\", \"caxis\": {\"gridcolor\": \"white\", \"linecolor\": \"white\", \"ticks\": \"\"}}, \"title\": {\"x\": 0.05}, \"xaxis\": {\"automargin\": true, \"gridcolor\": \"white\", \"linecolor\": \"white\", \"ticks\": \"\", \"title\": {\"standoff\": 15}, \"zerolinecolor\": \"white\", \"zerolinewidth\": 2}, \"yaxis\": {\"automargin\": true, \"gridcolor\": \"white\", \"linecolor\": \"white\", \"ticks\": \"\", \"title\": {\"standoff\": 15}, \"zerolinecolor\": \"white\", \"zerolinewidth\": 2}}}, \"xaxis\": {\"anchor\": \"y\", \"domain\": [0.0, 1.0], \"title\": {\"text\": \"time\"}}, \"yaxis\": {\"anchor\": \"x\", \"domain\": [0.0, 1.0], \"title\": {\"text\": \"price\"}}},\n",
       "                        {\"responsive\": true}\n",
       "                    ).then(function(){\n",
       "                            \n",
       "var gd = document.getElementById('1ec73503-8860-48f1-b07e-0e6d302332f3');\n",
       "var x = new MutationObserver(function (mutations, observer) {{\n",
       "        var display = window.getComputedStyle(gd).display;\n",
       "        if (!display || display === 'none') {{\n",
       "            console.log([gd, 'removed!']);\n",
       "            Plotly.purge(gd);\n",
       "            observer.disconnect();\n",
       "        }}\n",
       "}});\n",
       "\n",
       "// Listen for the removal of the full notebook cells\n",
       "var notebookContainer = gd.closest('#notebook-container');\n",
       "if (notebookContainer) {{\n",
       "    x.observe(notebookContainer, {childList: true});\n",
       "}}\n",
       "\n",
       "// Listen for the clearing of the current output cell\n",
       "var outputEl = gd.closest('.output');\n",
       "if (outputEl) {{\n",
       "    x.observe(outputEl, {childList: true});\n",
       "}}\n",
       "\n",
       "                        })\n",
       "                };\n",
       "                });\n",
       "            </script>\n",
       "        </div>"
      ]
     },
     "metadata": {},
     "output_type": "display_data"
    },
    {
     "data": {
      "application/javascript": [
       "\n",
       "            setTimeout(function() {\n",
       "                var nbb_cell_id = 91;\n",
       "                var nbb_unformatted_code = \"test.display_trades()\";\n",
       "                var nbb_formatted_code = \"test.display_trades()\";\n",
       "                var nbb_cells = Jupyter.notebook.get_cells();\n",
       "                for (var i = 0; i < nbb_cells.length; ++i) {\n",
       "                    if (nbb_cells[i].input_prompt_number == nbb_cell_id) {\n",
       "                        if (nbb_cells[i].get_text() == nbb_unformatted_code) {\n",
       "                             nbb_cells[i].set_text(nbb_formatted_code);\n",
       "                        }\n",
       "                        break;\n",
       "                    }\n",
       "                }\n",
       "            }, 500);\n",
       "            "
      ],
      "text/plain": [
       "<IPython.core.display.Javascript object>"
      ]
     },
     "metadata": {},
     "output_type": "display_data"
    }
   ],
   "source": [
    "test.display_trades()"
   ]
  },
  {
   "cell_type": "code",
   "execution_count": 92,
   "metadata": {},
   "outputs": [
    {
     "data": {
      "application/vnd.plotly.v1+json": {
       "config": {
        "plotlyServerURL": "https://plot.ly"
       },
       "data": [
        {
         "hovertemplate": "time=%{x}<br>equity=%{y}<extra></extra>",
         "legendgroup": "",
         "line": {
          "color": "#636efa",
          "dash": "solid"
         },
         "mode": "lines",
         "name": "",
         "orientation": "v",
         "showlegend": false,
         "type": "scatter",
         "x": [
          "2020-07-24T08:06:56.357093",
          "2020-07-25T22:51:33.678075",
          "2020-07-26T04:59:27.335955",
          "2020-07-26T06:02:57.186353",
          "2020-07-26T06:03:53.465342",
          "2020-07-26T06:05:46.019875",
          "2020-07-26T08:32:18.628217",
          "2020-07-26T21:16:59.041366",
          "2020-07-26T23:31:01.428906",
          "2020-07-26T23:50:29.820598",
          "2020-07-27T12:52:48.083159",
          "2020-07-27T12:56:51.076234",
          "2020-07-27T13:01:15.516457",
          "2020-07-27T17:52:47.237542",
          "2020-07-27T17:55:04.376194",
          "2020-07-27T18:08:33.405531",
          "2020-07-27T18:11:24.314453",
          "2020-07-27T19:18:36.071295",
          "2020-07-27T19:18:58.553864",
          "2020-07-27T19:20:04.962722",
          "2020-07-27T19:37:14.845557",
          "2020-07-27T23:00:16.211319",
          "2020-07-27T23:45:44.848607",
          "2020-07-28T00:01:57.338194",
          "2020-07-28T04:11:18.517501",
          "2020-07-28T12:21:46.161419",
          "2020-07-28T12:41:39.902641",
          "2020-07-30T14:22:49.224294",
          "2020-07-31T11:51:13.367823",
          "2020-08-01T01:24:29.601340",
          "2020-08-01T01:52:54.879749",
          "2020-08-01T02:19:12.073057",
          "2020-08-01T15:34:43.318437",
          "2020-08-01T22:16:29.729777",
          "2020-08-02T00:12:26.571586",
          "2020-08-02T00:37:57.407917",
          "2020-08-02T00:38:42.837230",
          "2020-08-02T00:39:05.648864",
          "2020-08-02T00:39:28.334156",
          "2020-08-02T00:40:59.645882",
          "2020-08-02T00:42:07.623763",
          "2020-08-02T00:42:19.031513",
          "2020-08-02T00:43:27.324243",
          "2020-08-02T00:46:18.349592",
          "2020-08-02T01:06:13.833970",
          "2020-08-02T07:21:11.989294",
          "2020-08-02T07:39:26.568831",
          "2020-08-02T12:49:56.378900",
          "2020-08-02T20:04:29.501043",
          "2020-08-02T23:03:34.090471",
          "2020-08-03T12:03:09.668466",
          "2020-08-03T17:59:38.400594",
          "2020-08-04T07:54:20.810450",
          "2020-08-05T02:45:40.482053",
          "2020-08-05T08:51:24.394751",
          "2020-08-05T11:07:10.609185",
          "2020-08-05T17:45:53.518505",
          "2020-08-05T18:04:06.007503",
          "2020-08-06T09:40:05.176781",
          "2020-08-07T12:30:45.693014",
          "2020-08-10T15:12:50.293200",
          "2020-08-11T06:10:22.399485",
          "2020-08-11T10:59:11.750959",
          "2020-08-11T11:15:41.968992",
          "2020-08-11T16:17:55.763602",
          "2020-08-11T16:36:04.110229",
          "2020-08-11T19:07:50.027631",
          "2020-08-12T04:32:03.797409",
          "2020-08-12T11:02:39.524888",
          "2020-08-13T04:43:57.660878",
          "2020-08-13T07:20:46.651182",
          "2020-08-13T17:06:57.272874",
          "2020-08-14T12:26:22.648451",
          "2020-08-17T11:33:03.317015",
          "2020-08-17T11:46:13.159762",
          "2020-08-18T12:32:50.874013",
          "2020-08-18T23:49:05.947694",
          "2020-08-19T00:18:12.699188",
          "2020-08-19T02:21:49.406522",
          "2020-08-19T07:17:58.962054",
          "2020-08-19T16:17:10.224164",
          "2020-08-20T12:23:36.563453",
          "2020-08-21T08:30:33.670185",
          "2020-08-21T17:47:42.914764",
          "2020-08-21T21:04:27.840751",
          "2020-08-22T04:30:02.526258",
          "2020-08-24T03:03:37.280438",
          "2020-08-25T04:31:40.733654",
          "2020-08-25T09:42:17.047145",
          "2020-08-25T13:06:12.360772",
          "2020-08-25T13:48:37.173257",
          "2020-08-26T10:02:10.250101",
          "2020-08-27T13:02:54.446579",
          "2020-08-28T02:25:48.850641",
          "2020-08-29T03:34:07.947607",
          "2020-08-30T14:03:12.445095",
          "2020-09-01T03:00:11.396361",
          "2020-09-01T11:50:28.944218",
          "2020-09-02T02:46:58.892774",
          "2020-09-02T06:28:59.396828",
          "2020-09-02T07:03:53.746060",
          "2020-09-02T07:10:20.379627",
          "2020-09-02T07:22:43.377274",
          "2020-09-02T07:52:35.117899"
         ],
         "xaxis": "x",
         "y": [
          9867.52,
          9772.310000000001,
          9678.100000000002,
          9583.730000000001,
          9490.750000000002,
          9740.280000000002,
          9944.290000000003,
          9840.600000000002,
          9737.120000000003,
          9435.490000000003,
          9345.520000000004,
          9244.550000000005,
          9147.000000000005,
          9046.460000000005,
          8947.450000000004,
          8861.750000000004,
          9085.830000000004,
          8971.800000000003,
          8862.690000000002,
          9050.830000000002,
          8964.79,
          8871.6,
          8787.02,
          8991.73,
          9254.039999999999,
          9164.259999999998,
          9076.859999999999,
          8864.429999999998,
          8780.119999999999,
          8688.829999999998,
          8602.759999999998,
          8518.639999999998,
          8433.929999999998,
          8350.63,
          8539.89,
          8415.369999999999,
          8320.32,
          8179.12,
          8064.97,
          7916.110000000001,
          7832.05,
          8023.52,
          8205.560000000001,
          8380.310000000001,
          8561.010000000002,
          8476.350000000002,
          8652.400000000001,
          8830.45,
          9013.560000000001,
          9202.670000000002,
          9402.750000000002,
          9311.520000000002,
          9505.020000000002,
          9736.470000000003,
          9643.530000000002,
          9549.390000000003,
          9764.330000000004,
          9968.770000000004,
          10174.510000000004,
          10424.830000000004,
          10642.430000000004,
          10530.750000000004,
          10415.780000000004,
          10300.680000000004,
          10196.080000000004,
          10407.170000000004,
          10305.760000000004,
          10206.400000000003,
          10428.650000000003,
          10646.330000000004,
          10542.700000000004,
          10436.050000000005,
          10845.110000000004,
          10741.020000000004,
          11114.880000000005,
          11006.910000000005,
          10881.830000000005,
          10777.350000000006,
          10999.080000000005,
          11228.930000000006,
          11464.300000000007,
          11700.660000000007,
          11586.610000000008,
          11467.330000000007,
          11706.890000000007,
          11587.500000000007,
          11831.990000000007,
          11708.970000000007,
          11597.050000000007,
          11483.520000000006,
          11729.850000000006,
          11971.350000000006,
          12218.310000000005,
          12095.260000000006,
          11976.750000000005,
          12223.400000000005,
          12105.320000000005,
          12354.980000000005,
          12217.190000000004,
          12099.300000000005,
          11959.300000000005,
          11833.990000000005,
          12081.950000000004,
          12330.720000000005
         ],
         "yaxis": "y"
        }
       ],
       "layout": {
        "legend": {
         "tracegroupgap": 0
        },
        "margin": {
         "t": 60
        },
        "template": {
         "data": {
          "bar": [
           {
            "error_x": {
             "color": "#2a3f5f"
            },
            "error_y": {
             "color": "#2a3f5f"
            },
            "marker": {
             "line": {
              "color": "#E5ECF6",
              "width": 0.5
             }
            },
            "type": "bar"
           }
          ],
          "barpolar": [
           {
            "marker": {
             "line": {
              "color": "#E5ECF6",
              "width": 0.5
             }
            },
            "type": "barpolar"
           }
          ],
          "carpet": [
           {
            "aaxis": {
             "endlinecolor": "#2a3f5f",
             "gridcolor": "white",
             "linecolor": "white",
             "minorgridcolor": "white",
             "startlinecolor": "#2a3f5f"
            },
            "baxis": {
             "endlinecolor": "#2a3f5f",
             "gridcolor": "white",
             "linecolor": "white",
             "minorgridcolor": "white",
             "startlinecolor": "#2a3f5f"
            },
            "type": "carpet"
           }
          ],
          "choropleth": [
           {
            "colorbar": {
             "outlinewidth": 0,
             "ticks": ""
            },
            "type": "choropleth"
           }
          ],
          "contour": [
           {
            "colorbar": {
             "outlinewidth": 0,
             "ticks": ""
            },
            "colorscale": [
             [
              0,
              "#0d0887"
             ],
             [
              0.1111111111111111,
              "#46039f"
             ],
             [
              0.2222222222222222,
              "#7201a8"
             ],
             [
              0.3333333333333333,
              "#9c179e"
             ],
             [
              0.4444444444444444,
              "#bd3786"
             ],
             [
              0.5555555555555556,
              "#d8576b"
             ],
             [
              0.6666666666666666,
              "#ed7953"
             ],
             [
              0.7777777777777778,
              "#fb9f3a"
             ],
             [
              0.8888888888888888,
              "#fdca26"
             ],
             [
              1,
              "#f0f921"
             ]
            ],
            "type": "contour"
           }
          ],
          "contourcarpet": [
           {
            "colorbar": {
             "outlinewidth": 0,
             "ticks": ""
            },
            "type": "contourcarpet"
           }
          ],
          "heatmap": [
           {
            "colorbar": {
             "outlinewidth": 0,
             "ticks": ""
            },
            "colorscale": [
             [
              0,
              "#0d0887"
             ],
             [
              0.1111111111111111,
              "#46039f"
             ],
             [
              0.2222222222222222,
              "#7201a8"
             ],
             [
              0.3333333333333333,
              "#9c179e"
             ],
             [
              0.4444444444444444,
              "#bd3786"
             ],
             [
              0.5555555555555556,
              "#d8576b"
             ],
             [
              0.6666666666666666,
              "#ed7953"
             ],
             [
              0.7777777777777778,
              "#fb9f3a"
             ],
             [
              0.8888888888888888,
              "#fdca26"
             ],
             [
              1,
              "#f0f921"
             ]
            ],
            "type": "heatmap"
           }
          ],
          "heatmapgl": [
           {
            "colorbar": {
             "outlinewidth": 0,
             "ticks": ""
            },
            "colorscale": [
             [
              0,
              "#0d0887"
             ],
             [
              0.1111111111111111,
              "#46039f"
             ],
             [
              0.2222222222222222,
              "#7201a8"
             ],
             [
              0.3333333333333333,
              "#9c179e"
             ],
             [
              0.4444444444444444,
              "#bd3786"
             ],
             [
              0.5555555555555556,
              "#d8576b"
             ],
             [
              0.6666666666666666,
              "#ed7953"
             ],
             [
              0.7777777777777778,
              "#fb9f3a"
             ],
             [
              0.8888888888888888,
              "#fdca26"
             ],
             [
              1,
              "#f0f921"
             ]
            ],
            "type": "heatmapgl"
           }
          ],
          "histogram": [
           {
            "marker": {
             "colorbar": {
              "outlinewidth": 0,
              "ticks": ""
             }
            },
            "type": "histogram"
           }
          ],
          "histogram2d": [
           {
            "colorbar": {
             "outlinewidth": 0,
             "ticks": ""
            },
            "colorscale": [
             [
              0,
              "#0d0887"
             ],
             [
              0.1111111111111111,
              "#46039f"
             ],
             [
              0.2222222222222222,
              "#7201a8"
             ],
             [
              0.3333333333333333,
              "#9c179e"
             ],
             [
              0.4444444444444444,
              "#bd3786"
             ],
             [
              0.5555555555555556,
              "#d8576b"
             ],
             [
              0.6666666666666666,
              "#ed7953"
             ],
             [
              0.7777777777777778,
              "#fb9f3a"
             ],
             [
              0.8888888888888888,
              "#fdca26"
             ],
             [
              1,
              "#f0f921"
             ]
            ],
            "type": "histogram2d"
           }
          ],
          "histogram2dcontour": [
           {
            "colorbar": {
             "outlinewidth": 0,
             "ticks": ""
            },
            "colorscale": [
             [
              0,
              "#0d0887"
             ],
             [
              0.1111111111111111,
              "#46039f"
             ],
             [
              0.2222222222222222,
              "#7201a8"
             ],
             [
              0.3333333333333333,
              "#9c179e"
             ],
             [
              0.4444444444444444,
              "#bd3786"
             ],
             [
              0.5555555555555556,
              "#d8576b"
             ],
             [
              0.6666666666666666,
              "#ed7953"
             ],
             [
              0.7777777777777778,
              "#fb9f3a"
             ],
             [
              0.8888888888888888,
              "#fdca26"
             ],
             [
              1,
              "#f0f921"
             ]
            ],
            "type": "histogram2dcontour"
           }
          ],
          "mesh3d": [
           {
            "colorbar": {
             "outlinewidth": 0,
             "ticks": ""
            },
            "type": "mesh3d"
           }
          ],
          "parcoords": [
           {
            "line": {
             "colorbar": {
              "outlinewidth": 0,
              "ticks": ""
             }
            },
            "type": "parcoords"
           }
          ],
          "pie": [
           {
            "automargin": true,
            "type": "pie"
           }
          ],
          "scatter": [
           {
            "marker": {
             "colorbar": {
              "outlinewidth": 0,
              "ticks": ""
             }
            },
            "type": "scatter"
           }
          ],
          "scatter3d": [
           {
            "line": {
             "colorbar": {
              "outlinewidth": 0,
              "ticks": ""
             }
            },
            "marker": {
             "colorbar": {
              "outlinewidth": 0,
              "ticks": ""
             }
            },
            "type": "scatter3d"
           }
          ],
          "scattercarpet": [
           {
            "marker": {
             "colorbar": {
              "outlinewidth": 0,
              "ticks": ""
             }
            },
            "type": "scattercarpet"
           }
          ],
          "scattergeo": [
           {
            "marker": {
             "colorbar": {
              "outlinewidth": 0,
              "ticks": ""
             }
            },
            "type": "scattergeo"
           }
          ],
          "scattergl": [
           {
            "marker": {
             "colorbar": {
              "outlinewidth": 0,
              "ticks": ""
             }
            },
            "type": "scattergl"
           }
          ],
          "scattermapbox": [
           {
            "marker": {
             "colorbar": {
              "outlinewidth": 0,
              "ticks": ""
             }
            },
            "type": "scattermapbox"
           }
          ],
          "scatterpolar": [
           {
            "marker": {
             "colorbar": {
              "outlinewidth": 0,
              "ticks": ""
             }
            },
            "type": "scatterpolar"
           }
          ],
          "scatterpolargl": [
           {
            "marker": {
             "colorbar": {
              "outlinewidth": 0,
              "ticks": ""
             }
            },
            "type": "scatterpolargl"
           }
          ],
          "scatterternary": [
           {
            "marker": {
             "colorbar": {
              "outlinewidth": 0,
              "ticks": ""
             }
            },
            "type": "scatterternary"
           }
          ],
          "surface": [
           {
            "colorbar": {
             "outlinewidth": 0,
             "ticks": ""
            },
            "colorscale": [
             [
              0,
              "#0d0887"
             ],
             [
              0.1111111111111111,
              "#46039f"
             ],
             [
              0.2222222222222222,
              "#7201a8"
             ],
             [
              0.3333333333333333,
              "#9c179e"
             ],
             [
              0.4444444444444444,
              "#bd3786"
             ],
             [
              0.5555555555555556,
              "#d8576b"
             ],
             [
              0.6666666666666666,
              "#ed7953"
             ],
             [
              0.7777777777777778,
              "#fb9f3a"
             ],
             [
              0.8888888888888888,
              "#fdca26"
             ],
             [
              1,
              "#f0f921"
             ]
            ],
            "type": "surface"
           }
          ],
          "table": [
           {
            "cells": {
             "fill": {
              "color": "#EBF0F8"
             },
             "line": {
              "color": "white"
             }
            },
            "header": {
             "fill": {
              "color": "#C8D4E3"
             },
             "line": {
              "color": "white"
             }
            },
            "type": "table"
           }
          ]
         },
         "layout": {
          "annotationdefaults": {
           "arrowcolor": "#2a3f5f",
           "arrowhead": 0,
           "arrowwidth": 1
          },
          "coloraxis": {
           "colorbar": {
            "outlinewidth": 0,
            "ticks": ""
           }
          },
          "colorscale": {
           "diverging": [
            [
             0,
             "#8e0152"
            ],
            [
             0.1,
             "#c51b7d"
            ],
            [
             0.2,
             "#de77ae"
            ],
            [
             0.3,
             "#f1b6da"
            ],
            [
             0.4,
             "#fde0ef"
            ],
            [
             0.5,
             "#f7f7f7"
            ],
            [
             0.6,
             "#e6f5d0"
            ],
            [
             0.7,
             "#b8e186"
            ],
            [
             0.8,
             "#7fbc41"
            ],
            [
             0.9,
             "#4d9221"
            ],
            [
             1,
             "#276419"
            ]
           ],
           "sequential": [
            [
             0,
             "#0d0887"
            ],
            [
             0.1111111111111111,
             "#46039f"
            ],
            [
             0.2222222222222222,
             "#7201a8"
            ],
            [
             0.3333333333333333,
             "#9c179e"
            ],
            [
             0.4444444444444444,
             "#bd3786"
            ],
            [
             0.5555555555555556,
             "#d8576b"
            ],
            [
             0.6666666666666666,
             "#ed7953"
            ],
            [
             0.7777777777777778,
             "#fb9f3a"
            ],
            [
             0.8888888888888888,
             "#fdca26"
            ],
            [
             1,
             "#f0f921"
            ]
           ],
           "sequentialminus": [
            [
             0,
             "#0d0887"
            ],
            [
             0.1111111111111111,
             "#46039f"
            ],
            [
             0.2222222222222222,
             "#7201a8"
            ],
            [
             0.3333333333333333,
             "#9c179e"
            ],
            [
             0.4444444444444444,
             "#bd3786"
            ],
            [
             0.5555555555555556,
             "#d8576b"
            ],
            [
             0.6666666666666666,
             "#ed7953"
            ],
            [
             0.7777777777777778,
             "#fb9f3a"
            ],
            [
             0.8888888888888888,
             "#fdca26"
            ],
            [
             1,
             "#f0f921"
            ]
           ]
          },
          "colorway": [
           "#636efa",
           "#EF553B",
           "#00cc96",
           "#ab63fa",
           "#FFA15A",
           "#19d3f3",
           "#FF6692",
           "#B6E880",
           "#FF97FF",
           "#FECB52"
          ],
          "font": {
           "color": "#2a3f5f"
          },
          "geo": {
           "bgcolor": "white",
           "lakecolor": "white",
           "landcolor": "#E5ECF6",
           "showlakes": true,
           "showland": true,
           "subunitcolor": "white"
          },
          "hoverlabel": {
           "align": "left"
          },
          "hovermode": "closest",
          "mapbox": {
           "style": "light"
          },
          "paper_bgcolor": "white",
          "plot_bgcolor": "#E5ECF6",
          "polar": {
           "angularaxis": {
            "gridcolor": "white",
            "linecolor": "white",
            "ticks": ""
           },
           "bgcolor": "#E5ECF6",
           "radialaxis": {
            "gridcolor": "white",
            "linecolor": "white",
            "ticks": ""
           }
          },
          "scene": {
           "xaxis": {
            "backgroundcolor": "#E5ECF6",
            "gridcolor": "white",
            "gridwidth": 2,
            "linecolor": "white",
            "showbackground": true,
            "ticks": "",
            "zerolinecolor": "white"
           },
           "yaxis": {
            "backgroundcolor": "#E5ECF6",
            "gridcolor": "white",
            "gridwidth": 2,
            "linecolor": "white",
            "showbackground": true,
            "ticks": "",
            "zerolinecolor": "white"
           },
           "zaxis": {
            "backgroundcolor": "#E5ECF6",
            "gridcolor": "white",
            "gridwidth": 2,
            "linecolor": "white",
            "showbackground": true,
            "ticks": "",
            "zerolinecolor": "white"
           }
          },
          "shapedefaults": {
           "line": {
            "color": "#2a3f5f"
           }
          },
          "ternary": {
           "aaxis": {
            "gridcolor": "white",
            "linecolor": "white",
            "ticks": ""
           },
           "baxis": {
            "gridcolor": "white",
            "linecolor": "white",
            "ticks": ""
           },
           "bgcolor": "#E5ECF6",
           "caxis": {
            "gridcolor": "white",
            "linecolor": "white",
            "ticks": ""
           }
          },
          "title": {
           "x": 0.05
          },
          "xaxis": {
           "automargin": true,
           "gridcolor": "white",
           "linecolor": "white",
           "ticks": "",
           "title": {
            "standoff": 15
           },
           "zerolinecolor": "white",
           "zerolinewidth": 2
          },
          "yaxis": {
           "automargin": true,
           "gridcolor": "white",
           "linecolor": "white",
           "ticks": "",
           "title": {
            "standoff": 15
           },
           "zerolinecolor": "white",
           "zerolinewidth": 2
          }
         }
        },
        "xaxis": {
         "anchor": "y",
         "domain": [
          0,
          1
         ],
         "title": {
          "text": "time"
         }
        },
        "yaxis": {
         "anchor": "x",
         "domain": [
          0,
          1
         ],
         "title": {
          "text": "equity"
         }
        }
       }
      },
      "text/html": [
       "<div>\n",
       "        \n",
       "        \n",
       "            <div id=\"5d33af19-47ea-49d8-ac94-f1bb58fab35b\" class=\"plotly-graph-div\" style=\"height:525px; width:100%;\"></div>\n",
       "            <script type=\"text/javascript\">\n",
       "                require([\"plotly\"], function(Plotly) {\n",
       "                    window.PLOTLYENV=window.PLOTLYENV || {};\n",
       "                    \n",
       "                if (document.getElementById(\"5d33af19-47ea-49d8-ac94-f1bb58fab35b\")) {\n",
       "                    Plotly.newPlot(\n",
       "                        '5d33af19-47ea-49d8-ac94-f1bb58fab35b',\n",
       "                        [{\"hovertemplate\": \"time=%{x}<br>equity=%{y}<extra></extra>\", \"legendgroup\": \"\", \"line\": {\"color\": \"#636efa\", \"dash\": \"solid\"}, \"mode\": \"lines\", \"name\": \"\", \"orientation\": \"v\", \"showlegend\": false, \"type\": \"scatter\", \"x\": [\"2020-07-24T08:06:56.357093\", \"2020-07-25T22:51:33.678075\", \"2020-07-26T04:59:27.335955\", \"2020-07-26T06:02:57.186353\", \"2020-07-26T06:03:53.465342\", \"2020-07-26T06:05:46.019875\", \"2020-07-26T08:32:18.628217\", \"2020-07-26T21:16:59.041366\", \"2020-07-26T23:31:01.428906\", \"2020-07-26T23:50:29.820598\", \"2020-07-27T12:52:48.083159\", \"2020-07-27T12:56:51.076234\", \"2020-07-27T13:01:15.516457\", \"2020-07-27T17:52:47.237542\", \"2020-07-27T17:55:04.376194\", \"2020-07-27T18:08:33.405531\", \"2020-07-27T18:11:24.314453\", \"2020-07-27T19:18:36.071295\", \"2020-07-27T19:18:58.553864\", \"2020-07-27T19:20:04.962722\", \"2020-07-27T19:37:14.845557\", \"2020-07-27T23:00:16.211319\", \"2020-07-27T23:45:44.848607\", \"2020-07-28T00:01:57.338194\", \"2020-07-28T04:11:18.517501\", \"2020-07-28T12:21:46.161419\", \"2020-07-28T12:41:39.902641\", \"2020-07-30T14:22:49.224294\", \"2020-07-31T11:51:13.367823\", \"2020-08-01T01:24:29.601340\", \"2020-08-01T01:52:54.879749\", \"2020-08-01T02:19:12.073057\", \"2020-08-01T15:34:43.318437\", \"2020-08-01T22:16:29.729777\", \"2020-08-02T00:12:26.571586\", \"2020-08-02T00:37:57.407917\", \"2020-08-02T00:38:42.837230\", \"2020-08-02T00:39:05.648864\", \"2020-08-02T00:39:28.334156\", \"2020-08-02T00:40:59.645882\", \"2020-08-02T00:42:07.623763\", \"2020-08-02T00:42:19.031513\", \"2020-08-02T00:43:27.324243\", \"2020-08-02T00:46:18.349592\", \"2020-08-02T01:06:13.833970\", \"2020-08-02T07:21:11.989294\", \"2020-08-02T07:39:26.568831\", \"2020-08-02T12:49:56.378900\", \"2020-08-02T20:04:29.501043\", \"2020-08-02T23:03:34.090471\", \"2020-08-03T12:03:09.668466\", \"2020-08-03T17:59:38.400594\", \"2020-08-04T07:54:20.810450\", \"2020-08-05T02:45:40.482053\", \"2020-08-05T08:51:24.394751\", \"2020-08-05T11:07:10.609185\", \"2020-08-05T17:45:53.518505\", \"2020-08-05T18:04:06.007503\", \"2020-08-06T09:40:05.176781\", \"2020-08-07T12:30:45.693014\", \"2020-08-10T15:12:50.293200\", \"2020-08-11T06:10:22.399485\", \"2020-08-11T10:59:11.750959\", \"2020-08-11T11:15:41.968992\", \"2020-08-11T16:17:55.763602\", \"2020-08-11T16:36:04.110229\", \"2020-08-11T19:07:50.027631\", \"2020-08-12T04:32:03.797409\", \"2020-08-12T11:02:39.524888\", \"2020-08-13T04:43:57.660878\", \"2020-08-13T07:20:46.651182\", \"2020-08-13T17:06:57.272874\", \"2020-08-14T12:26:22.648451\", \"2020-08-17T11:33:03.317015\", \"2020-08-17T11:46:13.159762\", \"2020-08-18T12:32:50.874013\", \"2020-08-18T23:49:05.947694\", \"2020-08-19T00:18:12.699188\", \"2020-08-19T02:21:49.406522\", \"2020-08-19T07:17:58.962054\", \"2020-08-19T16:17:10.224164\", \"2020-08-20T12:23:36.563453\", \"2020-08-21T08:30:33.670185\", \"2020-08-21T17:47:42.914764\", \"2020-08-21T21:04:27.840751\", \"2020-08-22T04:30:02.526258\", \"2020-08-24T03:03:37.280438\", \"2020-08-25T04:31:40.733654\", \"2020-08-25T09:42:17.047145\", \"2020-08-25T13:06:12.360772\", \"2020-08-25T13:48:37.173257\", \"2020-08-26T10:02:10.250101\", \"2020-08-27T13:02:54.446579\", \"2020-08-28T02:25:48.850641\", \"2020-08-29T03:34:07.947607\", \"2020-08-30T14:03:12.445095\", \"2020-09-01T03:00:11.396361\", \"2020-09-01T11:50:28.944218\", \"2020-09-02T02:46:58.892774\", \"2020-09-02T06:28:59.396828\", \"2020-09-02T07:03:53.746060\", \"2020-09-02T07:10:20.379627\", \"2020-09-02T07:22:43.377274\", \"2020-09-02T07:52:35.117899\"], \"xaxis\": \"x\", \"y\": [9867.52, 9772.310000000001, 9678.100000000002, 9583.730000000001, 9490.750000000002, 9740.280000000002, 9944.290000000003, 9840.600000000002, 9737.120000000003, 9435.490000000003, 9345.520000000004, 9244.550000000005, 9147.000000000005, 9046.460000000005, 8947.450000000004, 8861.750000000004, 9085.830000000004, 8971.800000000003, 8862.690000000002, 9050.830000000002, 8964.79, 8871.6, 8787.02, 8991.73, 9254.039999999999, 9164.259999999998, 9076.859999999999, 8864.429999999998, 8780.119999999999, 8688.829999999998, 8602.759999999998, 8518.639999999998, 8433.929999999998, 8350.63, 8539.89, 8415.369999999999, 8320.32, 8179.12, 8064.97, 7916.110000000001, 7832.05, 8023.52, 8205.560000000001, 8380.310000000001, 8561.010000000002, 8476.350000000002, 8652.400000000001, 8830.45, 9013.560000000001, 9202.670000000002, 9402.750000000002, 9311.520000000002, 9505.020000000002, 9736.470000000003, 9643.530000000002, 9549.390000000003, 9764.330000000004, 9968.770000000004, 10174.510000000004, 10424.830000000004, 10642.430000000004, 10530.750000000004, 10415.780000000004, 10300.680000000004, 10196.080000000004, 10407.170000000004, 10305.760000000004, 10206.400000000003, 10428.650000000003, 10646.330000000004, 10542.700000000004, 10436.050000000005, 10845.110000000004, 10741.020000000004, 11114.880000000005, 11006.910000000005, 10881.830000000005, 10777.350000000006, 10999.080000000005, 11228.930000000006, 11464.300000000007, 11700.660000000007, 11586.610000000008, 11467.330000000007, 11706.890000000007, 11587.500000000007, 11831.990000000007, 11708.970000000007, 11597.050000000007, 11483.520000000006, 11729.850000000006, 11971.350000000006, 12218.310000000005, 12095.260000000006, 11976.750000000005, 12223.400000000005, 12105.320000000005, 12354.980000000005, 12217.190000000004, 12099.300000000005, 11959.300000000005, 11833.990000000005, 12081.950000000004, 12330.720000000005], \"yaxis\": \"y\"}],\n",
       "                        {\"legend\": {\"tracegroupgap\": 0}, \"margin\": {\"t\": 60}, \"template\": {\"data\": {\"bar\": [{\"error_x\": {\"color\": \"#2a3f5f\"}, \"error_y\": {\"color\": \"#2a3f5f\"}, \"marker\": {\"line\": {\"color\": \"#E5ECF6\", \"width\": 0.5}}, \"type\": \"bar\"}], \"barpolar\": [{\"marker\": {\"line\": {\"color\": \"#E5ECF6\", \"width\": 0.5}}, \"type\": \"barpolar\"}], \"carpet\": [{\"aaxis\": {\"endlinecolor\": \"#2a3f5f\", \"gridcolor\": \"white\", \"linecolor\": \"white\", \"minorgridcolor\": \"white\", \"startlinecolor\": \"#2a3f5f\"}, \"baxis\": {\"endlinecolor\": \"#2a3f5f\", \"gridcolor\": \"white\", \"linecolor\": \"white\", \"minorgridcolor\": \"white\", \"startlinecolor\": \"#2a3f5f\"}, \"type\": \"carpet\"}], \"choropleth\": [{\"colorbar\": {\"outlinewidth\": 0, \"ticks\": \"\"}, \"type\": \"choropleth\"}], \"contour\": [{\"colorbar\": {\"outlinewidth\": 0, \"ticks\": \"\"}, \"colorscale\": [[0.0, \"#0d0887\"], [0.1111111111111111, \"#46039f\"], [0.2222222222222222, \"#7201a8\"], [0.3333333333333333, \"#9c179e\"], [0.4444444444444444, \"#bd3786\"], [0.5555555555555556, \"#d8576b\"], [0.6666666666666666, \"#ed7953\"], [0.7777777777777778, \"#fb9f3a\"], [0.8888888888888888, \"#fdca26\"], [1.0, \"#f0f921\"]], \"type\": \"contour\"}], \"contourcarpet\": [{\"colorbar\": {\"outlinewidth\": 0, \"ticks\": \"\"}, \"type\": \"contourcarpet\"}], \"heatmap\": [{\"colorbar\": {\"outlinewidth\": 0, \"ticks\": \"\"}, \"colorscale\": [[0.0, \"#0d0887\"], [0.1111111111111111, \"#46039f\"], [0.2222222222222222, \"#7201a8\"], [0.3333333333333333, \"#9c179e\"], [0.4444444444444444, \"#bd3786\"], [0.5555555555555556, \"#d8576b\"], [0.6666666666666666, \"#ed7953\"], [0.7777777777777778, \"#fb9f3a\"], [0.8888888888888888, \"#fdca26\"], [1.0, \"#f0f921\"]], \"type\": \"heatmap\"}], \"heatmapgl\": [{\"colorbar\": {\"outlinewidth\": 0, \"ticks\": \"\"}, \"colorscale\": [[0.0, \"#0d0887\"], [0.1111111111111111, \"#46039f\"], [0.2222222222222222, \"#7201a8\"], [0.3333333333333333, \"#9c179e\"], [0.4444444444444444, \"#bd3786\"], [0.5555555555555556, \"#d8576b\"], [0.6666666666666666, \"#ed7953\"], [0.7777777777777778, \"#fb9f3a\"], [0.8888888888888888, \"#fdca26\"], [1.0, \"#f0f921\"]], \"type\": \"heatmapgl\"}], \"histogram\": [{\"marker\": {\"colorbar\": {\"outlinewidth\": 0, \"ticks\": \"\"}}, \"type\": \"histogram\"}], \"histogram2d\": [{\"colorbar\": {\"outlinewidth\": 0, \"ticks\": \"\"}, \"colorscale\": [[0.0, \"#0d0887\"], [0.1111111111111111, \"#46039f\"], [0.2222222222222222, \"#7201a8\"], [0.3333333333333333, \"#9c179e\"], [0.4444444444444444, \"#bd3786\"], [0.5555555555555556, \"#d8576b\"], [0.6666666666666666, \"#ed7953\"], [0.7777777777777778, \"#fb9f3a\"], [0.8888888888888888, \"#fdca26\"], [1.0, \"#f0f921\"]], \"type\": \"histogram2d\"}], \"histogram2dcontour\": [{\"colorbar\": {\"outlinewidth\": 0, \"ticks\": \"\"}, \"colorscale\": [[0.0, \"#0d0887\"], [0.1111111111111111, \"#46039f\"], [0.2222222222222222, \"#7201a8\"], [0.3333333333333333, \"#9c179e\"], [0.4444444444444444, \"#bd3786\"], [0.5555555555555556, \"#d8576b\"], [0.6666666666666666, \"#ed7953\"], [0.7777777777777778, \"#fb9f3a\"], [0.8888888888888888, \"#fdca26\"], [1.0, \"#f0f921\"]], \"type\": \"histogram2dcontour\"}], \"mesh3d\": [{\"colorbar\": {\"outlinewidth\": 0, \"ticks\": \"\"}, \"type\": \"mesh3d\"}], \"parcoords\": [{\"line\": {\"colorbar\": {\"outlinewidth\": 0, \"ticks\": \"\"}}, \"type\": \"parcoords\"}], \"pie\": [{\"automargin\": true, \"type\": \"pie\"}], \"scatter\": [{\"marker\": {\"colorbar\": {\"outlinewidth\": 0, \"ticks\": \"\"}}, \"type\": \"scatter\"}], \"scatter3d\": [{\"line\": {\"colorbar\": {\"outlinewidth\": 0, \"ticks\": \"\"}}, \"marker\": {\"colorbar\": {\"outlinewidth\": 0, \"ticks\": \"\"}}, \"type\": \"scatter3d\"}], \"scattercarpet\": [{\"marker\": {\"colorbar\": {\"outlinewidth\": 0, \"ticks\": \"\"}}, \"type\": \"scattercarpet\"}], \"scattergeo\": [{\"marker\": {\"colorbar\": {\"outlinewidth\": 0, \"ticks\": \"\"}}, \"type\": \"scattergeo\"}], \"scattergl\": [{\"marker\": {\"colorbar\": {\"outlinewidth\": 0, \"ticks\": \"\"}}, \"type\": \"scattergl\"}], \"scattermapbox\": [{\"marker\": {\"colorbar\": {\"outlinewidth\": 0, \"ticks\": \"\"}}, \"type\": \"scattermapbox\"}], \"scatterpolar\": [{\"marker\": {\"colorbar\": {\"outlinewidth\": 0, \"ticks\": \"\"}}, \"type\": \"scatterpolar\"}], \"scatterpolargl\": [{\"marker\": {\"colorbar\": {\"outlinewidth\": 0, \"ticks\": \"\"}}, \"type\": \"scatterpolargl\"}], \"scatterternary\": [{\"marker\": {\"colorbar\": {\"outlinewidth\": 0, \"ticks\": \"\"}}, \"type\": \"scatterternary\"}], \"surface\": [{\"colorbar\": {\"outlinewidth\": 0, \"ticks\": \"\"}, \"colorscale\": [[0.0, \"#0d0887\"], [0.1111111111111111, \"#46039f\"], [0.2222222222222222, \"#7201a8\"], [0.3333333333333333, \"#9c179e\"], [0.4444444444444444, \"#bd3786\"], [0.5555555555555556, \"#d8576b\"], [0.6666666666666666, \"#ed7953\"], [0.7777777777777778, \"#fb9f3a\"], [0.8888888888888888, \"#fdca26\"], [1.0, \"#f0f921\"]], \"type\": \"surface\"}], \"table\": [{\"cells\": {\"fill\": {\"color\": \"#EBF0F8\"}, \"line\": {\"color\": \"white\"}}, \"header\": {\"fill\": {\"color\": \"#C8D4E3\"}, \"line\": {\"color\": \"white\"}}, \"type\": \"table\"}]}, \"layout\": {\"annotationdefaults\": {\"arrowcolor\": \"#2a3f5f\", \"arrowhead\": 0, \"arrowwidth\": 1}, \"coloraxis\": {\"colorbar\": {\"outlinewidth\": 0, \"ticks\": \"\"}}, \"colorscale\": {\"diverging\": [[0, \"#8e0152\"], [0.1, \"#c51b7d\"], [0.2, \"#de77ae\"], [0.3, \"#f1b6da\"], [0.4, \"#fde0ef\"], [0.5, \"#f7f7f7\"], [0.6, \"#e6f5d0\"], [0.7, \"#b8e186\"], [0.8, \"#7fbc41\"], [0.9, \"#4d9221\"], [1, \"#276419\"]], \"sequential\": [[0.0, \"#0d0887\"], [0.1111111111111111, \"#46039f\"], [0.2222222222222222, \"#7201a8\"], [0.3333333333333333, \"#9c179e\"], [0.4444444444444444, \"#bd3786\"], [0.5555555555555556, \"#d8576b\"], [0.6666666666666666, \"#ed7953\"], [0.7777777777777778, \"#fb9f3a\"], [0.8888888888888888, \"#fdca26\"], [1.0, \"#f0f921\"]], \"sequentialminus\": [[0.0, \"#0d0887\"], [0.1111111111111111, \"#46039f\"], [0.2222222222222222, \"#7201a8\"], [0.3333333333333333, \"#9c179e\"], [0.4444444444444444, \"#bd3786\"], [0.5555555555555556, \"#d8576b\"], [0.6666666666666666, \"#ed7953\"], [0.7777777777777778, \"#fb9f3a\"], [0.8888888888888888, \"#fdca26\"], [1.0, \"#f0f921\"]]}, \"colorway\": [\"#636efa\", \"#EF553B\", \"#00cc96\", \"#ab63fa\", \"#FFA15A\", \"#19d3f3\", \"#FF6692\", \"#B6E880\", \"#FF97FF\", \"#FECB52\"], \"font\": {\"color\": \"#2a3f5f\"}, \"geo\": {\"bgcolor\": \"white\", \"lakecolor\": \"white\", \"landcolor\": \"#E5ECF6\", \"showlakes\": true, \"showland\": true, \"subunitcolor\": \"white\"}, \"hoverlabel\": {\"align\": \"left\"}, \"hovermode\": \"closest\", \"mapbox\": {\"style\": \"light\"}, \"paper_bgcolor\": \"white\", \"plot_bgcolor\": \"#E5ECF6\", \"polar\": {\"angularaxis\": {\"gridcolor\": \"white\", \"linecolor\": \"white\", \"ticks\": \"\"}, \"bgcolor\": \"#E5ECF6\", \"radialaxis\": {\"gridcolor\": \"white\", \"linecolor\": \"white\", \"ticks\": \"\"}}, \"scene\": {\"xaxis\": {\"backgroundcolor\": \"#E5ECF6\", \"gridcolor\": \"white\", \"gridwidth\": 2, \"linecolor\": \"white\", \"showbackground\": true, \"ticks\": \"\", \"zerolinecolor\": \"white\"}, \"yaxis\": {\"backgroundcolor\": \"#E5ECF6\", \"gridcolor\": \"white\", \"gridwidth\": 2, \"linecolor\": \"white\", \"showbackground\": true, \"ticks\": \"\", \"zerolinecolor\": \"white\"}, \"zaxis\": {\"backgroundcolor\": \"#E5ECF6\", \"gridcolor\": \"white\", \"gridwidth\": 2, \"linecolor\": \"white\", \"showbackground\": true, \"ticks\": \"\", \"zerolinecolor\": \"white\"}}, \"shapedefaults\": {\"line\": {\"color\": \"#2a3f5f\"}}, \"ternary\": {\"aaxis\": {\"gridcolor\": \"white\", \"linecolor\": \"white\", \"ticks\": \"\"}, \"baxis\": {\"gridcolor\": \"white\", \"linecolor\": \"white\", \"ticks\": \"\"}, \"bgcolor\": \"#E5ECF6\", \"caxis\": {\"gridcolor\": \"white\", \"linecolor\": \"white\", \"ticks\": \"\"}}, \"title\": {\"x\": 0.05}, \"xaxis\": {\"automargin\": true, \"gridcolor\": \"white\", \"linecolor\": \"white\", \"ticks\": \"\", \"title\": {\"standoff\": 15}, \"zerolinecolor\": \"white\", \"zerolinewidth\": 2}, \"yaxis\": {\"automargin\": true, \"gridcolor\": \"white\", \"linecolor\": \"white\", \"ticks\": \"\", \"title\": {\"standoff\": 15}, \"zerolinecolor\": \"white\", \"zerolinewidth\": 2}}}, \"xaxis\": {\"anchor\": \"y\", \"domain\": [0.0, 1.0], \"title\": {\"text\": \"time\"}}, \"yaxis\": {\"anchor\": \"x\", \"domain\": [0.0, 1.0], \"title\": {\"text\": \"equity\"}}},\n",
       "                        {\"responsive\": true}\n",
       "                    ).then(function(){\n",
       "                            \n",
       "var gd = document.getElementById('5d33af19-47ea-49d8-ac94-f1bb58fab35b');\n",
       "var x = new MutationObserver(function (mutations, observer) {{\n",
       "        var display = window.getComputedStyle(gd).display;\n",
       "        if (!display || display === 'none') {{\n",
       "            console.log([gd, 'removed!']);\n",
       "            Plotly.purge(gd);\n",
       "            observer.disconnect();\n",
       "        }}\n",
       "}});\n",
       "\n",
       "// Listen for the removal of the full notebook cells\n",
       "var notebookContainer = gd.closest('#notebook-container');\n",
       "if (notebookContainer) {{\n",
       "    x.observe(notebookContainer, {childList: true});\n",
       "}}\n",
       "\n",
       "// Listen for the clearing of the current output cell\n",
       "var outputEl = gd.closest('.output');\n",
       "if (outputEl) {{\n",
       "    x.observe(outputEl, {childList: true});\n",
       "}}\n",
       "\n",
       "                        })\n",
       "                };\n",
       "                });\n",
       "            </script>\n",
       "        </div>"
      ]
     },
     "metadata": {},
     "output_type": "display_data"
    },
    {
     "data": {
      "application/javascript": [
       "\n",
       "            setTimeout(function() {\n",
       "                var nbb_cell_id = 92;\n",
       "                var nbb_unformatted_code = \"test.display_equity()\";\n",
       "                var nbb_formatted_code = \"test.display_equity()\";\n",
       "                var nbb_cells = Jupyter.notebook.get_cells();\n",
       "                for (var i = 0; i < nbb_cells.length; ++i) {\n",
       "                    if (nbb_cells[i].input_prompt_number == nbb_cell_id) {\n",
       "                        if (nbb_cells[i].get_text() == nbb_unformatted_code) {\n",
       "                             nbb_cells[i].set_text(nbb_formatted_code);\n",
       "                        }\n",
       "                        break;\n",
       "                    }\n",
       "                }\n",
       "            }, 500);\n",
       "            "
      ],
      "text/plain": [
       "<IPython.core.display.Javascript object>"
      ]
     },
     "metadata": {},
     "output_type": "display_data"
    }
   ],
   "source": [
    "test.display_equity()"
   ]
  },
  {
   "cell_type": "code",
   "execution_count": null,
   "metadata": {},
   "outputs": [],
   "source": []
  },
  {
   "cell_type": "code",
   "execution_count": null,
   "metadata": {},
   "outputs": [],
   "source": []
  }
 ],
 "metadata": {
  "kernelspec": {
   "display_name": "Python 3",
   "language": "python",
   "name": "python3"
  },
  "language_info": {
   "codemirror_mode": {
    "name": "ipython",
    "version": 3
   },
   "file_extension": ".py",
   "mimetype": "text/x-python",
   "name": "python",
   "nbconvert_exporter": "python",
   "pygments_lexer": "ipython3",
   "version": "3.7.7"
  }
 },
 "nbformat": 4,
 "nbformat_minor": 4
}
