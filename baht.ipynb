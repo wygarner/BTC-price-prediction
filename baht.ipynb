{
 "cells": [
  {
   "cell_type": "code",
   "execution_count": 2,
   "metadata": {},
   "outputs": [
    {
     "data": {
      "application/javascript": [
       "\n",
       "            setTimeout(function() {\n",
       "                var nbb_cell_id = 2;\n",
       "                var nbb_unformatted_code = \"%load_ext nb_black\";\n",
       "                var nbb_formatted_code = \"%load_ext nb_black\";\n",
       "                var nbb_cells = Jupyter.notebook.get_cells();\n",
       "                for (var i = 0; i < nbb_cells.length; ++i) {\n",
       "                    if (nbb_cells[i].input_prompt_number == nbb_cell_id) {\n",
       "                        if (nbb_cells[i].get_text() == nbb_unformatted_code) {\n",
       "                             nbb_cells[i].set_text(nbb_formatted_code);\n",
       "                        }\n",
       "                        break;\n",
       "                    }\n",
       "                }\n",
       "            }, 500);\n",
       "            "
      ],
      "text/plain": [
       "<IPython.core.display.Javascript object>"
      ]
     },
     "metadata": {},
     "output_type": "display_data"
    }
   ],
   "source": [
    "%load_ext nb_black"
   ]
  },
  {
   "cell_type": "code",
   "execution_count": 3,
   "metadata": {},
   "outputs": [
    {
     "data": {
      "application/javascript": [
       "\n",
       "            setTimeout(function() {\n",
       "                var nbb_cell_id = 3;\n",
       "                var nbb_unformatted_code = \"import pandas as pd\\nimport numpy as np\\n\\nimport bitmex\\n\\nimport sqlite3\\n\\nfrom joblib import load\";\n",
       "                var nbb_formatted_code = \"import pandas as pd\\nimport numpy as np\\n\\nimport bitmex\\n\\nimport sqlite3\\n\\nfrom joblib import load\";\n",
       "                var nbb_cells = Jupyter.notebook.get_cells();\n",
       "                for (var i = 0; i < nbb_cells.length; ++i) {\n",
       "                    if (nbb_cells[i].input_prompt_number == nbb_cell_id) {\n",
       "                        if (nbb_cells[i].get_text() == nbb_unformatted_code) {\n",
       "                             nbb_cells[i].set_text(nbb_formatted_code);\n",
       "                        }\n",
       "                        break;\n",
       "                    }\n",
       "                }\n",
       "            }, 500);\n",
       "            "
      ],
      "text/plain": [
       "<IPython.core.display.Javascript object>"
      ]
     },
     "metadata": {},
     "output_type": "display_data"
    }
   ],
   "source": [
    "import pandas as pd\n",
    "import numpy as np\n",
    "\n",
    "import bitmex\n",
    "\n",
    "import sqlite3\n",
    "\n",
    "from joblib import load"
   ]
  },
  {
   "cell_type": "code",
   "execution_count": 4,
   "metadata": {},
   "outputs": [
    {
     "name": "stderr",
     "output_type": "stream",
     "text": [
      "/opt/miniconda3/lib/python3.7/site-packages/swagger_spec_validator/validator20.py:53: SwaggerValidationWarning: Found \"$ref: #/definitions/UserPreferences\" with siblings that will be overwritten. See https://stackoverflow.com/a/48114924 for more information. (path #/definitions/User/properties/preferences)\n",
      "  ref_dict['$ref'], '/'.join(path),\n"
     ]
    },
    {
     "data": {
      "application/javascript": [
       "\n",
       "            setTimeout(function() {\n",
       "                var nbb_cell_id = 4;\n",
       "                var nbb_unformatted_code = \"api_key = \\\"-iXO_17idCPYYQgGsRtB7HfI\\\"\\napi_secret = \\\"yod97ok0bHhrdumSb4XnF0KDAg1LH0QciHkVyHb3sF0z0Y8J\\\"\\n\\nclient = bitmex.bitmex(test=True, api_key=api_key, api_secret=api_secret)\";\n",
       "                var nbb_formatted_code = \"api_key = \\\"-iXO_17idCPYYQgGsRtB7HfI\\\"\\napi_secret = \\\"yod97ok0bHhrdumSb4XnF0KDAg1LH0QciHkVyHb3sF0z0Y8J\\\"\\n\\nclient = bitmex.bitmex(test=True, api_key=api_key, api_secret=api_secret)\";\n",
       "                var nbb_cells = Jupyter.notebook.get_cells();\n",
       "                for (var i = 0; i < nbb_cells.length; ++i) {\n",
       "                    if (nbb_cells[i].input_prompt_number == nbb_cell_id) {\n",
       "                        if (nbb_cells[i].get_text() == nbb_unformatted_code) {\n",
       "                             nbb_cells[i].set_text(nbb_formatted_code);\n",
       "                        }\n",
       "                        break;\n",
       "                    }\n",
       "                }\n",
       "            }, 500);\n",
       "            "
      ],
      "text/plain": [
       "<IPython.core.display.Javascript object>"
      ]
     },
     "metadata": {},
     "output_type": "display_data"
    }
   ],
   "source": [
    "api_key = \"-iXO_17idCPYYQgGsRtB7HfI\"\n",
    "api_secret = \"yod97ok0bHhrdumSb4XnF0KDAg1LH0QciHkVyHb3sF0z0Y8J\"\n",
    "\n",
    "client = bitmex.bitmex(test=True, api_key=api_key, api_secret=api_secret)"
   ]
  },
  {
   "cell_type": "code",
   "execution_count": 28,
   "metadata": {},
   "outputs": [
    {
     "data": {
      "text/plain": [
       "({'account': 225277,\n",
       "  'currency': 'XBt',\n",
       "  'riskLimit': 1000000000000,\n",
       "  'prevState': '',\n",
       "  'state': '',\n",
       "  'action': '',\n",
       "  'amount': 1999841,\n",
       "  'pendingCredit': 0,\n",
       "  'pendingDebit': 0,\n",
       "  'confirmedDebit': 0,\n",
       "  'prevRealisedPnl': -2192,\n",
       "  'prevUnrealisedPnl': 0,\n",
       "  'grossComm': 24130,\n",
       "  'grossOpenCost': 0,\n",
       "  'grossOpenPremium': 0,\n",
       "  'grossExecCost': 0,\n",
       "  'grossMarkValue': 0,\n",
       "  'riskValue': 0,\n",
       "  'taxableMargin': 0,\n",
       "  'initMargin': 0,\n",
       "  'maintMargin': 0,\n",
       "  'sessionMargin': 0,\n",
       "  'targetExcessMargin': 0,\n",
       "  'varMargin': 0,\n",
       "  'realisedPnl': -24130,\n",
       "  'unrealisedPnl': 0,\n",
       "  'indicativeTax': 0,\n",
       "  'unrealisedProfit': 0,\n",
       "  'syntheticMargin': 0,\n",
       "  'walletBalance': 1975711,\n",
       "  'marginBalance': 1975711,\n",
       "  'marginBalancePcnt': 1.0,\n",
       "  'marginLeverage': 0.0,\n",
       "  'marginUsedPcnt': 0.0,\n",
       "  'excessMargin': 1975711,\n",
       "  'excessMarginPcnt': 1.0,\n",
       "  'availableMargin': 1975711,\n",
       "  'withdrawableMargin': 1975711,\n",
       "  'timestamp': datetime.datetime(2020, 9, 9, 16, 56, 7, 68000, tzinfo=tzutc()),\n",
       "  'grossLastValue': 0,\n",
       "  'commission': 0.0},\n",
       " <bravado.requests_client.RequestsResponseAdapter at 0x7f7f3d421410>)"
      ]
     },
     "execution_count": 28,
     "metadata": {},
     "output_type": "execute_result"
    },
    {
     "data": {
      "application/javascript": [
       "\n",
       "            setTimeout(function() {\n",
       "                var nbb_cell_id = 28;\n",
       "                var nbb_unformatted_code = \"client.User.User_getMargin(currency=\\\"XBt\\\").result()\";\n",
       "                var nbb_formatted_code = \"client.User.User_getMargin(currency=\\\"XBt\\\").result()\";\n",
       "                var nbb_cells = Jupyter.notebook.get_cells();\n",
       "                for (var i = 0; i < nbb_cells.length; ++i) {\n",
       "                    if (nbb_cells[i].input_prompt_number == nbb_cell_id) {\n",
       "                        if (nbb_cells[i].get_text() == nbb_unformatted_code) {\n",
       "                             nbb_cells[i].set_text(nbb_formatted_code);\n",
       "                        }\n",
       "                        break;\n",
       "                    }\n",
       "                }\n",
       "            }, 500);\n",
       "            "
      ],
      "text/plain": [
       "<IPython.core.display.Javascript object>"
      ]
     },
     "metadata": {},
     "output_type": "display_data"
    }
   ],
   "source": [
    "client.User.User_getMargin(currency=\"XBt\").result()"
   ]
  },
  {
   "cell_type": "code",
   "execution_count": 14,
   "metadata": {},
   "outputs": [
    {
     "data": {
      "text/plain": [
       "['User_cancelWithdrawal',\n",
       " 'User_checkReferralCode',\n",
       " 'User_communicationToken',\n",
       " 'User_confirm',\n",
       " 'User_confirmWithdrawal',\n",
       " 'User_get',\n",
       " 'User_getAffiliateStatus',\n",
       " 'User_getCommission',\n",
       " 'User_getDepositAddress',\n",
       " 'User_getExecutionHistory',\n",
       " 'User_getMargin',\n",
       " 'User_getQuoteFillRatio',\n",
       " 'User_getWallet',\n",
       " 'User_getWalletHistory',\n",
       " 'User_getWalletSummary',\n",
       " 'User_logout',\n",
       " 'User_minWithdrawalFee',\n",
       " 'User_requestWithdrawal',\n",
       " 'User_savePreferences']"
      ]
     },
     "execution_count": 14,
     "metadata": {},
     "output_type": "execute_result"
    },
    {
     "data": {
      "application/javascript": [
       "\n",
       "            setTimeout(function() {\n",
       "                var nbb_cell_id = 14;\n",
       "                var nbb_unformatted_code = \"dir(client.User)\";\n",
       "                var nbb_formatted_code = \"dir(client.User)\";\n",
       "                var nbb_cells = Jupyter.notebook.get_cells();\n",
       "                for (var i = 0; i < nbb_cells.length; ++i) {\n",
       "                    if (nbb_cells[i].input_prompt_number == nbb_cell_id) {\n",
       "                        if (nbb_cells[i].get_text() == nbb_unformatted_code) {\n",
       "                             nbb_cells[i].set_text(nbb_formatted_code);\n",
       "                        }\n",
       "                        break;\n",
       "                    }\n",
       "                }\n",
       "            }, 500);\n",
       "            "
      ],
      "text/plain": [
       "<IPython.core.display.Javascript object>"
      ]
     },
     "metadata": {},
     "output_type": "display_data"
    }
   ],
   "source": [
    "dir(client.User)"
   ]
  },
  {
   "cell_type": "code",
   "execution_count": 29,
   "metadata": {},
   "outputs": [
    {
     "data": {
      "text/plain": [
       "([{'account': 225277,\n",
       "   'symbol': 'XBTUSD',\n",
       "   'currency': 'XBt',\n",
       "   'underlying': 'XBT',\n",
       "   'quoteCurrency': 'USD',\n",
       "   'commission': 0.00075,\n",
       "   'initMarginReq': 1.0,\n",
       "   'maintMarginReq': 0.0035,\n",
       "   'riskLimit': 20000000000,\n",
       "   'leverage': 1.0,\n",
       "   'crossMargin': False,\n",
       "   'deleveragePercentile': 1.0,\n",
       "   'rebalancedPnl': 30606,\n",
       "   'prevRealisedPnl': -2938,\n",
       "   'prevUnrealisedPnl': 0,\n",
       "   'prevClosePrice': 10221.63,\n",
       "   'openingTimestamp': datetime.datetime(2020, 9, 9, 17, 0, tzinfo=tzutc()),\n",
       "   'openingQty': 0,\n",
       "   'openingCost': 0,\n",
       "   'openingComm': 24130,\n",
       "   'openOrderBuyQty': 0,\n",
       "   'openOrderBuyCost': 0,\n",
       "   'openOrderBuyPremium': 0,\n",
       "   'openOrderSellQty': 0,\n",
       "   'openOrderSellCost': 0,\n",
       "   'openOrderSellPremium': 0,\n",
       "   'execBuyQty': 644,\n",
       "   'execBuyCost': 6279644,\n",
       "   'execSellQty': 443,\n",
       "   'execSellCost': 4319693,\n",
       "   'execQty': 201,\n",
       "   'execCost': -1959951,\n",
       "   'execComm': 7945,\n",
       "   'currentTimestamp': datetime.datetime(2020, 9, 9, 17, 48, 15, 374000, tzinfo=tzutc()),\n",
       "   'currentQty': 201,\n",
       "   'currentCost': -1959951,\n",
       "   'currentComm': 32075,\n",
       "   'realisedCost': 0,\n",
       "   'unrealisedCost': -1959951,\n",
       "   'grossOpenCost': 0,\n",
       "   'grossOpenPremium': 0,\n",
       "   'grossExecCost': 1959951,\n",
       "   'isOpen': True,\n",
       "   'markPrice': 10275.82,\n",
       "   'markValue': -1956132,\n",
       "   'riskValue': 1956132,\n",
       "   'homeNotional': 0.01956132,\n",
       "   'foreignNotional': -201.0,\n",
       "   'posState': '',\n",
       "   'posCost': -1959951,\n",
       "   'posCost2': -1959951,\n",
       "   'posCross': 0,\n",
       "   'posInit': 1959951,\n",
       "   'posComm': 2940,\n",
       "   'posLoss': 0,\n",
       "   'posMargin': 1962891,\n",
       "   'posMaint': 14943,\n",
       "   'posAllowance': 0,\n",
       "   'taxableMargin': 0,\n",
       "   'initMargin': 0,\n",
       "   'maintMargin': 1966710,\n",
       "   'sessionMargin': 0,\n",
       "   'targetExcessMargin': 0,\n",
       "   'varMargin': 0,\n",
       "   'realisedGrossPnl': 0,\n",
       "   'realisedTax': 0,\n",
       "   'realisedPnl': -32075,\n",
       "   'unrealisedGrossPnl': 3819,\n",
       "   'longBankrupt': 0,\n",
       "   'shortBankrupt': 0,\n",
       "   'taxBase': 0,\n",
       "   'indicativeTaxRate': 0.0,\n",
       "   'indicativeTax': 0,\n",
       "   'unrealisedTax': 0,\n",
       "   'unrealisedPnl': 3819,\n",
       "   'unrealisedPnlPcnt': 0.0019,\n",
       "   'unrealisedRoePcnt': 0.0019,\n",
       "   'simpleQty': 0.0,\n",
       "   'simpleCost': 0.0,\n",
       "   'simpleValue': 0.0,\n",
       "   'simplePnl': 0.0,\n",
       "   'simplePnlPcnt': 0.0,\n",
       "   'avgCostPrice': 10255.5,\n",
       "   'avgEntryPrice': 10255.5,\n",
       "   'breakEvenPrice': 10264.0,\n",
       "   'marginCallPrice': 5144.0,\n",
       "   'liquidationPrice': 5144.0,\n",
       "   'bankruptPrice': 5128.0,\n",
       "   'timestamp': datetime.datetime(2020, 9, 9, 17, 48, 15, 374000, tzinfo=tzutc()),\n",
       "   'lastPrice': 10275.82,\n",
       "   'lastValue': -1956132}],\n",
       " <bravado.requests_client.RequestsResponseAdapter at 0x7f7f3d3d5e10>)"
      ]
     },
     "execution_count": 29,
     "metadata": {},
     "output_type": "execute_result"
    },
    {
     "data": {
      "application/javascript": [
       "\n",
       "            setTimeout(function() {\n",
       "                var nbb_cell_id = 29;\n",
       "                var nbb_unformatted_code = \"client.Position.Position_get().result()\";\n",
       "                var nbb_formatted_code = \"client.Position.Position_get().result()\";\n",
       "                var nbb_cells = Jupyter.notebook.get_cells();\n",
       "                for (var i = 0; i < nbb_cells.length; ++i) {\n",
       "                    if (nbb_cells[i].input_prompt_number == nbb_cell_id) {\n",
       "                        if (nbb_cells[i].get_text() == nbb_unformatted_code) {\n",
       "                             nbb_cells[i].set_text(nbb_formatted_code);\n",
       "                        }\n",
       "                        break;\n",
       "                    }\n",
       "                }\n",
       "            }, 500);\n",
       "            "
      ],
      "text/plain": [
       "<IPython.core.display.Javascript object>"
      ]
     },
     "metadata": {},
     "output_type": "display_data"
    }
   ],
   "source": [
    "client.Position.Position_get().result()"
   ]
  },
  {
   "cell_type": "code",
   "execution_count": 33,
   "metadata": {},
   "outputs": [
    {
     "data": {
      "text/plain": [
       "([{'orderID': '4dbf476c-cde2-92ca-9a22-f6726b2a2bf9',\n",
       "   'clOrdID': '',\n",
       "   'clOrdLinkID': '',\n",
       "   'account': 225277,\n",
       "   'symbol': 'XBTUSD',\n",
       "   'side': 'Sell',\n",
       "   'simpleOrderQty': None,\n",
       "   'orderQty': 209,\n",
       "   'price': 10582.0,\n",
       "   'displayQty': None,\n",
       "   'stopPx': 10582.0,\n",
       "   'pegOffsetValue': None,\n",
       "   'pegPriceType': '',\n",
       "   'currency': 'USD',\n",
       "   'settlCurrency': 'XBt',\n",
       "   'ordType': 'LimitIfTouched',\n",
       "   'timeInForce': 'GoodTillCancel',\n",
       "   'execInst': '',\n",
       "   'contingencyType': '',\n",
       "   'exDestination': 'XBME',\n",
       "   'ordStatus': 'Canceled',\n",
       "   'triggered': '',\n",
       "   'workingIndicator': False,\n",
       "   'ordRejReason': '',\n",
       "   'simpleLeavesQty': None,\n",
       "   'leavesQty': 0,\n",
       "   'simpleCumQty': None,\n",
       "   'cumQty': 0,\n",
       "   'avgPx': None,\n",
       "   'multiLegReportingType': 'SingleSecurity',\n",
       "   'text': 'Canceled: Canceled via API.\\nSubmitted via API.',\n",
       "   'transactTime': datetime.datetime(2020, 9, 10, 16, 26, 59, 158000, tzinfo=tzutc()),\n",
       "   'timestamp': datetime.datetime(2020, 9, 10, 16, 34, 11, 186000, tzinfo=tzutc())}],\n",
       " <bravado.requests_client.RequestsResponseAdapter at 0x7f7f3d4fc9d0>)"
      ]
     },
     "execution_count": 33,
     "metadata": {},
     "output_type": "execute_result"
    },
    {
     "data": {
      "application/javascript": [
       "\n",
       "            setTimeout(function() {\n",
       "                var nbb_cell_id = 33;\n",
       "                var nbb_unformatted_code = \"client.Order.Order_cancelAll().result()\";\n",
       "                var nbb_formatted_code = \"client.Order.Order_cancelAll().result()\";\n",
       "                var nbb_cells = Jupyter.notebook.get_cells();\n",
       "                for (var i = 0; i < nbb_cells.length; ++i) {\n",
       "                    if (nbb_cells[i].input_prompt_number == nbb_cell_id) {\n",
       "                        if (nbb_cells[i].get_text() == nbb_unformatted_code) {\n",
       "                             nbb_cells[i].set_text(nbb_formatted_code);\n",
       "                        }\n",
       "                        break;\n",
       "                    }\n",
       "                }\n",
       "            }, 500);\n",
       "            "
      ],
      "text/plain": [
       "<IPython.core.display.Javascript object>"
      ]
     },
     "metadata": {},
     "output_type": "display_data"
    }
   ],
   "source": [
    "client.Order.Order_cancelAll().result()"
   ]
  },
  {
   "cell_type": "code",
   "execution_count": 34,
   "metadata": {},
   "outputs": [
    {
     "data": {
      "application/javascript": [
       "\n",
       "            setTimeout(function() {\n",
       "                var nbb_cell_id = 34;\n",
       "                var nbb_unformatted_code = \"from django import forms\";\n",
       "                var nbb_formatted_code = \"from django import forms\";\n",
       "                var nbb_cells = Jupyter.notebook.get_cells();\n",
       "                for (var i = 0; i < nbb_cells.length; ++i) {\n",
       "                    if (nbb_cells[i].input_prompt_number == nbb_cell_id) {\n",
       "                        if (nbb_cells[i].get_text() == nbb_unformatted_code) {\n",
       "                             nbb_cells[i].set_text(nbb_formatted_code);\n",
       "                        }\n",
       "                        break;\n",
       "                    }\n",
       "                }\n",
       "            }, 500);\n",
       "            "
      ],
      "text/plain": [
       "<IPython.core.display.Javascript object>"
      ]
     },
     "metadata": {},
     "output_type": "display_data"
    }
   ],
   "source": [
    "from django import forms"
   ]
  },
  {
   "cell_type": "code",
   "execution_count": 36,
   "metadata": {},
   "outputs": [
    {
     "data": {
      "application/javascript": [
       "\n",
       "            setTimeout(function() {\n",
       "                var nbb_cell_id = 36;\n",
       "                var nbb_unformatted_code = \"from django.db import models\";\n",
       "                var nbb_formatted_code = \"from django.db import models\";\n",
       "                var nbb_cells = Jupyter.notebook.get_cells();\n",
       "                for (var i = 0; i < nbb_cells.length; ++i) {\n",
       "                    if (nbb_cells[i].input_prompt_number == nbb_cell_id) {\n",
       "                        if (nbb_cells[i].get_text() == nbb_unformatted_code) {\n",
       "                             nbb_cells[i].set_text(nbb_formatted_code);\n",
       "                        }\n",
       "                        break;\n",
       "                    }\n",
       "                }\n",
       "            }, 500);\n",
       "            "
      ],
      "text/plain": [
       "<IPython.core.display.Javascript object>"
      ]
     },
     "metadata": {},
     "output_type": "display_data"
    }
   ],
   "source": [
    "from django.db import models"
   ]
  },
  {
   "cell_type": "code",
   "execution_count": 37,
   "metadata": {},
   "outputs": [
    {
     "data": {
      "text/plain": [
       "['Aggregate',\n",
       " 'AutoField',\n",
       " 'Avg',\n",
       " 'BLANK_CHOICE_DASH',\n",
       " 'BigAutoField',\n",
       " 'BigIntegerField',\n",
       " 'BinaryField',\n",
       " 'BooleanField',\n",
       " 'CASCADE',\n",
       " 'Case',\n",
       " 'CharField',\n",
       " 'CheckConstraint',\n",
       " 'Choices',\n",
       " 'CommaSeparatedIntegerField',\n",
       " 'Count',\n",
       " 'DEFERRED',\n",
       " 'DO_NOTHING',\n",
       " 'DateField',\n",
       " 'DateTimeField',\n",
       " 'DecimalField',\n",
       " 'DurationField',\n",
       " 'EmailField',\n",
       " 'Empty',\n",
       " 'Exists',\n",
       " 'Expression',\n",
       " 'ExpressionList',\n",
       " 'ExpressionWrapper',\n",
       " 'F',\n",
       " 'Field',\n",
       " 'FieldDoesNotExist',\n",
       " 'FileField',\n",
       " 'FilePathField',\n",
       " 'FilteredRelation',\n",
       " 'FloatField',\n",
       " 'ForeignKey',\n",
       " 'ForeignObject',\n",
       " 'Func',\n",
       " 'GenericIPAddressField',\n",
       " 'IPAddressField',\n",
       " 'ImageField',\n",
       " 'Index',\n",
       " 'IntegerChoices',\n",
       " 'IntegerField',\n",
       " 'Lookup',\n",
       " 'Manager',\n",
       " 'ManyToManyField',\n",
       " 'ManyToManyRel',\n",
       " 'ManyToOneRel',\n",
       " 'Max',\n",
       " 'Min',\n",
       " 'Model',\n",
       " 'NOT_PROVIDED',\n",
       " 'NullBooleanField',\n",
       " 'ObjectDoesNotExist',\n",
       " 'OneToOneField',\n",
       " 'OneToOneRel',\n",
       " 'OrderWrt',\n",
       " 'OuterRef',\n",
       " 'PROTECT',\n",
       " 'PositiveIntegerField',\n",
       " 'PositiveSmallIntegerField',\n",
       " 'Prefetch',\n",
       " 'ProtectedError',\n",
       " 'Q',\n",
       " 'QuerySet',\n",
       " 'RowRange',\n",
       " 'SET',\n",
       " 'SET_DEFAULT',\n",
       " 'SET_NULL',\n",
       " 'SlugField',\n",
       " 'SmallAutoField',\n",
       " 'SmallIntegerField',\n",
       " 'StdDev',\n",
       " 'Subquery',\n",
       " 'Sum',\n",
       " 'TextChoices',\n",
       " 'TextField',\n",
       " 'TimeField',\n",
       " 'Transform',\n",
       " 'URLField',\n",
       " 'UUIDField',\n",
       " 'UniqueConstraint',\n",
       " 'Value',\n",
       " 'ValueRange',\n",
       " 'Variance',\n",
       " 'When',\n",
       " 'Window',\n",
       " 'WindowFrame',\n",
       " '__all__',\n",
       " '__builtins__',\n",
       " '__cached__',\n",
       " '__doc__',\n",
       " '__file__',\n",
       " '__loader__',\n",
       " '__name__',\n",
       " '__package__',\n",
       " '__path__',\n",
       " '__spec__',\n",
       " 'aggregates',\n",
       " 'aggregates_all',\n",
       " 'base',\n",
       " 'constants',\n",
       " 'constraints',\n",
       " 'constraints_all',\n",
       " 'deletion',\n",
       " 'enums',\n",
       " 'enums_all',\n",
       " 'expressions',\n",
       " 'fields',\n",
       " 'fields_all',\n",
       " 'functions',\n",
       " 'indexes',\n",
       " 'indexes_all',\n",
       " 'lookups',\n",
       " 'manager',\n",
       " 'options',\n",
       " 'prefetch_related_objects',\n",
       " 'query',\n",
       " 'query_utils',\n",
       " 'signals',\n",
       " 'sql',\n",
       " 'utils']"
      ]
     },
     "execution_count": 37,
     "metadata": {},
     "output_type": "execute_result"
    },
    {
     "data": {
      "application/javascript": [
       "\n",
       "            setTimeout(function() {\n",
       "                var nbb_cell_id = 37;\n",
       "                var nbb_unformatted_code = \"dir(models)\";\n",
       "                var nbb_formatted_code = \"dir(models)\";\n",
       "                var nbb_cells = Jupyter.notebook.get_cells();\n",
       "                for (var i = 0; i < nbb_cells.length; ++i) {\n",
       "                    if (nbb_cells[i].input_prompt_number == nbb_cell_id) {\n",
       "                        if (nbb_cells[i].get_text() == nbb_unformatted_code) {\n",
       "                             nbb_cells[i].set_text(nbb_formatted_code);\n",
       "                        }\n",
       "                        break;\n",
       "                    }\n",
       "                }\n",
       "            }, 500);\n",
       "            "
      ],
      "text/plain": [
       "<IPython.core.display.Javascript object>"
      ]
     },
     "metadata": {},
     "output_type": "display_data"
    }
   ],
   "source": [
    "dir(models)"
   ]
  },
  {
   "cell_type": "code",
   "execution_count": null,
   "metadata": {},
   "outputs": [],
   "source": []
  }
 ],
 "metadata": {
  "kernelspec": {
   "display_name": "Python 3",
   "language": "python",
   "name": "python3"
  },
  "language_info": {
   "codemirror_mode": {
    "name": "ipython",
    "version": 3
   },
   "file_extension": ".py",
   "mimetype": "text/x-python",
   "name": "python",
   "nbconvert_exporter": "python",
   "pygments_lexer": "ipython3",
   "version": "3.7.7"
  }
 },
 "nbformat": 4,
 "nbformat_minor": 4
}
